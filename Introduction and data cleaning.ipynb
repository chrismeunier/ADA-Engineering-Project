{
 "cells": [
  {
   "cell_type": "markdown",
   "metadata": {},
   "source": [
    "# Introduction to LDA and data cleaning\n",
    "In this notebook, we introduce LDA and what we need for our model. We then proceed to load and clean a sample of the NOW corpus to fulfill our needs."
   ]
  },
  {
   "cell_type": "markdown",
   "metadata": {},
   "source": [
    "## What is LDA\n",
    "[Latent Dirichlet Allocation](https://en.wikipedia.org/wiki/Latent_Dirichlet_allocation) is a statistical model which we will use for topic modelling/discovery. LDA will, given a list of words belonging to a text, output the topics present and their probability. In here, a topic is represented as a probability distribution of words. Thus each text/document will be a distribution over the topics. In short, texts have an associated topic distribution and topics have a word distribution. \n",
    "\n",
    "The image below is the plate notation for LDA, where:\n",
    "* θ<sub>m</sub> is the topic distribution for document m,\n",
    "* φ<sub>k</sub> is the word distribution for topic k,\n",
    "* z<sub>mn</sub> is the topic for the n-th word in document m, and\n",
    "* w<sub>mn</sub> is the specific word.\n",
    "* α is the parameter of the Dirichlet prior on the per-document topic distributions,\n",
    "* β is the parameter of the Dirichlet prior on the per-topic word distribution,\n",
    "\n",
    "![](LDA.png)\n",
    "\n",
    "α and β are the parameters for the model. A big α means that documents are likely to be represented by a high number of topics and vice versa. Same goes for β, a high value meaning that topics are represented by a hign number of words. The number of topics that LDA outputs is dependent on our input and works a bit like clustering. If we allow too many topics we might end up splitting topics uselessly and a too few will make us group them unnecessarily. "
   ]
  },
  {
   "cell_type": "markdown",
   "metadata": {},
   "source": [
    "## The NOW corpus\n",
    "This notebook shows the cleaning process that will be used for the ADA project. Here, only a sample of the data is used (from [here](https://www.corpusdata.org/now_corpus.asp)), but the methods should be the same once scaled to the full database available on the cluster.\n",
    "\n",
    "The NOW database is composed of billions of words from online newspapers and magazines from 20 different countries. The data we downloaded comes in different files which can be used together or independently. These files are:\n",
    "\n",
    "1. **now-samples-lexicon.txt**: this is the full dictionnary of the english language, a lexicon. It contains four clolumns, `wID` which is the word id, `word` the actual word, `lemma` which is family of the word (ie: if word is \"walked\", lemma is \"walk\") and `PoS` which is the part of speech.\n",
    "2. **now-samples_sources.txt**: this is the source of every text, in order it contains the text id, the number of words, the date, the country, the website, the url and title of the article.\n",
    "3. **text.txt**: this file has the complete texts of the articles, the first column is the `textID` in the format @@textID, the second column is the full text, complete with html paragraphs and headers. It is important to note that to prevent plagiarism, every 200 words, 10 words are replaced by the string \"@ @ @ @ @ @ @ @ @ @\". Combined words are also split, example \"can't\" is written as \"ca n't\" and punctuation is surrounded by spaces.\n",
    "4. **wordLemPoS.txt**: finally, this file contains the `word`, `lemma` and `PoS` for each word in the texts, one by one, so one could read the texts by reading down the columns. Along with that is the `textID` from where the word is and an `ID (seq)` which is a unique indetifier for each word in the database. Each time a word is added this number is incremented."
   ]
  },
  {
   "cell_type": "markdown",
   "metadata": {},
   "source": [
    "## What we need from the NOW corpus for LDA\n",
    "The model will take two inputs, a matrix with all the important words for each text, and a list of all the important words. By important, it is meant the words which will give us good topic modelling. For example, names, locations, simple words like \"but, \"I\" or \"and\" will not give meaningfull results and are quite common in english (so-called stopwords). Other common words present in our database should be removed too. We also should use lemmas instead of words.\n",
    "\n",
    "Therefore, the file `wordLemPoS.txt` (hence referred as wlp) is the most important here as it lists all the lemmas with their `textID` associated. Which means that with it we can lsit all the lemmas, remove those we do not want to make our word list, but also group them by texts to create our text-word matrix.\n",
    "\n",
    "We will also need `now-sample_sources.txt` (hence referred as sources) to link the texts with the information we will deem useful. For example country, date or website.\n",
    "\n",
    "These are thus the two file we will import and process here with the sample data but also those we will use with the data on the cluster."
   ]
  },
  {
   "cell_type": "markdown",
   "metadata": {},
   "source": [
    "## Cleaning"
   ]
  },
  {
   "cell_type": "code",
   "execution_count": 171,
   "metadata": {},
   "outputs": [],
   "source": [
    "import numpy as np\n",
    "import pandas as pd\n",
    "import matplotlib.pyplot as plt\n",
    "import pyspark\n",
    "\n",
    "import re\n",
    "from pyspark.sql import *\n",
    "from pyspark.sql.functions import *\n",
    "from pyspark.sql.types import DateType\n",
    "\n",
    "from scipy.sparse import csr_matrix\n",
    "from pyspark.ml.feature import *\n",
    "\n",
    "from pyspark.sql.types import *\n",
    "\n",
    "from pyspark.mllib.clustering import LDA, LDAModel\n",
    "\n",
    "spark = SparkSession.builder.getOrCreate()\n",
    "sc = spark.sparkContext"
   ]
  },
  {
   "cell_type": "markdown",
   "metadata": {},
   "source": [
    "## Wlp processing\n"
   ]
  },
  {
   "cell_type": "markdown",
   "metadata": {},
   "source": [
    "The goal of this part is to extract the useful data from wlp text files. Since they contain all the words of all the articles and the lemmas to replace them with."
   ]
  },
  {
   "cell_type": "code",
   "execution_count": 3,
   "metadata": {},
   "outputs": [],
   "source": [
    "#first read the text file\n",
    "wlp_rdd = sc.textFile('sample_data/wordLem_poS.txt')"
   ]
  },
  {
   "cell_type": "code",
   "execution_count": 4,
   "metadata": {},
   "outputs": [],
   "source": [
    "#the first 3 lines are useless headlines\n",
    "header = wlp_rdd.take(3)\n",
    "\n",
    "#so let's remove those headlines\n",
    "noheaders = wlp_rdd.filter(lambda r: r != header[0])\\\n",
    "            .filter(lambda r: r != header[1])\\\n",
    "            .filter(lambda r: r != header[2])"
   ]
  },
  {
   "cell_type": "code",
   "execution_count": 5,
   "metadata": {},
   "outputs": [
    {
     "name": "stdout",
     "output_type": "stream",
     "text": [
      "+----------+------+----+------+-------+\n",
      "|     idseq| lemma| pos|textID|   word|\n",
      "+----------+------+----+------+-------+\n",
      "|1095362496|      |  fo| 11241|@@11241|\n",
      "|1095362497|      |null| 11241|    <p>|\n",
      "|1095362498|   sol| np1| 11241|    Sol|\n",
      "|1095362499|yurick| np1| 11241| Yurick|\n",
      "|1095362500|      |   ,| 11241|      ,|\n",
      "+----------+------+----+------+-------+\n",
      "only showing top 5 rows\n",
      "\n"
     ]
    }
   ],
   "source": [
    "#we split the elements separated by tabs\n",
    "lines = noheaders.map(lambda r: r.split('\\t'))\n",
    "\n",
    "#identify the columns\n",
    "wlp_schema = lines.map(lambda r: Row(textID=int(r[0]),idseq=int(r[1]),word=r[2],lemma=r[3],pos=r[4]))\n",
    "wlp = spark.createDataFrame(wlp_schema)\n",
    "wlp.show(5)"
   ]
  },
  {
   "cell_type": "markdown",
   "metadata": {},
   "source": [
    "### Word selection\n",
    "It is very important to select the right words and the right number. The ocncept of \"garbage in garbage out\" has never been more true than with LDA. When we analyse a text we focus on certain words to extract it's meaning and topic. The same is true here since words like if, for, numbers, common names are not that useful.\n",
    "\n",
    "Here, we provide and example of the process we will go through. However this is not really a data cleaning step as it will directly influence our model. It is more of a model preprocessing step. We will surely go through many iterations of this next part for our model to give the best results. "
   ]
  },
  {
   "cell_type": "markdown",
   "metadata": {},
   "source": [
    "First of all, we can remove all the words which have a PoS which do not interest us. For example number (`mc`,`mc1`,`m#`) or punctuation (`.`,`'`), etc...\n",
    "\n",
    "Details:\n",
    "1. `.`,`,`,`'` and `\"` are punctuations\n",
    "2. `null` are html tags from the websites\n",
    "3. `mc`,`mc1` and `m#` are various numbers\n",
    "3. `fo` are the text ids and other useless beginnings of texts"
   ]
  },
  {
   "cell_type": "code",
   "execution_count": 11,
   "metadata": {},
   "outputs": [],
   "source": [
    "pos_remove = ['.',',',\"\\'\",'\\\"','null','mc','mc1','m#','fo']\n",
    "wlp_nopos = wlp.filter(~wlp['pos'].isin(pos_remove)).drop('idseq','pos','word')"
   ]
  },
  {
   "cell_type": "markdown",
   "metadata": {},
   "source": [
    "Now, we load our list of stopwords, the words that we are not going to use in LDA as they are too common or are common names. We can also remove the rows with no lemmas or those with lemmas that don't make sense or are not common enough."
   ]
  },
  {
   "cell_type": "code",
   "execution_count": 6,
   "metadata": {},
   "outputs": [
    {
     "data": {
      "text/plain": [
       "5639"
      ]
     },
     "execution_count": 6,
     "metadata": {},
     "output_type": "execute_result"
    }
   ],
   "source": [
    "#np.save('our_stopwords',stopwords)\n",
    "stopwords = np.load('our_stopwords.npy').tolist()\n",
    "len(stopwords)"
   ]
  },
  {
   "cell_type": "code",
   "execution_count": 7,
   "metadata": {
    "scrolled": false
   },
   "outputs": [
    {
     "name": "stdout",
     "output_type": "stream",
     "text": [
      "+----------+-----+\n",
      "|     lemma|count|\n",
      "+----------+-----+\n",
      "|      year| 4272|\n",
      "|      time| 3169|\n",
      "|    people| 2913|\n",
      "|      take| 2667|\n",
      "|       use| 2244|\n",
      "|      work| 2137|\n",
      "|       day| 1819|\n",
      "|     state| 1713|\n",
      "|   company| 1698|\n",
      "|   comment| 1667|\n",
      "|      need| 1654|\n",
      "|      want| 1579|\n",
      "|      look| 1564|\n",
      "|     world| 1553|\n",
      "|government| 1551|\n",
      "|      give| 1480|\n",
      "|      show| 1480|\n",
      "|   country| 1465|\n",
      "|      find| 1464|\n",
      "|     right| 1408|\n",
      "+----------+-----+\n",
      "only showing top 20 rows\n",
      "\n"
     ]
    }
   ],
   "source": [
    "#filter out stopwords and looking at the frequency of words without them\n",
    "wlp_nostop = wlp_nopos.filter(~wlp['lemma'].isin(stopwords))\n",
    "lemma_freq = wlp_nostop.groupBy('lemma').count().sort('count', ascending=False)\n",
    "lemma_freq.show()"
   ]
  },
  {
   "cell_type": "markdown",
   "metadata": {},
   "source": [
    "We will also remove the most common and least common lemmas. These will be useless since they won't provide enough information for our LDA analysis. Here, we filter out the top 5% and bottom 10% of all lemmas."
   ]
  },
  {
   "cell_type": "code",
   "execution_count": 21,
   "metadata": {},
   "outputs": [
    {
     "data": {
      "text/plain": [
       "712608"
      ]
     },
     "execution_count": 21,
     "metadata": {},
     "output_type": "execute_result"
    }
   ],
   "source": [
    "wlp_nostop.count()"
   ]
  },
  {
   "cell_type": "code",
   "execution_count": 74,
   "metadata": {},
   "outputs": [],
   "source": [
    "test = wlp_nostop.groupBy('lemma').count().sort('count',ascending=False).drop('count')"
   ]
  },
  {
   "cell_type": "code",
   "execution_count": 75,
   "metadata": {},
   "outputs": [],
   "source": [
    "test2 = wlp_bytext"
   ]
  },
  {
   "cell_type": "code",
   "execution_count": 76,
   "metadata": {},
   "outputs": [
    {
     "name": "stdout",
     "output_type": "stream",
     "text": [
      "+-----+\n",
      "|lemma|\n",
      "+-----+\n",
      "|   's|\n",
      "|    '|\n",
      "| year|\n",
      "|  n't|\n",
      "| time|\n",
      "+-----+\n",
      "only showing top 5 rows\n",
      "\n"
     ]
    }
   ],
   "source": [
    "test.show(5)"
   ]
  },
  {
   "cell_type": "code",
   "execution_count": 66,
   "metadata": {},
   "outputs": [
    {
     "name": "stdout",
     "output_type": "stream",
     "text": [
      "+------+--------------------+\n",
      "|textID|               lemma|\n",
      "+------+--------------------+\n",
      "| 11241|[yurick, writer, ...|\n",
      "| 11242|[dialect, society...|\n",
      "| 11243|[sublime, croissa...|\n",
      "| 11244|[reflect, quarter...|\n",
      "| 21242|[ars, facebook, c...|\n",
      "+------+--------------------+\n",
      "only showing top 5 rows\n",
      "\n"
     ]
    }
   ],
   "source": [
    "test2.show(5)"
   ]
  },
  {
   "cell_type": "code",
   "execution_count": 70,
   "metadata": {},
   "outputs": [
    {
     "name": "stdout",
     "output_type": "stream",
     "text": [
      "+------+--------------------+--------------------+\n",
      "|textID|               lemma|             vectors|\n",
      "+------+--------------------+--------------------+\n",
      "| 11241|[yurick, writer, ...|(40843,[0,1,2,8,1...|\n",
      "| 11242|[dialect, society...|(40843,[0,2,3,4,5...|\n",
      "| 11243|[sublime, croissa...|(40843,[0,1,2,3,4...|\n",
      "| 11244|[reflect, quarter...|(40843,[0,1,2,3,4...|\n",
      "| 21242|[ars, facebook, c...|(40843,[0,2,3,4,5...|\n",
      "| 21243|[york, associate,...|(40843,[0,1,2,7,8...|\n",
      "| 31240|[ireland, 's, oly...|(40843,[0,1,2,3,4...|\n",
      "| 31241|[launch, online, ...|(40843,[0,1,2,6,1...|\n",
      "| 31242|[entrepreneur, po...|(40843,[0,10,12,4...|\n",
      "| 41240|[syrian, woman, o...|(40843,[0,3,4,5,6...|\n",
      "| 41241|[published, medic...|(40843,[0,5,7,8,1...|\n",
      "| 41244|[bay, bridge, jar...|(40843,[0,1,2,4,5...|\n",
      "| 51243|[mpaa, lobby, arm...|(40843,[0,3,4,5,7...|\n",
      "| 61240|[mum, 's, fight, ...|(40843,[0,1,2,5,1...|\n",
      "| 61242|[investigate, cas...|(40843,[0,2,3,4,5...|\n",
      "| 71240|[north, 's, popul...|(40843,[0,1,2,13,...|\n",
      "| 71241|[fergusson, air, ...|(40843,[0,2,7,13,...|\n",
      "| 71242|[rotten, changing...|(40843,[0,2,3,4,6...|\n",
      "| 71243|[', incompatible,...|(40843,[0,1,3,4,5...|\n",
      "| 71244|[leakey, ', grand...|(40843,[0,1,2,4,5...|\n",
      "+------+--------------------+--------------------+\n",
      "only showing top 20 rows\n",
      "\n"
     ]
    }
   ],
   "source": [
    "cv = CountVectorizer(inputCol=\"lemma\", outputCol=\"vectors\")\n",
    "model = cv.fit(test2)\n",
    "model.transform(test2).select('vectors').show()"
   ]
  },
  {
   "cell_type": "code",
   "execution_count": 79,
   "metadata": {},
   "outputs": [],
   "source": [
    "df = model.transform(test2).select('vectors')"
   ]
  },
  {
   "cell_type": "code",
   "execution_count": 81,
   "metadata": {},
   "outputs": [
    {
     "name": "stdout",
     "output_type": "stream",
     "text": [
      "+--------------------+\n",
      "|             vectors|\n",
      "+--------------------+\n",
      "|(40843,[0,1,2,8,1...|\n",
      "|(40843,[0,2,3,4,5...|\n",
      "|(40843,[0,1,2,3,4...|\n",
      "|(40843,[0,1,2,3,4...|\n",
      "|(40843,[0,2,3,4,5...|\n",
      "+--------------------+\n",
      "only showing top 5 rows\n",
      "\n"
     ]
    }
   ],
   "source": [
    "df.show(5)"
   ]
  },
  {
   "cell_type": "code",
   "execution_count": 82,
   "metadata": {},
   "outputs": [
    {
     "name": "stdout",
     "output_type": "stream",
     "text": [
      "root\n",
      " |-- vectors: vector (nullable = true)\n",
      "\n"
     ]
    }
   ],
   "source": [
    "df.printSchema()"
   ]
  },
  {
   "cell_type": "code",
   "execution_count": 88,
   "metadata": {},
   "outputs": [
    {
     "ename": "AttributeError",
     "evalue": "'DataFrame' object has no attribute 'map'",
     "output_type": "error",
     "traceback": [
      "\u001b[0;31m---------------------------------------------------------------------------\u001b[0m",
      "\u001b[0;31mAttributeError\u001b[0m                            Traceback (most recent call last)",
      "\u001b[0;32m<ipython-input-88-ee672c9d9696>\u001b[0m in \u001b[0;36m<module>\u001b[0;34m\u001b[0m\n\u001b[0;32m----> 1\u001b[0;31m \u001b[0mdf\u001b[0m\u001b[0;34m.\u001b[0m\u001b[0mmap\u001b[0m\u001b[0;34m(\u001b[0m\u001b[0;32mlambda\u001b[0m \u001b[0mx\u001b[0m\u001b[0;34m:\u001b[0m \u001b[0mx\u001b[0m\u001b[0;34m.\u001b[0m\u001b[0mvectors\u001b[0m\u001b[0;34m.\u001b[0m\u001b[0mtoArray\u001b[0m\u001b[0;34m(\u001b[0m\u001b[0;34m)\u001b[0m\u001b[0;34m)\u001b[0m\u001b[0;34m\u001b[0m\u001b[0m\n\u001b[0m",
      "\u001b[0;32m~/anaconda3/envs/ada/lib/python3.6/site-packages/pyspark/sql/dataframe.py\u001b[0m in \u001b[0;36m__getattr__\u001b[0;34m(self, name)\u001b[0m\n\u001b[1;32m   1180\u001b[0m         \u001b[0;32mif\u001b[0m \u001b[0mname\u001b[0m \u001b[0;32mnot\u001b[0m \u001b[0;32min\u001b[0m \u001b[0mself\u001b[0m\u001b[0;34m.\u001b[0m\u001b[0mcolumns\u001b[0m\u001b[0;34m:\u001b[0m\u001b[0;34m\u001b[0m\u001b[0m\n\u001b[1;32m   1181\u001b[0m             raise AttributeError(\n\u001b[0;32m-> 1182\u001b[0;31m                 \"'%s' object has no attribute '%s'\" % (self.__class__.__name__, name))\n\u001b[0m\u001b[1;32m   1183\u001b[0m         \u001b[0mjc\u001b[0m \u001b[0;34m=\u001b[0m \u001b[0mself\u001b[0m\u001b[0;34m.\u001b[0m\u001b[0m_jdf\u001b[0m\u001b[0;34m.\u001b[0m\u001b[0mapply\u001b[0m\u001b[0;34m(\u001b[0m\u001b[0mname\u001b[0m\u001b[0;34m)\u001b[0m\u001b[0;34m\u001b[0m\u001b[0m\n\u001b[1;32m   1184\u001b[0m         \u001b[0;32mreturn\u001b[0m \u001b[0mColumn\u001b[0m\u001b[0;34m(\u001b[0m\u001b[0mjc\u001b[0m\u001b[0;34m)\u001b[0m\u001b[0;34m\u001b[0m\u001b[0m\n",
      "\u001b[0;31mAttributeError\u001b[0m: 'DataFrame' object has no attribute 'map'"
     ]
    }
   ],
   "source": [
    "df.map(lambda x: x.vectors.toArray())"
   ]
  },
  {
   "cell_type": "code",
   "execution_count": 174,
   "metadata": {},
   "outputs": [],
   "source": [
    "def vect2Array(vector):\n",
    "    return [int(vector[i]) for i in range(len(vector))]\n",
    "\n",
    "udfvect2Array = udf(vect2Array, ArrayType(IntegerType()))\n",
    "word_count = df.withColumn(\"iterate\", udfvect2Array(\"vectors\")).drop(\"vectors\")"
   ]
  },
  {
   "cell_type": "code",
   "execution_count": 175,
   "metadata": {},
   "outputs": [
    {
     "name": "stdout",
     "output_type": "stream",
     "text": [
      "+--------------------+\n",
      "|             iterate|\n",
      "+--------------------+\n",
      "|[8, 2, 4, 0, 0, 0...|\n",
      "|[3, 0, 12, 3, 1, ...|\n",
      "|[2, 1, 2, 2, 2, 0...|\n",
      "|[10, 12, 5, 7, 5,...|\n",
      "|[6, 0, 1, 1, 2, 3...|\n",
      "|[6, 1, 2, 0, 0, 0...|\n",
      "|[10, 1, 1, 4, 7, ...|\n",
      "|[2, 24, 2, 0, 0, ...|\n",
      "|[1, 0, 0, 0, 0, 0...|\n",
      "|[3, 0, 0, 2, 1, 1...|\n",
      "|[1, 0, 0, 0, 0, 1...|\n",
      "|[6, 2, 2, 0, 1, 2...|\n",
      "|[4, 0, 0, 2, 1, 1...|\n",
      "|[4, 1, 1, 0, 0, 2...|\n",
      "|[6, 0, 2, 3, 1, 1...|\n",
      "|[11, 7, 1, 0, 0, ...|\n",
      "|[2, 0, 1, 0, 0, 0...|\n",
      "|[8, 0, 1, 1, 3, 0...|\n",
      "|[9, 4, 0, 2, 2, 1...|\n",
      "|[4, 4, 3, 0, 2, 1...|\n",
      "+--------------------+\n",
      "only showing top 20 rows\n",
      "\n"
     ]
    }
   ],
   "source": [
    "word_count.show()\n"
   ]
  },
  {
   "cell_type": "code",
   "execution_count": null,
   "metadata": {},
   "outputs": [],
   "source": []
  },
  {
   "cell_type": "code",
   "execution_count": 169,
   "metadata": {},
   "outputs": [],
   "source": [
    "word_count=word_count.rdd.map(list).zipWithIndex().map(lambda x: [x[1], Vectors.dense(x[0])]).cache()"
   ]
  },
  {
   "cell_type": "code",
   "execution_count": 173,
   "metadata": {},
   "outputs": [
    {
     "ename": "Py4JJavaError",
     "evalue": "An error occurred while calling z:org.apache.spark.api.python.PythonRDD.collectAndServe.\n: org.apache.spark.SparkException: Job aborted due to stage failure: Task 6 in stage 127.0 failed 1 times, most recent failure: Lost task 6.0 in stage 127.0 (TID 8634, localhost, executor driver): org.apache.spark.api.python.PythonException: Traceback (most recent call last):\n  File \"/Users/jeanmarcbejjani/anaconda3/envs/ada/lib/python3.6/site-packages/pyspark/python/lib/pyspark.zip/pyspark/worker.py\", line 230, in main\n    process()\n  File \"/Users/jeanmarcbejjani/anaconda3/envs/ada/lib/python3.6/site-packages/pyspark/python/lib/pyspark.zip/pyspark/worker.py\", line 225, in process\n    serializer.dump_stream(func(split_index, iterator), outfile)\n  File \"/Users/jeanmarcbejjani/anaconda3/envs/ada/lib/python3.6/site-packages/pyspark/python/lib/pyspark.zip/pyspark/serializers.py\", line 372, in dump_stream\n    vs = list(itertools.islice(iterator, batch))\n  File \"/Users/jeanmarcbejjani/anaconda3/envs/ada/lib/python3.6/site-packages/pyspark/python/lib/pyspark.zip/pyspark/util.py\", line 55, in wrapper\n    return f(*args, **kwargs)\n  File \"<ipython-input-169-1abccd003ad3>\", line 1, in <lambda>\nNameError: name 'Vectors' is not defined\n\n\tat org.apache.spark.api.python.BasePythonRunner$ReaderIterator.handlePythonException(PythonRunner.scala:298)\n\tat org.apache.spark.api.python.PythonRunner$$anon$1.read(PythonRunner.scala:438)\n\tat org.apache.spark.api.python.PythonRunner$$anon$1.read(PythonRunner.scala:421)\n\tat org.apache.spark.api.python.BasePythonRunner$ReaderIterator.hasNext(PythonRunner.scala:252)\n\tat org.apache.spark.InterruptibleIterator.hasNext(InterruptibleIterator.scala:37)\n\tat org.apache.spark.storage.memory.MemoryStore.putIteratorAsBytes(MemoryStore.scala:378)\n\tat org.apache.spark.storage.BlockManager$$anonfun$doPutIterator$1.apply(BlockManager.scala:1109)\n\tat org.apache.spark.storage.BlockManager$$anonfun$doPutIterator$1.apply(BlockManager.scala:1083)\n\tat org.apache.spark.storage.BlockManager.doPut(BlockManager.scala:1018)\n\tat org.apache.spark.storage.BlockManager.doPutIterator(BlockManager.scala:1083)\n\tat org.apache.spark.storage.BlockManager.getOrElseUpdate(BlockManager.scala:809)\n\tat org.apache.spark.rdd.RDD.getOrCompute(RDD.scala:335)\n\tat org.apache.spark.rdd.RDD.iterator(RDD.scala:286)\n\tat org.apache.spark.api.python.PythonRDD.compute(PythonRDD.scala:64)\n\tat org.apache.spark.rdd.RDD.computeOrReadCheckpoint(RDD.scala:324)\n\tat org.apache.spark.rdd.RDD.iterator(RDD.scala:288)\n\tat org.apache.spark.scheduler.ResultTask.runTask(ResultTask.scala:87)\n\tat org.apache.spark.scheduler.Task.run(Task.scala:109)\n\tat org.apache.spark.executor.Executor$TaskRunner.run(Executor.scala:345)\n\tat java.util.concurrent.ThreadPoolExecutor.runWorker(ThreadPoolExecutor.java:1142)\n\tat java.util.concurrent.ThreadPoolExecutor$Worker.run(ThreadPoolExecutor.java:617)\n\tat java.lang.Thread.run(Thread.java:745)\n\nDriver stacktrace:\n\tat org.apache.spark.scheduler.DAGScheduler.org$apache$spark$scheduler$DAGScheduler$$failJobAndIndependentStages(DAGScheduler.scala:1602)\n\tat org.apache.spark.scheduler.DAGScheduler$$anonfun$abortStage$1.apply(DAGScheduler.scala:1590)\n\tat org.apache.spark.scheduler.DAGScheduler$$anonfun$abortStage$1.apply(DAGScheduler.scala:1589)\n\tat scala.collection.mutable.ResizableArray$class.foreach(ResizableArray.scala:59)\n\tat scala.collection.mutable.ArrayBuffer.foreach(ArrayBuffer.scala:48)\n\tat org.apache.spark.scheduler.DAGScheduler.abortStage(DAGScheduler.scala:1589)\n\tat org.apache.spark.scheduler.DAGScheduler$$anonfun$handleTaskSetFailed$1.apply(DAGScheduler.scala:831)\n\tat org.apache.spark.scheduler.DAGScheduler$$anonfun$handleTaskSetFailed$1.apply(DAGScheduler.scala:831)\n\tat scala.Option.foreach(Option.scala:257)\n\tat org.apache.spark.scheduler.DAGScheduler.handleTaskSetFailed(DAGScheduler.scala:831)\n\tat org.apache.spark.scheduler.DAGSchedulerEventProcessLoop.doOnReceive(DAGScheduler.scala:1823)\n\tat org.apache.spark.scheduler.DAGSchedulerEventProcessLoop.onReceive(DAGScheduler.scala:1772)\n\tat org.apache.spark.scheduler.DAGSchedulerEventProcessLoop.onReceive(DAGScheduler.scala:1761)\n\tat org.apache.spark.util.EventLoop$$anon$1.run(EventLoop.scala:48)\n\tat org.apache.spark.scheduler.DAGScheduler.runJob(DAGScheduler.scala:642)\n\tat org.apache.spark.SparkContext.runJob(SparkContext.scala:2034)\n\tat org.apache.spark.SparkContext.runJob(SparkContext.scala:2055)\n\tat org.apache.spark.SparkContext.runJob(SparkContext.scala:2074)\n\tat org.apache.spark.SparkContext.runJob(SparkContext.scala:2099)\n\tat org.apache.spark.rdd.RDD$$anonfun$collect$1.apply(RDD.scala:939)\n\tat org.apache.spark.rdd.RDDOperationScope$.withScope(RDDOperationScope.scala:151)\n\tat org.apache.spark.rdd.RDDOperationScope$.withScope(RDDOperationScope.scala:112)\n\tat org.apache.spark.rdd.RDD.withScope(RDD.scala:363)\n\tat org.apache.spark.rdd.RDD.collect(RDD.scala:938)\n\tat org.apache.spark.api.python.PythonRDD$.collectAndServe(PythonRDD.scala:162)\n\tat org.apache.spark.api.python.PythonRDD.collectAndServe(PythonRDD.scala)\n\tat sun.reflect.NativeMethodAccessorImpl.invoke0(Native Method)\n\tat sun.reflect.NativeMethodAccessorImpl.invoke(NativeMethodAccessorImpl.java:62)\n\tat sun.reflect.DelegatingMethodAccessorImpl.invoke(DelegatingMethodAccessorImpl.java:43)\n\tat java.lang.reflect.Method.invoke(Method.java:483)\n\tat py4j.reflection.MethodInvoker.invoke(MethodInvoker.java:244)\n\tat py4j.reflection.ReflectionEngine.invoke(ReflectionEngine.java:357)\n\tat py4j.Gateway.invoke(Gateway.java:282)\n\tat py4j.commands.AbstractCommand.invokeMethod(AbstractCommand.java:132)\n\tat py4j.commands.CallCommand.execute(CallCommand.java:79)\n\tat py4j.GatewayConnection.run(GatewayConnection.java:238)\n\tat java.lang.Thread.run(Thread.java:745)\nCaused by: org.apache.spark.api.python.PythonException: Traceback (most recent call last):\n  File \"/Users/jeanmarcbejjani/anaconda3/envs/ada/lib/python3.6/site-packages/pyspark/python/lib/pyspark.zip/pyspark/worker.py\", line 230, in main\n    process()\n  File \"/Users/jeanmarcbejjani/anaconda3/envs/ada/lib/python3.6/site-packages/pyspark/python/lib/pyspark.zip/pyspark/worker.py\", line 225, in process\n    serializer.dump_stream(func(split_index, iterator), outfile)\n  File \"/Users/jeanmarcbejjani/anaconda3/envs/ada/lib/python3.6/site-packages/pyspark/python/lib/pyspark.zip/pyspark/serializers.py\", line 372, in dump_stream\n    vs = list(itertools.islice(iterator, batch))\n  File \"/Users/jeanmarcbejjani/anaconda3/envs/ada/lib/python3.6/site-packages/pyspark/python/lib/pyspark.zip/pyspark/util.py\", line 55, in wrapper\n    return f(*args, **kwargs)\n  File \"<ipython-input-169-1abccd003ad3>\", line 1, in <lambda>\nNameError: name 'Vectors' is not defined\n\n\tat org.apache.spark.api.python.BasePythonRunner$ReaderIterator.handlePythonException(PythonRunner.scala:298)\n\tat org.apache.spark.api.python.PythonRunner$$anon$1.read(PythonRunner.scala:438)\n\tat org.apache.spark.api.python.PythonRunner$$anon$1.read(PythonRunner.scala:421)\n\tat org.apache.spark.api.python.BasePythonRunner$ReaderIterator.hasNext(PythonRunner.scala:252)\n\tat org.apache.spark.InterruptibleIterator.hasNext(InterruptibleIterator.scala:37)\n\tat org.apache.spark.storage.memory.MemoryStore.putIteratorAsBytes(MemoryStore.scala:378)\n\tat org.apache.spark.storage.BlockManager$$anonfun$doPutIterator$1.apply(BlockManager.scala:1109)\n\tat org.apache.spark.storage.BlockManager$$anonfun$doPutIterator$1.apply(BlockManager.scala:1083)\n\tat org.apache.spark.storage.BlockManager.doPut(BlockManager.scala:1018)\n\tat org.apache.spark.storage.BlockManager.doPutIterator(BlockManager.scala:1083)\n\tat org.apache.spark.storage.BlockManager.getOrElseUpdate(BlockManager.scala:809)\n\tat org.apache.spark.rdd.RDD.getOrCompute(RDD.scala:335)\n\tat org.apache.spark.rdd.RDD.iterator(RDD.scala:286)\n\tat org.apache.spark.api.python.PythonRDD.compute(PythonRDD.scala:64)\n\tat org.apache.spark.rdd.RDD.computeOrReadCheckpoint(RDD.scala:324)\n\tat org.apache.spark.rdd.RDD.iterator(RDD.scala:288)\n\tat org.apache.spark.scheduler.ResultTask.runTask(ResultTask.scala:87)\n\tat org.apache.spark.scheduler.Task.run(Task.scala:109)\n\tat org.apache.spark.executor.Executor$TaskRunner.run(Executor.scala:345)\n\tat java.util.concurrent.ThreadPoolExecutor.runWorker(ThreadPoolExecutor.java:1142)\n\tat java.util.concurrent.ThreadPoolExecutor$Worker.run(ThreadPoolExecutor.java:617)\n\t... 1 more\n",
     "output_type": "error",
     "traceback": [
      "\u001b[0;31m---------------------------------------------------------------------------\u001b[0m",
      "\u001b[0;31mPy4JJavaError\u001b[0m                             Traceback (most recent call last)",
      "\u001b[0;32m<ipython-input-173-9b41cd57eaad>\u001b[0m in \u001b[0;36m<module>\u001b[0;34m\u001b[0m\n\u001b[0;32m----> 1\u001b[0;31m \u001b[0mword_count\u001b[0m\u001b[0;34m.\u001b[0m\u001b[0mforeach\u001b[0m\u001b[0;34m(\u001b[0m\u001b[0mprint\u001b[0m\u001b[0;34m)\u001b[0m\u001b[0;34m\u001b[0m\u001b[0m\n\u001b[0m",
      "\u001b[0;32m~/anaconda3/envs/ada/lib/python3.6/site-packages/pyspark/rdd.py\u001b[0m in \u001b[0;36mforeach\u001b[0;34m(self, f)\u001b[0m\n\u001b[1;32m    805\u001b[0m                 \u001b[0mf\u001b[0m\u001b[0;34m(\u001b[0m\u001b[0mx\u001b[0m\u001b[0;34m)\u001b[0m\u001b[0;34m\u001b[0m\u001b[0m\n\u001b[1;32m    806\u001b[0m             \u001b[0;32mreturn\u001b[0m \u001b[0miter\u001b[0m\u001b[0;34m(\u001b[0m\u001b[0;34m[\u001b[0m\u001b[0;34m]\u001b[0m\u001b[0;34m)\u001b[0m\u001b[0;34m\u001b[0m\u001b[0m\n\u001b[0;32m--> 807\u001b[0;31m         \u001b[0mself\u001b[0m\u001b[0;34m.\u001b[0m\u001b[0mmapPartitions\u001b[0m\u001b[0;34m(\u001b[0m\u001b[0mprocessPartition\u001b[0m\u001b[0;34m)\u001b[0m\u001b[0;34m.\u001b[0m\u001b[0mcount\u001b[0m\u001b[0;34m(\u001b[0m\u001b[0;34m)\u001b[0m  \u001b[0;31m# Force evaluation\u001b[0m\u001b[0;34m\u001b[0m\u001b[0m\n\u001b[0m\u001b[1;32m    808\u001b[0m \u001b[0;34m\u001b[0m\u001b[0m\n\u001b[1;32m    809\u001b[0m     \u001b[0;32mdef\u001b[0m \u001b[0mforeachPartition\u001b[0m\u001b[0;34m(\u001b[0m\u001b[0mself\u001b[0m\u001b[0;34m,\u001b[0m \u001b[0mf\u001b[0m\u001b[0;34m)\u001b[0m\u001b[0;34m:\u001b[0m\u001b[0;34m\u001b[0m\u001b[0m\n",
      "\u001b[0;32m~/anaconda3/envs/ada/lib/python3.6/site-packages/pyspark/rdd.py\u001b[0m in \u001b[0;36mcount\u001b[0;34m(self)\u001b[0m\n\u001b[1;32m   1071\u001b[0m         \u001b[0;36m3\u001b[0m\u001b[0;34m\u001b[0m\u001b[0m\n\u001b[1;32m   1072\u001b[0m         \"\"\"\n\u001b[0;32m-> 1073\u001b[0;31m         \u001b[0;32mreturn\u001b[0m \u001b[0mself\u001b[0m\u001b[0;34m.\u001b[0m\u001b[0mmapPartitions\u001b[0m\u001b[0;34m(\u001b[0m\u001b[0;32mlambda\u001b[0m \u001b[0mi\u001b[0m\u001b[0;34m:\u001b[0m \u001b[0;34m[\u001b[0m\u001b[0msum\u001b[0m\u001b[0;34m(\u001b[0m\u001b[0;36m1\u001b[0m \u001b[0;32mfor\u001b[0m \u001b[0m_\u001b[0m \u001b[0;32min\u001b[0m \u001b[0mi\u001b[0m\u001b[0;34m)\u001b[0m\u001b[0;34m]\u001b[0m\u001b[0;34m)\u001b[0m\u001b[0;34m.\u001b[0m\u001b[0msum\u001b[0m\u001b[0;34m(\u001b[0m\u001b[0;34m)\u001b[0m\u001b[0;34m\u001b[0m\u001b[0m\n\u001b[0m\u001b[1;32m   1074\u001b[0m \u001b[0;34m\u001b[0m\u001b[0m\n\u001b[1;32m   1075\u001b[0m     \u001b[0;32mdef\u001b[0m \u001b[0mstats\u001b[0m\u001b[0;34m(\u001b[0m\u001b[0mself\u001b[0m\u001b[0;34m)\u001b[0m\u001b[0;34m:\u001b[0m\u001b[0;34m\u001b[0m\u001b[0m\n",
      "\u001b[0;32m~/anaconda3/envs/ada/lib/python3.6/site-packages/pyspark/rdd.py\u001b[0m in \u001b[0;36msum\u001b[0;34m(self)\u001b[0m\n\u001b[1;32m   1062\u001b[0m         \u001b[0;36m6.0\u001b[0m\u001b[0;34m\u001b[0m\u001b[0m\n\u001b[1;32m   1063\u001b[0m         \"\"\"\n\u001b[0;32m-> 1064\u001b[0;31m         \u001b[0;32mreturn\u001b[0m \u001b[0mself\u001b[0m\u001b[0;34m.\u001b[0m\u001b[0mmapPartitions\u001b[0m\u001b[0;34m(\u001b[0m\u001b[0;32mlambda\u001b[0m \u001b[0mx\u001b[0m\u001b[0;34m:\u001b[0m \u001b[0;34m[\u001b[0m\u001b[0msum\u001b[0m\u001b[0;34m(\u001b[0m\u001b[0mx\u001b[0m\u001b[0;34m)\u001b[0m\u001b[0;34m]\u001b[0m\u001b[0;34m)\u001b[0m\u001b[0;34m.\u001b[0m\u001b[0mfold\u001b[0m\u001b[0;34m(\u001b[0m\u001b[0;36m0\u001b[0m\u001b[0;34m,\u001b[0m \u001b[0moperator\u001b[0m\u001b[0;34m.\u001b[0m\u001b[0madd\u001b[0m\u001b[0;34m)\u001b[0m\u001b[0;34m\u001b[0m\u001b[0m\n\u001b[0m\u001b[1;32m   1065\u001b[0m \u001b[0;34m\u001b[0m\u001b[0m\n\u001b[1;32m   1066\u001b[0m     \u001b[0;32mdef\u001b[0m \u001b[0mcount\u001b[0m\u001b[0;34m(\u001b[0m\u001b[0mself\u001b[0m\u001b[0;34m)\u001b[0m\u001b[0;34m:\u001b[0m\u001b[0;34m\u001b[0m\u001b[0m\n",
      "\u001b[0;32m~/anaconda3/envs/ada/lib/python3.6/site-packages/pyspark/rdd.py\u001b[0m in \u001b[0;36mfold\u001b[0;34m(self, zeroValue, op)\u001b[0m\n\u001b[1;32m    933\u001b[0m         \u001b[0;31m# zeroValue provided to each partition is unique from the one provided\u001b[0m\u001b[0;34m\u001b[0m\u001b[0;34m\u001b[0m\u001b[0m\n\u001b[1;32m    934\u001b[0m         \u001b[0;31m# to the final reduce call\u001b[0m\u001b[0;34m\u001b[0m\u001b[0;34m\u001b[0m\u001b[0m\n\u001b[0;32m--> 935\u001b[0;31m         \u001b[0mvals\u001b[0m \u001b[0;34m=\u001b[0m \u001b[0mself\u001b[0m\u001b[0;34m.\u001b[0m\u001b[0mmapPartitions\u001b[0m\u001b[0;34m(\u001b[0m\u001b[0mfunc\u001b[0m\u001b[0;34m)\u001b[0m\u001b[0;34m.\u001b[0m\u001b[0mcollect\u001b[0m\u001b[0;34m(\u001b[0m\u001b[0;34m)\u001b[0m\u001b[0;34m\u001b[0m\u001b[0m\n\u001b[0m\u001b[1;32m    936\u001b[0m         \u001b[0;32mreturn\u001b[0m \u001b[0mreduce\u001b[0m\u001b[0;34m(\u001b[0m\u001b[0mop\u001b[0m\u001b[0;34m,\u001b[0m \u001b[0mvals\u001b[0m\u001b[0;34m,\u001b[0m \u001b[0mzeroValue\u001b[0m\u001b[0;34m)\u001b[0m\u001b[0;34m\u001b[0m\u001b[0m\n\u001b[1;32m    937\u001b[0m \u001b[0;34m\u001b[0m\u001b[0m\n",
      "\u001b[0;32m~/anaconda3/envs/ada/lib/python3.6/site-packages/pyspark/rdd.py\u001b[0m in \u001b[0;36mcollect\u001b[0;34m(self)\u001b[0m\n\u001b[1;32m    832\u001b[0m         \"\"\"\n\u001b[1;32m    833\u001b[0m         \u001b[0;32mwith\u001b[0m \u001b[0mSCCallSiteSync\u001b[0m\u001b[0;34m(\u001b[0m\u001b[0mself\u001b[0m\u001b[0;34m.\u001b[0m\u001b[0mcontext\u001b[0m\u001b[0;34m)\u001b[0m \u001b[0;32mas\u001b[0m \u001b[0mcss\u001b[0m\u001b[0;34m:\u001b[0m\u001b[0;34m\u001b[0m\u001b[0m\n\u001b[0;32m--> 834\u001b[0;31m             \u001b[0msock_info\u001b[0m \u001b[0;34m=\u001b[0m \u001b[0mself\u001b[0m\u001b[0;34m.\u001b[0m\u001b[0mctx\u001b[0m\u001b[0;34m.\u001b[0m\u001b[0m_jvm\u001b[0m\u001b[0;34m.\u001b[0m\u001b[0mPythonRDD\u001b[0m\u001b[0;34m.\u001b[0m\u001b[0mcollectAndServe\u001b[0m\u001b[0;34m(\u001b[0m\u001b[0mself\u001b[0m\u001b[0;34m.\u001b[0m\u001b[0m_jrdd\u001b[0m\u001b[0;34m.\u001b[0m\u001b[0mrdd\u001b[0m\u001b[0;34m(\u001b[0m\u001b[0;34m)\u001b[0m\u001b[0;34m)\u001b[0m\u001b[0;34m\u001b[0m\u001b[0m\n\u001b[0m\u001b[1;32m    835\u001b[0m         \u001b[0;32mreturn\u001b[0m \u001b[0mlist\u001b[0m\u001b[0;34m(\u001b[0m\u001b[0m_load_from_socket\u001b[0m\u001b[0;34m(\u001b[0m\u001b[0msock_info\u001b[0m\u001b[0;34m,\u001b[0m \u001b[0mself\u001b[0m\u001b[0;34m.\u001b[0m\u001b[0m_jrdd_deserializer\u001b[0m\u001b[0;34m)\u001b[0m\u001b[0;34m)\u001b[0m\u001b[0;34m\u001b[0m\u001b[0m\n\u001b[1;32m    836\u001b[0m \u001b[0;34m\u001b[0m\u001b[0m\n",
      "\u001b[0;32m~/anaconda3/envs/ada/lib/python3.6/site-packages/py4j/java_gateway.py\u001b[0m in \u001b[0;36m__call__\u001b[0;34m(self, *args)\u001b[0m\n\u001b[1;32m   1255\u001b[0m         \u001b[0manswer\u001b[0m \u001b[0;34m=\u001b[0m \u001b[0mself\u001b[0m\u001b[0;34m.\u001b[0m\u001b[0mgateway_client\u001b[0m\u001b[0;34m.\u001b[0m\u001b[0msend_command\u001b[0m\u001b[0;34m(\u001b[0m\u001b[0mcommand\u001b[0m\u001b[0;34m)\u001b[0m\u001b[0;34m\u001b[0m\u001b[0m\n\u001b[1;32m   1256\u001b[0m         return_value = get_return_value(\n\u001b[0;32m-> 1257\u001b[0;31m             answer, self.gateway_client, self.target_id, self.name)\n\u001b[0m\u001b[1;32m   1258\u001b[0m \u001b[0;34m\u001b[0m\u001b[0m\n\u001b[1;32m   1259\u001b[0m         \u001b[0;32mfor\u001b[0m \u001b[0mtemp_arg\u001b[0m \u001b[0;32min\u001b[0m \u001b[0mtemp_args\u001b[0m\u001b[0;34m:\u001b[0m\u001b[0;34m\u001b[0m\u001b[0m\n",
      "\u001b[0;32m~/anaconda3/envs/ada/lib/python3.6/site-packages/pyspark/sql/utils.py\u001b[0m in \u001b[0;36mdeco\u001b[0;34m(*a, **kw)\u001b[0m\n\u001b[1;32m     61\u001b[0m     \u001b[0;32mdef\u001b[0m \u001b[0mdeco\u001b[0m\u001b[0;34m(\u001b[0m\u001b[0;34m*\u001b[0m\u001b[0ma\u001b[0m\u001b[0;34m,\u001b[0m \u001b[0;34m**\u001b[0m\u001b[0mkw\u001b[0m\u001b[0;34m)\u001b[0m\u001b[0;34m:\u001b[0m\u001b[0;34m\u001b[0m\u001b[0m\n\u001b[1;32m     62\u001b[0m         \u001b[0;32mtry\u001b[0m\u001b[0;34m:\u001b[0m\u001b[0;34m\u001b[0m\u001b[0m\n\u001b[0;32m---> 63\u001b[0;31m             \u001b[0;32mreturn\u001b[0m \u001b[0mf\u001b[0m\u001b[0;34m(\u001b[0m\u001b[0;34m*\u001b[0m\u001b[0ma\u001b[0m\u001b[0;34m,\u001b[0m \u001b[0;34m**\u001b[0m\u001b[0mkw\u001b[0m\u001b[0;34m)\u001b[0m\u001b[0;34m\u001b[0m\u001b[0m\n\u001b[0m\u001b[1;32m     64\u001b[0m         \u001b[0;32mexcept\u001b[0m \u001b[0mpy4j\u001b[0m\u001b[0;34m.\u001b[0m\u001b[0mprotocol\u001b[0m\u001b[0;34m.\u001b[0m\u001b[0mPy4JJavaError\u001b[0m \u001b[0;32mas\u001b[0m \u001b[0me\u001b[0m\u001b[0;34m:\u001b[0m\u001b[0;34m\u001b[0m\u001b[0m\n\u001b[1;32m     65\u001b[0m             \u001b[0ms\u001b[0m \u001b[0;34m=\u001b[0m \u001b[0me\u001b[0m\u001b[0;34m.\u001b[0m\u001b[0mjava_exception\u001b[0m\u001b[0;34m.\u001b[0m\u001b[0mtoString\u001b[0m\u001b[0;34m(\u001b[0m\u001b[0;34m)\u001b[0m\u001b[0;34m\u001b[0m\u001b[0m\n",
      "\u001b[0;32m~/anaconda3/envs/ada/lib/python3.6/site-packages/py4j/protocol.py\u001b[0m in \u001b[0;36mget_return_value\u001b[0;34m(answer, gateway_client, target_id, name)\u001b[0m\n\u001b[1;32m    326\u001b[0m                 raise Py4JJavaError(\n\u001b[1;32m    327\u001b[0m                     \u001b[0;34m\"An error occurred while calling {0}{1}{2}.\\n\"\u001b[0m\u001b[0;34m.\u001b[0m\u001b[0;34m\u001b[0m\u001b[0m\n\u001b[0;32m--> 328\u001b[0;31m                     format(target_id, \".\", name), value)\n\u001b[0m\u001b[1;32m    329\u001b[0m             \u001b[0;32melse\u001b[0m\u001b[0;34m:\u001b[0m\u001b[0;34m\u001b[0m\u001b[0m\n\u001b[1;32m    330\u001b[0m                 raise Py4JError(\n",
      "\u001b[0;31mPy4JJavaError\u001b[0m: An error occurred while calling z:org.apache.spark.api.python.PythonRDD.collectAndServe.\n: org.apache.spark.SparkException: Job aborted due to stage failure: Task 6 in stage 127.0 failed 1 times, most recent failure: Lost task 6.0 in stage 127.0 (TID 8634, localhost, executor driver): org.apache.spark.api.python.PythonException: Traceback (most recent call last):\n  File \"/Users/jeanmarcbejjani/anaconda3/envs/ada/lib/python3.6/site-packages/pyspark/python/lib/pyspark.zip/pyspark/worker.py\", line 230, in main\n    process()\n  File \"/Users/jeanmarcbejjani/anaconda3/envs/ada/lib/python3.6/site-packages/pyspark/python/lib/pyspark.zip/pyspark/worker.py\", line 225, in process\n    serializer.dump_stream(func(split_index, iterator), outfile)\n  File \"/Users/jeanmarcbejjani/anaconda3/envs/ada/lib/python3.6/site-packages/pyspark/python/lib/pyspark.zip/pyspark/serializers.py\", line 372, in dump_stream\n    vs = list(itertools.islice(iterator, batch))\n  File \"/Users/jeanmarcbejjani/anaconda3/envs/ada/lib/python3.6/site-packages/pyspark/python/lib/pyspark.zip/pyspark/util.py\", line 55, in wrapper\n    return f(*args, **kwargs)\n  File \"<ipython-input-169-1abccd003ad3>\", line 1, in <lambda>\nNameError: name 'Vectors' is not defined\n\n\tat org.apache.spark.api.python.BasePythonRunner$ReaderIterator.handlePythonException(PythonRunner.scala:298)\n\tat org.apache.spark.api.python.PythonRunner$$anon$1.read(PythonRunner.scala:438)\n\tat org.apache.spark.api.python.PythonRunner$$anon$1.read(PythonRunner.scala:421)\n\tat org.apache.spark.api.python.BasePythonRunner$ReaderIterator.hasNext(PythonRunner.scala:252)\n\tat org.apache.spark.InterruptibleIterator.hasNext(InterruptibleIterator.scala:37)\n\tat org.apache.spark.storage.memory.MemoryStore.putIteratorAsBytes(MemoryStore.scala:378)\n\tat org.apache.spark.storage.BlockManager$$anonfun$doPutIterator$1.apply(BlockManager.scala:1109)\n\tat org.apache.spark.storage.BlockManager$$anonfun$doPutIterator$1.apply(BlockManager.scala:1083)\n\tat org.apache.spark.storage.BlockManager.doPut(BlockManager.scala:1018)\n\tat org.apache.spark.storage.BlockManager.doPutIterator(BlockManager.scala:1083)\n\tat org.apache.spark.storage.BlockManager.getOrElseUpdate(BlockManager.scala:809)\n\tat org.apache.spark.rdd.RDD.getOrCompute(RDD.scala:335)\n\tat org.apache.spark.rdd.RDD.iterator(RDD.scala:286)\n\tat org.apache.spark.api.python.PythonRDD.compute(PythonRDD.scala:64)\n\tat org.apache.spark.rdd.RDD.computeOrReadCheckpoint(RDD.scala:324)\n\tat org.apache.spark.rdd.RDD.iterator(RDD.scala:288)\n\tat org.apache.spark.scheduler.ResultTask.runTask(ResultTask.scala:87)\n\tat org.apache.spark.scheduler.Task.run(Task.scala:109)\n\tat org.apache.spark.executor.Executor$TaskRunner.run(Executor.scala:345)\n\tat java.util.concurrent.ThreadPoolExecutor.runWorker(ThreadPoolExecutor.java:1142)\n\tat java.util.concurrent.ThreadPoolExecutor$Worker.run(ThreadPoolExecutor.java:617)\n\tat java.lang.Thread.run(Thread.java:745)\n\nDriver stacktrace:\n\tat org.apache.spark.scheduler.DAGScheduler.org$apache$spark$scheduler$DAGScheduler$$failJobAndIndependentStages(DAGScheduler.scala:1602)\n\tat org.apache.spark.scheduler.DAGScheduler$$anonfun$abortStage$1.apply(DAGScheduler.scala:1590)\n\tat org.apache.spark.scheduler.DAGScheduler$$anonfun$abortStage$1.apply(DAGScheduler.scala:1589)\n\tat scala.collection.mutable.ResizableArray$class.foreach(ResizableArray.scala:59)\n\tat scala.collection.mutable.ArrayBuffer.foreach(ArrayBuffer.scala:48)\n\tat org.apache.spark.scheduler.DAGScheduler.abortStage(DAGScheduler.scala:1589)\n\tat org.apache.spark.scheduler.DAGScheduler$$anonfun$handleTaskSetFailed$1.apply(DAGScheduler.scala:831)\n\tat org.apache.spark.scheduler.DAGScheduler$$anonfun$handleTaskSetFailed$1.apply(DAGScheduler.scala:831)\n\tat scala.Option.foreach(Option.scala:257)\n\tat org.apache.spark.scheduler.DAGScheduler.handleTaskSetFailed(DAGScheduler.scala:831)\n\tat org.apache.spark.scheduler.DAGSchedulerEventProcessLoop.doOnReceive(DAGScheduler.scala:1823)\n\tat org.apache.spark.scheduler.DAGSchedulerEventProcessLoop.onReceive(DAGScheduler.scala:1772)\n\tat org.apache.spark.scheduler.DAGSchedulerEventProcessLoop.onReceive(DAGScheduler.scala:1761)\n\tat org.apache.spark.util.EventLoop$$anon$1.run(EventLoop.scala:48)\n\tat org.apache.spark.scheduler.DAGScheduler.runJob(DAGScheduler.scala:642)\n\tat org.apache.spark.SparkContext.runJob(SparkContext.scala:2034)\n\tat org.apache.spark.SparkContext.runJob(SparkContext.scala:2055)\n\tat org.apache.spark.SparkContext.runJob(SparkContext.scala:2074)\n\tat org.apache.spark.SparkContext.runJob(SparkContext.scala:2099)\n\tat org.apache.spark.rdd.RDD$$anonfun$collect$1.apply(RDD.scala:939)\n\tat org.apache.spark.rdd.RDDOperationScope$.withScope(RDDOperationScope.scala:151)\n\tat org.apache.spark.rdd.RDDOperationScope$.withScope(RDDOperationScope.scala:112)\n\tat org.apache.spark.rdd.RDD.withScope(RDD.scala:363)\n\tat org.apache.spark.rdd.RDD.collect(RDD.scala:938)\n\tat org.apache.spark.api.python.PythonRDD$.collectAndServe(PythonRDD.scala:162)\n\tat org.apache.spark.api.python.PythonRDD.collectAndServe(PythonRDD.scala)\n\tat sun.reflect.NativeMethodAccessorImpl.invoke0(Native Method)\n\tat sun.reflect.NativeMethodAccessorImpl.invoke(NativeMethodAccessorImpl.java:62)\n\tat sun.reflect.DelegatingMethodAccessorImpl.invoke(DelegatingMethodAccessorImpl.java:43)\n\tat java.lang.reflect.Method.invoke(Method.java:483)\n\tat py4j.reflection.MethodInvoker.invoke(MethodInvoker.java:244)\n\tat py4j.reflection.ReflectionEngine.invoke(ReflectionEngine.java:357)\n\tat py4j.Gateway.invoke(Gateway.java:282)\n\tat py4j.commands.AbstractCommand.invokeMethod(AbstractCommand.java:132)\n\tat py4j.commands.CallCommand.execute(CallCommand.java:79)\n\tat py4j.GatewayConnection.run(GatewayConnection.java:238)\n\tat java.lang.Thread.run(Thread.java:745)\nCaused by: org.apache.spark.api.python.PythonException: Traceback (most recent call last):\n  File \"/Users/jeanmarcbejjani/anaconda3/envs/ada/lib/python3.6/site-packages/pyspark/python/lib/pyspark.zip/pyspark/worker.py\", line 230, in main\n    process()\n  File \"/Users/jeanmarcbejjani/anaconda3/envs/ada/lib/python3.6/site-packages/pyspark/python/lib/pyspark.zip/pyspark/worker.py\", line 225, in process\n    serializer.dump_stream(func(split_index, iterator), outfile)\n  File \"/Users/jeanmarcbejjani/anaconda3/envs/ada/lib/python3.6/site-packages/pyspark/python/lib/pyspark.zip/pyspark/serializers.py\", line 372, in dump_stream\n    vs = list(itertools.islice(iterator, batch))\n  File \"/Users/jeanmarcbejjani/anaconda3/envs/ada/lib/python3.6/site-packages/pyspark/python/lib/pyspark.zip/pyspark/util.py\", line 55, in wrapper\n    return f(*args, **kwargs)\n  File \"<ipython-input-169-1abccd003ad3>\", line 1, in <lambda>\nNameError: name 'Vectors' is not defined\n\n\tat org.apache.spark.api.python.BasePythonRunner$ReaderIterator.handlePythonException(PythonRunner.scala:298)\n\tat org.apache.spark.api.python.PythonRunner$$anon$1.read(PythonRunner.scala:438)\n\tat org.apache.spark.api.python.PythonRunner$$anon$1.read(PythonRunner.scala:421)\n\tat org.apache.spark.api.python.BasePythonRunner$ReaderIterator.hasNext(PythonRunner.scala:252)\n\tat org.apache.spark.InterruptibleIterator.hasNext(InterruptibleIterator.scala:37)\n\tat org.apache.spark.storage.memory.MemoryStore.putIteratorAsBytes(MemoryStore.scala:378)\n\tat org.apache.spark.storage.BlockManager$$anonfun$doPutIterator$1.apply(BlockManager.scala:1109)\n\tat org.apache.spark.storage.BlockManager$$anonfun$doPutIterator$1.apply(BlockManager.scala:1083)\n\tat org.apache.spark.storage.BlockManager.doPut(BlockManager.scala:1018)\n\tat org.apache.spark.storage.BlockManager.doPutIterator(BlockManager.scala:1083)\n\tat org.apache.spark.storage.BlockManager.getOrElseUpdate(BlockManager.scala:809)\n\tat org.apache.spark.rdd.RDD.getOrCompute(RDD.scala:335)\n\tat org.apache.spark.rdd.RDD.iterator(RDD.scala:286)\n\tat org.apache.spark.api.python.PythonRDD.compute(PythonRDD.scala:64)\n\tat org.apache.spark.rdd.RDD.computeOrReadCheckpoint(RDD.scala:324)\n\tat org.apache.spark.rdd.RDD.iterator(RDD.scala:288)\n\tat org.apache.spark.scheduler.ResultTask.runTask(ResultTask.scala:87)\n\tat org.apache.spark.scheduler.Task.run(Task.scala:109)\n\tat org.apache.spark.executor.Executor$TaskRunner.run(Executor.scala:345)\n\tat java.util.concurrent.ThreadPoolExecutor.runWorker(ThreadPoolExecutor.java:1142)\n\tat java.util.concurrent.ThreadPoolExecutor$Worker.run(ThreadPoolExecutor.java:617)\n\t... 1 more\n"
     ]
    }
   ],
   "source": [
    "word_count.foreach(print)"
   ]
  },
  {
   "cell_type": "code",
   "execution_count": 172,
   "metadata": {},
   "outputs": [
    {
     "ename": "Py4JJavaError",
     "evalue": "An error occurred while calling o6921.trainLDAModel.\n: org.apache.spark.SparkException: Job aborted due to stage failure: Task 0 in stage 124.0 failed 1 times, most recent failure: Lost task 0.0 in stage 124.0 (TID 8627, localhost, executor driver): org.apache.spark.api.python.PythonException: Traceback (most recent call last):\n  File \"/Users/jeanmarcbejjani/anaconda3/envs/ada/lib/python3.6/site-packages/pyspark/python/lib/pyspark.zip/pyspark/worker.py\", line 230, in main\n    process()\n  File \"/Users/jeanmarcbejjani/anaconda3/envs/ada/lib/python3.6/site-packages/pyspark/python/lib/pyspark.zip/pyspark/worker.py\", line 225, in process\n    serializer.dump_stream(func(split_index, iterator), outfile)\n  File \"/Users/jeanmarcbejjani/anaconda3/envs/ada/lib/python3.6/site-packages/pyspark/python/lib/pyspark.zip/pyspark/serializers.py\", line 372, in dump_stream\n    vs = list(itertools.islice(iterator, batch))\n  File \"/Users/jeanmarcbejjani/anaconda3/envs/ada/lib/python3.6/site-packages/pyspark/python/lib/pyspark.zip/pyspark/util.py\", line 55, in wrapper\n    return f(*args, **kwargs)\n  File \"<ipython-input-169-1abccd003ad3>\", line 1, in <lambda>\nNameError: name 'Vectors' is not defined\n\n\tat org.apache.spark.api.python.BasePythonRunner$ReaderIterator.handlePythonException(PythonRunner.scala:298)\n\tat org.apache.spark.api.python.PythonRunner$$anon$1.read(PythonRunner.scala:438)\n\tat org.apache.spark.api.python.PythonRunner$$anon$1.read(PythonRunner.scala:421)\n\tat org.apache.spark.api.python.BasePythonRunner$ReaderIterator.hasNext(PythonRunner.scala:252)\n\tat org.apache.spark.InterruptibleIterator.hasNext(InterruptibleIterator.scala:37)\n\tat org.apache.spark.storage.memory.MemoryStore.putIteratorAsBytes(MemoryStore.scala:378)\n\tat org.apache.spark.storage.BlockManager$$anonfun$doPutIterator$1.apply(BlockManager.scala:1109)\n\tat org.apache.spark.storage.BlockManager$$anonfun$doPutIterator$1.apply(BlockManager.scala:1083)\n\tat org.apache.spark.storage.BlockManager.doPut(BlockManager.scala:1018)\n\tat org.apache.spark.storage.BlockManager.doPutIterator(BlockManager.scala:1083)\n\tat org.apache.spark.storage.BlockManager.getOrElseUpdate(BlockManager.scala:809)\n\tat org.apache.spark.rdd.RDD.getOrCompute(RDD.scala:335)\n\tat org.apache.spark.rdd.RDD.iterator(RDD.scala:286)\n\tat org.apache.spark.rdd.MapPartitionsRDD.compute(MapPartitionsRDD.scala:38)\n\tat org.apache.spark.rdd.RDD.computeOrReadCheckpoint(RDD.scala:324)\n\tat org.apache.spark.rdd.RDD.iterator(RDD.scala:288)\n\tat org.apache.spark.rdd.MapPartitionsRDD.compute(MapPartitionsRDD.scala:38)\n\tat org.apache.spark.rdd.RDD.computeOrReadCheckpoint(RDD.scala:324)\n\tat org.apache.spark.rdd.RDD.iterator(RDD.scala:288)\n\tat org.apache.spark.rdd.MapPartitionsRDD.compute(MapPartitionsRDD.scala:38)\n\tat org.apache.spark.rdd.RDD.computeOrReadCheckpoint(RDD.scala:324)\n\tat org.apache.spark.rdd.RDD.iterator(RDD.scala:288)\n\tat org.apache.spark.scheduler.ResultTask.runTask(ResultTask.scala:87)\n\tat org.apache.spark.scheduler.Task.run(Task.scala:109)\n\tat org.apache.spark.executor.Executor$TaskRunner.run(Executor.scala:345)\n\tat java.util.concurrent.ThreadPoolExecutor.runWorker(ThreadPoolExecutor.java:1142)\n\tat java.util.concurrent.ThreadPoolExecutor$Worker.run(ThreadPoolExecutor.java:617)\n\tat java.lang.Thread.run(Thread.java:745)\n\nDriver stacktrace:\n\tat org.apache.spark.scheduler.DAGScheduler.org$apache$spark$scheduler$DAGScheduler$$failJobAndIndependentStages(DAGScheduler.scala:1602)\n\tat org.apache.spark.scheduler.DAGScheduler$$anonfun$abortStage$1.apply(DAGScheduler.scala:1590)\n\tat org.apache.spark.scheduler.DAGScheduler$$anonfun$abortStage$1.apply(DAGScheduler.scala:1589)\n\tat scala.collection.mutable.ResizableArray$class.foreach(ResizableArray.scala:59)\n\tat scala.collection.mutable.ArrayBuffer.foreach(ArrayBuffer.scala:48)\n\tat org.apache.spark.scheduler.DAGScheduler.abortStage(DAGScheduler.scala:1589)\n\tat org.apache.spark.scheduler.DAGScheduler$$anonfun$handleTaskSetFailed$1.apply(DAGScheduler.scala:831)\n\tat org.apache.spark.scheduler.DAGScheduler$$anonfun$handleTaskSetFailed$1.apply(DAGScheduler.scala:831)\n\tat scala.Option.foreach(Option.scala:257)\n\tat org.apache.spark.scheduler.DAGScheduler.handleTaskSetFailed(DAGScheduler.scala:831)\n\tat org.apache.spark.scheduler.DAGSchedulerEventProcessLoop.doOnReceive(DAGScheduler.scala:1823)\n\tat org.apache.spark.scheduler.DAGSchedulerEventProcessLoop.onReceive(DAGScheduler.scala:1772)\n\tat org.apache.spark.scheduler.DAGSchedulerEventProcessLoop.onReceive(DAGScheduler.scala:1761)\n\tat org.apache.spark.util.EventLoop$$anon$1.run(EventLoop.scala:48)\n\tat org.apache.spark.scheduler.DAGScheduler.runJob(DAGScheduler.scala:642)\n\tat org.apache.spark.SparkContext.runJob(SparkContext.scala:2034)\n\tat org.apache.spark.SparkContext.runJob(SparkContext.scala:2055)\n\tat org.apache.spark.SparkContext.runJob(SparkContext.scala:2074)\n\tat org.apache.spark.rdd.RDD$$anonfun$take$1.apply(RDD.scala:1358)\n\tat org.apache.spark.rdd.RDDOperationScope$.withScope(RDDOperationScope.scala:151)\n\tat org.apache.spark.rdd.RDDOperationScope$.withScope(RDDOperationScope.scala:112)\n\tat org.apache.spark.rdd.RDD.withScope(RDD.scala:363)\n\tat org.apache.spark.rdd.RDD.take(RDD.scala:1331)\n\tat org.apache.spark.mllib.clustering.EMLDAOptimizer.initialize(LDAOptimizer.scala:167)\n\tat org.apache.spark.mllib.clustering.EMLDAOptimizer.initialize(LDAOptimizer.scala:81)\n\tat org.apache.spark.mllib.clustering.LDA.run(LDA.scala:331)\n\tat org.apache.spark.mllib.api.python.PythonMLLibAPI.trainLDAModel(PythonMLLibAPI.scala:552)\n\tat sun.reflect.NativeMethodAccessorImpl.invoke0(Native Method)\n\tat sun.reflect.NativeMethodAccessorImpl.invoke(NativeMethodAccessorImpl.java:62)\n\tat sun.reflect.DelegatingMethodAccessorImpl.invoke(DelegatingMethodAccessorImpl.java:43)\n\tat java.lang.reflect.Method.invoke(Method.java:483)\n\tat py4j.reflection.MethodInvoker.invoke(MethodInvoker.java:244)\n\tat py4j.reflection.ReflectionEngine.invoke(ReflectionEngine.java:357)\n\tat py4j.Gateway.invoke(Gateway.java:282)\n\tat py4j.commands.AbstractCommand.invokeMethod(AbstractCommand.java:132)\n\tat py4j.commands.CallCommand.execute(CallCommand.java:79)\n\tat py4j.GatewayConnection.run(GatewayConnection.java:238)\n\tat java.lang.Thread.run(Thread.java:745)\nCaused by: org.apache.spark.api.python.PythonException: Traceback (most recent call last):\n  File \"/Users/jeanmarcbejjani/anaconda3/envs/ada/lib/python3.6/site-packages/pyspark/python/lib/pyspark.zip/pyspark/worker.py\", line 230, in main\n    process()\n  File \"/Users/jeanmarcbejjani/anaconda3/envs/ada/lib/python3.6/site-packages/pyspark/python/lib/pyspark.zip/pyspark/worker.py\", line 225, in process\n    serializer.dump_stream(func(split_index, iterator), outfile)\n  File \"/Users/jeanmarcbejjani/anaconda3/envs/ada/lib/python3.6/site-packages/pyspark/python/lib/pyspark.zip/pyspark/serializers.py\", line 372, in dump_stream\n    vs = list(itertools.islice(iterator, batch))\n  File \"/Users/jeanmarcbejjani/anaconda3/envs/ada/lib/python3.6/site-packages/pyspark/python/lib/pyspark.zip/pyspark/util.py\", line 55, in wrapper\n    return f(*args, **kwargs)\n  File \"<ipython-input-169-1abccd003ad3>\", line 1, in <lambda>\nNameError: name 'Vectors' is not defined\n\n\tat org.apache.spark.api.python.BasePythonRunner$ReaderIterator.handlePythonException(PythonRunner.scala:298)\n\tat org.apache.spark.api.python.PythonRunner$$anon$1.read(PythonRunner.scala:438)\n\tat org.apache.spark.api.python.PythonRunner$$anon$1.read(PythonRunner.scala:421)\n\tat org.apache.spark.api.python.BasePythonRunner$ReaderIterator.hasNext(PythonRunner.scala:252)\n\tat org.apache.spark.InterruptibleIterator.hasNext(InterruptibleIterator.scala:37)\n\tat org.apache.spark.storage.memory.MemoryStore.putIteratorAsBytes(MemoryStore.scala:378)\n\tat org.apache.spark.storage.BlockManager$$anonfun$doPutIterator$1.apply(BlockManager.scala:1109)\n\tat org.apache.spark.storage.BlockManager$$anonfun$doPutIterator$1.apply(BlockManager.scala:1083)\n\tat org.apache.spark.storage.BlockManager.doPut(BlockManager.scala:1018)\n\tat org.apache.spark.storage.BlockManager.doPutIterator(BlockManager.scala:1083)\n\tat org.apache.spark.storage.BlockManager.getOrElseUpdate(BlockManager.scala:809)\n\tat org.apache.spark.rdd.RDD.getOrCompute(RDD.scala:335)\n\tat org.apache.spark.rdd.RDD.iterator(RDD.scala:286)\n\tat org.apache.spark.rdd.MapPartitionsRDD.compute(MapPartitionsRDD.scala:38)\n\tat org.apache.spark.rdd.RDD.computeOrReadCheckpoint(RDD.scala:324)\n\tat org.apache.spark.rdd.RDD.iterator(RDD.scala:288)\n\tat org.apache.spark.rdd.MapPartitionsRDD.compute(MapPartitionsRDD.scala:38)\n\tat org.apache.spark.rdd.RDD.computeOrReadCheckpoint(RDD.scala:324)\n\tat org.apache.spark.rdd.RDD.iterator(RDD.scala:288)\n\tat org.apache.spark.rdd.MapPartitionsRDD.compute(MapPartitionsRDD.scala:38)\n\tat org.apache.spark.rdd.RDD.computeOrReadCheckpoint(RDD.scala:324)\n\tat org.apache.spark.rdd.RDD.iterator(RDD.scala:288)\n\tat org.apache.spark.scheduler.ResultTask.runTask(ResultTask.scala:87)\n\tat org.apache.spark.scheduler.Task.run(Task.scala:109)\n\tat org.apache.spark.executor.Executor$TaskRunner.run(Executor.scala:345)\n\tat java.util.concurrent.ThreadPoolExecutor.runWorker(ThreadPoolExecutor.java:1142)\n\tat java.util.concurrent.ThreadPoolExecutor$Worker.run(ThreadPoolExecutor.java:617)\n\t... 1 more\n",
     "output_type": "error",
     "traceback": [
      "\u001b[0;31m---------------------------------------------------------------------------\u001b[0m",
      "\u001b[0;31mPy4JJavaError\u001b[0m                             Traceback (most recent call last)",
      "\u001b[0;32m<ipython-input-172-45cb9680f9b0>\u001b[0m in \u001b[0;36m<module>\u001b[0;34m\u001b[0m\n\u001b[0;32m----> 1\u001b[0;31m \u001b[0mldaModel\u001b[0m \u001b[0;34m=\u001b[0m \u001b[0mLDA\u001b[0m\u001b[0;34m.\u001b[0m\u001b[0mtrain\u001b[0m\u001b[0;34m(\u001b[0m\u001b[0mword_count\u001b[0m\u001b[0;34m,\u001b[0m \u001b[0mk\u001b[0m\u001b[0;34m=\u001b[0m\u001b[0;36m10\u001b[0m\u001b[0;34m)\u001b[0m\u001b[0;34m\u001b[0m\u001b[0m\n\u001b[0m",
      "\u001b[0;32m~/anaconda3/envs/ada/lib/python3.6/site-packages/pyspark/mllib/clustering.py\u001b[0m in \u001b[0;36mtrain\u001b[0;34m(cls, rdd, k, maxIterations, docConcentration, topicConcentration, seed, checkpointInterval, optimizer)\u001b[0m\n\u001b[1;32m   1037\u001b[0m         model = callMLlibFunc(\"trainLDAModel\", rdd, k, maxIterations,\n\u001b[1;32m   1038\u001b[0m                               \u001b[0mdocConcentration\u001b[0m\u001b[0;34m,\u001b[0m \u001b[0mtopicConcentration\u001b[0m\u001b[0;34m,\u001b[0m \u001b[0mseed\u001b[0m\u001b[0;34m,\u001b[0m\u001b[0;34m\u001b[0m\u001b[0m\n\u001b[0;32m-> 1039\u001b[0;31m                               checkpointInterval, optimizer)\n\u001b[0m\u001b[1;32m   1040\u001b[0m         \u001b[0;32mreturn\u001b[0m \u001b[0mLDAModel\u001b[0m\u001b[0;34m(\u001b[0m\u001b[0mmodel\u001b[0m\u001b[0;34m)\u001b[0m\u001b[0;34m\u001b[0m\u001b[0m\n\u001b[1;32m   1041\u001b[0m \u001b[0;34m\u001b[0m\u001b[0m\n",
      "\u001b[0;32m~/anaconda3/envs/ada/lib/python3.6/site-packages/pyspark/mllib/common.py\u001b[0m in \u001b[0;36mcallMLlibFunc\u001b[0;34m(name, *args)\u001b[0m\n\u001b[1;32m    128\u001b[0m     \u001b[0msc\u001b[0m \u001b[0;34m=\u001b[0m \u001b[0mSparkContext\u001b[0m\u001b[0;34m.\u001b[0m\u001b[0mgetOrCreate\u001b[0m\u001b[0;34m(\u001b[0m\u001b[0;34m)\u001b[0m\u001b[0;34m\u001b[0m\u001b[0m\n\u001b[1;32m    129\u001b[0m     \u001b[0mapi\u001b[0m \u001b[0;34m=\u001b[0m \u001b[0mgetattr\u001b[0m\u001b[0;34m(\u001b[0m\u001b[0msc\u001b[0m\u001b[0;34m.\u001b[0m\u001b[0m_jvm\u001b[0m\u001b[0;34m.\u001b[0m\u001b[0mPythonMLLibAPI\u001b[0m\u001b[0;34m(\u001b[0m\u001b[0;34m)\u001b[0m\u001b[0;34m,\u001b[0m \u001b[0mname\u001b[0m\u001b[0;34m)\u001b[0m\u001b[0;34m\u001b[0m\u001b[0m\n\u001b[0;32m--> 130\u001b[0;31m     \u001b[0;32mreturn\u001b[0m \u001b[0mcallJavaFunc\u001b[0m\u001b[0;34m(\u001b[0m\u001b[0msc\u001b[0m\u001b[0;34m,\u001b[0m \u001b[0mapi\u001b[0m\u001b[0;34m,\u001b[0m \u001b[0;34m*\u001b[0m\u001b[0margs\u001b[0m\u001b[0;34m)\u001b[0m\u001b[0;34m\u001b[0m\u001b[0m\n\u001b[0m\u001b[1;32m    131\u001b[0m \u001b[0;34m\u001b[0m\u001b[0m\n\u001b[1;32m    132\u001b[0m \u001b[0;34m\u001b[0m\u001b[0m\n",
      "\u001b[0;32m~/anaconda3/envs/ada/lib/python3.6/site-packages/pyspark/mllib/common.py\u001b[0m in \u001b[0;36mcallJavaFunc\u001b[0;34m(sc, func, *args)\u001b[0m\n\u001b[1;32m    121\u001b[0m     \u001b[0;34m\"\"\" Call Java Function \"\"\"\u001b[0m\u001b[0;34m\u001b[0m\u001b[0m\n\u001b[1;32m    122\u001b[0m     \u001b[0margs\u001b[0m \u001b[0;34m=\u001b[0m \u001b[0;34m[\u001b[0m\u001b[0m_py2java\u001b[0m\u001b[0;34m(\u001b[0m\u001b[0msc\u001b[0m\u001b[0;34m,\u001b[0m \u001b[0ma\u001b[0m\u001b[0;34m)\u001b[0m \u001b[0;32mfor\u001b[0m \u001b[0ma\u001b[0m \u001b[0;32min\u001b[0m \u001b[0margs\u001b[0m\u001b[0;34m]\u001b[0m\u001b[0;34m\u001b[0m\u001b[0m\n\u001b[0;32m--> 123\u001b[0;31m     \u001b[0;32mreturn\u001b[0m \u001b[0m_java2py\u001b[0m\u001b[0;34m(\u001b[0m\u001b[0msc\u001b[0m\u001b[0;34m,\u001b[0m \u001b[0mfunc\u001b[0m\u001b[0;34m(\u001b[0m\u001b[0;34m*\u001b[0m\u001b[0margs\u001b[0m\u001b[0;34m)\u001b[0m\u001b[0;34m)\u001b[0m\u001b[0;34m\u001b[0m\u001b[0m\n\u001b[0m\u001b[1;32m    124\u001b[0m \u001b[0;34m\u001b[0m\u001b[0m\n\u001b[1;32m    125\u001b[0m \u001b[0;34m\u001b[0m\u001b[0m\n",
      "\u001b[0;32m~/anaconda3/envs/ada/lib/python3.6/site-packages/py4j/java_gateway.py\u001b[0m in \u001b[0;36m__call__\u001b[0;34m(self, *args)\u001b[0m\n\u001b[1;32m   1255\u001b[0m         \u001b[0manswer\u001b[0m \u001b[0;34m=\u001b[0m \u001b[0mself\u001b[0m\u001b[0;34m.\u001b[0m\u001b[0mgateway_client\u001b[0m\u001b[0;34m.\u001b[0m\u001b[0msend_command\u001b[0m\u001b[0;34m(\u001b[0m\u001b[0mcommand\u001b[0m\u001b[0;34m)\u001b[0m\u001b[0;34m\u001b[0m\u001b[0m\n\u001b[1;32m   1256\u001b[0m         return_value = get_return_value(\n\u001b[0;32m-> 1257\u001b[0;31m             answer, self.gateway_client, self.target_id, self.name)\n\u001b[0m\u001b[1;32m   1258\u001b[0m \u001b[0;34m\u001b[0m\u001b[0m\n\u001b[1;32m   1259\u001b[0m         \u001b[0;32mfor\u001b[0m \u001b[0mtemp_arg\u001b[0m \u001b[0;32min\u001b[0m \u001b[0mtemp_args\u001b[0m\u001b[0;34m:\u001b[0m\u001b[0;34m\u001b[0m\u001b[0m\n",
      "\u001b[0;32m~/anaconda3/envs/ada/lib/python3.6/site-packages/pyspark/sql/utils.py\u001b[0m in \u001b[0;36mdeco\u001b[0;34m(*a, **kw)\u001b[0m\n\u001b[1;32m     61\u001b[0m     \u001b[0;32mdef\u001b[0m \u001b[0mdeco\u001b[0m\u001b[0;34m(\u001b[0m\u001b[0;34m*\u001b[0m\u001b[0ma\u001b[0m\u001b[0;34m,\u001b[0m \u001b[0;34m**\u001b[0m\u001b[0mkw\u001b[0m\u001b[0;34m)\u001b[0m\u001b[0;34m:\u001b[0m\u001b[0;34m\u001b[0m\u001b[0m\n\u001b[1;32m     62\u001b[0m         \u001b[0;32mtry\u001b[0m\u001b[0;34m:\u001b[0m\u001b[0;34m\u001b[0m\u001b[0m\n\u001b[0;32m---> 63\u001b[0;31m             \u001b[0;32mreturn\u001b[0m \u001b[0mf\u001b[0m\u001b[0;34m(\u001b[0m\u001b[0;34m*\u001b[0m\u001b[0ma\u001b[0m\u001b[0;34m,\u001b[0m \u001b[0;34m**\u001b[0m\u001b[0mkw\u001b[0m\u001b[0;34m)\u001b[0m\u001b[0;34m\u001b[0m\u001b[0m\n\u001b[0m\u001b[1;32m     64\u001b[0m         \u001b[0;32mexcept\u001b[0m \u001b[0mpy4j\u001b[0m\u001b[0;34m.\u001b[0m\u001b[0mprotocol\u001b[0m\u001b[0;34m.\u001b[0m\u001b[0mPy4JJavaError\u001b[0m \u001b[0;32mas\u001b[0m \u001b[0me\u001b[0m\u001b[0;34m:\u001b[0m\u001b[0;34m\u001b[0m\u001b[0m\n\u001b[1;32m     65\u001b[0m             \u001b[0ms\u001b[0m \u001b[0;34m=\u001b[0m \u001b[0me\u001b[0m\u001b[0;34m.\u001b[0m\u001b[0mjava_exception\u001b[0m\u001b[0;34m.\u001b[0m\u001b[0mtoString\u001b[0m\u001b[0;34m(\u001b[0m\u001b[0;34m)\u001b[0m\u001b[0;34m\u001b[0m\u001b[0m\n",
      "\u001b[0;32m~/anaconda3/envs/ada/lib/python3.6/site-packages/py4j/protocol.py\u001b[0m in \u001b[0;36mget_return_value\u001b[0;34m(answer, gateway_client, target_id, name)\u001b[0m\n\u001b[1;32m    326\u001b[0m                 raise Py4JJavaError(\n\u001b[1;32m    327\u001b[0m                     \u001b[0;34m\"An error occurred while calling {0}{1}{2}.\\n\"\u001b[0m\u001b[0;34m.\u001b[0m\u001b[0;34m\u001b[0m\u001b[0m\n\u001b[0;32m--> 328\u001b[0;31m                     format(target_id, \".\", name), value)\n\u001b[0m\u001b[1;32m    329\u001b[0m             \u001b[0;32melse\u001b[0m\u001b[0;34m:\u001b[0m\u001b[0;34m\u001b[0m\u001b[0m\n\u001b[1;32m    330\u001b[0m                 raise Py4JError(\n",
      "\u001b[0;31mPy4JJavaError\u001b[0m: An error occurred while calling o6921.trainLDAModel.\n: org.apache.spark.SparkException: Job aborted due to stage failure: Task 0 in stage 124.0 failed 1 times, most recent failure: Lost task 0.0 in stage 124.0 (TID 8627, localhost, executor driver): org.apache.spark.api.python.PythonException: Traceback (most recent call last):\n  File \"/Users/jeanmarcbejjani/anaconda3/envs/ada/lib/python3.6/site-packages/pyspark/python/lib/pyspark.zip/pyspark/worker.py\", line 230, in main\n    process()\n  File \"/Users/jeanmarcbejjani/anaconda3/envs/ada/lib/python3.6/site-packages/pyspark/python/lib/pyspark.zip/pyspark/worker.py\", line 225, in process\n    serializer.dump_stream(func(split_index, iterator), outfile)\n  File \"/Users/jeanmarcbejjani/anaconda3/envs/ada/lib/python3.6/site-packages/pyspark/python/lib/pyspark.zip/pyspark/serializers.py\", line 372, in dump_stream\n    vs = list(itertools.islice(iterator, batch))\n  File \"/Users/jeanmarcbejjani/anaconda3/envs/ada/lib/python3.6/site-packages/pyspark/python/lib/pyspark.zip/pyspark/util.py\", line 55, in wrapper\n    return f(*args, **kwargs)\n  File \"<ipython-input-169-1abccd003ad3>\", line 1, in <lambda>\nNameError: name 'Vectors' is not defined\n\n\tat org.apache.spark.api.python.BasePythonRunner$ReaderIterator.handlePythonException(PythonRunner.scala:298)\n\tat org.apache.spark.api.python.PythonRunner$$anon$1.read(PythonRunner.scala:438)\n\tat org.apache.spark.api.python.PythonRunner$$anon$1.read(PythonRunner.scala:421)\n\tat org.apache.spark.api.python.BasePythonRunner$ReaderIterator.hasNext(PythonRunner.scala:252)\n\tat org.apache.spark.InterruptibleIterator.hasNext(InterruptibleIterator.scala:37)\n\tat org.apache.spark.storage.memory.MemoryStore.putIteratorAsBytes(MemoryStore.scala:378)\n\tat org.apache.spark.storage.BlockManager$$anonfun$doPutIterator$1.apply(BlockManager.scala:1109)\n\tat org.apache.spark.storage.BlockManager$$anonfun$doPutIterator$1.apply(BlockManager.scala:1083)\n\tat org.apache.spark.storage.BlockManager.doPut(BlockManager.scala:1018)\n\tat org.apache.spark.storage.BlockManager.doPutIterator(BlockManager.scala:1083)\n\tat org.apache.spark.storage.BlockManager.getOrElseUpdate(BlockManager.scala:809)\n\tat org.apache.spark.rdd.RDD.getOrCompute(RDD.scala:335)\n\tat org.apache.spark.rdd.RDD.iterator(RDD.scala:286)\n\tat org.apache.spark.rdd.MapPartitionsRDD.compute(MapPartitionsRDD.scala:38)\n\tat org.apache.spark.rdd.RDD.computeOrReadCheckpoint(RDD.scala:324)\n\tat org.apache.spark.rdd.RDD.iterator(RDD.scala:288)\n\tat org.apache.spark.rdd.MapPartitionsRDD.compute(MapPartitionsRDD.scala:38)\n\tat org.apache.spark.rdd.RDD.computeOrReadCheckpoint(RDD.scala:324)\n\tat org.apache.spark.rdd.RDD.iterator(RDD.scala:288)\n\tat org.apache.spark.rdd.MapPartitionsRDD.compute(MapPartitionsRDD.scala:38)\n\tat org.apache.spark.rdd.RDD.computeOrReadCheckpoint(RDD.scala:324)\n\tat org.apache.spark.rdd.RDD.iterator(RDD.scala:288)\n\tat org.apache.spark.scheduler.ResultTask.runTask(ResultTask.scala:87)\n\tat org.apache.spark.scheduler.Task.run(Task.scala:109)\n\tat org.apache.spark.executor.Executor$TaskRunner.run(Executor.scala:345)\n\tat java.util.concurrent.ThreadPoolExecutor.runWorker(ThreadPoolExecutor.java:1142)\n\tat java.util.concurrent.ThreadPoolExecutor$Worker.run(ThreadPoolExecutor.java:617)\n\tat java.lang.Thread.run(Thread.java:745)\n\nDriver stacktrace:\n\tat org.apache.spark.scheduler.DAGScheduler.org$apache$spark$scheduler$DAGScheduler$$failJobAndIndependentStages(DAGScheduler.scala:1602)\n\tat org.apache.spark.scheduler.DAGScheduler$$anonfun$abortStage$1.apply(DAGScheduler.scala:1590)\n\tat org.apache.spark.scheduler.DAGScheduler$$anonfun$abortStage$1.apply(DAGScheduler.scala:1589)\n\tat scala.collection.mutable.ResizableArray$class.foreach(ResizableArray.scala:59)\n\tat scala.collection.mutable.ArrayBuffer.foreach(ArrayBuffer.scala:48)\n\tat org.apache.spark.scheduler.DAGScheduler.abortStage(DAGScheduler.scala:1589)\n\tat org.apache.spark.scheduler.DAGScheduler$$anonfun$handleTaskSetFailed$1.apply(DAGScheduler.scala:831)\n\tat org.apache.spark.scheduler.DAGScheduler$$anonfun$handleTaskSetFailed$1.apply(DAGScheduler.scala:831)\n\tat scala.Option.foreach(Option.scala:257)\n\tat org.apache.spark.scheduler.DAGScheduler.handleTaskSetFailed(DAGScheduler.scala:831)\n\tat org.apache.spark.scheduler.DAGSchedulerEventProcessLoop.doOnReceive(DAGScheduler.scala:1823)\n\tat org.apache.spark.scheduler.DAGSchedulerEventProcessLoop.onReceive(DAGScheduler.scala:1772)\n\tat org.apache.spark.scheduler.DAGSchedulerEventProcessLoop.onReceive(DAGScheduler.scala:1761)\n\tat org.apache.spark.util.EventLoop$$anon$1.run(EventLoop.scala:48)\n\tat org.apache.spark.scheduler.DAGScheduler.runJob(DAGScheduler.scala:642)\n\tat org.apache.spark.SparkContext.runJob(SparkContext.scala:2034)\n\tat org.apache.spark.SparkContext.runJob(SparkContext.scala:2055)\n\tat org.apache.spark.SparkContext.runJob(SparkContext.scala:2074)\n\tat org.apache.spark.rdd.RDD$$anonfun$take$1.apply(RDD.scala:1358)\n\tat org.apache.spark.rdd.RDDOperationScope$.withScope(RDDOperationScope.scala:151)\n\tat org.apache.spark.rdd.RDDOperationScope$.withScope(RDDOperationScope.scala:112)\n\tat org.apache.spark.rdd.RDD.withScope(RDD.scala:363)\n\tat org.apache.spark.rdd.RDD.take(RDD.scala:1331)\n\tat org.apache.spark.mllib.clustering.EMLDAOptimizer.initialize(LDAOptimizer.scala:167)\n\tat org.apache.spark.mllib.clustering.EMLDAOptimizer.initialize(LDAOptimizer.scala:81)\n\tat org.apache.spark.mllib.clustering.LDA.run(LDA.scala:331)\n\tat org.apache.spark.mllib.api.python.PythonMLLibAPI.trainLDAModel(PythonMLLibAPI.scala:552)\n\tat sun.reflect.NativeMethodAccessorImpl.invoke0(Native Method)\n\tat sun.reflect.NativeMethodAccessorImpl.invoke(NativeMethodAccessorImpl.java:62)\n\tat sun.reflect.DelegatingMethodAccessorImpl.invoke(DelegatingMethodAccessorImpl.java:43)\n\tat java.lang.reflect.Method.invoke(Method.java:483)\n\tat py4j.reflection.MethodInvoker.invoke(MethodInvoker.java:244)\n\tat py4j.reflection.ReflectionEngine.invoke(ReflectionEngine.java:357)\n\tat py4j.Gateway.invoke(Gateway.java:282)\n\tat py4j.commands.AbstractCommand.invokeMethod(AbstractCommand.java:132)\n\tat py4j.commands.CallCommand.execute(CallCommand.java:79)\n\tat py4j.GatewayConnection.run(GatewayConnection.java:238)\n\tat java.lang.Thread.run(Thread.java:745)\nCaused by: org.apache.spark.api.python.PythonException: Traceback (most recent call last):\n  File \"/Users/jeanmarcbejjani/anaconda3/envs/ada/lib/python3.6/site-packages/pyspark/python/lib/pyspark.zip/pyspark/worker.py\", line 230, in main\n    process()\n  File \"/Users/jeanmarcbejjani/anaconda3/envs/ada/lib/python3.6/site-packages/pyspark/python/lib/pyspark.zip/pyspark/worker.py\", line 225, in process\n    serializer.dump_stream(func(split_index, iterator), outfile)\n  File \"/Users/jeanmarcbejjani/anaconda3/envs/ada/lib/python3.6/site-packages/pyspark/python/lib/pyspark.zip/pyspark/serializers.py\", line 372, in dump_stream\n    vs = list(itertools.islice(iterator, batch))\n  File \"/Users/jeanmarcbejjani/anaconda3/envs/ada/lib/python3.6/site-packages/pyspark/python/lib/pyspark.zip/pyspark/util.py\", line 55, in wrapper\n    return f(*args, **kwargs)\n  File \"<ipython-input-169-1abccd003ad3>\", line 1, in <lambda>\nNameError: name 'Vectors' is not defined\n\n\tat org.apache.spark.api.python.BasePythonRunner$ReaderIterator.handlePythonException(PythonRunner.scala:298)\n\tat org.apache.spark.api.python.PythonRunner$$anon$1.read(PythonRunner.scala:438)\n\tat org.apache.spark.api.python.PythonRunner$$anon$1.read(PythonRunner.scala:421)\n\tat org.apache.spark.api.python.BasePythonRunner$ReaderIterator.hasNext(PythonRunner.scala:252)\n\tat org.apache.spark.InterruptibleIterator.hasNext(InterruptibleIterator.scala:37)\n\tat org.apache.spark.storage.memory.MemoryStore.putIteratorAsBytes(MemoryStore.scala:378)\n\tat org.apache.spark.storage.BlockManager$$anonfun$doPutIterator$1.apply(BlockManager.scala:1109)\n\tat org.apache.spark.storage.BlockManager$$anonfun$doPutIterator$1.apply(BlockManager.scala:1083)\n\tat org.apache.spark.storage.BlockManager.doPut(BlockManager.scala:1018)\n\tat org.apache.spark.storage.BlockManager.doPutIterator(BlockManager.scala:1083)\n\tat org.apache.spark.storage.BlockManager.getOrElseUpdate(BlockManager.scala:809)\n\tat org.apache.spark.rdd.RDD.getOrCompute(RDD.scala:335)\n\tat org.apache.spark.rdd.RDD.iterator(RDD.scala:286)\n\tat org.apache.spark.rdd.MapPartitionsRDD.compute(MapPartitionsRDD.scala:38)\n\tat org.apache.spark.rdd.RDD.computeOrReadCheckpoint(RDD.scala:324)\n\tat org.apache.spark.rdd.RDD.iterator(RDD.scala:288)\n\tat org.apache.spark.rdd.MapPartitionsRDD.compute(MapPartitionsRDD.scala:38)\n\tat org.apache.spark.rdd.RDD.computeOrReadCheckpoint(RDD.scala:324)\n\tat org.apache.spark.rdd.RDD.iterator(RDD.scala:288)\n\tat org.apache.spark.rdd.MapPartitionsRDD.compute(MapPartitionsRDD.scala:38)\n\tat org.apache.spark.rdd.RDD.computeOrReadCheckpoint(RDD.scala:324)\n\tat org.apache.spark.rdd.RDD.iterator(RDD.scala:288)\n\tat org.apache.spark.scheduler.ResultTask.runTask(ResultTask.scala:87)\n\tat org.apache.spark.scheduler.Task.run(Task.scala:109)\n\tat org.apache.spark.executor.Executor$TaskRunner.run(Executor.scala:345)\n\tat java.util.concurrent.ThreadPoolExecutor.runWorker(ThreadPoolExecutor.java:1142)\n\tat java.util.concurrent.ThreadPoolExecutor$Worker.run(ThreadPoolExecutor.java:617)\n\t... 1 more\n"
     ]
    }
   ],
   "source": [
    "ldaModel = LDA.train(word_count, k=10)"
   ]
  },
  {
   "cell_type": "code",
   "execution_count": 94,
   "metadata": {},
   "outputs": [
    {
     "name": "stdout",
     "output_type": "stream",
     "text": [
      "+--------------------+\n",
      "|             vectors|\n",
      "+--------------------+\n",
      "|(40843,[0,1,2,8,1...|\n",
      "|(40843,[0,2,3,4,5...|\n",
      "|(40843,[0,1,2,3,4...|\n",
      "|(40843,[0,1,2,3,4...|\n",
      "|(40843,[0,2,3,4,5...|\n",
      "+--------------------+\n",
      "only showing top 5 rows\n",
      "\n"
     ]
    }
   ],
   "source": [
    "df.show(5)"
   ]
  },
  {
   "cell_type": "code",
   "execution_count": 37,
   "metadata": {},
   "outputs": [],
   "source": [
    "test=csr_matrix([[1, 2, 0], [0, 0, 3], [4, 0, 5]])\n"
   ]
  },
  {
   "cell_type": "code",
   "execution_count": 38,
   "metadata": {},
   "outputs": [
    {
     "ename": "AttributeError",
     "evalue": "'DataFrame' object has no attribute 'zipWithIndex'",
     "output_type": "error",
     "traceback": [
      "\u001b[0;31m---------------------------------------------------------------------------\u001b[0m",
      "\u001b[0;31mAttributeError\u001b[0m                            Traceback (most recent call last)",
      "\u001b[0;32m<ipython-input-38-387f2428a619>\u001b[0m in \u001b[0;36m<module>\u001b[0;34m\u001b[0m\n\u001b[0;32m----> 1\u001b[0;31m \u001b[0mcorpus\u001b[0m \u001b[0;34m=\u001b[0m \u001b[0mtest\u001b[0m\u001b[0;34m.\u001b[0m\u001b[0mzipWithIndex\u001b[0m\u001b[0;34m(\u001b[0m\u001b[0;34m)\u001b[0m\u001b[0;34m.\u001b[0m\u001b[0mmap\u001b[0m\u001b[0;34m(\u001b[0m\u001b[0;32mlambda\u001b[0m \u001b[0mx\u001b[0m\u001b[0;34m:\u001b[0m \u001b[0;34m[\u001b[0m\u001b[0mx\u001b[0m\u001b[0;34m[\u001b[0m\u001b[0;36m1\u001b[0m\u001b[0;34m]\u001b[0m\u001b[0;34m,\u001b[0m \u001b[0mVectors\u001b[0m\u001b[0;34m.\u001b[0m\u001b[0mdense\u001b[0m\u001b[0;34m(\u001b[0m\u001b[0mx\u001b[0m\u001b[0;34m[\u001b[0m\u001b[0;36m0\u001b[0m\u001b[0;34m]\u001b[0m\u001b[0;34m)\u001b[0m\u001b[0;34m]\u001b[0m\u001b[0;34m)\u001b[0m\u001b[0;34m.\u001b[0m\u001b[0mcache\u001b[0m\u001b[0;34m(\u001b[0m\u001b[0;34m)\u001b[0m\u001b[0;34m\u001b[0m\u001b[0m\n\u001b[0m",
      "\u001b[0;32m~/anaconda3/envs/ada/lib/python3.6/site-packages/pyspark/sql/dataframe.py\u001b[0m in \u001b[0;36m__getattr__\u001b[0;34m(self, name)\u001b[0m\n\u001b[1;32m   1180\u001b[0m         \u001b[0;32mif\u001b[0m \u001b[0mname\u001b[0m \u001b[0;32mnot\u001b[0m \u001b[0;32min\u001b[0m \u001b[0mself\u001b[0m\u001b[0;34m.\u001b[0m\u001b[0mcolumns\u001b[0m\u001b[0;34m:\u001b[0m\u001b[0;34m\u001b[0m\u001b[0m\n\u001b[1;32m   1181\u001b[0m             raise AttributeError(\n\u001b[0;32m-> 1182\u001b[0;31m                 \"'%s' object has no attribute '%s'\" % (self.__class__.__name__, name))\n\u001b[0m\u001b[1;32m   1183\u001b[0m         \u001b[0mjc\u001b[0m \u001b[0;34m=\u001b[0m \u001b[0mself\u001b[0m\u001b[0;34m.\u001b[0m\u001b[0m_jdf\u001b[0m\u001b[0;34m.\u001b[0m\u001b[0mapply\u001b[0m\u001b[0;34m(\u001b[0m\u001b[0mname\u001b[0m\u001b[0;34m)\u001b[0m\u001b[0;34m\u001b[0m\u001b[0m\n\u001b[1;32m   1184\u001b[0m         \u001b[0;32mreturn\u001b[0m \u001b[0mColumn\u001b[0m\u001b[0;34m(\u001b[0m\u001b[0mjc\u001b[0m\u001b[0;34m)\u001b[0m\u001b[0;34m\u001b[0m\u001b[0m\n",
      "\u001b[0;31mAttributeError\u001b[0m: 'DataFrame' object has no attribute 'zipWithIndex'"
     ]
    }
   ],
   "source": [
    "corpus = test.zipWithIndex().map(lambda x: [x[1], Vectors.dense(x[0])]).cache()"
   ]
  },
  {
   "cell_type": "code",
   "execution_count": null,
   "metadata": {},
   "outputs": [],
   "source": [
    "def storeMatrix(wlp_bytext, wlp_nostop):\n",
    "    all_words = wlp_nostop.groupBy('lemma').count().drop('count')\n",
    "    \n",
    "    \n",
    "    word2line={}\n",
    "    line2word={}\n",
    "    shape=(len(all_words),len(all_descriptions))\n",
    "    matrix=np.zeros(shape)\n",
    "    \n",
    "    for index_doc, words_list in enumerate(all_descriptions):\n",
    "        max_freq=max(words_list.count(j) for j in set(all_words))\n",
    "        for index_word, i in enumerate(set(all_words)):\n",
    "            matrix[index_word,index_doc]=words_list.count(i)\n",
    "            tup=index_word\n",
    "            line2word[tup]=i\n",
    "            word2line[i]=tup\n",
    "            \n",
    "    return matrix, word2line, line2word"
   ]
  },
  {
   "cell_type": "markdown",
   "metadata": {},
   "source": [
    "<div class=\"alert alert-success\">\n",
    "Maybe should change from percentile to number for bottom filtering, depending on which one is the harshest (in here it is number)\n",
    "</div>"
   ]
  },
  {
   "cell_type": "code",
   "execution_count": 8,
   "metadata": {},
   "outputs": [
    {
     "name": "stdout",
     "output_type": "stream",
     "text": [
      "Percentage of lemmas left: 28.47\n"
     ]
    }
   ],
   "source": [
    "#calculate percentiles and filtering out the lemmas above and below them\n",
    "[bottom,top] = lemma_freq.approxQuantile('count', [0.1,0.99], 0.01)\n",
    "bottom = 5\n",
    "lemma_tokeep = lemma_freq.filter(lemma_freq['count']>bottom).filter(lemma_freq['count']<top)\n",
    "print('Percentage of lemmas left: %.2f'%(lemma_tokeep.count()/lemma_freq.count()*100))"
   ]
  },
  {
   "cell_type": "markdown",
   "metadata": {},
   "source": [
    "Making a inner join, we keep only the words which are in both lists! In the end, we can group the lemmas in their texts to create our text-word matrix."
   ]
  },
  {
   "cell_type": "code",
   "execution_count": 9,
   "metadata": {
    "scrolled": false
   },
   "outputs": [
    {
     "name": "stdout",
     "output_type": "stream",
     "text": [
      "+------+--------------------+\n",
      "|textID|     document lemmas|\n",
      "+------+--------------------+\n",
      "| 11241|[1970s, film, fil...|\n",
      "| 11242|[online, happen, ...|\n",
      "| 11243|[dough, dough, do...|\n",
      "| 11244|[trail, launch, o...|\n",
      "| 21242|[online, launch, ...|\n",
      "| 21243|[recognize, indic...|\n",
      "| 31240|[recognize, inten...|\n",
      "| 31241|[online, online, ...|\n",
      "| 31242|[settlement, sett...|\n",
      "| 41240|[explain, hometow...|\n",
      "| 41241|[scale, lack, pre...|\n",
      "| 41244|[everyday, trail,...|\n",
      "| 51243|[australia, austr...|\n",
      "| 61240|[frustrate, inten...|\n",
      "| 61242|[editor-in-chief,...|\n",
      "| 71240|[indicator, requi...|\n",
      "| 71241|[likelihood, requ...|\n",
      "| 71242|[1970s, character...|\n",
      "| 71243|[online, staff, s...|\n",
      "| 71244|[bone, archaeolog...|\n",
      "+------+--------------------+\n",
      "only showing top 20 rows\n",
      "\n"
     ]
    }
   ],
   "source": [
    "#perform sql query and inner join\n",
    "wlp_nostop.registerTempTable('wlp_nostop')\n",
    "lemma_tokeep.registerTempTable('lemma_tokeep')\n",
    "\n",
    "query = \"\"\"\n",
    "SELECT wlp_nostop.lemma, wlp_nostop.textID\n",
    "FROM wlp_nostop\n",
    "INNER JOIN lemma_tokeep ON wlp_nostop.lemma = lemma_tokeep.lemma\n",
    "\"\"\"\n",
    "\n",
    "wlp_kept = spark.sql(query)\n",
    "wlp_bytext = wlp_kept.groupBy('textID').agg(collect_list('lemma'))\\\n",
    "                    .sort('textID')\\\n",
    "                    .withColumnRenamed('collect_list(lemma)','document lemmas')\n",
    "wlp_bytext.show()"
   ]
  },
  {
   "cell_type": "markdown",
   "metadata": {},
   "source": [
    "## Sources\n",
    "Contains all the additional informations about each text."
   ]
  },
  {
   "cell_type": "code",
   "execution_count": 10,
   "metadata": {},
   "outputs": [],
   "source": [
    "sources_rdd = sc.textFile('sample_data/now-samples-sources.txt')\\\n",
    "                .map(lambda r: r.split('\\t'))\n",
    "\n",
    "header = sources_rdd.take(3)\n",
    "sources_rdd = sources_rdd.filter(lambda l: l != header[0])\\\n",
    "                .filter(lambda l: l != header[1])\\\n",
    "                .filter(lambda l: l != header[2])"
   ]
  },
  {
   "cell_type": "code",
   "execution_count": 11,
   "metadata": {},
   "outputs": [],
   "source": [
    "#create schema and change data type for date\n",
    "sources_schema = sources_rdd.map(lambda r: Row(textID=int(r[0]),nwords=int(r[1]),date=r[2],country=r[3],website=r[4],url=r[5],title=r[6],)) \n",
    "sources = spark.createDataFrame(sources_schema)\n",
    "sources = sources.withColumn('date',to_date(sources.date, 'yy-MM-dd'))"
   ]
  },
  {
   "cell_type": "code",
   "execution_count": 12,
   "metadata": {},
   "outputs": [
    {
     "name": "stdout",
     "output_type": "stream",
     "text": [
      "root\n",
      " |-- country: string (nullable = true)\n",
      " |-- date: date (nullable = true)\n",
      " |-- nwords: long (nullable = true)\n",
      " |-- textID: long (nullable = true)\n",
      " |-- title: string (nullable = true)\n",
      " |-- url: string (nullable = true)\n",
      " |-- website: string (nullable = true)\n",
      "\n"
     ]
    }
   ],
   "source": [
    "sources.printSchema()"
   ]
  },
  {
   "cell_type": "code",
   "execution_count": 13,
   "metadata": {
    "scrolled": true
   },
   "outputs": [
    {
     "name": "stdout",
     "output_type": "stream",
     "text": [
      "+-------+----------+------+------+--------------------+--------------------+-------------------+\n",
      "|country|      date|nwords|textID|               title|                 url|            website|\n",
      "+-------+----------+------+------+--------------------+--------------------+-------------------+\n",
      "|     US|2013-01-06|   397| 11241|Author of The War...|http://kotaku.com...|             Kotaku|\n",
      "|     US|2013-01-06|   757| 11242|That's What They ...|http://michiganra...|     Michigan Radio|\n",
      "|     US|2013-01-06|   755| 11243|Best of New York:...|http://www.nydail...|New York Daily News|\n",
      "|     US|2013-01-06|  1677| 11244|Reflecting on a q...|http://www.oregon...|     OregonLive.com|\n",
      "|     US|2013-01-11|   794| 21242|Ask Ars: Does Fac...|http://arstechnic...|       Ars Technica|\n",
      "+-------+----------+------+------+--------------------+--------------------+-------------------+\n",
      "only showing top 5 rows\n",
      "\n"
     ]
    }
   ],
   "source": [
    "sources.show(5)"
   ]
  },
  {
   "cell_type": "markdown",
   "metadata": {},
   "source": [
    "## First tries with LDA\n",
    "Try using spark lda but with gensim corpus processing."
   ]
  },
  {
   "cell_type": "markdown",
   "metadata": {},
   "source": [
    "### Spark and gensim mixed"
   ]
  },
  {
   "cell_type": "code",
   "execution_count": 14,
   "metadata": {},
   "outputs": [
    {
     "name": "stderr",
     "output_type": "stream",
     "text": [
      "2018-12-03 22:12:44,799 : INFO : 'pattern' package not found; tag filters are not available for English\n"
     ]
    }
   ],
   "source": [
    "import logging\n",
    "logging.basicConfig(format='%(asctime)s : %(levelname)s : %(message)s', level=logging.INFO)\n",
    "from gensim import corpora\n",
    "from gensim.matutils import corpus2dense\n",
    "from pyspark.mllib.clustering import LDA, LDAModel\n",
    "from pyspark.mllib.linalg import Vectors"
   ]
  },
  {
   "cell_type": "code",
   "execution_count": 15,
   "metadata": {},
   "outputs": [
    {
     "name": "stderr",
     "output_type": "stream",
     "text": [
      "2018-12-03 22:13:12,557 : INFO : adding document #0 to Dictionary(0 unique tokens: [])\n",
      "2018-12-03 22:13:13,027 : INFO : built Dictionary(11399 unique tokens: ['1970s', 'adapt', 'adaptation', 'advertisement', 'afternoon']...) from 2914 documents (total 631610 corpus positions)\n"
     ]
    }
   ],
   "source": [
    "#create the dictionary from gensim, each lemma will be assigned a number\n",
    "dictionary = corpora.Dictionary(line for line in wlp_bytext.rdd.map(lambda r: r[1]).collect())"
   ]
  },
  {
   "cell_type": "code",
   "execution_count": 16,
   "metadata": {},
   "outputs": [
    {
     "name": "stdout",
     "output_type": "stream",
     "text": [
      "Number of documents in corpus: \t 2914\n",
      "Number of words in corpus: \t 631610\n",
      "Number of tokens in dictionary:  11399\n"
     ]
    }
   ],
   "source": [
    "#the dictionary object also have some useful informations stored in it\n",
    "print('Number of documents in corpus: \\t', dictionary.num_docs)\n",
    "print('Number of words in corpus: \\t', dictionary.num_pos)\n",
    "print('Number of tokens in dictionary: ', len(dictionary.token2id))"
   ]
  },
  {
   "cell_type": "code",
   "execution_count": 17,
   "metadata": {},
   "outputs": [],
   "source": [
    "#class that makes the gensim corpus object, \n",
    "#for now this is the only way I found to go from sparse to dense vector form (using the gensim corpus2dense fct)\n",
    "class MyCorpus(object):\n",
    "     def __iter__(self):\n",
    "            for line in wlp_bytext.rdd.map(lambda r: r[1]).collect():\n",
    "                yield dictionary.doc2bow(line)"
   ]
  },
  {
   "cell_type": "code",
   "execution_count": 19,
   "metadata": {},
   "outputs": [],
   "source": [
    "#create the corpus and turn it into a format that spark will like\n",
    "corpus = MyCorpus()\n",
    "#changing from sparse to dense representation\n",
    "data = sc.parallelize(corpus2dense(corpus,num_terms=len(dictionary.token2id),num_docs=dictionary.num_docs).T)\n",
    "#not sure this is entirely necessary but the data is transformed into spark dense vectors (maybe faster)\n",
    "parsedData = data.map(lambda line: Vectors.dense(line))\n",
    "#index documents with unique IDs\n",
    "corpus_rdd = parsedData.zipWithIndex().map(lambda x: [x[1], x[0]]).cache()"
   ]
  },
  {
   "cell_type": "code",
   "execution_count": null,
   "metadata": {
    "scrolled": true
   },
   "outputs": [],
   "source": [
    "#train model, here it crashes, it should work though, I think it is juste because of a lack of resources\n",
    "ldas = LDA.train(corpus_rdd, k=10)\n",
    "\n",
    "#output topics, sadly there aren't any strings here, we need to map that to dictionary, would be even harder to do without gensim\n",
    "'''print(\"Learned topics (as distributions over vocab of \" + str(ldaModel.vocabSize())\n",
    "      + \" words):\")\n",
    "topics = ldaModel.topicsMatrix()\n",
    "for topic in range(10):\n",
    "    print(\"Topic \" + str(topic) + \":\")\n",
    "    for word in range(0, ldaModel.vocabSize()):\n",
    "        print(\" \" + str(topics[word][topic]))'''"
   ]
  },
  {
   "cell_type": "markdown",
   "metadata": {},
   "source": [
    "### Full gensim\n",
    "Same thing but entirely done with gensim. Very practical and concise. The word selection could even be done here, see the dictionary attributes `.filter_extremes` and `filter_n_most_frequent` [here](https://radimrehurek.com/gensim/corpora/dictionary.html)."
   ]
  },
  {
   "cell_type": "code",
   "execution_count": 20,
   "metadata": {},
   "outputs": [],
   "source": [
    "from gensim.models.ldamodel import LdaModel"
   ]
  },
  {
   "cell_type": "code",
   "execution_count": 21,
   "metadata": {
    "scrolled": true
   },
   "outputs": [
    {
     "name": "stderr",
     "output_type": "stream",
     "text": [
      "2018-12-03 22:16:39,166 : INFO : using symmetric alpha at 0.1\n",
      "2018-12-03 22:16:39,167 : INFO : using symmetric eta at 0.1\n",
      "2018-12-03 22:16:39,172 : INFO : using serial LDA version on this node\n",
      "2018-12-03 22:16:39,339 : WARNING : input corpus stream has no len(); counting documents\n",
      "2018-12-03 22:16:41,611 : INFO : running online (multi-pass) LDA training, 10 topics, 5 passes over the supplied corpus of 2914 documents, updating model once every 100 documents, evaluating perplexity every 1000 documents, iterating 50x with a convergence threshold of 0.001000\n",
      "2018-12-03 22:16:43,489 : INFO : PROGRESS: pass 0, at document #100/2914\n",
      "2018-12-03 22:16:43,601 : INFO : merging changes from 100 documents into a model of 2914 documents\n",
      "2018-12-03 22:16:43,633 : INFO : topic #8 (0.100): 0.012*\"use\" + 0.008*\"interest\" + 0.007*\"site\" + 0.005*\"mission\" + 0.005*\"work\" + 0.005*\"rate\" + 0.005*\"people\" + 0.004*\"user\" + 0.004*\"court\" + 0.004*\"time\"\n",
      "2018-12-03 22:16:43,637 : INFO : topic #6 (0.100): 0.006*\"look\" + 0.005*\"use\" + 0.005*\"work\" + 0.005*\"take\" + 0.004*\"find\" + 0.004*\"company\" + 0.004*\"water\" + 0.004*\"want\" + 0.004*\"mobile\" + 0.003*\"call\"\n",
      "2018-12-03 22:16:43,638 : INFO : topic #3 (0.100): 0.005*\"time\" + 0.005*\"take\" + 0.004*\"company\" + 0.004*\"people\" + 0.004*\"government\" + 0.004*\"give\" + 0.004*\"life\" + 0.003*\"plan\" + 0.003*\"game\" + 0.003*\"public\"\n",
      "2018-12-03 22:16:43,640 : INFO : topic #7 (0.100): 0.006*\"time\" + 0.006*\"people\" + 0.005*\"drug\" + 0.005*\"account\" + 0.005*\"company\" + 0.004*\"price\" + 0.004*\"area\" + 0.004*\"take\" + 0.004*\"find\" + 0.004*\"work\"\n",
      "2018-12-03 22:16:43,641 : INFO : topic #2 (0.100): 0.008*\"people\" + 0.007*\"use\" + 0.007*\"birdsong\" + 0.006*\"time\" + 0.004*\"find\" + 0.004*\"life\" + 0.004*\"study\" + 0.004*\"sound\" + 0.004*\"comment\" + 0.004*\"work\"\n",
      "2018-12-03 22:16:43,643 : INFO : topic diff=7.392339, rho=1.000000\n",
      "2018-12-03 22:16:43,661 : INFO : PROGRESS: pass 0, at document #200/2914\n",
      "2018-12-03 22:16:43,748 : INFO : merging changes from 100 documents into a model of 2914 documents\n",
      "2018-12-03 22:16:43,761 : INFO : topic #5 (0.100): 0.010*\"score\" + 0.010*\"school\" + 0.007*\"student\" + 0.006*\"time\" + 0.005*\"take\" + 0.004*\"high\" + 0.004*\"reuters\" + 0.004*\"thomson\" + 0.004*\"point\" + 0.003*\"work\"\n",
      "2018-12-03 22:16:43,762 : INFO : topic #3 (0.100): 0.006*\"take\" + 0.005*\"government\" + 0.005*\"force\" + 0.005*\"time\" + 0.005*\"story\" + 0.005*\"report\" + 0.005*\"film\" + 0.004*\"soldier\" + 0.004*\"military\" + 0.004*\"rape\"\n",
      "2018-12-03 22:16:43,763 : INFO : topic #6 (0.100): 0.006*\"use\" + 0.006*\"work\" + 0.005*\"look\" + 0.004*\"take\" + 0.004*\"tool\" + 0.004*\"design\" + 0.004*\"find\" + 0.004*\"house\" + 0.004*\"call\" + 0.004*\"company\"\n",
      "2018-12-03 22:16:43,763 : INFO : topic #8 (0.100): 0.010*\"use\" + 0.008*\"court\" + 0.005*\"work\" + 0.004*\"right\" + 0.004*\"government\" + 0.004*\"site\" + 0.004*\"case\" + 0.004*\"provide\" + 0.004*\"require\" + 0.004*\"interest\"\n",
      "2018-12-03 22:16:43,764 : INFO : topic #9 (0.100): 0.008*\"take\" + 0.007*\"game\" + 0.007*\"play\" + 0.006*\"time\" + 0.005*\"work\" + 0.005*\"day\" + 0.005*\"people\" + 0.005*\"want\" + 0.004*\"company\" + 0.004*\"really\"\n",
      "2018-12-03 22:16:43,765 : INFO : topic diff=1.652028, rho=0.707107\n",
      "2018-12-03 22:16:43,792 : INFO : PROGRESS: pass 0, at document #300/2914\n",
      "2018-12-03 22:16:43,879 : INFO : merging changes from 100 documents into a model of 2914 documents\n",
      "2018-12-03 22:16:43,893 : INFO : topic #2 (0.100): 0.009*\"police\" + 0.009*\"comment\" + 0.008*\"people\" + 0.006*\"use\" + 0.006*\"court\" + 0.005*\"death\" + 0.005*\"child\" + 0.005*\"charge\" + 0.005*\"time\" + 0.005*\"life\"\n",
      "2018-12-03 22:16:43,894 : INFO : topic #9 (0.100): 0.012*\"game\" + 0.010*\"play\" + 0.007*\"take\" + 0.006*\"time\" + 0.006*\"want\" + 0.005*\"look\" + 0.005*\"team\" + 0.005*\"work\" + 0.005*\"show\" + 0.005*\"people\"\n",
      "2018-12-03 22:16:43,895 : INFO : topic #1 (0.100): 0.007*\"score\" + 0.006*\"use\" + 0.005*\"take\" + 0.004*\"company\" + 0.004*\"ir\" + 0.004*\"gas\" + 0.004*\"people\" + 0.004*\"market\" + 0.004*\"study\" + 0.004*\"state\"\n",
      "2018-12-03 22:16:43,897 : INFO : topic #0 (0.100): 0.006*\"coffee\" + 0.005*\"use\" + 0.004*\"world\" + 0.004*\"russia\" + 0.004*\"interpreter\" + 0.004*\"work\" + 0.004*\"people\" + 0.004*\"time\" + 0.004*\"civet\" + 0.003*\"change\"\n",
      "2018-12-03 22:16:43,899 : INFO : topic #3 (0.100): 0.007*\"death\" + 0.006*\"syria\" + 0.006*\"take\" + 0.006*\"force\" + 0.006*\"government\" + 0.005*\"life\" + 0.005*\"military\" + 0.005*\"victim\" + 0.005*\"give\" + 0.004*\"murder\"\n",
      "2018-12-03 22:16:43,901 : INFO : topic diff=1.334662, rho=0.577350\n",
      "2018-12-03 22:16:43,928 : INFO : PROGRESS: pass 0, at document #400/2914\n",
      "2018-12-03 22:16:44,015 : INFO : merging changes from 100 documents into a model of 2914 documents\n",
      "2018-12-03 22:16:44,028 : INFO : topic #3 (0.100): 0.006*\"take\" + 0.005*\"victim\" + 0.005*\"member\" + 0.005*\"government\" + 0.005*\"story\" + 0.005*\"military\" + 0.005*\"life\" + 0.005*\"give\" + 0.004*\"people\" + 0.004*\"death\"\n",
      "2018-12-03 22:16:44,030 : INFO : topic #1 (0.100): 0.006*\"use\" + 0.005*\"take\" + 0.005*\"company\" + 0.005*\"score\" + 0.005*\"people\" + 0.004*\"market\" + 0.004*\"state\" + 0.004*\"plant\" + 0.004*\"united\" + 0.004*\"development\"\n",
      "2018-12-03 22:16:44,031 : INFO : topic #8 (0.100): 0.009*\"use\" + 0.006*\"site\" + 0.006*\"case\" + 0.006*\"people\" + 0.006*\"service\" + 0.006*\"government\" + 0.006*\"public\" + 0.006*\"court\" + 0.005*\"minister\" + 0.004*\"pay\"\n",
      "2018-12-03 22:16:44,032 : INFO : topic #9 (0.100): 0.008*\"want\" + 0.008*\"take\" + 0.008*\"game\" + 0.007*\"team\" + 0.007*\"play\" + 0.006*\"show\" + 0.006*\"time\" + 0.006*\"really\" + 0.005*\"city\" + 0.005*\"people\"\n",
      "2018-12-03 22:16:44,033 : INFO : topic #5 (0.100): 0.018*\"school\" + 0.009*\"student\" + 0.005*\"take\" + 0.005*\"time\" + 0.005*\"people\" + 0.004*\"need\" + 0.004*\"child\" + 0.004*\"canada\" + 0.004*\"parent\" + 0.003*\"want\"\n",
      "2018-12-03 22:16:44,037 : INFO : topic diff=1.079821, rho=0.500000\n",
      "2018-12-03 22:16:44,056 : INFO : PROGRESS: pass 0, at document #500/2914\n",
      "2018-12-03 22:16:44,143 : INFO : merging changes from 100 documents into a model of 2914 documents\n",
      "2018-12-03 22:16:44,158 : INFO : topic #2 (0.100): 0.012*\"people\" + 0.011*\"police\" + 0.007*\"hospital\" + 0.007*\"comment\" + 0.006*\"child\" + 0.005*\"use\" + 0.005*\"family\" + 0.005*\"time\" + 0.005*\"day\" + 0.005*\"find\"\n",
      "2018-12-03 22:16:44,159 : INFO : topic #7 (0.100): 0.009*\"brand\" + 0.006*\"child\" + 0.005*\"people\" + 0.005*\"time\" + 0.005*\"company\" + 0.005*\"work\" + 0.005*\"shelter\" + 0.005*\"area\" + 0.004*\"comment\" + 0.004*\"share\"\n",
      "2018-12-03 22:16:44,162 : INFO : topic #8 (0.100): 0.008*\"use\" + 0.007*\"court\" + 0.006*\"people\" + 0.006*\"government\" + 0.006*\"case\" + 0.005*\"pay\" + 0.005*\"service\" + 0.005*\"minister\" + 0.005*\"site\" + 0.005*\"public\"\n",
      "2018-12-03 22:16:44,164 : INFO : topic #5 (0.100): 0.014*\"school\" + 0.008*\"student\" + 0.005*\"take\" + 0.005*\"people\" + 0.005*\"time\" + 0.004*\"need\" + 0.004*\"high\" + 0.004*\"work\" + 0.003*\"parent\" + 0.003*\"point\"\n",
      "2018-12-03 22:16:44,166 : INFO : topic #9 (0.100): 0.009*\"play\" + 0.008*\"take\" + 0.008*\"want\" + 0.007*\"game\" + 0.007*\"time\" + 0.006*\"look\" + 0.006*\"show\" + 0.006*\"city\" + 0.006*\"really\" + 0.005*\"people\"\n",
      "2018-12-03 22:16:44,167 : INFO : topic diff=0.859681, rho=0.447214\n",
      "2018-12-03 22:16:44,191 : INFO : PROGRESS: pass 0, at document #600/2914\n",
      "2018-12-03 22:16:44,282 : INFO : merging changes from 100 documents into a model of 2914 documents\n",
      "2018-12-03 22:16:44,297 : INFO : topic #9 (0.100): 0.009*\"play\" + 0.008*\"take\" + 0.008*\"time\" + 0.007*\"want\" + 0.007*\"really\" + 0.007*\"city\" + 0.006*\"show\" + 0.006*\"team\" + 0.006*\"game\" + 0.006*\"look\"\n",
      "2018-12-03 22:16:44,298 : INFO : topic #3 (0.100): 0.009*\"state\" + 0.007*\"film\" + 0.006*\"take\" + 0.006*\"life\" + 0.005*\"day\" + 0.005*\"victim\" + 0.005*\"story\" + 0.005*\"time\" + 0.005*\"government\" + 0.005*\"death\"\n",
      "2018-12-03 22:16:44,300 : INFO : topic #6 (0.100): 0.006*\"child\" + 0.006*\"percent\" + 0.005*\"look\" + 0.005*\"work\" + 0.005*\"number\" + 0.005*\"country\" + 0.005*\"use\" + 0.004*\"take\" + 0.004*\"find\" + 0.004*\"state\"\n",
      "2018-12-03 22:16:44,301 : INFO : topic #5 (0.100): 0.014*\"student\" + 0.011*\"school\" + 0.006*\"time\" + 0.005*\"people\" + 0.005*\"take\" + 0.004*\"day\" + 0.004*\"high\" + 0.004*\"university\" + 0.004*\"parent\" + 0.004*\"garden\"\n",
      "2018-12-03 22:16:44,302 : INFO : topic #2 (0.100): 0.011*\"people\" + 0.011*\"police\" + 0.007*\"health\" + 0.007*\"hospital\" + 0.007*\"child\" + 0.006*\"use\" + 0.006*\"day\" + 0.006*\"time\" + 0.005*\"call\" + 0.005*\"family\"\n"
     ]
    },
    {
     "name": "stderr",
     "output_type": "stream",
     "text": [
      "2018-12-03 22:16:44,303 : INFO : topic diff=0.825588, rho=0.408248\n",
      "2018-12-03 22:16:44,322 : INFO : PROGRESS: pass 0, at document #700/2914\n",
      "2018-12-03 22:16:44,409 : INFO : merging changes from 100 documents into a model of 2914 documents\n",
      "2018-12-03 22:16:44,424 : INFO : topic #9 (0.100): 0.008*\"play\" + 0.008*\"take\" + 0.007*\"time\" + 0.007*\"want\" + 0.007*\"show\" + 0.007*\"team\" + 0.006*\"game\" + 0.006*\"really\" + 0.005*\"city\" + 0.005*\"work\"\n",
      "2018-12-03 22:16:44,425 : INFO : topic #7 (0.100): 0.007*\"area\" + 0.006*\"brand\" + 0.006*\"share\" + 0.005*\"comment\" + 0.005*\"people\" + 0.005*\"product\" + 0.005*\"time\" + 0.005*\"child\" + 0.005*\"company\" + 0.004*\"mayor\"\n",
      "2018-12-03 22:16:44,426 : INFO : topic #6 (0.100): 0.006*\"country\" + 0.005*\"power\" + 0.005*\"work\" + 0.005*\"number\" + 0.005*\"state\" + 0.005*\"child\" + 0.005*\"look\" + 0.004*\"percent\" + 0.004*\"use\" + 0.004*\"take\"\n",
      "2018-12-03 22:16:44,427 : INFO : topic #3 (0.100): 0.010*\"state\" + 0.006*\"take\" + 0.006*\"governor\" + 0.006*\"member\" + 0.005*\"film\" + 0.005*\"life\" + 0.005*\"country\" + 0.005*\"government\" + 0.005*\"people\" + 0.005*\"day\"\n",
      "2018-12-03 22:16:44,429 : INFO : topic #8 (0.100): 0.009*\"state\" + 0.009*\"government\" + 0.007*\"use\" + 0.007*\"court\" + 0.006*\"minister\" + 0.006*\"pay\" + 0.006*\"service\" + 0.006*\"party\" + 0.005*\"people\" + 0.005*\"case\"\n",
      "2018-12-03 22:16:44,433 : INFO : topic diff=0.732658, rho=0.377964\n",
      "2018-12-03 22:16:44,451 : INFO : PROGRESS: pass 0, at document #800/2914\n",
      "2018-12-03 22:16:44,536 : INFO : merging changes from 100 documents into a model of 2914 documents\n",
      "2018-12-03 22:16:44,553 : INFO : topic #7 (0.100): 0.007*\"area\" + 0.006*\"comment\" + 0.005*\"people\" + 0.005*\"brand\" + 0.005*\"product\" + 0.005*\"share\" + 0.005*\"time\" + 0.004*\"group\" + 0.004*\"local\" + 0.004*\"company\"\n",
      "2018-12-03 22:16:44,554 : INFO : topic #4 (0.100): 0.010*\"company\" + 0.007*\"indian\" + 0.007*\"business\" + 0.007*\"time\" + 0.007*\"market\" + 0.006*\"project\" + 0.006*\"industry\" + 0.005*\"cent\" + 0.005*\"investment\" + 0.005*\"app\"\n",
      "2018-12-03 22:16:44,557 : INFO : topic #0 (0.100): 0.007*\"world\" + 0.006*\"dr\" + 0.005*\"professor\" + 0.005*\"public\" + 0.005*\"history\" + 0.004*\"literary\" + 0.004*\"use\" + 0.004*\"work\" + 0.004*\"book\" + 0.004*\"education\"\n",
      "2018-12-03 22:16:44,558 : INFO : topic #5 (0.100): 0.016*\"school\" + 0.010*\"student\" + 0.006*\"university\" + 0.006*\"time\" + 0.006*\"high\" + 0.005*\"people\" + 0.005*\"take\" + 0.004*\"place\" + 0.004*\"day\" + 0.004*\"community\"\n",
      "2018-12-03 22:16:44,559 : INFO : topic #8 (0.100): 0.008*\"government\" + 0.007*\"state\" + 0.006*\"party\" + 0.006*\"service\" + 0.006*\"court\" + 0.006*\"case\" + 0.006*\"people\" + 0.006*\"use\" + 0.005*\"public\" + 0.005*\"minister\"\n",
      "2018-12-03 22:16:44,559 : INFO : topic diff=0.648439, rho=0.353553\n",
      "2018-12-03 22:16:44,578 : INFO : PROGRESS: pass 0, at document #900/2914\n",
      "2018-12-03 22:16:44,661 : INFO : merging changes from 100 documents into a model of 2914 documents\n",
      "2018-12-03 22:16:44,676 : INFO : topic #7 (0.100): 0.006*\"comment\" + 0.006*\"share\" + 0.006*\"people\" + 0.006*\"area\" + 0.005*\"campaign\" + 0.005*\"time\" + 0.005*\"child\" + 0.005*\"work\" + 0.004*\"brand\" + 0.004*\"product\"\n",
      "2018-12-03 22:16:44,677 : INFO : topic #2 (0.100): 0.013*\"police\" + 0.011*\"people\" + 0.010*\"health\" + 0.009*\"family\" + 0.006*\"child\" + 0.006*\"use\" + 0.006*\"comment\" + 0.006*\"day\" + 0.006*\"time\" + 0.005*\"patient\"\n",
      "2018-12-03 22:16:44,678 : INFO : topic #9 (0.100): 0.009*\"take\" + 0.008*\"time\" + 0.008*\"play\" + 0.008*\"win\" + 0.008*\"want\" + 0.007*\"show\" + 0.007*\"game\" + 0.007*\"music\" + 0.006*\"team\" + 0.006*\"look\"\n",
      "2018-12-03 22:16:44,679 : INFO : topic #4 (0.100): 0.011*\"company\" + 0.007*\"market\" + 0.007*\"cent\" + 0.006*\"time\" + 0.006*\"business\" + 0.006*\"industry\" + 0.006*\"indian\" + 0.005*\"share\" + 0.005*\"project\" + 0.005*\"comment\"\n",
      "2018-12-03 22:16:44,680 : INFO : topic #5 (0.100): 0.014*\"school\" + 0.009*\"student\" + 0.006*\"time\" + 0.006*\"people\" + 0.006*\"university\" + 0.005*\"high\" + 0.005*\"take\" + 0.004*\"day\" + 0.004*\"community\" + 0.004*\"place\"\n",
      "2018-12-03 22:16:44,680 : INFO : topic diff=0.588822, rho=0.333333\n",
      "2018-12-03 22:16:44,835 : INFO : -8.703 per-word bound, 416.7 perplexity estimate based on a held-out corpus of 100 documents with 22700 words\n",
      "2018-12-03 22:16:44,836 : INFO : PROGRESS: pass 0, at document #1000/2914\n",
      "2018-12-03 22:16:44,910 : INFO : merging changes from 100 documents into a model of 2914 documents\n",
      "2018-12-03 22:16:44,932 : INFO : topic #5 (0.100): 0.014*\"school\" + 0.009*\"student\" + 0.006*\"people\" + 0.006*\"time\" + 0.005*\"university\" + 0.005*\"parent\" + 0.004*\"high\" + 0.004*\"day\" + 0.004*\"take\" + 0.004*\"community\"\n",
      "2018-12-03 22:16:44,933 : INFO : topic #9 (0.100): 0.011*\"game\" + 0.010*\"play\" + 0.008*\"want\" + 0.008*\"time\" + 0.008*\"take\" + 0.007*\"show\" + 0.007*\"win\" + 0.007*\"look\" + 0.006*\"team\" + 0.006*\"work\"\n",
      "2018-12-03 22:16:44,934 : INFO : topic #4 (0.100): 0.015*\"business\" + 0.012*\"company\" + 0.007*\"market\" + 0.006*\"time\" + 0.006*\"investment\" + 0.006*\"cent\" + 0.006*\"share\" + 0.006*\"industry\" + 0.005*\"technology\" + 0.005*\"comment\"\n",
      "2018-12-03 22:16:44,934 : INFO : topic #6 (0.100): 0.009*\"child\" + 0.007*\"cost\" + 0.006*\"work\" + 0.005*\"plan\" + 0.005*\"country\" + 0.004*\"power\" + 0.004*\"number\" + 0.004*\"need\" + 0.004*\"people\" + 0.004*\"look\"\n",
      "2018-12-03 22:16:44,935 : INFO : topic #7 (0.100): 0.007*\"comment\" + 0.007*\"share\" + 0.006*\"people\" + 0.006*\"campaign\" + 0.006*\"area\" + 0.005*\"local\" + 0.005*\"wine\" + 0.005*\"product\" + 0.005*\"help\" + 0.005*\"business\"\n",
      "2018-12-03 22:16:44,937 : INFO : topic diff=0.530463, rho=0.316228\n",
      "2018-12-03 22:16:44,964 : INFO : PROGRESS: pass 0, at document #1100/2914\n",
      "2018-12-03 22:16:45,032 : INFO : merging changes from 100 documents into a model of 2914 documents\n",
      "2018-12-03 22:16:45,045 : INFO : topic #2 (0.100): 0.015*\"police\" + 0.010*\"people\" + 0.010*\"family\" + 0.008*\"health\" + 0.007*\"comment\" + 0.006*\"life\" + 0.006*\"child\" + 0.006*\"use\" + 0.005*\"time\" + 0.005*\"day\"\n",
      "2018-12-03 22:16:45,046 : INFO : topic #4 (0.100): 0.012*\"business\" + 0.011*\"company\" + 0.007*\"time\" + 0.006*\"market\" + 0.006*\"technology\" + 0.006*\"comment\" + 0.005*\"industry\" + 0.005*\"share\" + 0.005*\"investment\" + 0.005*\"use\"\n",
      "2018-12-03 22:16:45,047 : INFO : topic #5 (0.100): 0.012*\"school\" + 0.008*\"student\" + 0.006*\"time\" + 0.006*\"people\" + 0.005*\"university\" + 0.005*\"day\" + 0.004*\"take\" + 0.004*\"community\" + 0.004*\"parent\" + 0.004*\"high\"\n",
      "2018-12-03 22:16:45,047 : INFO : topic #1 (0.100): 0.007*\"system\" + 0.007*\"oil\" + 0.006*\"market\" + 0.006*\"economic\" + 0.006*\"plant\" + 0.006*\"country\" + 0.006*\"energy\" + 0.006*\"state\" + 0.005*\"use\" + 0.005*\"development\"\n",
      "2018-12-03 22:16:45,048 : INFO : topic #0 (0.100): 0.008*\"world\" + 0.006*\"book\" + 0.006*\"change\" + 0.004*\"use\" + 0.004*\"history\" + 0.004*\"professor\" + 0.004*\"university\" + 0.004*\"write\" + 0.004*\"people\" + 0.004*\"dr\"\n",
      "2018-12-03 22:16:45,049 : INFO : topic diff=0.499240, rho=0.301511\n",
      "2018-12-03 22:16:45,063 : INFO : PROGRESS: pass 0, at document #1200/2914\n",
      "2018-12-03 22:16:45,133 : INFO : merging changes from 100 documents into a model of 2914 documents\n",
      "2018-12-03 22:16:45,145 : INFO : topic #0 (0.100): 0.008*\"world\" + 0.006*\"book\" + 0.005*\"change\" + 0.004*\"write\" + 0.004*\"people\" + 0.004*\"use\" + 0.004*\"dr\" + 0.004*\"history\" + 0.004*\"public\" + 0.004*\"professor\"\n",
      "2018-12-03 22:16:45,146 : INFO : topic #1 (0.100): 0.007*\"market\" + 0.006*\"system\" + 0.006*\"economic\" + 0.006*\"country\" + 0.006*\"state\" + 0.005*\"oil\" + 0.005*\"use\" + 0.005*\"economy\" + 0.005*\"development\" + 0.005*\"plant\"\n",
      "2018-12-03 22:16:45,147 : INFO : topic #2 (0.100): 0.013*\"police\" + 0.009*\"comment\" + 0.009*\"people\" + 0.009*\"family\" + 0.007*\"health\" + 0.007*\"life\" + 0.006*\"use\" + 0.006*\"child\" + 0.005*\"day\" + 0.005*\"time\"\n",
      "2018-12-03 22:16:45,147 : INFO : topic #5 (0.100): 0.011*\"school\" + 0.007*\"student\" + 0.006*\"people\" + 0.006*\"time\" + 0.005*\"day\" + 0.005*\"community\" + 0.004*\"take\" + 0.004*\"university\" + 0.004*\"place\" + 0.004*\"open\"\n",
      "2018-12-03 22:16:45,148 : INFO : topic #7 (0.100): 0.008*\"*\" + 0.007*\"comment\" + 0.006*\"share\" + 0.006*\"product\" + 0.006*\"area\" + 0.005*\"people\" + 0.005*\"consumer\" + 0.005*\"campaign\" + 0.005*\"local\" + 0.004*\"time\"\n",
      "2018-12-03 22:16:45,149 : INFO : topic diff=0.444877, rho=0.288675\n",
      "2018-12-03 22:16:45,166 : INFO : PROGRESS: pass 0, at document #1300/2914\n",
      "2018-12-03 22:16:45,232 : INFO : merging changes from 100 documents into a model of 2914 documents\n"
     ]
    },
    {
     "name": "stderr",
     "output_type": "stream",
     "text": [
      "2018-12-03 22:16:45,245 : INFO : topic #7 (0.100): 0.012*\"*\" + 0.007*\"comment\" + 0.006*\"share\" + 0.005*\"product\" + 0.005*\"sept\" + 0.005*\"area\" + 0.005*\"people\" + 0.004*\"local\" + 0.004*\"consumer\" + 0.004*\"campaign\"\n",
      "2018-12-03 22:16:45,247 : INFO : topic #9 (0.100): 0.013*\"game\" + 0.010*\"time\" + 0.009*\"team\" + 0.009*\"play\" + 0.008*\"take\" + 0.007*\"show\" + 0.007*\"want\" + 0.007*\"look\" + 0.006*\"win\" + 0.006*\"player\"\n",
      "2018-12-03 22:16:45,248 : INFO : topic #4 (0.100): 0.011*\"company\" + 0.011*\"business\" + 0.007*\"time\" + 0.007*\"market\" + 0.007*\"comment\" + 0.006*\"technology\" + 0.006*\"share\" + 0.006*\"delhi\" + 0.005*\"use\" + 0.005*\"web\"\n",
      "2018-12-03 22:16:45,250 : INFO : topic #3 (0.100): 0.007*\"woman\" + 0.007*\"take\" + 0.006*\"state\" + 0.006*\"people\" + 0.005*\"war\" + 0.005*\"member\" + 0.005*\"force\" + 0.005*\"country\" + 0.004*\"attack\" + 0.004*\"kill\"\n",
      "2018-12-03 22:16:45,252 : INFO : topic #0 (0.100): 0.008*\"world\" + 0.005*\"book\" + 0.005*\"change\" + 0.005*\"use\" + 0.005*\"university\" + 0.004*\"write\" + 0.004*\"people\" + 0.004*\"professor\" + 0.004*\"history\" + 0.004*\"human\"\n",
      "2018-12-03 22:16:45,254 : INFO : topic diff=0.456782, rho=0.277350\n",
      "2018-12-03 22:16:45,274 : INFO : PROGRESS: pass 0, at document #1400/2914\n",
      "2018-12-03 22:16:45,351 : INFO : merging changes from 100 documents into a model of 2914 documents\n",
      "2018-12-03 22:16:45,363 : INFO : topic #2 (0.100): 0.010*\"police\" + 0.009*\"health\" + 0.009*\"comment\" + 0.009*\"people\" + 0.009*\"family\" + 0.007*\"drug\" + 0.007*\"use\" + 0.007*\"life\" + 0.006*\"child\" + 0.006*\"care\"\n",
      "2018-12-03 22:16:45,364 : INFO : topic #9 (0.100): 0.014*\"game\" + 0.011*\"team\" + 0.010*\"time\" + 0.009*\"play\" + 0.008*\"win\" + 0.008*\"take\" + 0.007*\"want\" + 0.007*\"show\" + 0.006*\"look\" + 0.006*\"player\"\n",
      "2018-12-03 22:16:45,365 : INFO : topic #0 (0.100): 0.008*\"world\" + 0.006*\"change\" + 0.005*\"use\" + 0.004*\"people\" + 0.004*\"book\" + 0.004*\"university\" + 0.004*\"human\" + 0.004*\"history\" + 0.004*\"science\" + 0.003*\"climate\"\n",
      "2018-12-03 22:16:45,366 : INFO : topic #5 (0.100): 0.009*\"school\" + 0.007*\"student\" + 0.006*\"open\" + 0.006*\"day\" + 0.006*\"time\" + 0.005*\"people\" + 0.005*\"place\" + 0.004*\"community\" + 0.004*\"take\" + 0.004*\"city\"\n",
      "2018-12-03 22:16:45,367 : INFO : topic #7 (0.100): 0.011*\"*\" + 0.008*\"consumer\" + 0.006*\"comment\" + 0.006*\"product\" + 0.005*\"share\" + 0.005*\"area\" + 0.005*\"people\" + 0.004*\"sept\" + 0.004*\"local\" + 0.004*\"time\"\n",
      "2018-12-03 22:16:45,367 : INFO : topic diff=0.436916, rho=0.267261\n",
      "2018-12-03 22:16:45,388 : INFO : PROGRESS: pass 0, at document #1500/2914\n",
      "2018-12-03 22:16:45,457 : INFO : merging changes from 100 documents into a model of 2914 documents\n",
      "2018-12-03 22:16:45,469 : INFO : topic #5 (0.100): 0.010*\"school\" + 0.008*\"student\" + 0.006*\"day\" + 0.006*\"time\" + 0.006*\"open\" + 0.005*\"people\" + 0.005*\"place\" + 0.005*\"city\" + 0.004*\"take\" + 0.004*\"high\"\n",
      "2018-12-03 22:16:45,470 : INFO : topic #3 (0.100): 0.006*\"take\" + 0.006*\"people\" + 0.006*\"force\" + 0.005*\"woman\" + 0.005*\"state\" + 0.004*\"time\" + 0.004*\"attack\" + 0.004*\"war\" + 0.004*\"country\" + 0.004*\"member\"\n",
      "2018-12-03 22:16:45,470 : INFO : topic #2 (0.100): 0.012*\"police\" + 0.009*\"family\" + 0.008*\"comment\" + 0.008*\"people\" + 0.007*\"health\" + 0.007*\"use\" + 0.007*\"child\" + 0.007*\"drug\" + 0.006*\"time\" + 0.006*\"life\"\n",
      "2018-12-03 22:16:45,471 : INFO : topic #9 (0.100): 0.014*\"game\" + 0.012*\"time\" + 0.010*\"team\" + 0.008*\"play\" + 0.008*\"show\" + 0.007*\"take\" + 0.007*\"want\" + 0.007*\"look\" + 0.007*\"win\" + 0.006*\"really\"\n",
      "2018-12-03 22:16:45,472 : INFO : topic #7 (0.100): 0.012*\"*\" + 0.010*\"consumer\" + 0.006*\"comment\" + 0.006*\"product\" + 0.005*\"share\" + 0.005*\"brand\" + 0.005*\"dog\" + 0.004*\"local\" + 0.004*\"area\" + 0.004*\"people\"\n",
      "2018-12-03 22:16:45,473 : INFO : topic diff=0.456402, rho=0.258199\n",
      "2018-12-03 22:16:45,490 : INFO : PROGRESS: pass 0, at document #1600/2914\n",
      "2018-12-03 22:16:45,550 : INFO : merging changes from 100 documents into a model of 2914 documents\n",
      "2018-12-03 22:16:45,563 : INFO : topic #8 (0.100): 0.010*\"government\" + 0.008*\"court\" + 0.007*\"minister\" + 0.006*\"pay\" + 0.006*\"right\" + 0.006*\"public\" + 0.006*\"party\" + 0.006*\"use\" + 0.005*\"people\" + 0.005*\"council\"\n",
      "2018-12-03 22:16:45,563 : INFO : topic #2 (0.100): 0.012*\"police\" + 0.009*\"family\" + 0.008*\"people\" + 0.008*\"comment\" + 0.007*\"use\" + 0.007*\"health\" + 0.006*\"child\" + 0.006*\"find\" + 0.006*\"life\" + 0.006*\"time\"\n",
      "2018-12-03 22:16:45,564 : INFO : topic #1 (0.100): 0.009*\"system\" + 0.008*\"market\" + 0.007*\"growth\" + 0.006*\"economic\" + 0.006*\"energy\" + 0.006*\"high\" + 0.005*\"use\" + 0.005*\"economy\" + 0.005*\"country\" + 0.005*\"production\"\n",
      "2018-12-03 22:16:45,565 : INFO : topic #9 (0.100): 0.013*\"game\" + 0.011*\"time\" + 0.010*\"team\" + 0.009*\"play\" + 0.008*\"want\" + 0.007*\"show\" + 0.007*\"take\" + 0.007*\"win\" + 0.007*\"look\" + 0.006*\"film\"\n",
      "2018-12-03 22:16:45,565 : INFO : topic #6 (0.100): 0.009*\"child\" + 0.005*\"work\" + 0.005*\"number\" + 0.005*\"percent\" + 0.005*\"cost\" + 0.005*\"low\" + 0.005*\"city\" + 0.004*\"use\" + 0.004*\"need\" + 0.004*\"find\"\n",
      "2018-12-03 22:16:45,566 : INFO : topic diff=0.375656, rho=0.250000\n",
      "2018-12-03 22:16:45,581 : INFO : PROGRESS: pass 0, at document #1700/2914\n",
      "2018-12-03 22:16:45,651 : INFO : merging changes from 100 documents into a model of 2914 documents\n",
      "2018-12-03 22:16:45,664 : INFO : topic #4 (0.100): 0.011*\"company\" + 0.010*\"business\" + 0.009*\"market\" + 0.008*\"time\" + 0.006*\"indian\" + 0.006*\"technology\" + 0.006*\"sales\" + 0.006*\"car\" + 0.006*\"use\" + 0.005*\"industry\"\n",
      "2018-12-03 22:16:45,664 : INFO : topic #9 (0.100): 0.012*\"game\" + 0.011*\"time\" + 0.009*\"team\" + 0.009*\"play\" + 0.007*\"win\" + 0.007*\"show\" + 0.007*\"take\" + 0.007*\"look\" + 0.006*\"want\" + 0.006*\"film\"\n",
      "2018-12-03 22:16:45,665 : INFO : topic #5 (0.100): 0.009*\"school\" + 0.007*\"student\" + 0.006*\"day\" + 0.006*\"open\" + 0.006*\"time\" + 0.005*\"people\" + 0.005*\"city\" + 0.005*\"place\" + 0.004*\"take\" + 0.004*\"university\"\n",
      "2018-12-03 22:16:45,666 : INFO : topic #8 (0.100): 0.011*\"government\" + 0.007*\"minister\" + 0.007*\"court\" + 0.007*\"public\" + 0.007*\"party\" + 0.006*\"pay\" + 0.006*\"right\" + 0.006*\"use\" + 0.005*\"people\" + 0.005*\"service\"\n",
      "2018-12-03 22:16:45,667 : INFO : topic #2 (0.100): 0.013*\"police\" + 0.009*\"people\" + 0.008*\"family\" + 0.008*\"comment\" + 0.007*\"health\" + 0.006*\"child\" + 0.006*\"use\" + 0.006*\"life\" + 0.006*\"death\" + 0.006*\"find\"\n",
      "2018-12-03 22:16:45,667 : INFO : topic diff=0.313097, rho=0.242536\n",
      "2018-12-03 22:16:45,691 : INFO : PROGRESS: pass 0, at document #1800/2914\n",
      "2018-12-03 22:16:45,761 : INFO : merging changes from 100 documents into a model of 2914 documents\n",
      "2018-12-03 22:16:45,774 : INFO : topic #4 (0.100): 0.013*\"company\" + 0.010*\"business\" + 0.009*\"market\" + 0.007*\"time\" + 0.007*\"car\" + 0.006*\"technology\" + 0.006*\"indian\" + 0.006*\"comment\" + 0.005*\"use\" + 0.005*\"sales\"\n",
      "2018-12-03 22:16:45,775 : INFO : topic #2 (0.100): 0.014*\"police\" + 0.009*\"people\" + 0.008*\"comment\" + 0.008*\"health\" + 0.008*\"family\" + 0.007*\"life\" + 0.006*\"use\" + 0.006*\"find\" + 0.006*\"child\" + 0.006*\"hospital\"\n",
      "2018-12-03 22:16:45,776 : INFO : topic #3 (0.100): 0.007*\"people\" + 0.007*\"state\" + 0.007*\"take\" + 0.006*\"country\" + 0.006*\"war\" + 0.006*\"pakistan\" + 0.006*\"force\" + 0.005*\"woman\" + 0.005*\"kill\" + 0.005*\"president\"\n",
      "2018-12-03 22:16:45,777 : INFO : topic #9 (0.100): 0.011*\"game\" + 0.011*\"time\" + 0.009*\"team\" + 0.009*\"play\" + 0.008*\"win\" + 0.008*\"show\" + 0.007*\"take\" + 0.007*\"look\" + 0.007*\"want\" + 0.006*\"film\"\n",
      "2018-12-03 22:16:45,777 : INFO : topic #8 (0.100): 0.013*\"government\" + 0.009*\"minister\" + 0.008*\"party\" + 0.006*\"public\" + 0.006*\"comment\" + 0.006*\"state\" + 0.006*\"court\" + 0.006*\"pay\" + 0.005*\"right\" + 0.005*\"canada\"\n",
      "2018-12-03 22:16:45,779 : INFO : topic diff=0.292759, rho=0.235702\n",
      "2018-12-03 22:16:45,795 : INFO : PROGRESS: pass 0, at document #1900/2914\n",
      "2018-12-03 22:16:45,852 : INFO : merging changes from 100 documents into a model of 2914 documents\n",
      "2018-12-03 22:16:45,864 : INFO : topic #7 (0.100): 0.010*\"*\" + 0.007*\"comment\" + 0.006*\"product\" + 0.006*\"area\" + 0.006*\"consumer\" + 0.006*\"local\" + 0.005*\"brand\" + 0.005*\"share\" + 0.005*\"people\" + 0.004*\"editor\"\n",
      "2018-12-03 22:16:45,865 : INFO : topic #1 (0.100): 0.007*\"system\" + 0.007*\"market\" + 0.007*\"country\" + 0.007*\"high\" + 0.006*\"energy\" + 0.006*\"growth\" + 0.006*\"rate\" + 0.006*\"economic\" + 0.006*\"oil\" + 0.006*\"level\"\n",
      "2018-12-03 22:16:45,866 : INFO : topic #6 (0.100): 0.007*\"child\" + 0.006*\"water\" + 0.006*\"number\" + 0.006*\"work\" + 0.005*\"cost\" + 0.005*\"need\" + 0.005*\"city\" + 0.005*\"people\" + 0.005*\"power\" + 0.004*\"low\"\n"
     ]
    },
    {
     "name": "stderr",
     "output_type": "stream",
     "text": [
      "2018-12-03 22:16:45,867 : INFO : topic #2 (0.100): 0.015*\"police\" + 0.010*\"people\" + 0.008*\"comment\" + 0.008*\"health\" + 0.008*\"family\" + 0.007*\"find\" + 0.006*\"life\" + 0.006*\"use\" + 0.006*\"child\" + 0.005*\"hospital\"\n",
      "2018-12-03 22:16:45,867 : INFO : topic #8 (0.100): 0.013*\"government\" + 0.009*\"minister\" + 0.008*\"party\" + 0.006*\"comment\" + 0.006*\"court\" + 0.006*\"pay\" + 0.006*\"right\" + 0.006*\"public\" + 0.006*\"state\" + 0.005*\"use\"\n",
      "2018-12-03 22:16:45,868 : INFO : topic diff=0.298404, rho=0.229416\n",
      "2018-12-03 22:16:46,000 : INFO : -8.543 per-word bound, 372.9 perplexity estimate based on a held-out corpus of 100 documents with 19093 words\n",
      "2018-12-03 22:16:46,001 : INFO : PROGRESS: pass 0, at document #2000/2914\n",
      "2018-12-03 22:16:46,059 : INFO : merging changes from 100 documents into a model of 2914 documents\n",
      "2018-12-03 22:16:46,074 : INFO : topic #9 (0.100): 0.011*\"game\" + 0.011*\"play\" + 0.011*\"time\" + 0.009*\"team\" + 0.009*\"win\" + 0.008*\"show\" + 0.007*\"take\" + 0.006*\"look\" + 0.006*\"want\" + 0.006*\"player\"\n",
      "2018-12-03 22:16:46,075 : INFO : topic #8 (0.100): 0.010*\"government\" + 0.008*\"minister\" + 0.007*\"member\" + 0.007*\"party\" + 0.006*\"comment\" + 0.006*\"court\" + 0.006*\"committee\" + 0.005*\"election\" + 0.005*\"pay\" + 0.005*\"state\"\n",
      "2018-12-03 22:16:46,076 : INFO : topic #2 (0.100): 0.015*\"police\" + 0.009*\"people\" + 0.008*\"family\" + 0.007*\"health\" + 0.007*\"comment\" + 0.007*\"find\" + 0.006*\"life\" + 0.006*\"doctor\" + 0.006*\"use\" + 0.006*\"hospital\"\n",
      "2018-12-03 22:16:46,077 : INFO : topic #0 (0.100): 0.008*\"world\" + 0.006*\"dr\" + 0.006*\"university\" + 0.005*\"republican\" + 0.005*\"book\" + 0.005*\"write\" + 0.005*\"change\" + 0.005*\"science\" + 0.004*\"use\" + 0.004*\"conservative\"\n",
      "2018-12-03 22:16:46,078 : INFO : topic #1 (0.100): 0.007*\"system\" + 0.007*\"rate\" + 0.007*\"country\" + 0.007*\"high\" + 0.007*\"market\" + 0.006*\"energy\" + 0.006*\"growth\" + 0.006*\"price\" + 0.005*\"bank\" + 0.005*\"level\"\n",
      "2018-12-03 22:16:46,079 : INFO : topic diff=0.273918, rho=0.223607\n",
      "2018-12-03 22:16:46,096 : INFO : PROGRESS: pass 0, at document #2100/2914\n",
      "2018-12-03 22:16:46,151 : INFO : merging changes from 100 documents into a model of 2914 documents\n",
      "2018-12-03 22:16:46,163 : INFO : topic #2 (0.100): 0.013*\"police\" + 0.008*\"people\" + 0.008*\"family\" + 0.008*\"health\" + 0.007*\"comment\" + 0.007*\"find\" + 0.006*\"use\" + 0.006*\"life\" + 0.006*\"doctor\" + 0.006*\"take\"\n",
      "2018-12-03 22:16:46,164 : INFO : topic #1 (0.100): 0.009*\"gas\" + 0.008*\"bank\" + 0.007*\"rate\" + 0.007*\"country\" + 0.006*\"market\" + 0.006*\"high\" + 0.006*\"system\" + 0.006*\"growth\" + 0.006*\"energy\" + 0.006*\"risk\"\n",
      "2018-12-03 22:16:46,165 : INFO : topic #5 (0.100): 0.017*\"school\" + 0.009*\"student\" + 0.006*\"day\" + 0.006*\"city\" + 0.006*\"apple\" + 0.006*\"open\" + 0.005*\"time\" + 0.005*\"people\" + 0.005*\"community\" + 0.004*\"take\"\n",
      "2018-12-03 22:16:46,165 : INFO : topic #7 (0.100): 0.008*\"*\" + 0.006*\"comment\" + 0.006*\"area\" + 0.006*\"local\" + 0.005*\"brand\" + 0.005*\"service\" + 0.005*\"product\" + 0.005*\"share\" + 0.005*\"editor\" + 0.005*\"consumer\"\n",
      "2018-12-03 22:16:46,166 : INFO : topic #8 (0.100): 0.011*\"government\" + 0.009*\"party\" + 0.008*\"minister\" + 0.007*\"issue\" + 0.006*\"member\" + 0.006*\"pay\" + 0.006*\"court\" + 0.006*\"council\" + 0.006*\"comment\" + 0.006*\"committee\"\n",
      "2018-12-03 22:16:46,167 : INFO : topic diff=0.268147, rho=0.218218\n",
      "2018-12-03 22:16:46,180 : INFO : PROGRESS: pass 0, at document #2200/2914\n",
      "2018-12-03 22:16:46,237 : INFO : merging changes from 100 documents into a model of 2914 documents\n",
      "2018-12-03 22:16:46,250 : INFO : topic #4 (0.100): 0.020*\"company\" + 0.013*\"share\" + 0.012*\"business\" + 0.008*\"market\" + 0.008*\"price\" + 0.006*\"service\" + 0.006*\"cent\" + 0.006*\"time\" + 0.006*\"technology\" + 0.006*\"investment\"\n",
      "2018-12-03 22:16:46,251 : INFO : topic #3 (0.100): 0.008*\"state\" + 0.007*\"people\" + 0.006*\"president\" + 0.006*\"take\" + 0.006*\"country\" + 0.006*\"attack\" + 0.005*\"war\" + 0.005*\"pakistan\" + 0.004*\"leader\" + 0.004*\"day\"\n",
      "2018-12-03 22:16:46,252 : INFO : topic #5 (0.100): 0.020*\"school\" + 0.010*\"student\" + 0.006*\"city\" + 0.006*\"day\" + 0.005*\"people\" + 0.005*\"time\" + 0.005*\"open\" + 0.005*\"high\" + 0.005*\"community\" + 0.005*\"apple\"\n",
      "2018-12-03 22:16:46,253 : INFO : topic #9 (0.100): 0.015*\"game\" + 0.012*\"play\" + 0.011*\"team\" + 0.011*\"time\" + 0.010*\"win\" + 0.007*\"take\" + 0.007*\"show\" + 0.007*\"look\" + 0.006*\"want\" + 0.006*\"player\"\n",
      "2018-12-03 22:16:46,253 : INFO : topic #6 (0.100): 0.007*\"water\" + 0.006*\"tax\" + 0.006*\"work\" + 0.006*\"child\" + 0.006*\"number\" + 0.005*\"city\" + 0.005*\"port\" + 0.005*\"plan\" + 0.005*\"cost\" + 0.005*\"need\"\n",
      "2018-12-03 22:16:46,254 : INFO : topic diff=0.241700, rho=0.213201\n",
      "2018-12-03 22:16:46,270 : INFO : PROGRESS: pass 0, at document #2300/2914\n",
      "2018-12-03 22:16:46,325 : INFO : merging changes from 100 documents into a model of 2914 documents\n",
      "2018-12-03 22:16:46,338 : INFO : topic #1 (0.100): 0.009*\"growth\" + 0.008*\"gas\" + 0.008*\"economic\" + 0.007*\"ratio\" + 0.007*\"country\" + 0.007*\"high\" + 0.006*\"market\" + 0.006*\"system\" + 0.006*\"risk\" + 0.006*\"bank\"\n",
      "2018-12-03 22:16:46,339 : INFO : topic #0 (0.100): 0.009*\"world\" + 0.006*\"dr\" + 0.005*\"republican\" + 0.005*\"write\" + 0.005*\"book\" + 0.005*\"university\" + 0.005*\"change\" + 0.005*\"use\" + 0.004*\"professor\" + 0.004*\"people\"\n",
      "2018-12-03 22:16:46,340 : INFO : topic #2 (0.100): 0.012*\"police\" + 0.009*\"family\" + 0.008*\"health\" + 0.007*\"people\" + 0.007*\"use\" + 0.007*\"take\" + 0.007*\"life\" + 0.006*\"find\" + 0.006*\"comment\" + 0.006*\"cancer\"\n",
      "2018-12-03 22:16:46,341 : INFO : topic #7 (0.100): 0.015*\"*\" + 0.007*\"local\" + 0.007*\"brand\" + 0.007*\"area\" + 0.006*\"website\" + 0.006*\"store\" + 0.006*\"use\" + 0.006*\"food\" + 0.005*\"comment\" + 0.005*\"product\"\n",
      "2018-12-03 22:16:46,341 : INFO : topic #9 (0.100): 0.015*\"game\" + 0.012*\"team\" + 0.012*\"play\" + 0.011*\"time\" + 0.010*\"win\" + 0.007*\"take\" + 0.007*\"want\" + 0.007*\"look\" + 0.006*\"show\" + 0.006*\"player\"\n",
      "2018-12-03 22:16:46,342 : INFO : topic diff=0.243028, rho=0.208514\n",
      "2018-12-03 22:16:46,356 : INFO : PROGRESS: pass 0, at document #2400/2914\n",
      "2018-12-03 22:16:46,410 : INFO : merging changes from 100 documents into a model of 2914 documents\n",
      "2018-12-03 22:16:46,425 : INFO : topic #1 (0.100): 0.008*\"high\" + 0.008*\"market\" + 0.008*\"gas\" + 0.008*\"growth\" + 0.008*\"economic\" + 0.008*\"country\" + 0.007*\"bank\" + 0.006*\"ratio\" + 0.006*\"system\" + 0.006*\"price\"\n",
      "2018-12-03 22:16:46,426 : INFO : topic #9 (0.100): 0.014*\"game\" + 0.012*\"team\" + 0.012*\"play\" + 0.011*\"time\" + 0.011*\"win\" + 0.007*\"take\" + 0.007*\"look\" + 0.007*\"want\" + 0.006*\"show\" + 0.006*\"player\"\n",
      "2018-12-03 22:16:46,426 : INFO : topic #6 (0.100): 0.007*\"tax\" + 0.007*\"work\" + 0.006*\"water\" + 0.006*\"need\" + 0.006*\"number\" + 0.005*\"child\" + 0.005*\"plan\" + 0.005*\"power\" + 0.005*\"area\" + 0.005*\"city\"\n",
      "2018-12-03 22:16:46,427 : INFO : topic #0 (0.100): 0.009*\"world\" + 0.006*\"republican\" + 0.006*\"dr\" + 0.006*\"book\" + 0.005*\"university\" + 0.005*\"change\" + 0.005*\"use\" + 0.005*\"write\" + 0.004*\"professor\" + 0.004*\"fact\"\n",
      "2018-12-03 22:16:46,428 : INFO : topic #2 (0.100): 0.013*\"police\" + 0.009*\"health\" + 0.009*\"family\" + 0.008*\"child\" + 0.007*\"people\" + 0.007*\"use\" + 0.007*\"court\" + 0.007*\"life\" + 0.007*\"take\" + 0.006*\"comment\"\n",
      "2018-12-03 22:16:46,429 : INFO : topic diff=0.220370, rho=0.204124\n",
      "2018-12-03 22:16:46,443 : INFO : PROGRESS: pass 0, at document #2500/2914\n",
      "2018-12-03 22:16:46,501 : INFO : merging changes from 100 documents into a model of 2914 documents\n",
      "2018-12-03 22:16:46,516 : INFO : topic #2 (0.100): 0.016*\"police\" + 0.011*\"health\" + 0.011*\"family\" + 0.007*\"people\" + 0.007*\"court\" + 0.007*\"child\" + 0.007*\"find\" + 0.007*\"take\" + 0.006*\"use\" + 0.006*\"life\"\n",
      "2018-12-03 22:16:46,517 : INFO : topic #3 (0.100): 0.010*\"state\" + 0.008*\"people\" + 0.008*\"country\" + 0.007*\"president\" + 0.006*\"attack\" + 0.006*\"take\" + 0.005*\"leader\" + 0.005*\"force\" + 0.004*\"nation\" + 0.004*\"kill\"\n",
      "2018-12-03 22:16:46,518 : INFO : topic #6 (0.100): 0.007*\"work\" + 0.007*\"need\" + 0.006*\"water\" + 0.006*\"tax\" + 0.006*\"number\" + 0.005*\"child\" + 0.005*\"area\" + 0.005*\"plan\" + 0.005*\"power\" + 0.005*\"labor\"\n",
      "2018-12-03 22:16:46,518 : INFO : topic #5 (0.100): 0.016*\"school\" + 0.009*\"student\" + 0.006*\"day\" + 0.006*\"people\" + 0.006*\"community\" + 0.005*\"city\" + 0.005*\"open\" + 0.005*\"time\" + 0.005*\"high\" + 0.005*\"education\"\n",
      "2018-12-03 22:16:46,519 : INFO : topic #9 (0.100): 0.014*\"game\" + 0.011*\"play\" + 0.011*\"time\" + 0.010*\"win\" + 0.010*\"team\" + 0.007*\"look\" + 0.007*\"take\" + 0.006*\"show\" + 0.006*\"player\" + 0.006*\"want\"\n"
     ]
    },
    {
     "name": "stderr",
     "output_type": "stream",
     "text": [
      "2018-12-03 22:16:46,520 : INFO : topic diff=0.215177, rho=0.200000\n",
      "2018-12-03 22:16:46,535 : INFO : PROGRESS: pass 0, at document #2600/2914\n",
      "2018-12-03 22:16:46,601 : INFO : merging changes from 100 documents into a model of 2914 documents\n",
      "2018-12-03 22:16:46,614 : INFO : topic #6 (0.100): 0.007*\"tax\" + 0.007*\"work\" + 0.007*\"need\" + 0.006*\"water\" + 0.006*\"number\" + 0.005*\"child\" + 0.005*\"area\" + 0.005*\"plan\" + 0.005*\"people\" + 0.005*\"power\"\n",
      "2018-12-03 22:16:46,615 : INFO : topic #9 (0.100): 0.013*\"game\" + 0.011*\"play\" + 0.011*\"time\" + 0.010*\"team\" + 0.010*\"win\" + 0.007*\"look\" + 0.007*\"take\" + 0.006*\"show\" + 0.006*\"player\" + 0.006*\"want\"\n",
      "2018-12-03 22:16:46,616 : INFO : topic #0 (0.100): 0.010*\"world\" + 0.008*\"book\" + 0.006*\"university\" + 0.006*\"change\" + 0.005*\"dr\" + 0.004*\"professor\" + 0.004*\"republican\" + 0.004*\"people\" + 0.004*\"use\" + 0.004*\"write\"\n",
      "2018-12-03 22:16:46,617 : INFO : topic #7 (0.100): 0.010*\"*\" + 0.009*\"local\" + 0.007*\"kashmir\" + 0.007*\"editor\" + 0.006*\"area\" + 0.006*\"product\" + 0.006*\"website\" + 0.006*\"comment\" + 0.006*\"use\" + 0.006*\"brand\"\n",
      "2018-12-03 22:16:46,617 : INFO : topic #8 (0.100): 0.014*\"government\" + 0.010*\"party\" + 0.008*\"state\" + 0.007*\"minister\" + 0.007*\"comment\" + 0.006*\"member\" + 0.006*\"public\" + 0.006*\"court\" + 0.006*\"issue\" + 0.006*\"use\"\n",
      "2018-12-03 22:16:46,618 : INFO : topic diff=0.213227, rho=0.196116\n",
      "2018-12-03 22:16:46,634 : INFO : PROGRESS: pass 0, at document #2700/2914\n",
      "2018-12-03 22:16:46,685 : INFO : merging changes from 100 documents into a model of 2914 documents\n",
      "2018-12-03 22:16:46,698 : INFO : topic #9 (0.100): 0.012*\"game\" + 0.012*\"team\" + 0.012*\"play\" + 0.011*\"time\" + 0.010*\"win\" + 0.007*\"take\" + 0.007*\"look\" + 0.006*\"player\" + 0.006*\"show\" + 0.006*\"want\"\n",
      "2018-12-03 22:16:46,699 : INFO : topic #1 (0.100): 0.009*\"energy\" + 0.008*\"market\" + 0.008*\"high\" + 0.007*\"gas\" + 0.007*\"price\" + 0.007*\"country\" + 0.007*\"economic\" + 0.007*\"system\" + 0.006*\"economy\" + 0.006*\"project\"\n",
      "2018-12-03 22:16:46,700 : INFO : topic #4 (0.100): 0.024*\"company\" + 0.013*\"business\" + 0.012*\"share\" + 0.009*\"price\" + 0.008*\"market\" + 0.008*\"service\" + 0.007*\"stock\" + 0.006*\"time\" + 0.006*\"technology\" + 0.006*\"investment\"\n",
      "2018-12-03 22:16:46,701 : INFO : topic #8 (0.100): 0.014*\"government\" + 0.009*\"party\" + 0.008*\"state\" + 0.007*\"comment\" + 0.007*\"minister\" + 0.006*\"court\" + 0.006*\"public\" + 0.006*\"member\" + 0.006*\"issue\" + 0.006*\"use\"\n",
      "2018-12-03 22:16:46,701 : INFO : topic #0 (0.100): 0.010*\"world\" + 0.007*\"book\" + 0.006*\"university\" + 0.006*\"change\" + 0.005*\"republican\" + 0.005*\"use\" + 0.005*\"dr\" + 0.005*\"professor\" + 0.004*\"federation\" + 0.004*\"people\"\n",
      "2018-12-03 22:16:46,702 : INFO : topic diff=0.200120, rho=0.192450\n",
      "2018-12-03 22:16:46,719 : INFO : PROGRESS: pass 0, at document #2800/2914\n",
      "2018-12-03 22:16:46,773 : INFO : merging changes from 100 documents into a model of 2914 documents\n",
      "2018-12-03 22:16:46,786 : INFO : topic #3 (0.100): 0.011*\"state\" + 0.010*\"president\" + 0.009*\"country\" + 0.007*\"people\" + 0.006*\"attack\" + 0.006*\"pakistan\" + 0.006*\"take\" + 0.005*\"force\" + 0.005*\"group\" + 0.005*\"government\"\n",
      "2018-12-03 22:16:46,786 : INFO : topic #0 (0.100): 0.010*\"world\" + 0.006*\"book\" + 0.006*\"dr\" + 0.006*\"change\" + 0.005*\"university\" + 0.005*\"use\" + 0.004*\"republican\" + 0.004*\"write\" + 0.004*\"people\" + 0.004*\"fact\"\n",
      "2018-12-03 22:16:46,787 : INFO : topic #8 (0.100): 0.015*\"government\" + 0.009*\"party\" + 0.008*\"comment\" + 0.008*\"court\" + 0.008*\"state\" + 0.007*\"minister\" + 0.007*\"public\" + 0.006*\"pay\" + 0.006*\"member\" + 0.006*\"issue\"\n",
      "2018-12-03 22:16:46,788 : INFO : topic #2 (0.100): 0.015*\"police\" + 0.012*\"health\" + 0.010*\"child\" + 0.010*\"family\" + 0.009*\"drug\" + 0.008*\"comment\" + 0.008*\"case\" + 0.007*\"medical\" + 0.007*\"use\" + 0.007*\"court\"\n",
      "2018-12-03 22:16:46,788 : INFO : topic #6 (0.100): 0.014*\"water\" + 0.007*\"tax\" + 0.007*\"need\" + 0.006*\"work\" + 0.005*\"number\" + 0.005*\"child\" + 0.005*\"cost\" + 0.005*\"nz\" + 0.005*\"plan\" + 0.005*\"country\"\n",
      "2018-12-03 22:16:46,789 : INFO : topic diff=0.222136, rho=0.188982\n",
      "2018-12-03 22:16:46,804 : INFO : PROGRESS: pass 0, at document #2900/2914\n",
      "2018-12-03 22:16:46,860 : INFO : merging changes from 100 documents into a model of 2914 documents\n",
      "2018-12-03 22:16:46,873 : INFO : topic #8 (0.100): 0.014*\"government\" + 0.009*\"party\" + 0.009*\"comment\" + 0.008*\"state\" + 0.007*\"minister\" + 0.007*\"court\" + 0.006*\"public\" + 0.006*\"use\" + 0.006*\"member\" + 0.006*\"cookie\"\n",
      "2018-12-03 22:16:46,874 : INFO : topic #9 (0.100): 0.012*\"game\" + 0.011*\"play\" + 0.011*\"team\" + 0.011*\"time\" + 0.009*\"win\" + 0.007*\"take\" + 0.007*\"look\" + 0.007*\"player\" + 0.007*\"show\" + 0.007*\"want\"\n",
      "2018-12-03 22:16:46,875 : INFO : topic #4 (0.100): 0.020*\"company\" + 0.014*\"business\" + 0.010*\"share\" + 0.009*\"market\" + 0.009*\"price\" + 0.007*\"service\" + 0.007*\"time\" + 0.007*\"technology\" + 0.006*\"industry\" + 0.006*\"billion\"\n",
      "2018-12-03 22:16:46,875 : INFO : topic #3 (0.100): 0.012*\"president\" + 0.010*\"state\" + 0.009*\"country\" + 0.007*\"pakistan\" + 0.007*\"people\" + 0.006*\"attack\" + 0.006*\"take\" + 0.006*\"force\" + 0.005*\"group\" + 0.005*\"government\"\n",
      "2018-12-03 22:16:46,876 : INFO : topic #5 (0.100): 0.017*\"school\" + 0.010*\"student\" + 0.007*\"day\" + 0.006*\"education\" + 0.006*\"community\" + 0.005*\"time\" + 0.005*\"people\" + 0.005*\"open\" + 0.005*\"college\" + 0.005*\"city\"\n",
      "2018-12-03 22:16:46,877 : INFO : topic diff=0.187181, rho=0.185695\n",
      "2018-12-03 22:16:46,917 : INFO : -8.360 per-word bound, 328.5 perplexity estimate based on a held-out corpus of 14 documents with 2867 words\n",
      "2018-12-03 22:16:46,917 : INFO : PROGRESS: pass 0, at document #2914/2914\n",
      "2018-12-03 22:16:46,926 : INFO : merging changes from 14 documents into a model of 2914 documents\n",
      "2018-12-03 22:16:46,940 : INFO : topic #1 (0.100): 0.022*\"market\" + 0.012*\"report\" + 0.012*\"energy\" + 0.011*\"region\" + 0.010*\"country\" + 0.010*\"project\" + 0.010*\"gas\" + 0.008*\"economic\" + 0.008*\"development\" + 0.007*\"growth\"\n",
      "2018-12-03 22:16:46,941 : INFO : topic #8 (0.100): 0.014*\"government\" + 0.012*\"comment\" + 0.010*\"minister\" + 0.009*\"state\" + 0.008*\"party\" + 0.008*\"council\" + 0.007*\"pay\" + 0.006*\"public\" + 0.006*\"court\" + 0.006*\"member\"\n",
      "2018-12-03 22:16:46,942 : INFO : topic #6 (0.100): 0.012*\"water\" + 0.012*\"funding\" + 0.010*\"need\" + 0.009*\"income\" + 0.007*\"project\" + 0.007*\"tax\" + 0.007*\"alley\" + 0.006*\"work\" + 0.006*\"budget\" + 0.006*\"increase\"\n",
      "2018-12-03 22:16:46,942 : INFO : topic #2 (0.100): 0.017*\"police\" + 0.014*\"medical\" + 0.012*\"family\" + 0.012*\"health\" + 0.010*\"comment\" + 0.009*\"drug\" + 0.009*\"mother\" + 0.009*\"child\" + 0.007*\"hospital\" + 0.007*\"doctor\"\n",
      "2018-12-03 22:16:46,943 : INFO : topic #0 (0.100): 0.009*\"supplement\" + 0.009*\"world\" + 0.006*\"book\" + 0.006*\"wise\" + 0.006*\"change\" + 0.005*\"human\" + 0.005*\"dr\" + 0.005*\"diet\" + 0.005*\"culture\" + 0.005*\"use\"\n",
      "2018-12-03 22:16:46,944 : INFO : topic diff=0.212182, rho=0.182574\n",
      "2018-12-03 22:16:48,896 : INFO : PROGRESS: pass 1, at document #100/2914\n",
      "2018-12-03 22:16:48,949 : INFO : merging changes from 100 documents into a model of 2914 documents\n",
      "2018-12-03 22:16:48,961 : INFO : topic #9 (0.100): 0.014*\"game\" + 0.013*\"play\" + 0.011*\"time\" + 0.011*\"win\" + 0.011*\"team\" + 0.008*\"take\" + 0.008*\"look\" + 0.007*\"big\" + 0.006*\"score\" + 0.006*\"player\"\n",
      "2018-12-03 22:16:48,962 : INFO : topic #8 (0.100): 0.013*\"government\" + 0.010*\"comment\" + 0.008*\"minister\" + 0.008*\"state\" + 0.008*\"use\" + 0.007*\"court\" + 0.007*\"party\" + 0.007*\"pay\" + 0.007*\"public\" + 0.007*\"council\"\n",
      "2018-12-03 22:16:48,963 : INFO : topic #7 (0.100): 0.028*\"beer\" + 0.009*\"newspaper\" + 0.008*\"kashmir\" + 0.008*\"website\" + 0.007*\"visit\" + 0.007*\"use\" + 0.007*\"contact\" + 0.007*\"local\" + 0.006*\"editor\" + 0.006*\"area\"\n",
      "2018-12-03 22:16:48,963 : INFO : topic #4 (0.100): 0.022*\"company\" + 0.016*\"market\" + 0.012*\"business\" + 0.010*\"share\" + 0.010*\"price\" + 0.009*\"service\" + 0.008*\"technology\" + 0.007*\"investment\" + 0.007*\"time\" + 0.006*\"singapore\"\n",
      "2018-12-03 22:16:48,964 : INFO : topic #6 (0.100): 0.012*\"water\" + 0.009*\"funding\" + 0.009*\"need\" + 0.008*\"income\" + 0.008*\"project\" + 0.007*\"work\" + 0.007*\"tax\" + 0.006*\"plan\" + 0.005*\"number\" + 0.005*\"increase\"\n",
      "2018-12-03 22:16:48,965 : INFO : topic diff=0.243428, rho=0.179201\n",
      "2018-12-03 22:16:48,982 : INFO : PROGRESS: pass 1, at document #200/2914\n",
      "2018-12-03 22:16:49,036 : INFO : merging changes from 100 documents into a model of 2914 documents\n"
     ]
    },
    {
     "name": "stderr",
     "output_type": "stream",
     "text": [
      "2018-12-03 22:16:49,049 : INFO : topic #5 (0.100): 0.015*\"school\" + 0.011*\"student\" + 0.009*\"city\" + 0.008*\"community\" + 0.006*\"day\" + 0.006*\"space\" + 0.006*\"open\" + 0.006*\"people\" + 0.005*\"time\" + 0.005*\"education\"\n",
      "2018-12-03 22:16:49,050 : INFO : topic #9 (0.100): 0.013*\"game\" + 0.012*\"play\" + 0.011*\"time\" + 0.010*\"team\" + 0.009*\"win\" + 0.009*\"score\" + 0.008*\"take\" + 0.008*\"look\" + 0.006*\"want\" + 0.006*\"big\"\n",
      "2018-12-03 22:16:49,051 : INFO : topic #0 (0.100): 0.010*\"book\" + 0.010*\"world\" + 0.006*\"change\" + 0.006*\"dr\" + 0.005*\"supplement\" + 0.005*\"use\" + 0.005*\"human\" + 0.005*\"university\" + 0.005*\"write\" + 0.004*\"people\"\n",
      "2018-12-03 22:16:49,051 : INFO : topic #7 (0.100): 0.022*\"beer\" + 0.008*\"*\" + 0.008*\"newspaper\" + 0.007*\"website\" + 0.007*\"kashmir\" + 0.007*\"use\" + 0.006*\"visit\" + 0.006*\"local\" + 0.006*\"editor\" + 0.006*\"area\"\n",
      "2018-12-03 22:16:49,052 : INFO : topic #3 (0.100): 0.009*\"president\" + 0.009*\"state\" + 0.007*\"country\" + 0.007*\"force\" + 0.006*\"take\" + 0.006*\"attack\" + 0.006*\"people\" + 0.006*\"government\" + 0.005*\"pakistan\" + 0.004*\"security\"\n",
      "2018-12-03 22:16:49,053 : INFO : topic diff=0.207858, rho=0.179201\n",
      "2018-12-03 22:16:49,071 : INFO : PROGRESS: pass 1, at document #300/2914\n",
      "2018-12-03 22:16:49,138 : INFO : merging changes from 100 documents into a model of 2914 documents\n",
      "2018-12-03 22:16:49,152 : INFO : topic #3 (0.100): 0.008*\"state\" + 0.008*\"president\" + 0.007*\"force\" + 0.007*\"country\" + 0.006*\"take\" + 0.006*\"people\" + 0.006*\"government\" + 0.005*\"attack\" + 0.005*\"security\" + 0.004*\"military\"\n",
      "2018-12-03 22:16:49,153 : INFO : topic #4 (0.100): 0.022*\"company\" + 0.013*\"market\" + 0.011*\"business\" + 0.010*\"share\" + 0.008*\"service\" + 0.008*\"price\" + 0.008*\"technology\" + 0.007*\"time\" + 0.006*\"industry\" + 0.006*\"investment\"\n",
      "2018-12-03 22:16:49,154 : INFO : topic #1 (0.100): 0.015*\"market\" + 0.010*\"energy\" + 0.009*\"project\" + 0.009*\"report\" + 0.009*\"gas\" + 0.009*\"country\" + 0.007*\"region\" + 0.007*\"development\" + 0.007*\"economic\" + 0.007*\"rate\"\n",
      "2018-12-03 22:16:49,156 : INFO : topic #0 (0.100): 0.010*\"world\" + 0.009*\"book\" + 0.006*\"change\" + 0.006*\"university\" + 0.005*\"human\" + 0.005*\"dr\" + 0.005*\"use\" + 0.005*\"write\" + 0.004*\"people\" + 0.004*\"supplement\"\n",
      "2018-12-03 22:16:49,157 : INFO : topic #6 (0.100): 0.011*\"water\" + 0.008*\"need\" + 0.008*\"work\" + 0.008*\"project\" + 0.007*\"funding\" + 0.006*\"income\" + 0.006*\"tax\" + 0.006*\"cost\" + 0.006*\"plan\" + 0.005*\"number\"\n",
      "2018-12-03 22:16:49,159 : INFO : topic diff=0.207218, rho=0.179201\n",
      "2018-12-03 22:16:49,180 : INFO : PROGRESS: pass 1, at document #400/2914\n",
      "2018-12-03 22:16:49,243 : INFO : merging changes from 100 documents into a model of 2914 documents\n",
      "2018-12-03 22:16:49,262 : INFO : topic #5 (0.100): 0.019*\"school\" + 0.011*\"student\" + 0.008*\"city\" + 0.007*\"people\" + 0.007*\"community\" + 0.006*\"canada\" + 0.005*\"day\" + 0.005*\"work\" + 0.005*\"space\" + 0.005*\"education\"\n",
      "2018-12-03 22:16:49,263 : INFO : topic #7 (0.100): 0.014*\"beer\" + 0.009*\"brand\" + 0.009*\"website\" + 0.007*\"product\" + 0.007*\"use\" + 0.007*\"online\" + 0.007*\"local\" + 0.007*\"newspaper\" + 0.007*\"site\" + 0.006*\"food\"\n",
      "2018-12-03 22:16:49,264 : INFO : topic #3 (0.100): 0.008*\"state\" + 0.007*\"president\" + 0.007*\"force\" + 0.007*\"country\" + 0.006*\"take\" + 0.006*\"people\" + 0.006*\"government\" + 0.005*\"attack\" + 0.005*\"military\" + 0.004*\"security\"\n",
      "2018-12-03 22:16:49,265 : INFO : topic #4 (0.100): 0.022*\"company\" + 0.012*\"market\" + 0.011*\"business\" + 0.010*\"share\" + 0.009*\"service\" + 0.007*\"price\" + 0.007*\"technology\" + 0.007*\"time\" + 0.006*\"investment\" + 0.006*\"industry\"\n",
      "2018-12-03 22:16:49,265 : INFO : topic #0 (0.100): 0.010*\"world\" + 0.009*\"book\" + 0.006*\"change\" + 0.005*\"university\" + 0.005*\"use\" + 0.005*\"human\" + 0.005*\"dr\" + 0.005*\"write\" + 0.005*\"people\" + 0.004*\"history\"\n",
      "2018-12-03 22:16:49,267 : INFO : topic diff=0.207263, rho=0.179201\n",
      "2018-12-03 22:16:49,283 : INFO : PROGRESS: pass 1, at document #500/2914\n",
      "2018-12-03 22:16:49,338 : INFO : merging changes from 100 documents into a model of 2914 documents\n",
      "2018-12-03 22:16:49,360 : INFO : topic #7 (0.100): 0.012*\"beer\" + 0.012*\"brand\" + 0.008*\"website\" + 0.007*\"online\" + 0.007*\"product\" + 0.007*\"use\" + 0.007*\"local\" + 0.006*\"food\" + 0.006*\"site\" + 0.006*\"newspaper\"\n",
      "2018-12-03 22:16:49,360 : INFO : topic #8 (0.100): 0.013*\"government\" + 0.009*\"comment\" + 0.008*\"public\" + 0.008*\"court\" + 0.008*\"minister\" + 0.008*\"state\" + 0.007*\"pay\" + 0.007*\"use\" + 0.006*\"service\" + 0.006*\"party\"\n",
      "2018-12-03 22:16:49,361 : INFO : topic #9 (0.100): 0.011*\"play\" + 0.010*\"game\" + 0.010*\"time\" + 0.009*\"take\" + 0.009*\"look\" + 0.008*\"team\" + 0.008*\"want\" + 0.007*\"show\" + 0.007*\"film\" + 0.007*\"win\"\n",
      "2018-12-03 22:16:49,362 : INFO : topic #6 (0.100): 0.009*\"water\" + 0.009*\"need\" + 0.008*\"work\" + 0.006*\"project\" + 0.006*\"income\" + 0.006*\"percent\" + 0.006*\"number\" + 0.006*\"cost\" + 0.006*\"people\" + 0.005*\"tax\"\n",
      "2018-12-03 22:16:49,362 : INFO : topic #5 (0.100): 0.017*\"school\" + 0.010*\"student\" + 0.009*\"city\" + 0.008*\"people\" + 0.006*\"community\" + 0.006*\"day\" + 0.005*\"work\" + 0.005*\"canada\" + 0.005*\"open\" + 0.005*\"park\"\n",
      "2018-12-03 22:16:49,363 : INFO : topic diff=0.159930, rho=0.179201\n",
      "2018-12-03 22:16:49,381 : INFO : PROGRESS: pass 1, at document #600/2914\n",
      "2018-12-03 22:16:49,437 : INFO : merging changes from 100 documents into a model of 2914 documents\n",
      "2018-12-03 22:16:49,457 : INFO : topic #5 (0.100): 0.015*\"school\" + 0.014*\"student\" + 0.009*\"city\" + 0.008*\"people\" + 0.006*\"day\" + 0.006*\"community\" + 0.005*\"time\" + 0.005*\"work\" + 0.005*\"university\" + 0.005*\"park\"\n",
      "2018-12-03 22:16:49,461 : INFO : topic #9 (0.100): 0.010*\"play\" + 0.010*\"time\" + 0.009*\"game\" + 0.008*\"look\" + 0.008*\"team\" + 0.008*\"take\" + 0.007*\"film\" + 0.007*\"want\" + 0.007*\"win\" + 0.007*\"big\"\n",
      "2018-12-03 22:16:49,462 : INFO : topic #4 (0.100): 0.021*\"company\" + 0.012*\"market\" + 0.011*\"business\" + 0.010*\"share\" + 0.007*\"time\" + 0.007*\"service\" + 0.006*\"price\" + 0.006*\"technology\" + 0.006*\"industry\" + 0.005*\"cent\"\n",
      "2018-12-03 22:16:49,463 : INFO : topic #1 (0.100): 0.013*\"market\" + 0.010*\"country\" + 0.009*\"energy\" + 0.008*\"report\" + 0.008*\"plant\" + 0.007*\"high\" + 0.007*\"project\" + 0.007*\"oil\" + 0.007*\"bank\" + 0.006*\"rate\"\n",
      "2018-12-03 22:16:49,464 : INFO : topic #7 (0.100): 0.011*\"brand\" + 0.010*\"beer\" + 0.008*\"product\" + 0.008*\"website\" + 0.007*\"use\" + 0.007*\"local\" + 0.006*\"site\" + 0.006*\"online\" + 0.006*\"food\" + 0.006*\"*\"\n",
      "2018-12-03 22:16:49,466 : INFO : topic diff=0.193510, rho=0.179201\n",
      "2018-12-03 22:16:49,483 : INFO : PROGRESS: pass 1, at document #700/2914\n",
      "2018-12-03 22:16:49,540 : INFO : merging changes from 100 documents into a model of 2914 documents\n",
      "2018-12-03 22:16:49,563 : INFO : topic #9 (0.100): 0.010*\"time\" + 0.010*\"play\" + 0.008*\"game\" + 0.008*\"take\" + 0.008*\"team\" + 0.008*\"look\" + 0.007*\"want\" + 0.007*\"win\" + 0.007*\"film\" + 0.007*\"show\"\n",
      "2018-12-03 22:16:49,565 : INFO : topic #0 (0.100): 0.010*\"world\" + 0.009*\"book\" + 0.009*\"dr\" + 0.007*\"university\" + 0.007*\"professor\" + 0.005*\"write\" + 0.005*\"use\" + 0.005*\"people\" + 0.005*\"change\" + 0.004*\"history\"\n",
      "2018-12-03 22:16:49,567 : INFO : topic #8 (0.100): 0.013*\"government\" + 0.010*\"state\" + 0.010*\"comment\" + 0.008*\"minister\" + 0.008*\"public\" + 0.007*\"pay\" + 0.007*\"court\" + 0.007*\"party\" + 0.006*\"service\" + 0.006*\"use\"\n",
      "2018-12-03 22:16:49,568 : INFO : topic #6 (0.100): 0.009*\"need\" + 0.008*\"work\" + 0.007*\"plan\" + 0.007*\"water\" + 0.006*\"people\" + 0.006*\"project\" + 0.006*\"number\" + 0.005*\"cost\" + 0.005*\"percent\" + 0.005*\"child\"\n",
      "2018-12-03 22:16:49,569 : INFO : topic #5 (0.100): 0.017*\"school\" + 0.013*\"student\" + 0.009*\"city\" + 0.008*\"people\" + 0.006*\"day\" + 0.006*\"university\" + 0.006*\"community\" + 0.005*\"time\" + 0.005*\"work\" + 0.005*\"education\"\n",
      "2018-12-03 22:16:49,569 : INFO : topic diff=0.166634, rho=0.179201\n",
      "2018-12-03 22:16:49,594 : INFO : PROGRESS: pass 1, at document #800/2914\n",
      "2018-12-03 22:16:49,658 : INFO : merging changes from 100 documents into a model of 2914 documents\n",
      "2018-12-03 22:16:49,671 : INFO : topic #9 (0.100): 0.010*\"time\" + 0.009*\"play\" + 0.008*\"take\" + 0.008*\"team\" + 0.008*\"game\" + 0.008*\"look\" + 0.007*\"win\" + 0.007*\"want\" + 0.007*\"show\" + 0.006*\"film\"\n",
      "2018-12-03 22:16:49,672 : INFO : topic #5 (0.100): 0.018*\"school\" + 0.011*\"student\" + 0.010*\"city\" + 0.008*\"people\" + 0.006*\"day\" + 0.006*\"community\" + 0.006*\"university\" + 0.005*\"work\" + 0.005*\"time\" + 0.005*\"open\"\n"
     ]
    },
    {
     "name": "stderr",
     "output_type": "stream",
     "text": [
      "2018-12-03 22:16:49,673 : INFO : topic #0 (0.100): 0.010*\"world\" + 0.009*\"book\" + 0.008*\"dr\" + 0.007*\"university\" + 0.007*\"professor\" + 0.006*\"write\" + 0.006*\"history\" + 0.005*\"people\" + 0.005*\"use\" + 0.005*\"change\"\n",
      "2018-12-03 22:16:49,674 : INFO : topic #7 (0.100): 0.010*\"brand\" + 0.008*\"product\" + 0.007*\"beer\" + 0.007*\"local\" + 0.007*\"website\" + 0.006*\"online\" + 0.006*\"editor\" + 0.006*\"area\" + 0.006*\"use\" + 0.006*\"site\"\n",
      "2018-12-03 22:16:49,675 : INFO : topic #4 (0.100): 0.021*\"company\" + 0.011*\"business\" + 0.010*\"market\" + 0.009*\"share\" + 0.007*\"time\" + 0.006*\"service\" + 0.006*\"price\" + 0.006*\"technology\" + 0.006*\"industry\" + 0.005*\"investment\"\n",
      "2018-12-03 22:16:49,675 : INFO : topic diff=0.147317, rho=0.179201\n",
      "2018-12-03 22:16:49,693 : INFO : PROGRESS: pass 1, at document #900/2914\n",
      "2018-12-03 22:16:49,753 : INFO : merging changes from 100 documents into a model of 2914 documents\n",
      "2018-12-03 22:16:49,767 : INFO : topic #8 (0.100): 0.012*\"government\" + 0.010*\"comment\" + 0.009*\"state\" + 0.008*\"public\" + 0.008*\"party\" + 0.007*\"minister\" + 0.006*\"court\" + 0.006*\"service\" + 0.006*\"pay\" + 0.006*\"member\"\n",
      "2018-12-03 22:16:49,769 : INFO : topic #9 (0.100): 0.010*\"time\" + 0.009*\"play\" + 0.009*\"take\" + 0.008*\"win\" + 0.008*\"look\" + 0.008*\"game\" + 0.008*\"team\" + 0.008*\"want\" + 0.007*\"show\" + 0.006*\"film\"\n",
      "2018-12-03 22:16:49,770 : INFO : topic #2 (0.100): 0.015*\"police\" + 0.012*\"family\" + 0.012*\"child\" + 0.009*\"people\" + 0.009*\"health\" + 0.009*\"life\" + 0.007*\"use\" + 0.007*\"medical\" + 0.007*\"death\" + 0.007*\"comment\"\n",
      "2018-12-03 22:16:49,771 : INFO : topic #3 (0.100): 0.011*\"state\" + 0.007*\"country\" + 0.006*\"take\" + 0.006*\"president\" + 0.006*\"people\" + 0.006*\"force\" + 0.005*\"government\" + 0.005*\"attack\" + 0.005*\"member\" + 0.004*\"kill\"\n",
      "2018-12-03 22:16:49,772 : INFO : topic #0 (0.100): 0.010*\"world\" + 0.008*\"book\" + 0.007*\"university\" + 0.007*\"dr\" + 0.006*\"change\" + 0.006*\"professor\" + 0.006*\"write\" + 0.005*\"people\" + 0.005*\"climate\" + 0.005*\"use\"\n",
      "2018-12-03 22:16:49,774 : INFO : topic diff=0.156028, rho=0.179201\n",
      "2018-12-03 22:16:49,916 : INFO : -8.362 per-word bound, 329.0 perplexity estimate based on a held-out corpus of 100 documents with 22700 words\n",
      "2018-12-03 22:16:49,917 : INFO : PROGRESS: pass 1, at document #1000/2914\n",
      "2018-12-03 22:16:49,990 : INFO : merging changes from 100 documents into a model of 2914 documents\n",
      "2018-12-03 22:16:50,014 : INFO : topic #2 (0.100): 0.015*\"police\" + 0.013*\"family\" + 0.012*\"child\" + 0.009*\"people\" + 0.009*\"life\" + 0.008*\"health\" + 0.007*\"use\" + 0.007*\"comment\" + 0.007*\"medical\" + 0.007*\"death\"\n",
      "2018-12-03 22:16:50,015 : INFO : topic #3 (0.100): 0.010*\"state\" + 0.007*\"country\" + 0.006*\"force\" + 0.006*\"take\" + 0.006*\"people\" + 0.006*\"president\" + 0.006*\"war\" + 0.005*\"attack\" + 0.005*\"member\" + 0.005*\"muslim\"\n",
      "2018-12-03 22:16:50,015 : INFO : topic #8 (0.100): 0.012*\"government\" + 0.010*\"comment\" + 0.008*\"public\" + 0.008*\"party\" + 0.007*\"state\" + 0.007*\"service\" + 0.007*\"right\" + 0.007*\"pay\" + 0.006*\"member\" + 0.006*\"minister\"\n",
      "2018-12-03 22:16:50,016 : INFO : topic #9 (0.100): 0.010*\"time\" + 0.010*\"game\" + 0.010*\"play\" + 0.008*\"look\" + 0.008*\"take\" + 0.008*\"want\" + 0.008*\"win\" + 0.008*\"team\" + 0.007*\"show\" + 0.006*\"big\"\n",
      "2018-12-03 22:16:50,017 : INFO : topic #7 (0.100): 0.008*\"brand\" + 0.007*\"local\" + 0.007*\"use\" + 0.007*\"website\" + 0.007*\"food\" + 0.007*\"product\" + 0.006*\"online\" + 0.006*\"editor\" + 0.006*\"*\" + 0.006*\"people\"\n",
      "2018-12-03 22:16:50,018 : INFO : topic diff=0.137910, rho=0.179201\n",
      "2018-12-03 22:16:50,036 : INFO : PROGRESS: pass 1, at document #1100/2914\n",
      "2018-12-03 22:16:50,090 : INFO : merging changes from 100 documents into a model of 2914 documents\n",
      "2018-12-03 22:16:50,103 : INFO : topic #8 (0.100): 0.013*\"government\" + 0.009*\"comment\" + 0.008*\"public\" + 0.008*\"party\" + 0.007*\"state\" + 0.007*\"minister\" + 0.007*\"member\" + 0.006*\"right\" + 0.006*\"service\" + 0.006*\"pay\"\n",
      "2018-12-03 22:16:50,104 : INFO : topic #6 (0.100): 0.009*\"need\" + 0.009*\"work\" + 0.008*\"plan\" + 0.008*\"cost\" + 0.007*\"child\" + 0.006*\"people\" + 0.006*\"water\" + 0.005*\"income\" + 0.005*\"number\" + 0.005*\"project\"\n",
      "2018-12-03 22:16:50,106 : INFO : topic #7 (0.100): 0.007*\"use\" + 0.007*\"food\" + 0.007*\"local\" + 0.007*\"brand\" + 0.006*\"website\" + 0.006*\"*\" + 0.006*\"product\" + 0.006*\"online\" + 0.006*\"ad\" + 0.006*\"people\"\n",
      "2018-12-03 22:16:50,107 : INFO : topic #5 (0.100): 0.015*\"school\" + 0.010*\"student\" + 0.008*\"people\" + 0.008*\"city\" + 0.007*\"day\" + 0.006*\"community\" + 0.006*\"work\" + 0.005*\"time\" + 0.005*\"university\" + 0.005*\"place\"\n",
      "2018-12-03 22:16:50,108 : INFO : topic #0 (0.100): 0.011*\"world\" + 0.010*\"book\" + 0.007*\"university\" + 0.007*\"change\" + 0.006*\"write\" + 0.006*\"dr\" + 0.005*\"professor\" + 0.005*\"people\" + 0.005*\"history\" + 0.005*\"use\"\n",
      "2018-12-03 22:16:50,110 : INFO : topic diff=0.135966, rho=0.179201\n",
      "2018-12-03 22:16:50,127 : INFO : PROGRESS: pass 1, at document #1200/2914\n",
      "2018-12-03 22:16:50,184 : INFO : merging changes from 100 documents into a model of 2914 documents\n",
      "2018-12-03 22:16:50,199 : INFO : topic #3 (0.100): 0.009*\"state\" + 0.007*\"country\" + 0.006*\"people\" + 0.006*\"take\" + 0.006*\"force\" + 0.006*\"president\" + 0.005*\"war\" + 0.005*\"attack\" + 0.005*\"kill\" + 0.004*\"government\"\n",
      "2018-12-03 22:16:50,201 : INFO : topic #7 (0.100): 0.011*\"*\" + 0.009*\"food\" + 0.007*\"product\" + 0.007*\"use\" + 0.007*\"local\" + 0.006*\"website\" + 0.006*\"brand\" + 0.006*\"comment\" + 0.006*\"online\" + 0.006*\"people\"\n",
      "2018-12-03 22:16:50,202 : INFO : topic #5 (0.100): 0.014*\"school\" + 0.009*\"city\" + 0.009*\"student\" + 0.008*\"people\" + 0.007*\"community\" + 0.007*\"day\" + 0.005*\"work\" + 0.005*\"open\" + 0.005*\"time\" + 0.005*\"place\"\n",
      "2018-12-03 22:16:50,203 : INFO : topic #4 (0.100): 0.019*\"company\" + 0.016*\"business\" + 0.009*\"market\" + 0.009*\"share\" + 0.007*\"time\" + 0.006*\"technology\" + 0.006*\"industry\" + 0.005*\"price\" + 0.005*\"service\" + 0.005*\"investor\"\n",
      "2018-12-03 22:16:50,204 : INFO : topic #6 (0.100): 0.009*\"need\" + 0.008*\"plan\" + 0.008*\"work\" + 0.007*\"cost\" + 0.006*\"child\" + 0.006*\"people\" + 0.006*\"water\" + 0.005*\"number\" + 0.005*\"area\" + 0.005*\"income\"\n",
      "2018-12-03 22:16:50,206 : INFO : topic diff=0.132364, rho=0.179201\n",
      "2018-12-03 22:16:50,224 : INFO : PROGRESS: pass 1, at document #1300/2914\n",
      "2018-12-03 22:16:50,283 : INFO : merging changes from 100 documents into a model of 2914 documents\n",
      "2018-12-03 22:16:50,298 : INFO : topic #9 (0.100): 0.012*\"game\" + 0.011*\"time\" + 0.010*\"team\" + 0.009*\"play\" + 0.008*\"take\" + 0.008*\"look\" + 0.007*\"show\" + 0.007*\"win\" + 0.007*\"want\" + 0.006*\"player\"\n",
      "2018-12-03 22:16:50,299 : INFO : topic #5 (0.100): 0.011*\"school\" + 0.009*\"city\" + 0.008*\"student\" + 0.008*\"open\" + 0.008*\"day\" + 0.008*\"people\" + 0.006*\"community\" + 0.005*\"vegas\" + 0.005*\"place\" + 0.005*\"time\"\n",
      "2018-12-03 22:16:50,299 : INFO : topic #7 (0.100): 0.016*\"*\" + 0.010*\"food\" + 0.008*\"use\" + 0.006*\"product\" + 0.006*\"local\" + 0.006*\"website\" + 0.006*\"online\" + 0.006*\"photo\" + 0.006*\"comment\" + 0.005*\"site\"\n",
      "2018-12-03 22:16:50,300 : INFO : topic #4 (0.100): 0.018*\"company\" + 0.014*\"business\" + 0.009*\"share\" + 0.009*\"market\" + 0.008*\"time\" + 0.007*\"technology\" + 0.006*\"price\" + 0.005*\"service\" + 0.005*\"industry\" + 0.005*\"web\"\n",
      "2018-12-03 22:16:50,301 : INFO : topic #3 (0.100): 0.009*\"state\" + 0.007*\"country\" + 0.006*\"people\" + 0.006*\"take\" + 0.006*\"president\" + 0.006*\"force\" + 0.006*\"war\" + 0.005*\"attack\" + 0.004*\"kill\" + 0.004*\"member\"\n",
      "2018-12-03 22:16:50,302 : INFO : topic diff=0.151219, rho=0.179201\n",
      "2018-12-03 22:16:50,322 : INFO : PROGRESS: pass 1, at document #1400/2914\n",
      "2018-12-03 22:16:50,381 : INFO : merging changes from 100 documents into a model of 2914 documents\n",
      "2018-12-03 22:16:50,396 : INFO : topic #8 (0.100): 0.011*\"government\" + 0.009*\"comment\" + 0.007*\"public\" + 0.007*\"party\" + 0.007*\"minister\" + 0.006*\"council\" + 0.006*\"state\" + 0.006*\"pay\" + 0.006*\"right\" + 0.006*\"member\"\n",
      "2018-12-03 22:16:50,397 : INFO : topic #5 (0.100): 0.011*\"school\" + 0.011*\"city\" + 0.008*\"student\" + 0.008*\"people\" + 0.007*\"day\" + 0.007*\"open\" + 0.006*\"community\" + 0.005*\"place\" + 0.005*\"time\" + 0.005*\"park\"\n",
      "2018-12-03 22:16:50,398 : INFO : topic #7 (0.100): 0.015*\"*\" + 0.010*\"food\" + 0.008*\"use\" + 0.007*\"website\" + 0.007*\"product\" + 0.006*\"online\" + 0.006*\"site\" + 0.006*\"local\" + 0.006*\"photo\" + 0.005*\"brand\"\n"
     ]
    },
    {
     "name": "stderr",
     "output_type": "stream",
     "text": [
      "2018-12-03 22:16:50,400 : INFO : topic #4 (0.100): 0.017*\"company\" + 0.014*\"business\" + 0.008*\"market\" + 0.008*\"technology\" + 0.008*\"share\" + 0.008*\"time\" + 0.005*\"cent\" + 0.005*\"price\" + 0.005*\"service\" + 0.005*\"industry\"\n",
      "2018-12-03 22:16:50,402 : INFO : topic #2 (0.100): 0.013*\"police\" + 0.012*\"family\" + 0.010*\"child\" + 0.009*\"health\" + 0.009*\"life\" + 0.008*\"people\" + 0.008*\"comment\" + 0.008*\"drug\" + 0.007*\"woman\" + 0.007*\"use\"\n",
      "2018-12-03 22:16:50,404 : INFO : topic diff=0.139187, rho=0.179201\n",
      "2018-12-03 22:16:50,427 : INFO : PROGRESS: pass 1, at document #1500/2914\n",
      "2018-12-03 22:16:50,487 : INFO : merging changes from 100 documents into a model of 2914 documents\n",
      "2018-12-03 22:16:50,502 : INFO : topic #6 (0.100): 0.008*\"need\" + 0.008*\"child\" + 0.008*\"work\" + 0.007*\"plan\" + 0.007*\"cost\" + 0.006*\"people\" + 0.006*\"number\" + 0.006*\"percent\" + 0.005*\"area\" + 0.005*\"water\"\n",
      "2018-12-03 22:16:50,503 : INFO : topic #7 (0.100): 0.016*\"*\" + 0.009*\"food\" + 0.008*\"use\" + 0.007*\"dog\" + 0.007*\"online\" + 0.006*\"website\" + 0.006*\"brand\" + 0.006*\"product\" + 0.006*\"site\" + 0.006*\"local\"\n",
      "2018-12-03 22:16:50,504 : INFO : topic #8 (0.100): 0.011*\"government\" + 0.009*\"comment\" + 0.007*\"party\" + 0.007*\"public\" + 0.007*\"right\" + 0.006*\"pay\" + 0.006*\"minister\" + 0.006*\"member\" + 0.006*\"state\" + 0.006*\"council\"\n",
      "2018-12-03 22:16:50,504 : INFO : topic #3 (0.100): 0.008*\"state\" + 0.006*\"people\" + 0.006*\"country\" + 0.006*\"take\" + 0.006*\"force\" + 0.005*\"president\" + 0.005*\"attack\" + 0.005*\"war\" + 0.004*\"kill\" + 0.004*\"leader\"\n",
      "2018-12-03 22:16:50,505 : INFO : topic #2 (0.100): 0.014*\"police\" + 0.012*\"family\" + 0.010*\"child\" + 0.008*\"life\" + 0.008*\"people\" + 0.008*\"health\" + 0.007*\"drug\" + 0.007*\"comment\" + 0.007*\"use\" + 0.007*\"find\"\n",
      "2018-12-03 22:16:50,506 : INFO : topic diff=0.165605, rho=0.179201\n",
      "2018-12-03 22:16:50,524 : INFO : PROGRESS: pass 1, at document #1600/2914\n",
      "2018-12-03 22:16:50,575 : INFO : merging changes from 100 documents into a model of 2914 documents\n",
      "2018-12-03 22:16:50,587 : INFO : topic #3 (0.100): 0.008*\"pakistan\" + 0.008*\"state\" + 0.007*\"country\" + 0.007*\"people\" + 0.006*\"take\" + 0.006*\"force\" + 0.006*\"president\" + 0.006*\"oct\" + 0.005*\"muslim\" + 0.005*\"war\"\n",
      "2018-12-03 22:16:50,588 : INFO : topic #1 (0.100): 0.010*\"market\" + 0.008*\"system\" + 0.008*\"growth\" + 0.008*\"energy\" + 0.007*\"economic\" + 0.007*\"high\" + 0.007*\"country\" + 0.007*\"rate\" + 0.006*\"large\" + 0.006*\"project\"\n",
      "2018-12-03 22:16:50,589 : INFO : topic #0 (0.100): 0.012*\"world\" + 0.009*\"book\" + 0.006*\"change\" + 0.006*\"write\" + 0.006*\"people\" + 0.005*\"university\" + 0.005*\"study\" + 0.005*\"use\" + 0.005*\"dr\" + 0.005*\"human\"\n",
      "2018-12-03 22:16:50,589 : INFO : topic #6 (0.100): 0.008*\"need\" + 0.008*\"work\" + 0.007*\"child\" + 0.007*\"plan\" + 0.007*\"cost\" + 0.006*\"people\" + 0.006*\"area\" + 0.006*\"tax\" + 0.006*\"number\" + 0.005*\"percent\"\n",
      "2018-12-03 22:16:50,590 : INFO : topic #7 (0.100): 0.014*\"*\" + 0.008*\"food\" + 0.008*\"use\" + 0.008*\"local\" + 0.007*\"website\" + 0.007*\"product\" + 0.006*\"brand\" + 0.006*\"online\" + 0.006*\"dog\" + 0.006*\"site\"\n",
      "2018-12-03 22:16:50,591 : INFO : topic diff=0.131315, rho=0.179201\n",
      "2018-12-03 22:16:50,606 : INFO : PROGRESS: pass 1, at document #1700/2914\n",
      "2018-12-03 22:16:50,656 : INFO : merging changes from 100 documents into a model of 2914 documents\n",
      "2018-12-03 22:16:50,672 : INFO : topic #4 (0.100): 0.016*\"company\" + 0.012*\"business\" + 0.009*\"market\" + 0.008*\"time\" + 0.007*\"technology\" + 0.007*\"share\" + 0.006*\"sales\" + 0.005*\"car\" + 0.005*\"industry\" + 0.005*\"price\"\n",
      "2018-12-03 22:16:50,673 : INFO : topic #6 (0.100): 0.008*\"need\" + 0.007*\"work\" + 0.007*\"child\" + 0.007*\"plan\" + 0.007*\"people\" + 0.006*\"cost\" + 0.006*\"water\" + 0.006*\"area\" + 0.005*\"number\" + 0.005*\"city\"\n",
      "2018-12-03 22:16:50,673 : INFO : topic #3 (0.100): 0.008*\"state\" + 0.007*\"people\" + 0.007*\"country\" + 0.007*\"pakistan\" + 0.006*\"take\" + 0.006*\"force\" + 0.006*\"president\" + 0.005*\"kill\" + 0.005*\"oct\" + 0.005*\"attack\"\n",
      "2018-12-03 22:16:50,674 : INFO : topic #2 (0.100): 0.015*\"police\" + 0.011*\"family\" + 0.010*\"child\" + 0.008*\"people\" + 0.008*\"life\" + 0.007*\"health\" + 0.007*\"death\" + 0.007*\"comment\" + 0.007*\"find\" + 0.007*\"woman\"\n",
      "2018-12-03 22:16:50,675 : INFO : topic #7 (0.100): 0.012*\"*\" + 0.009*\"use\" + 0.008*\"food\" + 0.008*\"local\" + 0.007*\"brand\" + 0.007*\"product\" + 0.007*\"website\" + 0.006*\"online\" + 0.006*\"comment\" + 0.005*\"store\"\n",
      "2018-12-03 22:16:50,676 : INFO : topic diff=0.113160, rho=0.179201\n",
      "2018-12-03 22:16:50,691 : INFO : PROGRESS: pass 1, at document #1800/2914\n",
      "2018-12-03 22:16:50,744 : INFO : merging changes from 100 documents into a model of 2914 documents\n",
      "2018-12-03 22:16:50,758 : INFO : topic #7 (0.100): 0.014*\"*\" + 0.008*\"use\" + 0.007*\"website\" + 0.007*\"local\" + 0.007*\"food\" + 0.007*\"brand\" + 0.007*\"online\" + 0.007*\"product\" + 0.006*\"editor\" + 0.006*\"site\"\n",
      "2018-12-03 22:16:50,759 : INFO : topic #6 (0.100): 0.008*\"need\" + 0.008*\"work\" + 0.007*\"child\" + 0.007*\"plan\" + 0.007*\"people\" + 0.007*\"cost\" + 0.006*\"water\" + 0.006*\"number\" + 0.006*\"area\" + 0.005*\"tax\"\n",
      "2018-12-03 22:16:50,760 : INFO : topic #8 (0.100): 0.013*\"government\" + 0.012*\"comment\" + 0.008*\"minister\" + 0.008*\"party\" + 0.007*\"state\" + 0.007*\"public\" + 0.006*\"member\" + 0.006*\"court\" + 0.006*\"right\" + 0.006*\"pay\"\n",
      "2018-12-03 22:16:50,760 : INFO : topic #5 (0.100): 0.012*\"school\" + 0.011*\"city\" + 0.008*\"student\" + 0.007*\"people\" + 0.007*\"day\" + 0.006*\"open\" + 0.005*\"community\" + 0.005*\"place\" + 0.005*\"time\" + 0.005*\"work\"\n",
      "2018-12-03 22:16:50,761 : INFO : topic #0 (0.100): 0.011*\"world\" + 0.007*\"book\" + 0.006*\"change\" + 0.006*\"dr\" + 0.006*\"write\" + 0.006*\"people\" + 0.005*\"study\" + 0.005*\"university\" + 0.005*\"use\" + 0.005*\"find\"\n",
      "2018-12-03 22:16:50,762 : INFO : topic diff=0.114306, rho=0.179201\n",
      "2018-12-03 22:16:50,781 : INFO : PROGRESS: pass 1, at document #1900/2914\n",
      "2018-12-03 22:16:50,827 : INFO : merging changes from 100 documents into a model of 2914 documents\n",
      "2018-12-03 22:16:50,840 : INFO : topic #9 (0.100): 0.012*\"time\" + 0.011*\"game\" + 0.011*\"team\" + 0.010*\"play\" + 0.009*\"win\" + 0.007*\"take\" + 0.007*\"look\" + 0.007*\"show\" + 0.006*\"film\" + 0.006*\"want\"\n",
      "2018-12-03 22:16:50,841 : INFO : topic #2 (0.100): 0.016*\"police\" + 0.010*\"family\" + 0.009*\"child\" + 0.009*\"people\" + 0.008*\"life\" + 0.008*\"health\" + 0.008*\"find\" + 0.007*\"woman\" + 0.007*\"comment\" + 0.006*\"take\"\n",
      "2018-12-03 22:16:50,841 : INFO : topic #6 (0.100): 0.009*\"need\" + 0.008*\"water\" + 0.008*\"work\" + 0.008*\"people\" + 0.007*\"plan\" + 0.007*\"child\" + 0.006*\"cost\" + 0.006*\"area\" + 0.006*\"number\" + 0.005*\"city\"\n",
      "2018-12-03 22:16:50,842 : INFO : topic #1 (0.100): 0.009*\"market\" + 0.008*\"country\" + 0.008*\"energy\" + 0.008*\"high\" + 0.007*\"system\" + 0.007*\"growth\" + 0.007*\"rate\" + 0.006*\"economic\" + 0.006*\"low\" + 0.006*\"oil\"\n",
      "2018-12-03 22:16:50,843 : INFO : topic #3 (0.100): 0.008*\"state\" + 0.007*\"people\" + 0.007*\"country\" + 0.007*\"war\" + 0.006*\"take\" + 0.006*\"pakistan\" + 0.006*\"president\" + 0.006*\"attack\" + 0.005*\"force\" + 0.004*\"kill\"\n",
      "2018-12-03 22:16:50,843 : INFO : topic diff=0.118779, rho=0.179201\n",
      "2018-12-03 22:16:50,964 : INFO : -8.335 per-word bound, 322.9 perplexity estimate based on a held-out corpus of 100 documents with 19093 words\n",
      "2018-12-03 22:16:50,965 : INFO : PROGRESS: pass 1, at document #2000/2914\n",
      "2018-12-03 22:16:51,009 : INFO : merging changes from 100 documents into a model of 2914 documents\n",
      "2018-12-03 22:16:51,022 : INFO : topic #3 (0.100): 0.008*\"state\" + 0.007*\"people\" + 0.007*\"war\" + 0.007*\"country\" + 0.006*\"president\" + 0.006*\"take\" + 0.005*\"pakistan\" + 0.005*\"attack\" + 0.005*\"force\" + 0.005*\"kill\"\n",
      "2018-12-03 22:16:51,023 : INFO : topic #4 (0.100): 0.023*\"company\" + 0.012*\"business\" + 0.012*\"share\" + 0.008*\"market\" + 0.007*\"price\" + 0.007*\"time\" + 0.006*\"technology\" + 0.006*\"service\" + 0.006*\"buy\" + 0.006*\"car\"\n",
      "2018-12-03 22:16:51,023 : INFO : topic #1 (0.100): 0.009*\"market\" + 0.008*\"country\" + 0.008*\"energy\" + 0.008*\"rate\" + 0.008*\"high\" + 0.007*\"growth\" + 0.007*\"system\" + 0.006*\"project\" + 0.006*\"bank\" + 0.006*\"low\"\n",
      "2018-12-03 22:16:51,024 : INFO : topic #9 (0.100): 0.011*\"time\" + 0.011*\"game\" + 0.010*\"play\" + 0.010*\"team\" + 0.009*\"win\" + 0.008*\"show\" + 0.007*\"take\" + 0.007*\"look\" + 0.006*\"want\" + 0.006*\"film\"\n",
      "2018-12-03 22:16:51,025 : INFO : topic #2 (0.100): 0.016*\"police\" + 0.010*\"family\" + 0.009*\"child\" + 0.008*\"people\" + 0.008*\"life\" + 0.007*\"find\" + 0.007*\"health\" + 0.007*\"woman\" + 0.007*\"take\" + 0.006*\"use\"\n"
     ]
    },
    {
     "name": "stderr",
     "output_type": "stream",
     "text": [
      "2018-12-03 22:16:51,025 : INFO : topic diff=0.113808, rho=0.179201\n",
      "2018-12-03 22:16:51,042 : INFO : PROGRESS: pass 1, at document #2100/2914\n",
      "2018-12-03 22:16:51,088 : INFO : merging changes from 100 documents into a model of 2914 documents\n",
      "2018-12-03 22:16:51,101 : INFO : topic #2 (0.100): 0.015*\"police\" + 0.011*\"family\" + 0.008*\"child\" + 0.008*\"people\" + 0.008*\"life\" + 0.008*\"health\" + 0.007*\"find\" + 0.007*\"take\" + 0.006*\"woman\" + 0.006*\"comment\"\n",
      "2018-12-03 22:16:51,102 : INFO : topic #5 (0.100): 0.017*\"school\" + 0.012*\"city\" + 0.009*\"student\" + 0.007*\"day\" + 0.007*\"people\" + 0.006*\"open\" + 0.006*\"community\" + 0.005*\"street\" + 0.005*\"work\" + 0.005*\"time\"\n",
      "2018-12-03 22:16:51,104 : INFO : topic #4 (0.100): 0.024*\"company\" + 0.014*\"share\" + 0.013*\"business\" + 0.008*\"market\" + 0.008*\"price\" + 0.007*\"service\" + 0.007*\"time\" + 0.007*\"technology\" + 0.005*\"car\" + 0.005*\"customer\"\n",
      "2018-12-03 22:16:51,105 : INFO : topic #9 (0.100): 0.014*\"game\" + 0.012*\"play\" + 0.011*\"time\" + 0.011*\"team\" + 0.010*\"win\" + 0.008*\"take\" + 0.007*\"look\" + 0.007*\"show\" + 0.006*\"want\" + 0.006*\"player\"\n",
      "2018-12-03 22:16:51,106 : INFO : topic #8 (0.100): 0.011*\"government\" + 0.010*\"comment\" + 0.009*\"party\" + 0.008*\"member\" + 0.007*\"minister\" + 0.007*\"issue\" + 0.006*\"state\" + 0.006*\"committee\" + 0.006*\"council\" + 0.006*\"court\"\n",
      "2018-12-03 22:16:51,107 : INFO : topic diff=0.116523, rho=0.179201\n",
      "2018-12-03 22:16:51,124 : INFO : PROGRESS: pass 1, at document #2200/2914\n",
      "2018-12-03 22:16:51,181 : INFO : merging changes from 100 documents into a model of 2914 documents\n",
      "2018-12-03 22:16:51,195 : INFO : topic #1 (0.100): 0.009*\"gas\" + 0.008*\"market\" + 0.008*\"country\" + 0.008*\"project\" + 0.008*\"high\" + 0.008*\"growth\" + 0.007*\"rate\" + 0.007*\"economic\" + 0.007*\"bank\" + 0.007*\"energy\"\n",
      "2018-12-03 22:16:51,197 : INFO : topic #0 (0.100): 0.010*\"world\" + 0.008*\"book\" + 0.007*\"write\" + 0.007*\"university\" + 0.006*\"dr\" + 0.006*\"people\" + 0.005*\"change\" + 0.005*\"use\" + 0.005*\"study\" + 0.005*\"republican\"\n",
      "2018-12-03 22:16:51,198 : INFO : topic #2 (0.100): 0.014*\"police\" + 0.011*\"family\" + 0.009*\"child\" + 0.008*\"health\" + 0.008*\"woman\" + 0.008*\"life\" + 0.008*\"take\" + 0.007*\"people\" + 0.007*\"use\" + 0.007*\"find\"\n",
      "2018-12-03 22:16:51,198 : INFO : topic #4 (0.100): 0.022*\"company\" + 0.014*\"business\" + 0.013*\"share\" + 0.008*\"market\" + 0.008*\"price\" + 0.007*\"service\" + 0.007*\"time\" + 0.006*\"technology\" + 0.005*\"car\" + 0.005*\"customer\"\n",
      "2018-12-03 22:16:51,199 : INFO : topic #9 (0.100): 0.014*\"game\" + 0.012*\"play\" + 0.011*\"time\" + 0.011*\"team\" + 0.010*\"win\" + 0.008*\"take\" + 0.007*\"look\" + 0.007*\"show\" + 0.006*\"want\" + 0.006*\"player\"\n",
      "2018-12-03 22:16:51,200 : INFO : topic diff=0.108667, rho=0.179201\n",
      "2018-12-03 22:16:51,212 : INFO : PROGRESS: pass 1, at document #2300/2914\n",
      "2018-12-03 22:16:51,267 : INFO : merging changes from 100 documents into a model of 2914 documents\n",
      "2018-12-03 22:16:51,280 : INFO : topic #6 (0.100): 0.008*\"need\" + 0.008*\"tax\" + 0.008*\"work\" + 0.008*\"water\" + 0.006*\"people\" + 0.006*\"plan\" + 0.006*\"number\" + 0.006*\"area\" + 0.005*\"cost\" + 0.005*\"job\"\n",
      "2018-12-03 22:16:51,281 : INFO : topic #1 (0.100): 0.010*\"growth\" + 0.008*\"economic\" + 0.008*\"country\" + 0.008*\"market\" + 0.008*\"gas\" + 0.008*\"high\" + 0.008*\"project\" + 0.007*\"bank\" + 0.007*\"ratio\" + 0.007*\"rate\"\n",
      "2018-12-03 22:16:51,282 : INFO : topic #8 (0.100): 0.012*\"government\" + 0.010*\"comment\" + 0.009*\"party\" + 0.007*\"minister\" + 0.007*\"member\" + 0.006*\"state\" + 0.006*\"issue\" + 0.006*\"court\" + 0.006*\"public\" + 0.006*\"committee\"\n",
      "2018-12-03 22:16:51,283 : INFO : topic #2 (0.100): 0.013*\"police\" + 0.011*\"family\" + 0.008*\"child\" + 0.008*\"life\" + 0.008*\"take\" + 0.008*\"woman\" + 0.007*\"health\" + 0.007*\"people\" + 0.007*\"use\" + 0.007*\"find\"\n",
      "2018-12-03 22:16:51,283 : INFO : topic #4 (0.100): 0.026*\"company\" + 0.013*\"business\" + 0.012*\"share\" + 0.008*\"market\" + 0.008*\"price\" + 0.008*\"service\" + 0.007*\"value\" + 0.006*\"time\" + 0.006*\"stock\" + 0.006*\"technology\"\n",
      "2018-12-03 22:16:51,284 : INFO : topic diff=0.108546, rho=0.179201\n",
      "2018-12-03 22:16:51,299 : INFO : PROGRESS: pass 1, at document #2400/2914\n",
      "2018-12-03 22:16:51,348 : INFO : merging changes from 100 documents into a model of 2914 documents\n",
      "2018-12-03 22:16:51,361 : INFO : topic #7 (0.100): 0.014*\"*\" + 0.014*\"use\" + 0.012*\"website\" + 0.010*\"site\" + 0.009*\"local\" + 0.008*\"food\" + 0.007*\"brand\" + 0.007*\"online\" + 0.007*\"product\" + 0.006*\"store\"\n",
      "2018-12-03 22:16:51,362 : INFO : topic #2 (0.100): 0.014*\"police\" + 0.010*\"family\" + 0.010*\"child\" + 0.008*\"health\" + 0.008*\"woman\" + 0.008*\"life\" + 0.008*\"take\" + 0.007*\"court\" + 0.007*\"people\" + 0.007*\"use\"\n",
      "2018-12-03 22:16:51,363 : INFO : topic #1 (0.100): 0.010*\"market\" + 0.009*\"high\" + 0.009*\"growth\" + 0.008*\"country\" + 0.008*\"project\" + 0.008*\"economic\" + 0.008*\"gas\" + 0.007*\"bank\" + 0.007*\"low\" + 0.007*\"rate\"\n",
      "2018-12-03 22:16:51,364 : INFO : topic #9 (0.100): 0.014*\"game\" + 0.012*\"team\" + 0.011*\"time\" + 0.011*\"play\" + 0.011*\"win\" + 0.007*\"look\" + 0.007*\"take\" + 0.006*\"want\" + 0.006*\"show\" + 0.006*\"big\"\n",
      "2018-12-03 22:16:51,365 : INFO : topic #4 (0.100): 0.027*\"company\" + 0.013*\"business\" + 0.012*\"share\" + 0.009*\"service\" + 0.008*\"market\" + 0.008*\"price\" + 0.006*\"value\" + 0.006*\"time\" + 0.006*\"technology\" + 0.006*\"customer\"\n",
      "2018-12-03 22:16:51,366 : INFO : topic diff=0.106883, rho=0.179201\n",
      "2018-12-03 22:16:51,383 : INFO : PROGRESS: pass 1, at document #2500/2914\n",
      "2018-12-03 22:16:51,429 : INFO : merging changes from 100 documents into a model of 2914 documents\n",
      "2018-12-03 22:16:51,444 : INFO : topic #8 (0.100): 0.013*\"government\" + 0.011*\"party\" + 0.010*\"comment\" + 0.008*\"minister\" + 0.008*\"state\" + 0.007*\"court\" + 0.007*\"issue\" + 0.006*\"member\" + 0.006*\"election\" + 0.006*\"public\"\n",
      "2018-12-03 22:16:51,445 : INFO : topic #5 (0.100): 0.016*\"school\" + 0.011*\"city\" + 0.009*\"student\" + 0.008*\"people\" + 0.007*\"day\" + 0.006*\"community\" + 0.006*\"open\" + 0.005*\"park\" + 0.005*\"work\" + 0.005*\"local\"\n",
      "2018-12-03 22:16:51,446 : INFO : topic #7 (0.100): 0.014*\"*\" + 0.013*\"use\" + 0.012*\"website\" + 0.010*\"local\" + 0.009*\"site\" + 0.008*\"food\" + 0.007*\"editor\" + 0.007*\"online\" + 0.007*\"brand\" + 0.006*\"contact\"\n",
      "2018-12-03 22:16:51,446 : INFO : topic #9 (0.100): 0.014*\"game\" + 0.011*\"play\" + 0.011*\"time\" + 0.010*\"team\" + 0.010*\"win\" + 0.008*\"look\" + 0.008*\"take\" + 0.006*\"show\" + 0.006*\"big\" + 0.006*\"want\"\n",
      "2018-12-03 22:16:51,448 : INFO : topic #3 (0.100): 0.011*\"state\" + 0.009*\"country\" + 0.008*\"president\" + 0.008*\"people\" + 0.006*\"attack\" + 0.006*\"take\" + 0.005*\"leader\" + 0.005*\"force\" + 0.005*\"group\" + 0.005*\"nation\"\n",
      "2018-12-03 22:16:51,449 : INFO : topic diff=0.103010, rho=0.179201\n",
      "2018-12-03 22:16:51,464 : INFO : PROGRESS: pass 1, at document #2600/2914\n",
      "2018-12-03 22:16:51,515 : INFO : merging changes from 100 documents into a model of 2914 documents\n",
      "2018-12-03 22:16:51,531 : INFO : topic #8 (0.100): 0.013*\"government\" + 0.010*\"comment\" + 0.010*\"party\" + 0.009*\"state\" + 0.007*\"member\" + 0.007*\"minister\" + 0.007*\"public\" + 0.007*\"issue\" + 0.006*\"court\" + 0.006*\"council\"\n",
      "2018-12-03 22:16:51,532 : INFO : topic #0 (0.100): 0.011*\"world\" + 0.009*\"book\" + 0.007*\"change\" + 0.006*\"university\" + 0.006*\"people\" + 0.005*\"write\" + 0.005*\"dr\" + 0.005*\"life\" + 0.005*\"use\" + 0.004*\"professor\"\n",
      "2018-12-03 22:16:51,533 : INFO : topic #4 (0.100): 0.025*\"company\" + 0.013*\"business\" + 0.012*\"share\" + 0.009*\"service\" + 0.007*\"market\" + 0.007*\"time\" + 0.007*\"price\" + 0.006*\"technology\" + 0.006*\"value\" + 0.005*\"firm\"\n",
      "2018-12-03 22:16:51,535 : INFO : topic #7 (0.100): 0.013*\"use\" + 0.013*\"*\" + 0.011*\"website\" + 0.010*\"site\" + 0.009*\"local\" + 0.008*\"food\" + 0.007*\"editor\" + 0.007*\"online\" + 0.007*\"kashmir\" + 0.007*\"contact\"\n",
      "2018-12-03 22:16:51,536 : INFO : topic #3 (0.100): 0.012*\"state\" + 0.009*\"country\" + 0.008*\"people\" + 0.008*\"president\" + 0.006*\"attack\" + 0.006*\"take\" + 0.005*\"force\" + 0.005*\"group\" + 0.005*\"government\" + 0.005*\"nation\"\n",
      "2018-12-03 22:16:51,536 : INFO : topic diff=0.106359, rho=0.179201\n",
      "2018-12-03 22:16:51,551 : INFO : PROGRESS: pass 1, at document #2700/2914\n",
      "2018-12-03 22:16:51,603 : INFO : merging changes from 100 documents into a model of 2914 documents\n",
      "2018-12-03 22:16:51,615 : INFO : topic #1 (0.100): 0.009*\"energy\" + 0.009*\"market\" + 0.008*\"high\" + 0.008*\"project\" + 0.008*\"country\" + 0.008*\"price\" + 0.007*\"economic\" + 0.007*\"gas\" + 0.007*\"growth\" + 0.006*\"bank\"\n"
     ]
    },
    {
     "name": "stderr",
     "output_type": "stream",
     "text": [
      "2018-12-03 22:16:51,617 : INFO : topic #2 (0.100): 0.017*\"police\" + 0.011*\"family\" + 0.010*\"drug\" + 0.010*\"health\" + 0.009*\"child\" + 0.008*\"woman\" + 0.008*\"medical\" + 0.007*\"life\" + 0.007*\"arrest\" + 0.007*\"find\"\n",
      "2018-12-03 22:16:51,618 : INFO : topic #7 (0.100): 0.013*\"use\" + 0.011*\"website\" + 0.010*\"*\" + 0.009*\"local\" + 0.009*\"site\" + 0.008*\"editor\" + 0.008*\"food\" + 0.007*\"contact\" + 0.007*\"online\" + 0.007*\"content\"\n",
      "2018-12-03 22:16:51,619 : INFO : topic #6 (0.100): 0.010*\"tax\" + 0.010*\"need\" + 0.009*\"work\" + 0.009*\"water\" + 0.007*\"plan\" + 0.007*\"people\" + 0.007*\"area\" + 0.006*\"cost\" + 0.006*\"number\" + 0.006*\"budget\"\n",
      "2018-12-03 22:16:51,620 : INFO : topic #0 (0.100): 0.010*\"world\" + 0.008*\"book\" + 0.007*\"change\" + 0.006*\"university\" + 0.006*\"people\" + 0.005*\"write\" + 0.005*\"use\" + 0.005*\"life\" + 0.005*\"republican\" + 0.005*\"dr\"\n",
      "2018-12-03 22:16:51,620 : INFO : topic diff=0.098573, rho=0.179201\n",
      "2018-12-03 22:16:51,637 : INFO : PROGRESS: pass 1, at document #2800/2914\n",
      "2018-12-03 22:16:51,687 : INFO : merging changes from 100 documents into a model of 2914 documents\n",
      "2018-12-03 22:16:51,700 : INFO : topic #2 (0.100): 0.016*\"police\" + 0.012*\"child\" + 0.011*\"health\" + 0.011*\"family\" + 0.009*\"drug\" + 0.009*\"woman\" + 0.008*\"case\" + 0.007*\"life\" + 0.007*\"medical\" + 0.007*\"girl\"\n",
      "2018-12-03 22:16:51,701 : INFO : topic #1 (0.100): 0.010*\"market\" + 0.009*\"economic\" + 0.009*\"country\" + 0.009*\"high\" + 0.008*\"growth\" + 0.008*\"price\" + 0.008*\"project\" + 0.008*\"energy\" + 0.007*\"economy\" + 0.006*\"bank\"\n",
      "2018-12-03 22:16:51,701 : INFO : topic #9 (0.100): 0.012*\"play\" + 0.011*\"game\" + 0.011*\"team\" + 0.011*\"time\" + 0.010*\"win\" + 0.007*\"look\" + 0.007*\"take\" + 0.007*\"show\" + 0.006*\"player\" + 0.006*\"want\"\n",
      "2018-12-03 22:16:51,703 : INFO : topic #4 (0.100): 0.023*\"company\" + 0.015*\"business\" + 0.012*\"share\" + 0.009*\"price\" + 0.008*\"market\" + 0.008*\"service\" + 0.007*\"time\" + 0.006*\"stock\" + 0.006*\"value\" + 0.006*\"technology\"\n",
      "2018-12-03 22:16:51,703 : INFO : topic #6 (0.100): 0.015*\"water\" + 0.010*\"need\" + 0.010*\"tax\" + 0.008*\"work\" + 0.007*\"plan\" + 0.006*\"people\" + 0.006*\"area\" + 0.006*\"cost\" + 0.006*\"budget\" + 0.005*\"number\"\n",
      "2018-12-03 22:16:51,704 : INFO : topic diff=0.119799, rho=0.179201\n",
      "2018-12-03 22:16:51,721 : INFO : PROGRESS: pass 1, at document #2900/2914\n",
      "2018-12-03 22:16:51,769 : INFO : merging changes from 100 documents into a model of 2914 documents\n",
      "2018-12-03 22:16:51,781 : INFO : topic #1 (0.100): 0.010*\"market\" + 0.009*\"country\" + 0.009*\"project\" + 0.009*\"economic\" + 0.008*\"high\" + 0.008*\"growth\" + 0.008*\"price\" + 0.007*\"energy\" + 0.007*\"power\" + 0.007*\"oil\"\n",
      "2018-12-03 22:16:51,782 : INFO : topic #8 (0.100): 0.013*\"government\" + 0.012*\"comment\" + 0.010*\"party\" + 0.008*\"state\" + 0.008*\"minister\" + 0.007*\"court\" + 0.007*\"member\" + 0.007*\"public\" + 0.006*\"issue\" + 0.006*\"post\"\n",
      "2018-12-03 22:16:51,783 : INFO : topic #9 (0.100): 0.011*\"game\" + 0.011*\"play\" + 0.011*\"time\" + 0.011*\"team\" + 0.009*\"win\" + 0.008*\"take\" + 0.007*\"look\" + 0.006*\"show\" + 0.006*\"player\" + 0.006*\"want\"\n",
      "2018-12-03 22:16:51,785 : INFO : topic #7 (0.100): 0.015*\"use\" + 0.012*\"website\" + 0.011*\"kashmir\" + 0.011*\"site\" + 0.009*\"*\" + 0.009*\"click\" + 0.009*\"food\" + 0.008*\"editor\" + 0.008*\"local\" + 0.007*\"newspaper\"\n",
      "2018-12-03 22:16:51,785 : INFO : topic #5 (0.100): 0.017*\"school\" + 0.011*\"student\" + 0.009*\"city\" + 0.008*\"day\" + 0.007*\"people\" + 0.007*\"community\" + 0.006*\"open\" + 0.006*\"education\" + 0.005*\"time\" + 0.005*\"work\"\n",
      "2018-12-03 22:16:51,787 : INFO : topic diff=0.097152, rho=0.179201\n",
      "2018-12-03 22:16:51,831 : INFO : -8.158 per-word bound, 285.6 perplexity estimate based on a held-out corpus of 14 documents with 2867 words\n",
      "2018-12-03 22:16:51,831 : INFO : PROGRESS: pass 1, at document #2914/2914\n",
      "2018-12-03 22:16:51,838 : INFO : merging changes from 14 documents into a model of 2914 documents\n",
      "2018-12-03 22:16:51,853 : INFO : topic #9 (0.100): 0.014*\"game\" + 0.012*\"play\" + 0.011*\"win\" + 0.011*\"time\" + 0.011*\"team\" + 0.008*\"take\" + 0.007*\"look\" + 0.007*\"goal\" + 0.007*\"score\" + 0.006*\"big\"\n",
      "2018-12-03 22:16:51,854 : INFO : topic #6 (0.100): 0.014*\"need\" + 0.013*\"funding\" + 0.012*\"water\" + 0.009*\"tax\" + 0.008*\"income\" + 0.008*\"alley\" + 0.008*\"work\" + 0.008*\"project\" + 0.007*\"budget\" + 0.006*\"plan\"\n",
      "2018-12-03 22:16:51,854 : INFO : topic #5 (0.100): 0.014*\"city\" + 0.013*\"school\" + 0.011*\"community\" + 0.009*\"student\" + 0.008*\"space\" + 0.007*\"day\" + 0.007*\"people\" + 0.006*\"open\" + 0.006*\"parking\" + 0.006*\"local\"\n",
      "2018-12-03 22:16:51,855 : INFO : topic #3 (0.100): 0.011*\"president\" + 0.011*\"state\" + 0.010*\"country\" + 0.007*\"people\" + 0.007*\"pakistan\" + 0.007*\"attack\" + 0.006*\"force\" + 0.006*\"government\" + 0.006*\"take\" + 0.005*\"modi\"\n",
      "2018-12-03 22:16:51,856 : INFO : topic #4 (0.100): 0.022*\"company\" + 0.016*\"market\" + 0.013*\"business\" + 0.012*\"share\" + 0.010*\"service\" + 0.009*\"price\" + 0.008*\"technology\" + 0.007*\"singapore\" + 0.007*\"sales\" + 0.007*\"time\"\n",
      "2018-12-03 22:16:51,857 : INFO : topic diff=0.147653, rho=0.179201\n",
      "2018-12-03 22:16:53,650 : INFO : PROGRESS: pass 2, at document #100/2914\n",
      "2018-12-03 22:16:53,702 : INFO : merging changes from 100 documents into a model of 2914 documents\n",
      "2018-12-03 22:16:53,717 : INFO : topic #0 (0.100): 0.009*\"world\" + 0.008*\"book\" + 0.007*\"supplement\" + 0.006*\"people\" + 0.006*\"change\" + 0.006*\"human\" + 0.006*\"write\" + 0.005*\"use\" + 0.005*\"dr\" + 0.005*\"university\"\n",
      "2018-12-03 22:16:53,718 : INFO : topic #5 (0.100): 0.014*\"school\" + 0.012*\"city\" + 0.009*\"community\" + 0.009*\"student\" + 0.007*\"day\" + 0.007*\"people\" + 0.007*\"space\" + 0.006*\"open\" + 0.005*\"work\" + 0.005*\"local\"\n",
      "2018-12-03 22:16:53,719 : INFO : topic #3 (0.100): 0.010*\"president\" + 0.010*\"state\" + 0.009*\"country\" + 0.007*\"force\" + 0.006*\"pakistan\" + 0.006*\"people\" + 0.006*\"attack\" + 0.006*\"government\" + 0.006*\"take\" + 0.005*\"indian\"\n",
      "2018-12-03 22:16:53,720 : INFO : topic #6 (0.100): 0.012*\"need\" + 0.012*\"water\" + 0.010*\"funding\" + 0.009*\"tax\" + 0.008*\"work\" + 0.008*\"plan\" + 0.008*\"project\" + 0.008*\"income\" + 0.006*\"people\" + 0.006*\"budget\"\n",
      "2018-12-03 22:16:53,721 : INFO : topic #9 (0.100): 0.014*\"game\" + 0.012*\"play\" + 0.011*\"time\" + 0.011*\"win\" + 0.010*\"team\" + 0.008*\"take\" + 0.008*\"look\" + 0.007*\"big\" + 0.006*\"score\" + 0.006*\"point\"\n",
      "2018-12-03 22:16:53,722 : INFO : topic diff=0.149186, rho=0.176391\n",
      "2018-12-03 22:16:53,740 : INFO : PROGRESS: pass 2, at document #200/2914\n",
      "2018-12-03 22:16:53,797 : INFO : merging changes from 100 documents into a model of 2914 documents\n",
      "2018-12-03 22:16:53,812 : INFO : topic #6 (0.100): 0.012*\"need\" + 0.011*\"water\" + 0.009*\"work\" + 0.009*\"tax\" + 0.009*\"funding\" + 0.008*\"project\" + 0.008*\"plan\" + 0.007*\"income\" + 0.006*\"cost\" + 0.006*\"people\"\n",
      "2018-12-03 22:16:53,813 : INFO : topic #5 (0.100): 0.016*\"school\" + 0.013*\"city\" + 0.011*\"student\" + 0.009*\"community\" + 0.007*\"day\" + 0.007*\"people\" + 0.007*\"space\" + 0.006*\"open\" + 0.005*\"work\" + 0.005*\"park\"\n",
      "2018-12-03 22:16:53,815 : INFO : topic #1 (0.100): 0.018*\"market\" + 0.011*\"report\" + 0.011*\"project\" + 0.009*\"energy\" + 0.009*\"country\" + 0.009*\"region\" + 0.008*\"gas\" + 0.007*\"rate\" + 0.007*\"high\" + 0.007*\"economic\"\n",
      "2018-12-03 22:16:53,817 : INFO : topic #8 (0.100): 0.015*\"comment\" + 0.013*\"government\" + 0.009*\"state\" + 0.008*\"minister\" + 0.008*\"court\" + 0.008*\"public\" + 0.007*\"party\" + 0.006*\"pay\" + 0.006*\"council\" + 0.006*\"use\"\n",
      "2018-12-03 22:16:53,819 : INFO : topic #7 (0.100): 0.026*\"beer\" + 0.013*\"use\" + 0.011*\"website\" + 0.010*\"site\" + 0.009*\"*\" + 0.008*\"newspaper\" + 0.008*\"click\" + 0.008*\"visit\" + 0.007*\"contact\" + 0.007*\"online\"\n",
      "2018-12-03 22:16:53,820 : INFO : topic diff=0.124428, rho=0.176391\n",
      "2018-12-03 22:16:53,840 : INFO : PROGRESS: pass 2, at document #300/2914\n",
      "2018-12-03 22:16:53,894 : INFO : merging changes from 100 documents into a model of 2914 documents\n",
      "2018-12-03 22:16:53,910 : INFO : topic #0 (0.100): 0.010*\"world\" + 0.010*\"book\" + 0.007*\"change\" + 0.006*\"university\" + 0.006*\"people\" + 0.006*\"human\" + 0.005*\"use\" + 0.005*\"write\" + 0.005*\"life\" + 0.005*\"dr\"\n",
      "2018-12-03 22:16:53,911 : INFO : topic #9 (0.100): 0.013*\"game\" + 0.012*\"play\" + 0.010*\"time\" + 0.009*\"team\" + 0.009*\"win\" + 0.008*\"look\" + 0.008*\"take\" + 0.008*\"score\" + 0.006*\"big\" + 0.006*\"want\"\n",
      "2018-12-03 22:16:53,914 : INFO : topic #7 (0.100): 0.021*\"beer\" + 0.012*\"use\" + 0.011*\"website\" + 0.010*\"brand\" + 0.009*\"site\" + 0.008*\"*\" + 0.008*\"food\" + 0.008*\"newspaper\" + 0.007*\"click\" + 0.007*\"facebook\"\n"
     ]
    },
    {
     "name": "stderr",
     "output_type": "stream",
     "text": [
      "2018-12-03 22:16:53,916 : INFO : topic #6 (0.100): 0.011*\"water\" + 0.011*\"need\" + 0.010*\"work\" + 0.008*\"project\" + 0.008*\"tax\" + 0.007*\"funding\" + 0.007*\"plan\" + 0.007*\"people\" + 0.006*\"cost\" + 0.006*\"area\"\n",
      "2018-12-03 22:16:53,918 : INFO : topic #2 (0.100): 0.016*\"police\" + 0.011*\"child\" + 0.010*\"family\" + 0.009*\"medical\" + 0.009*\"life\" + 0.008*\"woman\" + 0.008*\"case\" + 0.008*\"court\" + 0.008*\"death\" + 0.008*\"drug\"\n",
      "2018-12-03 22:16:53,920 : INFO : topic diff=0.128700, rho=0.176391\n",
      "2018-12-03 22:16:53,937 : INFO : PROGRESS: pass 2, at document #400/2914\n",
      "2018-12-03 22:16:53,990 : INFO : merging changes from 100 documents into a model of 2914 documents\n",
      "2018-12-03 22:16:54,003 : INFO : topic #3 (0.100): 0.009*\"state\" + 0.008*\"president\" + 0.008*\"country\" + 0.007*\"force\" + 0.006*\"government\" + 0.006*\"take\" + 0.006*\"people\" + 0.005*\"attack\" + 0.005*\"military\" + 0.005*\"security\"\n",
      "2018-12-03 22:16:54,004 : INFO : topic #9 (0.100): 0.011*\"game\" + 0.011*\"play\" + 0.010*\"time\" + 0.010*\"team\" + 0.009*\"take\" + 0.008*\"look\" + 0.007*\"want\" + 0.007*\"win\" + 0.007*\"score\" + 0.007*\"show\"\n",
      "2018-12-03 22:16:54,005 : INFO : topic #2 (0.100): 0.015*\"police\" + 0.014*\"child\" + 0.010*\"family\" + 0.009*\"life\" + 0.008*\"drug\" + 0.008*\"woman\" + 0.008*\"case\" + 0.008*\"medical\" + 0.007*\"comment\" + 0.007*\"court\"\n",
      "2018-12-03 22:16:54,006 : INFO : topic #6 (0.100): 0.012*\"need\" + 0.010*\"water\" + 0.010*\"work\" + 0.007*\"tax\" + 0.007*\"people\" + 0.007*\"project\" + 0.007*\"cost\" + 0.006*\"funding\" + 0.006*\"plan\" + 0.006*\"income\"\n",
      "2018-12-03 22:16:54,007 : INFO : topic #8 (0.100): 0.014*\"comment\" + 0.013*\"government\" + 0.009*\"public\" + 0.008*\"state\" + 0.008*\"minister\" + 0.007*\"court\" + 0.006*\"pay\" + 0.006*\"service\" + 0.006*\"member\" + 0.006*\"party\"\n",
      "2018-12-03 22:16:54,008 : INFO : topic diff=0.127211, rho=0.176391\n",
      "2018-12-03 22:16:54,032 : INFO : PROGRESS: pass 2, at document #500/2914\n",
      "2018-12-03 22:16:54,087 : INFO : merging changes from 100 documents into a model of 2914 documents\n",
      "2018-12-03 22:16:54,101 : INFO : topic #1 (0.100): 0.016*\"market\" + 0.010*\"report\" + 0.010*\"project\" + 0.009*\"country\" + 0.008*\"energy\" + 0.008*\"high\" + 0.007*\"plant\" + 0.007*\"region\" + 0.007*\"rate\" + 0.007*\"gas\"\n",
      "2018-12-03 22:16:54,102 : INFO : topic #2 (0.100): 0.016*\"police\" + 0.013*\"child\" + 0.010*\"family\" + 0.009*\"life\" + 0.008*\"people\" + 0.007*\"case\" + 0.007*\"hospital\" + 0.007*\"woman\" + 0.007*\"drug\" + 0.007*\"find\"\n",
      "2018-12-03 22:16:54,103 : INFO : topic #3 (0.100): 0.008*\"state\" + 0.008*\"president\" + 0.007*\"country\" + 0.006*\"force\" + 0.006*\"government\" + 0.006*\"take\" + 0.006*\"people\" + 0.005*\"attack\" + 0.005*\"group\" + 0.004*\"security\"\n",
      "2018-12-03 22:16:54,103 : INFO : topic #0 (0.100): 0.010*\"world\" + 0.009*\"book\" + 0.007*\"people\" + 0.006*\"change\" + 0.006*\"use\" + 0.005*\"university\" + 0.005*\"write\" + 0.005*\"life\" + 0.005*\"human\" + 0.005*\"find\"\n",
      "2018-12-03 22:16:54,104 : INFO : topic #5 (0.100): 0.017*\"school\" + 0.013*\"city\" + 0.011*\"student\" + 0.009*\"people\" + 0.006*\"community\" + 0.006*\"day\" + 0.006*\"work\" + 0.006*\"canada\" + 0.005*\"park\" + 0.005*\"open\"\n",
      "2018-12-03 22:16:54,105 : INFO : topic diff=0.098078, rho=0.176391\n",
      "2018-12-03 22:16:54,127 : INFO : PROGRESS: pass 2, at document #600/2914\n",
      "2018-12-03 22:16:54,177 : INFO : merging changes from 100 documents into a model of 2914 documents\n",
      "2018-12-03 22:16:54,193 : INFO : topic #0 (0.100): 0.010*\"world\" + 0.010*\"book\" + 0.007*\"people\" + 0.006*\"write\" + 0.006*\"change\" + 0.006*\"university\" + 0.006*\"use\" + 0.005*\"life\" + 0.005*\"dr\" + 0.005*\"professor\"\n",
      "2018-12-03 22:16:54,195 : INFO : topic #3 (0.100): 0.012*\"state\" + 0.008*\"country\" + 0.007*\"president\" + 0.006*\"take\" + 0.006*\"government\" + 0.006*\"force\" + 0.005*\"people\" + 0.005*\"attack\" + 0.004*\"group\" + 0.004*\"security\"\n",
      "2018-12-03 22:16:54,196 : INFO : topic #7 (0.100): 0.013*\"use\" + 0.012*\"beer\" + 0.011*\"website\" + 0.011*\"site\" + 0.011*\"brand\" + 0.008*\"food\" + 0.007*\"online\" + 0.007*\"product\" + 0.007*\"*\" + 0.006*\"click\"\n",
      "2018-12-03 22:16:54,197 : INFO : topic #9 (0.100): 0.010*\"time\" + 0.010*\"play\" + 0.009*\"game\" + 0.008*\"look\" + 0.008*\"take\" + 0.008*\"team\" + 0.008*\"film\" + 0.007*\"big\" + 0.007*\"win\" + 0.007*\"want\"\n",
      "2018-12-03 22:16:54,198 : INFO : topic #1 (0.100): 0.015*\"market\" + 0.010*\"country\" + 0.009*\"energy\" + 0.009*\"report\" + 0.009*\"project\" + 0.008*\"plant\" + 0.008*\"high\" + 0.007*\"rate\" + 0.007*\"oil\" + 0.007*\"bank\"\n",
      "2018-12-03 22:16:54,201 : INFO : topic diff=0.119934, rho=0.176391\n",
      "2018-12-03 22:16:54,220 : INFO : PROGRESS: pass 2, at document #700/2914\n",
      "2018-12-03 22:16:54,274 : INFO : merging changes from 100 documents into a model of 2914 documents\n",
      "2018-12-03 22:16:54,288 : INFO : topic #5 (0.100): 0.017*\"school\" + 0.013*\"student\" + 0.012*\"city\" + 0.009*\"people\" + 0.007*\"day\" + 0.006*\"community\" + 0.006*\"work\" + 0.006*\"university\" + 0.005*\"time\" + 0.005*\"open\"\n",
      "2018-12-03 22:16:54,289 : INFO : topic #6 (0.100): 0.012*\"need\" + 0.009*\"plan\" + 0.009*\"work\" + 0.008*\"people\" + 0.007*\"water\" + 0.006*\"area\" + 0.006*\"project\" + 0.006*\"cost\" + 0.005*\"number\" + 0.005*\"job\"\n",
      "2018-12-03 22:16:54,290 : INFO : topic #1 (0.100): 0.015*\"market\" + 0.011*\"country\" + 0.009*\"energy\" + 0.008*\"project\" + 0.008*\"power\" + 0.008*\"report\" + 0.008*\"oil\" + 0.008*\"plant\" + 0.008*\"bank\" + 0.007*\"high\"\n",
      "2018-12-03 22:16:54,290 : INFO : topic #0 (0.100): 0.010*\"world\" + 0.010*\"book\" + 0.008*\"dr\" + 0.007*\"university\" + 0.007*\"people\" + 0.006*\"professor\" + 0.006*\"write\" + 0.005*\"use\" + 0.005*\"life\" + 0.005*\"change\"\n",
      "2018-12-03 22:16:54,291 : INFO : topic #4 (0.100): 0.023*\"company\" + 0.012*\"business\" + 0.011*\"market\" + 0.010*\"share\" + 0.008*\"time\" + 0.007*\"service\" + 0.007*\"price\" + 0.006*\"industry\" + 0.006*\"technology\" + 0.005*\"design\"\n",
      "2018-12-03 22:16:54,292 : INFO : topic diff=0.104336, rho=0.176391\n",
      "2018-12-03 22:16:54,309 : INFO : PROGRESS: pass 2, at document #800/2914\n",
      "2018-12-03 22:16:54,366 : INFO : merging changes from 100 documents into a model of 2914 documents\n",
      "2018-12-03 22:16:54,381 : INFO : topic #1 (0.100): 0.013*\"market\" + 0.011*\"country\" + 0.009*\"oil\" + 0.009*\"project\" + 0.008*\"energy\" + 0.008*\"power\" + 0.008*\"bank\" + 0.007*\"high\" + 0.007*\"report\" + 0.007*\"rate\"\n",
      "2018-12-03 22:16:54,381 : INFO : topic #4 (0.100): 0.022*\"company\" + 0.012*\"business\" + 0.010*\"market\" + 0.009*\"share\" + 0.008*\"time\" + 0.007*\"service\" + 0.007*\"price\" + 0.006*\"technology\" + 0.006*\"industry\" + 0.005*\"investment\"\n",
      "2018-12-03 22:16:54,382 : INFO : topic #5 (0.100): 0.018*\"school\" + 0.014*\"city\" + 0.011*\"student\" + 0.009*\"people\" + 0.007*\"day\" + 0.007*\"community\" + 0.006*\"work\" + 0.005*\"university\" + 0.005*\"open\" + 0.005*\"place\"\n",
      "2018-12-03 22:16:54,383 : INFO : topic #2 (0.100): 0.016*\"police\" + 0.012*\"family\" + 0.012*\"child\" + 0.009*\"life\" + 0.008*\"health\" + 0.008*\"death\" + 0.008*\"people\" + 0.007*\"drug\" + 0.007*\"case\" + 0.007*\"medical\"\n",
      "2018-12-03 22:16:54,384 : INFO : topic #3 (0.100): 0.013*\"state\" + 0.008*\"country\" + 0.007*\"president\" + 0.006*\"take\" + 0.006*\"people\" + 0.006*\"government\" + 0.005*\"force\" + 0.005*\"indian\" + 0.004*\"security\" + 0.004*\"attack\"\n",
      "2018-12-03 22:16:54,384 : INFO : topic diff=0.087459, rho=0.176391\n",
      "2018-12-03 22:16:54,403 : INFO : PROGRESS: pass 2, at document #900/2914\n",
      "2018-12-03 22:16:54,457 : INFO : merging changes from 100 documents into a model of 2914 documents\n",
      "2018-12-03 22:16:54,471 : INFO : topic #0 (0.100): 0.010*\"world\" + 0.008*\"book\" + 0.007*\"university\" + 0.007*\"people\" + 0.007*\"change\" + 0.006*\"dr\" + 0.006*\"write\" + 0.006*\"professor\" + 0.005*\"life\" + 0.005*\"use\"\n",
      "2018-12-03 22:16:54,472 : INFO : topic #9 (0.100): 0.010*\"time\" + 0.009*\"play\" + 0.009*\"take\" + 0.008*\"win\" + 0.008*\"look\" + 0.008*\"game\" + 0.008*\"team\" + 0.007*\"want\" + 0.007*\"show\" + 0.007*\"film\"\n",
      "2018-12-03 22:16:54,473 : INFO : topic #5 (0.100): 0.017*\"school\" + 0.013*\"city\" + 0.011*\"student\" + 0.010*\"people\" + 0.007*\"day\" + 0.007*\"community\" + 0.006*\"work\" + 0.005*\"place\" + 0.005*\"open\" + 0.005*\"university\"\n",
      "2018-12-03 22:16:54,475 : INFO : topic #6 (0.100): 0.011*\"need\" + 0.010*\"plan\" + 0.010*\"work\" + 0.008*\"people\" + 0.007*\"water\" + 0.007*\"income\" + 0.006*\"area\" + 0.005*\"number\" + 0.005*\"job\" + 0.005*\"cost\"\n",
      "2018-12-03 22:16:54,476 : INFO : topic #2 (0.100): 0.016*\"police\" + 0.013*\"child\" + 0.013*\"family\" + 0.009*\"life\" + 0.008*\"health\" + 0.008*\"people\" + 0.007*\"death\" + 0.007*\"medical\" + 0.007*\"case\" + 0.007*\"time\"\n"
     ]
    },
    {
     "name": "stderr",
     "output_type": "stream",
     "text": [
      "2018-12-03 22:16:54,478 : INFO : topic diff=0.095386, rho=0.176391\n",
      "2018-12-03 22:16:54,616 : INFO : -8.316 per-word bound, 318.8 perplexity estimate based on a held-out corpus of 100 documents with 22700 words\n",
      "2018-12-03 22:16:54,617 : INFO : PROGRESS: pass 2, at document #1000/2914\n",
      "2018-12-03 22:16:54,669 : INFO : merging changes from 100 documents into a model of 2914 documents\n",
      "2018-12-03 22:16:54,683 : INFO : topic #1 (0.100): 0.012*\"market\" + 0.010*\"country\" + 0.009*\"oil\" + 0.008*\"energy\" + 0.008*\"economic\" + 0.008*\"project\" + 0.008*\"rate\" + 0.007*\"growth\" + 0.007*\"bank\" + 0.007*\"power\"\n",
      "2018-12-03 22:16:54,684 : INFO : topic #8 (0.100): 0.013*\"comment\" + 0.012*\"government\" + 0.009*\"public\" + 0.008*\"party\" + 0.008*\"state\" + 0.007*\"right\" + 0.007*\"member\" + 0.007*\"service\" + 0.006*\"minister\" + 0.006*\"court\"\n",
      "2018-12-03 22:16:54,685 : INFO : topic #0 (0.100): 0.011*\"world\" + 0.009*\"book\" + 0.007*\"people\" + 0.007*\"change\" + 0.007*\"university\" + 0.006*\"write\" + 0.005*\"dr\" + 0.005*\"human\" + 0.005*\"professor\" + 0.005*\"life\"\n",
      "2018-12-03 22:16:54,686 : INFO : topic #6 (0.100): 0.012*\"need\" + 0.010*\"plan\" + 0.009*\"work\" + 0.009*\"cost\" + 0.008*\"people\" + 0.007*\"tax\" + 0.006*\"child\" + 0.006*\"water\" + 0.006*\"income\" + 0.006*\"area\"\n",
      "2018-12-03 22:16:54,688 : INFO : topic #3 (0.100): 0.011*\"state\" + 0.008*\"country\" + 0.007*\"force\" + 0.006*\"president\" + 0.006*\"take\" + 0.006*\"people\" + 0.006*\"war\" + 0.005*\"attack\" + 0.005*\"government\" + 0.005*\"muslim\"\n",
      "2018-12-03 22:16:54,689 : INFO : topic diff=0.084681, rho=0.176391\n",
      "2018-12-03 22:16:54,708 : INFO : PROGRESS: pass 2, at document #1100/2914\n",
      "2018-12-03 22:16:54,765 : INFO : merging changes from 100 documents into a model of 2914 documents\n",
      "2018-12-03 22:16:54,780 : INFO : topic #8 (0.100): 0.013*\"government\" + 0.012*\"comment\" + 0.009*\"public\" + 0.008*\"party\" + 0.008*\"state\" + 0.007*\"minister\" + 0.007*\"member\" + 0.007*\"right\" + 0.007*\"service\" + 0.006*\"issue\"\n",
      "2018-12-03 22:16:54,781 : INFO : topic #0 (0.100): 0.011*\"world\" + 0.010*\"book\" + 0.007*\"people\" + 0.007*\"university\" + 0.007*\"change\" + 0.007*\"write\" + 0.005*\"dr\" + 0.005*\"use\" + 0.005*\"professor\" + 0.005*\"life\"\n",
      "2018-12-03 22:16:54,782 : INFO : topic #1 (0.100): 0.011*\"market\" + 0.009*\"country\" + 0.008*\"energy\" + 0.008*\"oil\" + 0.008*\"project\" + 0.007*\"economic\" + 0.007*\"system\" + 0.007*\"rate\" + 0.007*\"bank\" + 0.007*\"plant\"\n",
      "2018-12-03 22:16:54,783 : INFO : topic #3 (0.100): 0.011*\"state\" + 0.008*\"country\" + 0.007*\"president\" + 0.006*\"take\" + 0.006*\"war\" + 0.006*\"force\" + 0.006*\"people\" + 0.005*\"attack\" + 0.005*\"government\" + 0.004*\"leader\"\n",
      "2018-12-03 22:16:54,784 : INFO : topic #2 (0.100): 0.017*\"police\" + 0.013*\"family\" + 0.013*\"child\" + 0.009*\"life\" + 0.009*\"woman\" + 0.008*\"health\" + 0.008*\"people\" + 0.006*\"death\" + 0.006*\"case\" + 0.006*\"use\"\n",
      "2018-12-03 22:16:54,785 : INFO : topic diff=0.083086, rho=0.176391\n",
      "2018-12-03 22:16:54,800 : INFO : PROGRESS: pass 2, at document #1200/2914\n",
      "2018-12-03 22:16:54,847 : INFO : merging changes from 100 documents into a model of 2914 documents\n",
      "2018-12-03 22:16:54,860 : INFO : topic #0 (0.100): 0.011*\"world\" + 0.011*\"book\" + 0.007*\"people\" + 0.007*\"write\" + 0.007*\"change\" + 0.007*\"university\" + 0.005*\"dr\" + 0.005*\"use\" + 0.005*\"life\" + 0.005*\"professor\"\n",
      "2018-12-03 22:16:54,860 : INFO : topic #9 (0.100): 0.011*\"game\" + 0.011*\"time\" + 0.009*\"play\" + 0.009*\"team\" + 0.009*\"take\" + 0.008*\"look\" + 0.007*\"win\" + 0.007*\"show\" + 0.007*\"want\" + 0.006*\"big\"\n",
      "2018-12-03 22:16:54,861 : INFO : topic #4 (0.100): 0.020*\"company\" + 0.017*\"business\" + 0.009*\"share\" + 0.008*\"market\" + 0.008*\"time\" + 0.006*\"technology\" + 0.006*\"service\" + 0.006*\"price\" + 0.005*\"investor\" + 0.005*\"industry\"\n",
      "2018-12-03 22:16:54,862 : INFO : topic #8 (0.100): 0.013*\"comment\" + 0.013*\"government\" + 0.009*\"public\" + 0.008*\"state\" + 0.007*\"party\" + 0.007*\"minister\" + 0.007*\"member\" + 0.007*\"right\" + 0.006*\"service\" + 0.006*\"court\"\n",
      "2018-12-03 22:16:54,862 : INFO : topic #1 (0.100): 0.011*\"market\" + 0.009*\"country\" + 0.008*\"energy\" + 0.007*\"project\" + 0.007*\"economic\" + 0.007*\"rate\" + 0.007*\"oil\" + 0.007*\"report\" + 0.007*\"system\" + 0.006*\"growth\"\n",
      "2018-12-03 22:16:54,863 : INFO : topic diff=0.089480, rho=0.176391\n",
      "2018-12-03 22:16:54,882 : INFO : PROGRESS: pass 2, at document #1300/2914\n",
      "2018-12-03 22:16:54,934 : INFO : merging changes from 100 documents into a model of 2914 documents\n",
      "2018-12-03 22:16:54,950 : INFO : topic #5 (0.100): 0.012*\"city\" + 0.011*\"school\" + 0.009*\"people\" + 0.008*\"day\" + 0.008*\"student\" + 0.008*\"open\" + 0.007*\"vegas\" + 0.006*\"community\" + 0.005*\"place\" + 0.005*\"road\"\n",
      "2018-12-03 22:16:54,951 : INFO : topic #7 (0.100): 0.018*\"*\" + 0.013*\"use\" + 0.011*\"food\" + 0.008*\"website\" + 0.008*\"site\" + 0.007*\"online\" + 0.007*\"facebook\" + 0.006*\"product\" + 0.006*\"photo\" + 0.006*\"local\"\n",
      "2018-12-03 22:16:54,952 : INFO : topic #2 (0.100): 0.015*\"police\" + 0.012*\"family\" + 0.012*\"child\" + 0.009*\"life\" + 0.009*\"woman\" + 0.008*\"people\" + 0.007*\"comment\" + 0.007*\"health\" + 0.007*\"time\" + 0.007*\"death\"\n",
      "2018-12-03 22:16:54,952 : INFO : topic #4 (0.100): 0.019*\"company\" + 0.015*\"business\" + 0.009*\"share\" + 0.008*\"market\" + 0.008*\"time\" + 0.007*\"technology\" + 0.006*\"price\" + 0.006*\"service\" + 0.005*\"web\" + 0.005*\"investor\"\n",
      "2018-12-03 22:16:54,953 : INFO : topic #1 (0.100): 0.012*\"market\" + 0.008*\"country\" + 0.008*\"energy\" + 0.008*\"rate\" + 0.007*\"project\" + 0.007*\"economic\" + 0.007*\"report\" + 0.007*\"bank\" + 0.007*\"oil\" + 0.007*\"system\"\n",
      "2018-12-03 22:16:54,954 : INFO : topic diff=0.105468, rho=0.176391\n",
      "2018-12-03 22:16:54,974 : INFO : PROGRESS: pass 2, at document #1400/2914\n",
      "2018-12-03 22:16:55,027 : INFO : merging changes from 100 documents into a model of 2914 documents\n",
      "2018-12-03 22:16:55,040 : INFO : topic #2 (0.100): 0.014*\"police\" + 0.012*\"family\" + 0.012*\"child\" + 0.009*\"woman\" + 0.009*\"life\" + 0.009*\"health\" + 0.008*\"drug\" + 0.007*\"people\" + 0.007*\"comment\" + 0.007*\"case\"\n",
      "2018-12-03 22:16:55,041 : INFO : topic #0 (0.100): 0.011*\"world\" + 0.008*\"book\" + 0.008*\"people\" + 0.007*\"change\" + 0.006*\"university\" + 0.006*\"write\" + 0.006*\"use\" + 0.005*\"woman\" + 0.005*\"human\" + 0.005*\"find\"\n",
      "2018-12-03 22:16:55,041 : INFO : topic #6 (0.100): 0.011*\"need\" + 0.010*\"plan\" + 0.009*\"work\" + 0.008*\"people\" + 0.008*\"cost\" + 0.007*\"area\" + 0.006*\"tax\" + 0.006*\"child\" + 0.005*\"water\" + 0.005*\"number\"\n",
      "2018-12-03 22:16:55,042 : INFO : topic #3 (0.100): 0.009*\"state\" + 0.008*\"country\" + 0.006*\"president\" + 0.006*\"take\" + 0.006*\"force\" + 0.006*\"people\" + 0.006*\"attack\" + 0.006*\"war\" + 0.005*\"leader\" + 0.005*\"group\"\n",
      "2018-12-03 22:16:55,043 : INFO : topic #9 (0.100): 0.012*\"game\" + 0.011*\"time\" + 0.011*\"team\" + 0.009*\"play\" + 0.008*\"take\" + 0.008*\"win\" + 0.008*\"look\" + 0.007*\"show\" + 0.007*\"want\" + 0.006*\"big\"\n",
      "2018-12-03 22:16:55,044 : INFO : topic diff=0.089666, rho=0.176391\n",
      "2018-12-03 22:16:55,066 : INFO : PROGRESS: pass 2, at document #1500/2914\n",
      "2018-12-03 22:16:55,124 : INFO : merging changes from 100 documents into a model of 2914 documents\n",
      "2018-12-03 22:16:55,142 : INFO : topic #3 (0.100): 0.008*\"state\" + 0.007*\"country\" + 0.006*\"force\" + 0.006*\"take\" + 0.006*\"people\" + 0.006*\"president\" + 0.005*\"attack\" + 0.005*\"war\" + 0.005*\"air\" + 0.004*\"leader\"\n",
      "2018-12-03 22:16:55,143 : INFO : topic #6 (0.100): 0.010*\"need\" + 0.009*\"work\" + 0.009*\"plan\" + 0.008*\"people\" + 0.008*\"cost\" + 0.007*\"child\" + 0.006*\"area\" + 0.006*\"number\" + 0.005*\"tax\" + 0.005*\"water\"\n",
      "2018-12-03 22:16:55,144 : INFO : topic #0 (0.100): 0.011*\"world\" + 0.009*\"book\" + 0.007*\"people\" + 0.007*\"change\" + 0.006*\"write\" + 0.006*\"study\" + 0.006*\"university\" + 0.006*\"find\" + 0.005*\"use\" + 0.005*\"human\"\n",
      "2018-12-03 22:16:55,145 : INFO : topic #1 (0.100): 0.011*\"market\" + 0.009*\"energy\" + 0.008*\"system\" + 0.008*\"rate\" + 0.008*\"growth\" + 0.007*\"project\" + 0.007*\"country\" + 0.007*\"high\" + 0.007*\"large\" + 0.007*\"economic\"\n",
      "2018-12-03 22:16:55,146 : INFO : topic #9 (0.100): 0.013*\"game\" + 0.012*\"time\" + 0.010*\"team\" + 0.009*\"play\" + 0.008*\"take\" + 0.008*\"show\" + 0.008*\"look\" + 0.007*\"win\" + 0.007*\"want\" + 0.007*\"film\"\n",
      "2018-12-03 22:16:55,147 : INFO : topic diff=0.115178, rho=0.176391\n",
      "2018-12-03 22:16:55,165 : INFO : PROGRESS: pass 2, at document #1600/2914\n",
      "2018-12-03 22:16:55,219 : INFO : merging changes from 100 documents into a model of 2914 documents\n"
     ]
    },
    {
     "name": "stderr",
     "output_type": "stream",
     "text": [
      "2018-12-03 22:16:55,234 : INFO : topic #2 (0.100): 0.014*\"police\" + 0.012*\"child\" + 0.012*\"family\" + 0.008*\"life\" + 0.008*\"woman\" + 0.007*\"find\" + 0.007*\"people\" + 0.007*\"drug\" + 0.007*\"time\" + 0.007*\"death\"\n",
      "2018-12-03 22:16:55,235 : INFO : topic #3 (0.100): 0.008*\"state\" + 0.008*\"pakistan\" + 0.008*\"country\" + 0.006*\"people\" + 0.006*\"take\" + 0.006*\"president\" + 0.006*\"force\" + 0.006*\"oct\" + 0.005*\"muslim\" + 0.005*\"war\"\n",
      "2018-12-03 22:16:55,236 : INFO : topic #9 (0.100): 0.012*\"game\" + 0.012*\"time\" + 0.010*\"team\" + 0.009*\"play\" + 0.008*\"take\" + 0.008*\"film\" + 0.008*\"look\" + 0.007*\"win\" + 0.007*\"show\" + 0.007*\"want\"\n",
      "2018-12-03 22:16:55,240 : INFO : topic #7 (0.100): 0.015*\"*\" + 0.013*\"use\" + 0.010*\"food\" + 0.009*\"website\" + 0.008*\"site\" + 0.007*\"online\" + 0.007*\"facebook\" + 0.007*\"local\" + 0.006*\"dog\" + 0.006*\"e-mail\"\n",
      "2018-12-03 22:16:55,240 : INFO : topic #5 (0.100): 0.014*\"city\" + 0.012*\"school\" + 0.008*\"student\" + 0.008*\"people\" + 0.008*\"day\" + 0.007*\"open\" + 0.006*\"place\" + 0.005*\"work\" + 0.005*\"local\" + 0.005*\"community\"\n",
      "2018-12-03 22:16:55,242 : INFO : topic diff=0.093797, rho=0.176391\n",
      "2018-12-03 22:16:55,261 : INFO : PROGRESS: pass 2, at document #1700/2914\n",
      "2018-12-03 22:16:55,303 : INFO : merging changes from 100 documents into a model of 2914 documents\n",
      "2018-12-03 22:16:55,316 : INFO : topic #7 (0.100): 0.013*\"use\" + 0.013*\"*\" + 0.009*\"food\" + 0.008*\"website\" + 0.008*\"online\" + 0.007*\"site\" + 0.007*\"facebook\" + 0.007*\"product\" + 0.007*\"brand\" + 0.007*\"local\"\n",
      "2018-12-03 22:16:55,316 : INFO : topic #4 (0.100): 0.017*\"company\" + 0.014*\"business\" + 0.009*\"market\" + 0.008*\"time\" + 0.007*\"share\" + 0.007*\"technology\" + 0.006*\"sales\" + 0.006*\"car\" + 0.005*\"service\" + 0.005*\"customer\"\n",
      "2018-12-03 22:16:55,317 : INFO : topic #0 (0.100): 0.011*\"world\" + 0.008*\"book\" + 0.008*\"people\" + 0.006*\"write\" + 0.006*\"change\" + 0.006*\"university\" + 0.005*\"study\" + 0.005*\"find\" + 0.005*\"use\" + 0.005*\"life\"\n",
      "2018-12-03 22:16:55,318 : INFO : topic #5 (0.100): 0.015*\"city\" + 0.011*\"school\" + 0.008*\"day\" + 0.008*\"student\" + 0.008*\"people\" + 0.007*\"open\" + 0.006*\"place\" + 0.005*\"work\" + 0.005*\"community\" + 0.005*\"time\"\n",
      "2018-12-03 22:16:55,318 : INFO : topic #2 (0.100): 0.015*\"police\" + 0.012*\"child\" + 0.011*\"family\" + 0.008*\"woman\" + 0.008*\"life\" + 0.008*\"death\" + 0.007*\"people\" + 0.007*\"health\" + 0.007*\"take\" + 0.007*\"find\"\n",
      "2018-12-03 22:16:55,320 : INFO : topic diff=0.081153, rho=0.176391\n",
      "2018-12-03 22:16:55,334 : INFO : PROGRESS: pass 2, at document #1800/2914\n",
      "2018-12-03 22:16:55,382 : INFO : merging changes from 100 documents into a model of 2914 documents\n",
      "2018-12-03 22:16:55,394 : INFO : topic #0 (0.100): 0.011*\"world\" + 0.008*\"people\" + 0.007*\"book\" + 0.007*\"change\" + 0.006*\"write\" + 0.006*\"study\" + 0.006*\"find\" + 0.005*\"university\" + 0.005*\"dr\" + 0.005*\"woman\"\n",
      "2018-12-03 22:16:55,395 : INFO : topic #8 (0.100): 0.015*\"comment\" + 0.012*\"government\" + 0.008*\"minister\" + 0.008*\"party\" + 0.007*\"state\" + 0.007*\"public\" + 0.006*\"member\" + 0.006*\"right\" + 0.006*\"court\" + 0.005*\"pay\"\n",
      "2018-12-03 22:16:55,395 : INFO : topic #7 (0.100): 0.015*\"*\" + 0.013*\"use\" + 0.009*\"website\" + 0.008*\"food\" + 0.008*\"online\" + 0.008*\"facebook\" + 0.008*\"site\" + 0.007*\"e-mail\" + 0.006*\"local\" + 0.006*\"brand\"\n",
      "2018-12-03 22:16:55,396 : INFO : topic #9 (0.100): 0.011*\"time\" + 0.011*\"game\" + 0.010*\"team\" + 0.009*\"play\" + 0.008*\"win\" + 0.008*\"take\" + 0.008*\"look\" + 0.007*\"show\" + 0.007*\"film\" + 0.006*\"want\"\n",
      "2018-12-03 22:16:55,397 : INFO : topic #5 (0.100): 0.014*\"city\" + 0.012*\"school\" + 0.009*\"student\" + 0.008*\"people\" + 0.008*\"day\" + 0.007*\"open\" + 0.006*\"community\" + 0.006*\"place\" + 0.005*\"work\" + 0.005*\"street\"\n",
      "2018-12-03 22:16:55,397 : INFO : topic diff=0.086059, rho=0.176391\n",
      "2018-12-03 22:16:55,413 : INFO : PROGRESS: pass 2, at document #1900/2914\n",
      "2018-12-03 22:16:55,458 : INFO : merging changes from 100 documents into a model of 2914 documents\n",
      "2018-12-03 22:16:55,470 : INFO : topic #9 (0.100): 0.012*\"time\" + 0.011*\"game\" + 0.011*\"team\" + 0.010*\"play\" + 0.009*\"win\" + 0.008*\"take\" + 0.007*\"look\" + 0.007*\"show\" + 0.007*\"film\" + 0.006*\"big\"\n",
      "2018-12-03 22:16:55,471 : INFO : topic #8 (0.100): 0.014*\"comment\" + 0.012*\"government\" + 0.009*\"minister\" + 0.008*\"party\" + 0.007*\"state\" + 0.007*\"public\" + 0.007*\"right\" + 0.007*\"member\" + 0.006*\"court\" + 0.006*\"post\"\n",
      "2018-12-03 22:16:55,472 : INFO : topic #2 (0.100): 0.017*\"police\" + 0.011*\"family\" + 0.011*\"child\" + 0.009*\"woman\" + 0.008*\"life\" + 0.008*\"people\" + 0.008*\"health\" + 0.007*\"find\" + 0.007*\"take\" + 0.007*\"death\"\n",
      "2018-12-03 22:16:55,473 : INFO : topic #6 (0.100): 0.011*\"need\" + 0.010*\"people\" + 0.009*\"work\" + 0.008*\"water\" + 0.008*\"plan\" + 0.007*\"area\" + 0.007*\"cost\" + 0.006*\"tax\" + 0.006*\"job\" + 0.006*\"child\"\n",
      "2018-12-03 22:16:55,473 : INFO : topic #3 (0.100): 0.009*\"state\" + 0.008*\"country\" + 0.007*\"people\" + 0.007*\"war\" + 0.006*\"pakistan\" + 0.006*\"take\" + 0.006*\"president\" + 0.006*\"attack\" + 0.006*\"force\" + 0.005*\"group\"\n",
      "2018-12-03 22:16:55,474 : INFO : topic diff=0.088606, rho=0.176391\n",
      "2018-12-03 22:16:55,599 : INFO : -8.294 per-word bound, 313.9 perplexity estimate based on a held-out corpus of 100 documents with 19093 words\n",
      "2018-12-03 22:16:55,600 : INFO : PROGRESS: pass 2, at document #2000/2914\n",
      "2018-12-03 22:16:55,652 : INFO : merging changes from 100 documents into a model of 2914 documents\n",
      "2018-12-03 22:16:55,665 : INFO : topic #4 (0.100): 0.024*\"company\" + 0.013*\"business\" + 0.012*\"share\" + 0.008*\"market\" + 0.007*\"price\" + 0.007*\"time\" + 0.006*\"buy\" + 0.006*\"service\" + 0.006*\"technology\" + 0.006*\"car\"\n",
      "2018-12-03 22:16:55,666 : INFO : topic #0 (0.100): 0.010*\"world\" + 0.008*\"people\" + 0.008*\"book\" + 0.007*\"university\" + 0.007*\"write\" + 0.006*\"change\" + 0.005*\"life\" + 0.005*\"find\" + 0.005*\"dr\" + 0.005*\"study\"\n",
      "2018-12-03 22:16:55,666 : INFO : topic #9 (0.100): 0.011*\"time\" + 0.011*\"game\" + 0.010*\"play\" + 0.010*\"team\" + 0.009*\"win\" + 0.008*\"show\" + 0.008*\"take\" + 0.007*\"look\" + 0.006*\"film\" + 0.006*\"want\"\n",
      "2018-12-03 22:16:55,667 : INFO : topic #1 (0.100): 0.010*\"market\" + 0.008*\"rate\" + 0.008*\"country\" + 0.008*\"high\" + 0.008*\"energy\" + 0.008*\"growth\" + 0.007*\"project\" + 0.007*\"low\" + 0.007*\"report\" + 0.006*\"system\"\n",
      "2018-12-03 22:16:55,669 : INFO : topic #3 (0.100): 0.009*\"state\" + 0.007*\"country\" + 0.007*\"war\" + 0.007*\"people\" + 0.007*\"president\" + 0.006*\"take\" + 0.006*\"pakistan\" + 0.005*\"attack\" + 0.005*\"force\" + 0.005*\"group\"\n",
      "2018-12-03 22:16:55,670 : INFO : topic diff=0.085242, rho=0.176391\n",
      "2018-12-03 22:16:55,685 : INFO : PROGRESS: pass 2, at document #2100/2914\n",
      "2018-12-03 22:16:55,741 : INFO : merging changes from 100 documents into a model of 2914 documents\n",
      "2018-12-03 22:16:55,754 : INFO : topic #0 (0.100): 0.010*\"world\" + 0.009*\"book\" + 0.007*\"write\" + 0.007*\"people\" + 0.006*\"change\" + 0.006*\"university\" + 0.005*\"life\" + 0.005*\"find\" + 0.005*\"use\" + 0.005*\"study\"\n",
      "2018-12-03 22:16:55,756 : INFO : topic #4 (0.100): 0.025*\"company\" + 0.014*\"share\" + 0.014*\"business\" + 0.008*\"price\" + 0.008*\"market\" + 0.007*\"service\" + 0.007*\"time\" + 0.007*\"technology\" + 0.006*\"car\" + 0.005*\"buy\"\n",
      "2018-12-03 22:16:55,757 : INFO : topic #9 (0.100): 0.014*\"game\" + 0.012*\"play\" + 0.011*\"time\" + 0.011*\"team\" + 0.010*\"win\" + 0.008*\"take\" + 0.007*\"look\" + 0.007*\"show\" + 0.006*\"player\" + 0.006*\"want\"\n",
      "2018-12-03 22:16:55,758 : INFO : topic #7 (0.100): 0.013*\"use\" + 0.013*\"*\" + 0.010*\"website\" + 0.009*\"food\" + 0.008*\"site\" + 0.007*\"online\" + 0.006*\"local\" + 0.006*\"e-mail\" + 0.006*\"facebook\" + 0.006*\"editor\"\n",
      "2018-12-03 22:16:55,759 : INFO : topic #1 (0.100): 0.009*\"market\" + 0.008*\"gas\" + 0.008*\"project\" + 0.008*\"rate\" + 0.008*\"bank\" + 0.008*\"country\" + 0.008*\"high\" + 0.008*\"growth\" + 0.007*\"energy\" + 0.006*\"power\"\n",
      "2018-12-03 22:16:55,760 : INFO : topic diff=0.087912, rho=0.176391\n",
      "2018-12-03 22:16:55,773 : INFO : PROGRESS: pass 2, at document #2200/2914\n",
      "2018-12-03 22:16:55,825 : INFO : merging changes from 100 documents into a model of 2914 documents\n",
      "2018-12-03 22:16:55,837 : INFO : topic #9 (0.100): 0.014*\"game\" + 0.012*\"play\" + 0.011*\"time\" + 0.011*\"team\" + 0.010*\"win\" + 0.008*\"take\" + 0.007*\"look\" + 0.007*\"show\" + 0.006*\"want\" + 0.006*\"player\"\n",
      "2018-12-03 22:16:55,838 : INFO : topic #7 (0.100): 0.016*\"use\" + 0.012*\"*\" + 0.012*\"website\" + 0.010*\"food\" + 0.009*\"site\" + 0.007*\"online\" + 0.007*\"cookie\" + 0.006*\"e-mail\" + 0.006*\"store\" + 0.006*\"local\"\n"
     ]
    },
    {
     "name": "stderr",
     "output_type": "stream",
     "text": [
      "2018-12-03 22:16:55,839 : INFO : topic #4 (0.100): 0.023*\"company\" + 0.015*\"business\" + 0.013*\"share\" + 0.008*\"market\" + 0.008*\"price\" + 0.007*\"service\" + 0.007*\"time\" + 0.006*\"technology\" + 0.005*\"car\" + 0.005*\"customer\"\n",
      "2018-12-03 22:16:55,839 : INFO : topic #0 (0.100): 0.010*\"world\" + 0.008*\"book\" + 0.008*\"people\" + 0.007*\"write\" + 0.006*\"university\" + 0.006*\"change\" + 0.005*\"dr\" + 0.005*\"use\" + 0.005*\"life\" + 0.005*\"study\"\n",
      "2018-12-03 22:16:55,840 : INFO : topic #6 (0.100): 0.010*\"need\" + 0.009*\"tax\" + 0.009*\"work\" + 0.008*\"water\" + 0.008*\"plan\" + 0.008*\"people\" + 0.007*\"area\" + 0.006*\"cost\" + 0.006*\"job\" + 0.006*\"worker\"\n",
      "2018-12-03 22:16:55,841 : INFO : topic diff=0.081183, rho=0.176391\n",
      "2018-12-03 22:16:55,858 : INFO : PROGRESS: pass 2, at document #2300/2914\n",
      "2018-12-03 22:16:55,902 : INFO : merging changes from 100 documents into a model of 2914 documents\n",
      "2018-12-03 22:16:55,914 : INFO : topic #5 (0.100): 0.018*\"school\" + 0.014*\"city\" + 0.011*\"student\" + 0.008*\"people\" + 0.008*\"day\" + 0.006*\"open\" + 0.006*\"work\" + 0.005*\"community\" + 0.005*\"park\" + 0.005*\"time\"\n",
      "2018-12-03 22:16:55,915 : INFO : topic #4 (0.100): 0.027*\"company\" + 0.014*\"business\" + 0.013*\"share\" + 0.008*\"price\" + 0.008*\"service\" + 0.008*\"market\" + 0.007*\"value\" + 0.007*\"time\" + 0.006*\"stock\" + 0.006*\"technology\"\n",
      "2018-12-03 22:16:55,915 : INFO : topic #0 (0.100): 0.010*\"world\" + 0.008*\"people\" + 0.007*\"book\" + 0.007*\"write\" + 0.007*\"change\" + 0.006*\"university\" + 0.006*\"life\" + 0.005*\"use\" + 0.005*\"find\" + 0.005*\"dr\"\n",
      "2018-12-03 22:16:55,916 : INFO : topic #2 (0.100): 0.014*\"police\" + 0.011*\"family\" + 0.010*\"child\" + 0.009*\"woman\" + 0.008*\"take\" + 0.008*\"life\" + 0.007*\"health\" + 0.007*\"find\" + 0.006*\"use\" + 0.006*\"case\"\n",
      "2018-12-03 22:16:55,917 : INFO : topic #9 (0.100): 0.014*\"game\" + 0.012*\"team\" + 0.012*\"time\" + 0.011*\"play\" + 0.010*\"win\" + 0.008*\"take\" + 0.007*\"look\" + 0.007*\"want\" + 0.006*\"show\" + 0.006*\"big\"\n",
      "2018-12-03 22:16:55,918 : INFO : topic diff=0.080565, rho=0.176391\n",
      "2018-12-03 22:16:55,929 : INFO : PROGRESS: pass 2, at document #2400/2914\n",
      "2018-12-03 22:16:55,974 : INFO : merging changes from 100 documents into a model of 2914 documents\n",
      "2018-12-03 22:16:55,987 : INFO : topic #2 (0.100): 0.015*\"police\" + 0.011*\"child\" + 0.011*\"family\" + 0.009*\"woman\" + 0.008*\"take\" + 0.008*\"life\" + 0.008*\"health\" + 0.007*\"court\" + 0.006*\"find\" + 0.006*\"use\"\n",
      "2018-12-03 22:16:55,988 : INFO : topic #0 (0.100): 0.010*\"world\" + 0.007*\"people\" + 0.007*\"book\" + 0.007*\"change\" + 0.006*\"university\" + 0.006*\"write\" + 0.006*\"life\" + 0.005*\"use\" + 0.005*\"trump\" + 0.005*\"dr\"\n",
      "2018-12-03 22:16:55,988 : INFO : topic #6 (0.100): 0.011*\"need\" + 0.010*\"tax\" + 0.010*\"work\" + 0.008*\"plan\" + 0.008*\"people\" + 0.007*\"water\" + 0.007*\"area\" + 0.006*\"number\" + 0.005*\"problem\" + 0.005*\"cost\"\n",
      "2018-12-03 22:16:55,989 : INFO : topic #3 (0.100): 0.011*\"state\" + 0.009*\"country\" + 0.008*\"president\" + 0.007*\"people\" + 0.006*\"attack\" + 0.005*\"take\" + 0.005*\"leader\" + 0.005*\"pakistan\" + 0.005*\"war\" + 0.005*\"indian\"\n",
      "2018-12-03 22:16:55,990 : INFO : topic #4 (0.100): 0.028*\"company\" + 0.014*\"business\" + 0.012*\"share\" + 0.010*\"service\" + 0.008*\"price\" + 0.008*\"market\" + 0.007*\"value\" + 0.006*\"time\" + 0.006*\"customer\" + 0.006*\"technology\"\n",
      "2018-12-03 22:16:55,991 : INFO : topic diff=0.083336, rho=0.176391\n",
      "2018-12-03 22:16:56,005 : INFO : PROGRESS: pass 2, at document #2500/2914\n",
      "2018-12-03 22:16:56,051 : INFO : merging changes from 100 documents into a model of 2914 documents\n",
      "2018-12-03 22:16:56,065 : INFO : topic #0 (0.100): 0.010*\"world\" + 0.008*\"book\" + 0.008*\"people\" + 0.007*\"change\" + 0.006*\"university\" + 0.006*\"life\" + 0.005*\"write\" + 0.005*\"trump\" + 0.005*\"use\" + 0.005*\"dr\"\n",
      "2018-12-03 22:16:56,067 : INFO : topic #9 (0.100): 0.014*\"game\" + 0.011*\"play\" + 0.011*\"time\" + 0.011*\"team\" + 0.010*\"win\" + 0.008*\"look\" + 0.008*\"take\" + 0.006*\"big\" + 0.006*\"show\" + 0.006*\"player\"\n",
      "2018-12-03 22:16:56,068 : INFO : topic #5 (0.100): 0.016*\"school\" + 0.014*\"city\" + 0.010*\"student\" + 0.008*\"people\" + 0.008*\"day\" + 0.007*\"community\" + 0.006*\"open\" + 0.006*\"park\" + 0.006*\"local\" + 0.005*\"work\"\n",
      "2018-12-03 22:16:56,069 : INFO : topic #2 (0.100): 0.018*\"police\" + 0.013*\"family\" + 0.011*\"child\" + 0.009*\"health\" + 0.008*\"take\" + 0.008*\"woman\" + 0.007*\"life\" + 0.007*\"court\" + 0.007*\"find\" + 0.007*\"case\"\n",
      "2018-12-03 22:16:56,070 : INFO : topic #4 (0.100): 0.026*\"company\" + 0.014*\"business\" + 0.012*\"share\" + 0.009*\"service\" + 0.008*\"price\" + 0.007*\"market\" + 0.007*\"time\" + 0.007*\"value\" + 0.006*\"technology\" + 0.006*\"investor\"\n",
      "2018-12-03 22:16:56,070 : INFO : topic diff=0.080206, rho=0.176391\n",
      "2018-12-03 22:16:56,088 : INFO : PROGRESS: pass 2, at document #2600/2914\n",
      "2018-12-03 22:16:56,134 : INFO : merging changes from 100 documents into a model of 2914 documents\n",
      "2018-12-03 22:16:56,147 : INFO : topic #5 (0.100): 0.016*\"school\" + 0.014*\"city\" + 0.009*\"student\" + 0.008*\"day\" + 0.008*\"people\" + 0.007*\"community\" + 0.006*\"open\" + 0.005*\"local\" + 0.005*\"park\" + 0.005*\"work\"\n",
      "2018-12-03 22:16:56,148 : INFO : topic #2 (0.100): 0.019*\"police\" + 0.012*\"family\" + 0.011*\"child\" + 0.010*\"woman\" + 0.009*\"medical\" + 0.008*\"take\" + 0.007*\"life\" + 0.007*\"health\" + 0.007*\"find\" + 0.007*\"mother\"\n",
      "2018-12-03 22:16:56,149 : INFO : topic #3 (0.100): 0.013*\"state\" + 0.010*\"country\" + 0.008*\"president\" + 0.007*\"people\" + 0.006*\"attack\" + 0.006*\"group\" + 0.006*\"force\" + 0.005*\"take\" + 0.005*\"government\" + 0.005*\"indian\"\n",
      "2018-12-03 22:16:56,150 : INFO : topic #6 (0.100): 0.012*\"need\" + 0.011*\"tax\" + 0.010*\"work\" + 0.009*\"people\" + 0.008*\"area\" + 0.007*\"plan\" + 0.007*\"water\" + 0.007*\"job\" + 0.006*\"budget\" + 0.006*\"problem\"\n",
      "2018-12-03 22:16:56,151 : INFO : topic #4 (0.100): 0.026*\"company\" + 0.014*\"business\" + 0.012*\"share\" + 0.010*\"service\" + 0.007*\"time\" + 0.007*\"price\" + 0.007*\"market\" + 0.006*\"value\" + 0.006*\"technology\" + 0.005*\"firm\"\n",
      "2018-12-03 22:16:56,152 : INFO : topic diff=0.080713, rho=0.176391\n",
      "2018-12-03 22:16:56,167 : INFO : PROGRESS: pass 2, at document #2700/2914\n",
      "2018-12-03 22:16:56,210 : INFO : merging changes from 100 documents into a model of 2914 documents\n",
      "2018-12-03 22:16:56,223 : INFO : topic #8 (0.100): 0.013*\"government\" + 0.012*\"comment\" + 0.009*\"party\" + 0.009*\"state\" + 0.008*\"member\" + 0.007*\"minister\" + 0.007*\"public\" + 0.007*\"issue\" + 0.007*\"court\" + 0.006*\"right\"\n",
      "2018-12-03 22:16:56,223 : INFO : topic #3 (0.100): 0.013*\"state\" + 0.010*\"president\" + 0.010*\"country\" + 0.007*\"people\" + 0.007*\"group\" + 0.006*\"attack\" + 0.006*\"nigeria\" + 0.006*\"take\" + 0.005*\"force\" + 0.005*\"government\"\n",
      "2018-12-03 22:16:56,224 : INFO : topic #7 (0.100): 0.017*\"use\" + 0.013*\"website\" + 0.011*\"site\" + 0.011*\"*\" + 0.008*\"food\" + 0.008*\"cookie\" + 0.008*\"editor\" + 0.008*\"contact\" + 0.008*\"local\" + 0.008*\"online\"\n",
      "2018-12-03 22:16:56,225 : INFO : topic #1 (0.100): 0.010*\"market\" + 0.009*\"energy\" + 0.009*\"high\" + 0.009*\"project\" + 0.008*\"country\" + 0.008*\"price\" + 0.007*\"economic\" + 0.007*\"growth\" + 0.007*\"gas\" + 0.007*\"bank\"\n",
      "2018-12-03 22:16:56,225 : INFO : topic #9 (0.100): 0.012*\"team\" + 0.012*\"game\" + 0.012*\"play\" + 0.011*\"time\" + 0.010*\"win\" + 0.008*\"take\" + 0.007*\"look\" + 0.006*\"player\" + 0.006*\"show\" + 0.006*\"big\"\n",
      "2018-12-03 22:16:56,226 : INFO : topic diff=0.073032, rho=0.176391\n",
      "2018-12-03 22:16:56,243 : INFO : PROGRESS: pass 2, at document #2800/2914\n",
      "2018-12-03 22:16:56,290 : INFO : merging changes from 100 documents into a model of 2914 documents\n",
      "2018-12-03 22:16:56,308 : INFO : topic #9 (0.100): 0.012*\"play\" + 0.011*\"game\" + 0.011*\"team\" + 0.011*\"time\" + 0.010*\"win\" + 0.008*\"take\" + 0.008*\"look\" + 0.007*\"show\" + 0.006*\"player\" + 0.006*\"want\"\n",
      "2018-12-03 22:16:56,310 : INFO : topic #7 (0.100): 0.017*\"use\" + 0.013*\"kashmir\" + 0.012*\"website\" + 0.011*\"site\" + 0.011*\"*\" + 0.010*\"click\" + 0.009*\"cookie\" + 0.008*\"editor\" + 0.008*\"food\" + 0.008*\"contact\"\n",
      "2018-12-03 22:16:56,311 : INFO : topic #2 (0.100): 0.016*\"police\" + 0.013*\"child\" + 0.011*\"family\" + 0.010*\"health\" + 0.009*\"woman\" + 0.009*\"drug\" + 0.008*\"case\" + 0.008*\"girl\" + 0.007*\"medical\" + 0.007*\"life\"\n",
      "2018-12-03 22:16:56,312 : INFO : topic #0 (0.100): 0.010*\"world\" + 0.008*\"people\" + 0.007*\"trump\" + 0.007*\"book\" + 0.007*\"change\" + 0.006*\"life\" + 0.005*\"university\" + 0.005*\"use\" + 0.005*\"write\" + 0.005*\"dr\"\n"
     ]
    },
    {
     "name": "stderr",
     "output_type": "stream",
     "text": [
      "2018-12-03 22:16:56,313 : INFO : topic #3 (0.100): 0.012*\"state\" + 0.011*\"country\" + 0.011*\"president\" + 0.007*\"pakistan\" + 0.007*\"people\" + 0.006*\"group\" + 0.006*\"attack\" + 0.006*\"nigeria\" + 0.006*\"indian\" + 0.006*\"government\"\n",
      "2018-12-03 22:16:56,314 : INFO : topic diff=0.093184, rho=0.176391\n",
      "2018-12-03 22:16:56,329 : INFO : PROGRESS: pass 2, at document #2900/2914\n",
      "2018-12-03 22:16:56,371 : INFO : merging changes from 100 documents into a model of 2914 documents\n",
      "2018-12-03 22:16:56,387 : INFO : topic #9 (0.100): 0.012*\"game\" + 0.011*\"play\" + 0.011*\"time\" + 0.011*\"team\" + 0.009*\"win\" + 0.008*\"take\" + 0.008*\"look\" + 0.006*\"show\" + 0.006*\"player\" + 0.006*\"want\"\n",
      "2018-12-03 22:16:56,388 : INFO : topic #4 (0.100): 0.023*\"company\" + 0.016*\"business\" + 0.011*\"share\" + 0.009*\"price\" + 0.008*\"service\" + 0.008*\"time\" + 0.008*\"market\" + 0.007*\"technology\" + 0.006*\"app\" + 0.006*\"value\"\n",
      "2018-12-03 22:16:56,389 : INFO : topic #7 (0.100): 0.019*\"use\" + 0.013*\"website\" + 0.012*\"site\" + 0.011*\"kashmir\" + 0.010*\"*\" + 0.009*\"click\" + 0.009*\"cookie\" + 0.009*\"user\" + 0.009*\"food\" + 0.008*\"editor\"\n",
      "2018-12-03 22:16:56,389 : INFO : topic #3 (0.100): 0.013*\"president\" + 0.011*\"state\" + 0.011*\"country\" + 0.008*\"pakistan\" + 0.006*\"people\" + 0.006*\"attack\" + 0.006*\"group\" + 0.006*\"force\" + 0.006*\"government\" + 0.006*\"take\"\n",
      "2018-12-03 22:16:56,390 : INFO : topic #5 (0.100): 0.017*\"school\" + 0.011*\"city\" + 0.011*\"student\" + 0.009*\"day\" + 0.007*\"people\" + 0.007*\"community\" + 0.006*\"open\" + 0.005*\"local\" + 0.005*\"education\" + 0.005*\"road\"\n",
      "2018-12-03 22:16:56,391 : INFO : topic diff=0.074228, rho=0.176391\n",
      "2018-12-03 22:16:56,436 : INFO : -8.104 per-word bound, 275.1 perplexity estimate based on a held-out corpus of 14 documents with 2867 words\n",
      "2018-12-03 22:16:56,437 : INFO : PROGRESS: pass 2, at document #2914/2914\n",
      "2018-12-03 22:16:56,446 : INFO : merging changes from 14 documents into a model of 2914 documents\n",
      "2018-12-03 22:16:56,461 : INFO : topic #5 (0.100): 0.017*\"city\" + 0.013*\"school\" + 0.011*\"community\" + 0.009*\"student\" + 0.008*\"space\" + 0.008*\"day\" + 0.007*\"people\" + 0.006*\"open\" + 0.006*\"parking\" + 0.006*\"local\"\n",
      "2018-12-03 22:16:56,462 : INFO : topic #9 (0.100): 0.014*\"game\" + 0.012*\"play\" + 0.011*\"win\" + 0.011*\"team\" + 0.011*\"time\" + 0.008*\"take\" + 0.007*\"look\" + 0.007*\"goal\" + 0.007*\"score\" + 0.007*\"big\"\n",
      "2018-12-03 22:16:56,463 : INFO : topic #4 (0.100): 0.023*\"company\" + 0.014*\"business\" + 0.014*\"market\" + 0.012*\"share\" + 0.011*\"service\" + 0.009*\"price\" + 0.008*\"technology\" + 0.008*\"singapore\" + 0.008*\"sales\" + 0.007*\"time\"\n",
      "2018-12-03 22:16:56,464 : INFO : topic #0 (0.100): 0.009*\"world\" + 0.009*\"supplement\" + 0.007*\"people\" + 0.007*\"book\" + 0.007*\"change\" + 0.006*\"human\" + 0.005*\"life\" + 0.005*\"trump\" + 0.005*\"use\" + 0.005*\"wise\"\n",
      "2018-12-03 22:16:56,464 : INFO : topic #2 (0.100): 0.019*\"police\" + 0.014*\"medical\" + 0.013*\"family\" + 0.012*\"child\" + 0.011*\"woman\" + 0.009*\"health\" + 0.009*\"drug\" + 0.009*\"mother\" + 0.008*\"case\" + 0.007*\"hospital\"\n",
      "2018-12-03 22:16:56,465 : INFO : topic diff=0.128201, rho=0.176391\n",
      "2018-12-03 22:16:58,451 : INFO : PROGRESS: pass 3, at document #100/2914\n",
      "2018-12-03 22:16:58,500 : INFO : merging changes from 100 documents into a model of 2914 documents\n",
      "2018-12-03 22:16:58,519 : INFO : topic #6 (0.100): 0.015*\"need\" + 0.012*\"water\" + 0.010*\"funding\" + 0.010*\"work\" + 0.009*\"tax\" + 0.009*\"plan\" + 0.008*\"project\" + 0.008*\"people\" + 0.007*\"income\" + 0.007*\"job\"\n",
      "2018-12-03 22:16:58,520 : INFO : topic #3 (0.100): 0.011*\"president\" + 0.010*\"state\" + 0.010*\"country\" + 0.007*\"force\" + 0.006*\"pakistan\" + 0.006*\"government\" + 0.006*\"attack\" + 0.006*\"people\" + 0.005*\"take\" + 0.005*\"indian\"\n",
      "2018-12-03 22:16:58,521 : INFO : topic #9 (0.100): 0.014*\"game\" + 0.012*\"play\" + 0.011*\"time\" + 0.011*\"win\" + 0.011*\"team\" + 0.008*\"take\" + 0.008*\"look\" + 0.007*\"big\" + 0.006*\"score\" + 0.006*\"point\"\n",
      "2018-12-03 22:16:58,522 : INFO : topic #7 (0.100): 0.031*\"beer\" + 0.017*\"use\" + 0.014*\"website\" + 0.013*\"site\" + 0.009*\"newspaper\" + 0.009*\"visit\" + 0.008*\"contact\" + 0.008*\"click\" + 0.008*\"facebook\" + 0.008*\"user\"\n",
      "2018-12-03 22:16:58,523 : INFO : topic #0 (0.100): 0.009*\"world\" + 0.008*\"people\" + 0.008*\"book\" + 0.006*\"supplement\" + 0.006*\"change\" + 0.006*\"write\" + 0.006*\"life\" + 0.006*\"use\" + 0.006*\"human\" + 0.005*\"university\"\n",
      "2018-12-03 22:16:58,526 : INFO : topic diff=0.122972, rho=0.173710\n",
      "2018-12-03 22:16:58,549 : INFO : PROGRESS: pass 3, at document #200/2914\n",
      "2018-12-03 22:16:58,598 : INFO : merging changes from 100 documents into a model of 2914 documents\n",
      "2018-12-03 22:16:58,612 : INFO : topic #5 (0.100): 0.016*\"school\" + 0.015*\"city\" + 0.012*\"student\" + 0.009*\"community\" + 0.007*\"people\" + 0.007*\"day\" + 0.007*\"space\" + 0.006*\"open\" + 0.006*\"work\" + 0.005*\"park\"\n",
      "2018-12-03 22:16:58,613 : INFO : topic #0 (0.100): 0.010*\"book\" + 0.010*\"world\" + 0.008*\"people\" + 0.007*\"change\" + 0.006*\"use\" + 0.006*\"life\" + 0.006*\"university\" + 0.006*\"write\" + 0.005*\"human\" + 0.005*\"supplement\"\n",
      "2018-12-03 22:16:58,613 : INFO : topic #7 (0.100): 0.025*\"beer\" + 0.016*\"use\" + 0.012*\"website\" + 0.012*\"site\" + 0.009*\"*\" + 0.009*\"click\" + 0.008*\"user\" + 0.008*\"newspaper\" + 0.008*\"visit\" + 0.008*\"facebook\"\n",
      "2018-12-03 22:16:58,614 : INFO : topic #8 (0.100): 0.017*\"comment\" + 0.013*\"government\" + 0.009*\"state\" + 0.008*\"minister\" + 0.008*\"court\" + 0.008*\"public\" + 0.007*\"party\" + 0.006*\"right\" + 0.006*\"member\" + 0.006*\"pay\"\n",
      "2018-12-03 22:16:58,615 : INFO : topic #4 (0.100): 0.024*\"company\" + 0.012*\"business\" + 0.012*\"share\" + 0.011*\"market\" + 0.009*\"price\" + 0.009*\"service\" + 0.008*\"technology\" + 0.008*\"time\" + 0.006*\"industry\" + 0.006*\"sales\"\n",
      "2018-12-03 22:16:58,616 : INFO : topic diff=0.100092, rho=0.173710\n",
      "2018-12-03 22:16:58,634 : INFO : PROGRESS: pass 3, at document #300/2914\n",
      "2018-12-03 22:16:58,683 : INFO : merging changes from 100 documents into a model of 2914 documents\n",
      "2018-12-03 22:16:58,696 : INFO : topic #1 (0.100): 0.019*\"market\" + 0.011*\"report\" + 0.011*\"project\" + 0.010*\"energy\" + 0.009*\"country\" + 0.009*\"region\" + 0.008*\"gas\" + 0.008*\"rate\" + 0.007*\"high\" + 0.007*\"economic\"\n",
      "2018-12-03 22:16:58,697 : INFO : topic #2 (0.100): 0.016*\"police\" + 0.011*\"child\" + 0.010*\"family\" + 0.009*\"medical\" + 0.009*\"woman\" + 0.009*\"life\" + 0.008*\"case\" + 0.008*\"death\" + 0.008*\"court\" + 0.008*\"drug\"\n",
      "2018-12-03 22:16:58,698 : INFO : topic #7 (0.100): 0.021*\"beer\" + 0.016*\"use\" + 0.012*\"website\" + 0.010*\"site\" + 0.009*\"brand\" + 0.009*\"*\" + 0.008*\"food\" + 0.008*\"facebook\" + 0.008*\"user\" + 0.007*\"click\"\n",
      "2018-12-03 22:16:58,698 : INFO : topic #9 (0.100): 0.013*\"game\" + 0.012*\"play\" + 0.011*\"time\" + 0.009*\"team\" + 0.009*\"win\" + 0.009*\"take\" + 0.008*\"look\" + 0.008*\"score\" + 0.007*\"big\" + 0.006*\"want\"\n",
      "2018-12-03 22:16:58,699 : INFO : topic #6 (0.100): 0.014*\"need\" + 0.011*\"water\" + 0.011*\"work\" + 0.009*\"tax\" + 0.008*\"project\" + 0.008*\"funding\" + 0.008*\"plan\" + 0.008*\"people\" + 0.007*\"cost\" + 0.007*\"area\"\n",
      "2018-12-03 22:16:58,700 : INFO : topic diff=0.105970, rho=0.173710\n",
      "2018-12-03 22:16:58,719 : INFO : PROGRESS: pass 3, at document #400/2914\n",
      "2018-12-03 22:16:58,769 : INFO : merging changes from 100 documents into a model of 2914 documents\n",
      "2018-12-03 22:16:58,784 : INFO : topic #8 (0.100): 0.015*\"comment\" + 0.012*\"government\" + 0.009*\"public\" + 0.009*\"state\" + 0.008*\"minister\" + 0.007*\"court\" + 0.007*\"member\" + 0.006*\"party\" + 0.006*\"service\" + 0.006*\"issue\"\n",
      "2018-12-03 22:16:58,785 : INFO : topic #4 (0.100): 0.026*\"company\" + 0.013*\"business\" + 0.011*\"share\" + 0.010*\"market\" + 0.010*\"service\" + 0.008*\"price\" + 0.008*\"time\" + 0.007*\"technology\" + 0.006*\"customer\" + 0.005*\"investment\"\n",
      "2018-12-03 22:16:58,786 : INFO : topic #0 (0.100): 0.010*\"world\" + 0.009*\"book\" + 0.009*\"people\" + 0.007*\"change\" + 0.006*\"university\" + 0.006*\"life\" + 0.006*\"use\" + 0.006*\"write\" + 0.005*\"human\" + 0.005*\"find\"\n",
      "2018-12-03 22:16:58,786 : INFO : topic #5 (0.100): 0.019*\"school\" + 0.014*\"city\" + 0.012*\"student\" + 0.009*\"people\" + 0.007*\"community\" + 0.007*\"day\" + 0.006*\"canada\" + 0.006*\"work\" + 0.006*\"space\" + 0.005*\"park\"\n",
      "2018-12-03 22:16:58,787 : INFO : topic #9 (0.100): 0.011*\"game\" + 0.011*\"play\" + 0.010*\"time\" + 0.010*\"team\" + 0.009*\"take\" + 0.008*\"look\" + 0.007*\"win\" + 0.007*\"want\" + 0.007*\"score\" + 0.007*\"show\"\n",
      "2018-12-03 22:16:58,788 : INFO : topic diff=0.103756, rho=0.173710\n"
     ]
    },
    {
     "name": "stderr",
     "output_type": "stream",
     "text": [
      "2018-12-03 22:16:58,804 : INFO : PROGRESS: pass 3, at document #500/2914\n",
      "2018-12-03 22:16:58,848 : INFO : merging changes from 100 documents into a model of 2914 documents\n",
      "2018-12-03 22:16:58,861 : INFO : topic #5 (0.100): 0.017*\"school\" + 0.015*\"city\" + 0.011*\"student\" + 0.009*\"people\" + 0.007*\"day\" + 0.006*\"community\" + 0.006*\"work\" + 0.006*\"canada\" + 0.005*\"park\" + 0.005*\"open\"\n",
      "2018-12-03 22:16:58,862 : INFO : topic #4 (0.100): 0.025*\"company\" + 0.013*\"business\" + 0.010*\"share\" + 0.009*\"market\" + 0.009*\"service\" + 0.008*\"time\" + 0.007*\"price\" + 0.006*\"technology\" + 0.005*\"customer\" + 0.005*\"sales\"\n",
      "2018-12-03 22:16:58,862 : INFO : topic #0 (0.100): 0.010*\"world\" + 0.009*\"people\" + 0.009*\"book\" + 0.007*\"change\" + 0.006*\"life\" + 0.006*\"use\" + 0.006*\"write\" + 0.005*\"university\" + 0.005*\"find\" + 0.005*\"human\"\n",
      "2018-12-03 22:16:58,863 : INFO : topic #1 (0.100): 0.018*\"market\" + 0.011*\"report\" + 0.010*\"project\" + 0.009*\"country\" + 0.008*\"energy\" + 0.008*\"high\" + 0.007*\"plant\" + 0.007*\"rate\" + 0.007*\"region\" + 0.007*\"large\"\n",
      "2018-12-03 22:16:58,864 : INFO : topic #3 (0.100): 0.009*\"state\" + 0.008*\"president\" + 0.008*\"country\" + 0.007*\"government\" + 0.007*\"force\" + 0.006*\"take\" + 0.005*\"attack\" + 0.005*\"people\" + 0.005*\"group\" + 0.005*\"security\"\n",
      "2018-12-03 22:16:58,865 : INFO : topic diff=0.080104, rho=0.173710\n",
      "2018-12-03 22:16:58,884 : INFO : PROGRESS: pass 3, at document #600/2914\n",
      "2018-12-03 22:16:58,933 : INFO : merging changes from 100 documents into a model of 2914 documents\n",
      "2018-12-03 22:16:58,946 : INFO : topic #4 (0.100): 0.024*\"company\" + 0.013*\"business\" + 0.011*\"share\" + 0.010*\"market\" + 0.008*\"time\" + 0.008*\"service\" + 0.007*\"price\" + 0.006*\"technology\" + 0.005*\"app\" + 0.005*\"industry\"\n",
      "2018-12-03 22:16:58,946 : INFO : topic #5 (0.100): 0.016*\"school\" + 0.014*\"student\" + 0.014*\"city\" + 0.009*\"people\" + 0.008*\"day\" + 0.006*\"community\" + 0.006*\"work\" + 0.006*\"park\" + 0.005*\"canada\" + 0.005*\"open\"\n",
      "2018-12-03 22:16:58,947 : INFO : topic #7 (0.100): 0.016*\"use\" + 0.013*\"site\" + 0.012*\"beer\" + 0.012*\"website\" + 0.010*\"brand\" + 0.008*\"food\" + 0.008*\"user\" + 0.008*\"online\" + 0.007*\"facebook\" + 0.007*\"*\"\n",
      "2018-12-03 22:16:58,948 : INFO : topic #3 (0.100): 0.012*\"state\" + 0.008*\"country\" + 0.007*\"president\" + 0.006*\"government\" + 0.006*\"take\" + 0.006*\"force\" + 0.005*\"attack\" + 0.005*\"people\" + 0.005*\"group\" + 0.005*\"security\"\n",
      "2018-12-03 22:16:58,948 : INFO : topic #8 (0.100): 0.013*\"comment\" + 0.013*\"government\" + 0.010*\"state\" + 0.008*\"public\" + 0.008*\"court\" + 0.008*\"minister\" + 0.008*\"party\" + 0.006*\"pay\" + 0.006*\"right\" + 0.006*\"issue\"\n",
      "2018-12-03 22:16:58,950 : INFO : topic diff=0.097626, rho=0.173710\n",
      "2018-12-03 22:16:58,968 : INFO : PROGRESS: pass 3, at document #700/2914\n",
      "2018-12-03 22:16:59,020 : INFO : merging changes from 100 documents into a model of 2914 documents\n",
      "2018-12-03 22:16:59,033 : INFO : topic #7 (0.100): 0.015*\"use\" + 0.012*\"site\" + 0.012*\"website\" + 0.011*\"beer\" + 0.009*\"brand\" + 0.008*\"online\" + 0.008*\"food\" + 0.007*\"user\" + 0.007*\"product\" + 0.007*\"facebook\"\n",
      "2018-12-03 22:16:59,034 : INFO : topic #4 (0.100): 0.024*\"company\" + 0.012*\"business\" + 0.010*\"share\" + 0.010*\"market\" + 0.008*\"time\" + 0.008*\"service\" + 0.007*\"price\" + 0.006*\"industry\" + 0.006*\"technology\" + 0.005*\"customer\"\n",
      "2018-12-03 22:16:59,035 : INFO : topic #1 (0.100): 0.016*\"market\" + 0.011*\"country\" + 0.009*\"report\" + 0.009*\"energy\" + 0.009*\"project\" + 0.008*\"power\" + 0.008*\"plant\" + 0.008*\"oil\" + 0.008*\"bank\" + 0.007*\"high\"\n",
      "2018-12-03 22:16:59,035 : INFO : topic #9 (0.100): 0.010*\"time\" + 0.010*\"play\" + 0.009*\"take\" + 0.008*\"game\" + 0.008*\"team\" + 0.008*\"look\" + 0.007*\"film\" + 0.007*\"win\" + 0.007*\"want\" + 0.007*\"big\"\n",
      "2018-12-03 22:16:59,036 : INFO : topic #6 (0.100): 0.014*\"need\" + 0.010*\"work\" + 0.009*\"plan\" + 0.008*\"people\" + 0.007*\"water\" + 0.007*\"project\" + 0.007*\"area\" + 0.006*\"job\" + 0.006*\"cost\" + 0.006*\"tax\"\n",
      "2018-12-03 22:16:59,037 : INFO : topic diff=0.085369, rho=0.173710\n",
      "2018-12-03 22:16:59,058 : INFO : PROGRESS: pass 3, at document #800/2914\n",
      "2018-12-03 22:16:59,109 : INFO : merging changes from 100 documents into a model of 2914 documents\n",
      "2018-12-03 22:16:59,123 : INFO : topic #0 (0.100): 0.010*\"world\" + 0.009*\"people\" + 0.009*\"book\" + 0.007*\"university\" + 0.007*\"dr\" + 0.006*\"life\" + 0.006*\"professor\" + 0.006*\"write\" + 0.005*\"change\" + 0.005*\"use\"\n",
      "2018-12-03 22:16:59,124 : INFO : topic #2 (0.100): 0.017*\"police\" + 0.013*\"child\" + 0.012*\"family\" + 0.009*\"life\" + 0.008*\"death\" + 0.008*\"health\" + 0.007*\"case\" + 0.007*\"drug\" + 0.007*\"people\" + 0.007*\"medical\"\n",
      "2018-12-03 22:16:59,124 : INFO : topic #3 (0.100): 0.013*\"state\" + 0.009*\"country\" + 0.007*\"president\" + 0.006*\"government\" + 0.006*\"take\" + 0.005*\"force\" + 0.005*\"indian\" + 0.005*\"people\" + 0.005*\"national\" + 0.005*\"nigeria\"\n",
      "2018-12-03 22:16:59,125 : INFO : topic #4 (0.100): 0.024*\"company\" + 0.013*\"business\" + 0.010*\"share\" + 0.009*\"market\" + 0.008*\"time\" + 0.007*\"service\" + 0.007*\"price\" + 0.006*\"technology\" + 0.005*\"industry\" + 0.005*\"car\"\n",
      "2018-12-03 22:16:59,126 : INFO : topic #5 (0.100): 0.018*\"school\" + 0.015*\"city\" + 0.012*\"student\" + 0.009*\"people\" + 0.008*\"day\" + 0.007*\"community\" + 0.006*\"work\" + 0.005*\"open\" + 0.005*\"place\" + 0.005*\"university\"\n",
      "2018-12-03 22:16:59,127 : INFO : topic diff=0.069535, rho=0.173710\n",
      "2018-12-03 22:16:59,144 : INFO : PROGRESS: pass 3, at document #900/2914\n",
      "2018-12-03 22:16:59,197 : INFO : merging changes from 100 documents into a model of 2914 documents\n",
      "2018-12-03 22:16:59,210 : INFO : topic #0 (0.100): 0.010*\"world\" + 0.009*\"people\" + 0.008*\"book\" + 0.007*\"university\" + 0.007*\"change\" + 0.006*\"write\" + 0.006*\"life\" + 0.006*\"dr\" + 0.005*\"professor\" + 0.005*\"use\"\n",
      "2018-12-03 22:16:59,210 : INFO : topic #9 (0.100): 0.010*\"time\" + 0.009*\"play\" + 0.009*\"take\" + 0.009*\"win\" + 0.008*\"look\" + 0.008*\"game\" + 0.008*\"team\" + 0.007*\"want\" + 0.007*\"show\" + 0.007*\"film\"\n",
      "2018-12-03 22:16:59,211 : INFO : topic #5 (0.100): 0.017*\"school\" + 0.015*\"city\" + 0.011*\"student\" + 0.010*\"people\" + 0.008*\"day\" + 0.007*\"community\" + 0.006*\"work\" + 0.005*\"street\" + 0.005*\"place\" + 0.005*\"open\"\n",
      "2018-12-03 22:16:59,212 : INFO : topic #3 (0.100): 0.013*\"state\" + 0.009*\"country\" + 0.007*\"president\" + 0.006*\"take\" + 0.006*\"force\" + 0.006*\"government\" + 0.005*\"people\" + 0.005*\"indian\" + 0.005*\"attack\" + 0.005*\"church\"\n",
      "2018-12-03 22:16:59,213 : INFO : topic #1 (0.100): 0.013*\"market\" + 0.010*\"country\" + 0.010*\"energy\" + 0.010*\"oil\" + 0.008*\"project\" + 0.007*\"growth\" + 0.007*\"rate\" + 0.007*\"report\" + 0.007*\"power\" + 0.007*\"high\"\n",
      "2018-12-03 22:16:59,213 : INFO : topic diff=0.075927, rho=0.173710\n",
      "2018-12-03 22:16:59,339 : INFO : -8.301 per-word bound, 315.5 perplexity estimate based on a held-out corpus of 100 documents with 22700 words\n",
      "2018-12-03 22:16:59,339 : INFO : PROGRESS: pass 3, at document #1000/2914\n",
      "2018-12-03 22:16:59,389 : INFO : merging changes from 100 documents into a model of 2914 documents\n",
      "2018-12-03 22:16:59,404 : INFO : topic #3 (0.100): 0.012*\"state\" + 0.008*\"country\" + 0.007*\"president\" + 0.007*\"force\" + 0.006*\"take\" + 0.006*\"war\" + 0.005*\"people\" + 0.005*\"attack\" + 0.005*\"government\" + 0.005*\"muslim\"\n",
      "2018-12-03 22:16:59,404 : INFO : topic #9 (0.100): 0.010*\"time\" + 0.010*\"game\" + 0.010*\"play\" + 0.008*\"take\" + 0.008*\"look\" + 0.008*\"win\" + 0.008*\"team\" + 0.007*\"want\" + 0.007*\"show\" + 0.007*\"big\"\n",
      "2018-12-03 22:16:59,405 : INFO : topic #0 (0.100): 0.010*\"world\" + 0.009*\"people\" + 0.008*\"book\" + 0.007*\"change\" + 0.007*\"university\" + 0.006*\"write\" + 0.006*\"life\" + 0.005*\"use\" + 0.005*\"human\" + 0.005*\"professor\"\n",
      "2018-12-03 22:16:59,406 : INFO : topic #2 (0.100): 0.016*\"police\" + 0.015*\"child\" + 0.014*\"family\" + 0.009*\"life\" + 0.008*\"woman\" + 0.008*\"death\" + 0.007*\"people\" + 0.007*\"health\" + 0.007*\"medical\" + 0.007*\"case\"\n",
      "2018-12-03 22:16:59,406 : INFO : topic #6 (0.100): 0.013*\"need\" + 0.010*\"work\" + 0.010*\"plan\" + 0.009*\"people\" + 0.009*\"cost\" + 0.007*\"tax\" + 0.006*\"area\" + 0.006*\"job\" + 0.006*\"water\" + 0.006*\"child\"\n",
      "2018-12-03 22:16:59,407 : INFO : topic diff=0.068530, rho=0.173710\n",
      "2018-12-03 22:16:59,425 : INFO : PROGRESS: pass 3, at document #1100/2914\n",
      "2018-12-03 22:16:59,476 : INFO : merging changes from 100 documents into a model of 2914 documents\n",
      "2018-12-03 22:16:59,489 : INFO : topic #6 (0.100): 0.014*\"need\" + 0.011*\"work\" + 0.010*\"plan\" + 0.009*\"people\" + 0.009*\"cost\" + 0.006*\"tax\" + 0.006*\"area\" + 0.006*\"water\" + 0.006*\"project\" + 0.006*\"job\"\n"
     ]
    },
    {
     "name": "stderr",
     "output_type": "stream",
     "text": [
      "2018-12-03 22:16:59,490 : INFO : topic #3 (0.100): 0.011*\"state\" + 0.009*\"country\" + 0.007*\"president\" + 0.006*\"take\" + 0.006*\"force\" + 0.006*\"war\" + 0.005*\"people\" + 0.005*\"government\" + 0.005*\"attack\" + 0.005*\"leader\"\n",
      "2018-12-03 22:16:59,491 : INFO : topic #9 (0.100): 0.011*\"game\" + 0.010*\"time\" + 0.010*\"play\" + 0.009*\"take\" + 0.009*\"team\" + 0.008*\"look\" + 0.007*\"show\" + 0.007*\"win\" + 0.007*\"want\" + 0.006*\"big\"\n",
      "2018-12-03 22:16:59,492 : INFO : topic #0 (0.100): 0.010*\"world\" + 0.010*\"book\" + 0.009*\"people\" + 0.007*\"change\" + 0.007*\"university\" + 0.007*\"write\" + 0.006*\"life\" + 0.005*\"use\" + 0.005*\"dr\" + 0.005*\"work\"\n",
      "2018-12-03 22:16:59,493 : INFO : topic #8 (0.100): 0.014*\"comment\" + 0.012*\"government\" + 0.009*\"public\" + 0.009*\"party\" + 0.008*\"state\" + 0.008*\"member\" + 0.007*\"minister\" + 0.007*\"right\" + 0.006*\"service\" + 0.006*\"issue\"\n",
      "2018-12-03 22:16:59,493 : INFO : topic diff=0.066986, rho=0.173710\n",
      "2018-12-03 22:16:59,511 : INFO : PROGRESS: pass 3, at document #1200/2914\n",
      "2018-12-03 22:16:59,558 : INFO : merging changes from 100 documents into a model of 2914 documents\n",
      "2018-12-03 22:16:59,571 : INFO : topic #9 (0.100): 0.012*\"game\" + 0.011*\"time\" + 0.009*\"team\" + 0.009*\"play\" + 0.009*\"take\" + 0.008*\"look\" + 0.007*\"win\" + 0.007*\"show\" + 0.007*\"want\" + 0.006*\"big\"\n",
      "2018-12-03 22:16:59,577 : INFO : topic #6 (0.100): 0.014*\"need\" + 0.010*\"work\" + 0.010*\"plan\" + 0.009*\"people\" + 0.008*\"cost\" + 0.006*\"area\" + 0.006*\"water\" + 0.006*\"tax\" + 0.005*\"project\" + 0.005*\"job\"\n",
      "2018-12-03 22:16:59,578 : INFO : topic #4 (0.100): 0.021*\"company\" + 0.017*\"business\" + 0.010*\"share\" + 0.008*\"time\" + 0.008*\"market\" + 0.006*\"technology\" + 0.006*\"service\" + 0.006*\"price\" + 0.006*\"investor\" + 0.005*\"industry\"\n",
      "2018-12-03 22:16:59,579 : INFO : topic #0 (0.100): 0.011*\"world\" + 0.010*\"book\" + 0.010*\"people\" + 0.007*\"write\" + 0.007*\"change\" + 0.006*\"university\" + 0.006*\"life\" + 0.005*\"use\" + 0.005*\"find\" + 0.005*\"dr\"\n",
      "2018-12-03 22:16:59,580 : INFO : topic #7 (0.100): 0.014*\"use\" + 0.013*\"*\" + 0.011*\"food\" + 0.010*\"website\" + 0.009*\"facebook\" + 0.008*\"site\" + 0.007*\"user\" + 0.007*\"online\" + 0.007*\"e-mail\" + 0.006*\"click\"\n",
      "2018-12-03 22:16:59,581 : INFO : topic diff=0.074464, rho=0.173710\n",
      "2018-12-03 22:16:59,600 : INFO : PROGRESS: pass 3, at document #1300/2914\n",
      "2018-12-03 22:16:59,651 : INFO : merging changes from 100 documents into a model of 2914 documents\n",
      "2018-12-03 22:16:59,667 : INFO : topic #6 (0.100): 0.013*\"need\" + 0.010*\"plan\" + 0.010*\"work\" + 0.009*\"people\" + 0.008*\"cost\" + 0.006*\"area\" + 0.006*\"tax\" + 0.006*\"water\" + 0.005*\"project\" + 0.005*\"job\"\n",
      "2018-12-03 22:16:59,668 : INFO : topic #3 (0.100): 0.010*\"state\" + 0.008*\"country\" + 0.007*\"president\" + 0.006*\"force\" + 0.006*\"take\" + 0.006*\"war\" + 0.006*\"people\" + 0.006*\"attack\" + 0.004*\"national\" + 0.004*\"government\"\n",
      "2018-12-03 22:16:59,669 : INFO : topic #2 (0.100): 0.016*\"police\" + 0.012*\"child\" + 0.012*\"family\" + 0.009*\"woman\" + 0.009*\"life\" + 0.007*\"people\" + 0.007*\"time\" + 0.007*\"death\" + 0.007*\"health\" + 0.006*\"find\"\n",
      "2018-12-03 22:16:59,670 : INFO : topic #5 (0.100): 0.013*\"city\" + 0.011*\"school\" + 0.009*\"people\" + 0.009*\"day\" + 0.008*\"student\" + 0.008*\"open\" + 0.007*\"vegas\" + 0.006*\"community\" + 0.006*\"road\" + 0.005*\"place\"\n",
      "2018-12-03 22:16:59,671 : INFO : topic #8 (0.100): 0.016*\"comment\" + 0.012*\"government\" + 0.008*\"public\" + 0.008*\"state\" + 0.007*\"member\" + 0.007*\"right\" + 0.007*\"party\" + 0.006*\"minister\" + 0.006*\"service\" + 0.006*\"court\"\n",
      "2018-12-03 22:16:59,672 : INFO : topic diff=0.090068, rho=0.173710\n",
      "2018-12-03 22:16:59,691 : INFO : PROGRESS: pass 3, at document #1400/2914\n",
      "2018-12-03 22:16:59,744 : INFO : merging changes from 100 documents into a model of 2914 documents\n",
      "2018-12-03 22:16:59,760 : INFO : topic #0 (0.100): 0.010*\"world\" + 0.010*\"people\" + 0.008*\"book\" + 0.007*\"change\" + 0.006*\"university\" + 0.006*\"use\" + 0.006*\"write\" + 0.006*\"find\" + 0.005*\"woman\" + 0.005*\"life\"\n",
      "2018-12-03 22:16:59,761 : INFO : topic #8 (0.100): 0.014*\"comment\" + 0.011*\"government\" + 0.008*\"public\" + 0.007*\"party\" + 0.007*\"state\" + 0.007*\"minister\" + 0.007*\"right\" + 0.007*\"member\" + 0.006*\"council\" + 0.006*\"court\"\n",
      "2018-12-03 22:16:59,762 : INFO : topic #7 (0.100): 0.016*\"*\" + 0.016*\"use\" + 0.011*\"food\" + 0.010*\"website\" + 0.010*\"site\" + 0.008*\"online\" + 0.008*\"facebook\" + 0.006*\"user\" + 0.006*\"e-mail\" + 0.006*\"product\"\n",
      "2018-12-03 22:16:59,764 : INFO : topic #1 (0.100): 0.012*\"market\" + 0.010*\"energy\" + 0.009*\"rate\" + 0.008*\"growth\" + 0.008*\"country\" + 0.007*\"project\" + 0.007*\"report\" + 0.007*\"percent\" + 0.007*\"high\" + 0.007*\"economic\"\n",
      "2018-12-03 22:16:59,765 : INFO : topic #6 (0.100): 0.012*\"need\" + 0.010*\"plan\" + 0.009*\"work\" + 0.009*\"people\" + 0.008*\"cost\" + 0.007*\"area\" + 0.006*\"tax\" + 0.006*\"project\" + 0.005*\"water\" + 0.005*\"child\"\n",
      "2018-12-03 22:16:59,767 : INFO : topic diff=0.073858, rho=0.173710\n",
      "2018-12-03 22:16:59,790 : INFO : PROGRESS: pass 3, at document #1500/2914\n",
      "2018-12-03 22:16:59,845 : INFO : merging changes from 100 documents into a model of 2914 documents\n",
      "2018-12-03 22:16:59,861 : INFO : topic #6 (0.100): 0.012*\"need\" + 0.010*\"work\" + 0.009*\"plan\" + 0.009*\"people\" + 0.008*\"cost\" + 0.007*\"area\" + 0.006*\"child\" + 0.006*\"tax\" + 0.006*\"system\" + 0.005*\"number\"\n",
      "2018-12-03 22:16:59,862 : INFO : topic #8 (0.100): 0.013*\"comment\" + 0.010*\"government\" + 0.008*\"right\" + 0.008*\"public\" + 0.007*\"party\" + 0.007*\"member\" + 0.006*\"state\" + 0.006*\"minister\" + 0.006*\"issue\" + 0.006*\"court\"\n",
      "2018-12-03 22:16:59,863 : INFO : topic #9 (0.100): 0.013*\"game\" + 0.012*\"time\" + 0.011*\"team\" + 0.009*\"play\" + 0.008*\"take\" + 0.008*\"look\" + 0.008*\"show\" + 0.007*\"win\" + 0.007*\"film\" + 0.007*\"want\"\n",
      "2018-12-03 22:16:59,864 : INFO : topic #1 (0.100): 0.012*\"market\" + 0.009*\"energy\" + 0.008*\"rate\" + 0.008*\"growth\" + 0.007*\"system\" + 0.007*\"high\" + 0.007*\"country\" + 0.007*\"project\" + 0.007*\"low\" + 0.007*\"large\"\n",
      "2018-12-03 22:16:59,865 : INFO : topic #0 (0.100): 0.011*\"world\" + 0.009*\"people\" + 0.009*\"book\" + 0.007*\"change\" + 0.006*\"find\" + 0.006*\"write\" + 0.006*\"study\" + 0.006*\"use\" + 0.005*\"university\" + 0.005*\"time\"\n",
      "2018-12-03 22:16:59,867 : INFO : topic diff=0.098142, rho=0.173710\n",
      "2018-12-03 22:16:59,886 : INFO : PROGRESS: pass 3, at document #1600/2914\n",
      "2018-12-03 22:16:59,937 : INFO : merging changes from 100 documents into a model of 2914 documents\n",
      "2018-12-03 22:16:59,953 : INFO : topic #6 (0.100): 0.012*\"need\" + 0.010*\"work\" + 0.009*\"people\" + 0.009*\"plan\" + 0.007*\"tax\" + 0.007*\"cost\" + 0.007*\"area\" + 0.006*\"child\" + 0.006*\"problem\" + 0.005*\"water\"\n",
      "2018-12-03 22:16:59,954 : INFO : topic #1 (0.100): 0.012*\"market\" + 0.008*\"growth\" + 0.008*\"energy\" + 0.008*\"rate\" + 0.008*\"high\" + 0.007*\"economic\" + 0.007*\"country\" + 0.007*\"system\" + 0.007*\"low\" + 0.007*\"large\"\n",
      "2018-12-03 22:16:59,954 : INFO : topic #7 (0.100): 0.016*\"*\" + 0.015*\"use\" + 0.010*\"food\" + 0.010*\"website\" + 0.009*\"site\" + 0.008*\"facebook\" + 0.008*\"online\" + 0.007*\"e-mail\" + 0.006*\"dog\" + 0.006*\"local\"\n",
      "2018-12-03 22:16:59,955 : INFO : topic #4 (0.100): 0.018*\"company\" + 0.015*\"business\" + 0.009*\"time\" + 0.008*\"market\" + 0.007*\"technology\" + 0.007*\"share\" + 0.006*\"sales\" + 0.006*\"service\" + 0.005*\"customer\" + 0.005*\"industry\"\n",
      "2018-12-03 22:16:59,956 : INFO : topic #2 (0.100): 0.015*\"police\" + 0.013*\"child\" + 0.012*\"family\" + 0.009*\"woman\" + 0.008*\"life\" + 0.007*\"find\" + 0.007*\"death\" + 0.007*\"drug\" + 0.007*\"time\" + 0.007*\"case\"\n",
      "2018-12-03 22:16:59,957 : INFO : topic diff=0.080593, rho=0.173710\n",
      "2018-12-03 22:16:59,973 : INFO : PROGRESS: pass 3, at document #1700/2914\n",
      "2018-12-03 22:17:00,020 : INFO : merging changes from 100 documents into a model of 2914 documents\n",
      "2018-12-03 22:17:00,035 : INFO : topic #7 (0.100): 0.015*\"use\" + 0.013*\"*\" + 0.009*\"food\" + 0.009*\"website\" + 0.008*\"facebook\" + 0.008*\"site\" + 0.008*\"online\" + 0.007*\"e-mail\" + 0.007*\"user\" + 0.007*\"product\"\n",
      "2018-12-03 22:17:00,036 : INFO : topic #4 (0.100): 0.018*\"company\" + 0.014*\"business\" + 0.009*\"time\" + 0.008*\"market\" + 0.007*\"share\" + 0.007*\"technology\" + 0.006*\"sales\" + 0.006*\"car\" + 0.005*\"service\" + 0.005*\"customer\"\n",
      "2018-12-03 22:17:00,037 : INFO : topic #6 (0.100): 0.012*\"need\" + 0.010*\"people\" + 0.009*\"work\" + 0.009*\"plan\" + 0.007*\"cost\" + 0.007*\"area\" + 0.006*\"tax\" + 0.006*\"job\" + 0.006*\"child\" + 0.006*\"water\"\n"
     ]
    },
    {
     "name": "stderr",
     "output_type": "stream",
     "text": [
      "2018-12-03 22:17:00,038 : INFO : topic #0 (0.100): 0.011*\"world\" + 0.009*\"people\" + 0.008*\"book\" + 0.006*\"change\" + 0.006*\"write\" + 0.006*\"find\" + 0.006*\"study\" + 0.006*\"university\" + 0.006*\"use\" + 0.005*\"life\"\n",
      "2018-12-03 22:17:00,039 : INFO : topic #2 (0.100): 0.016*\"police\" + 0.013*\"child\" + 0.012*\"family\" + 0.009*\"woman\" + 0.008*\"death\" + 0.008*\"life\" + 0.007*\"take\" + 0.007*\"people\" + 0.007*\"health\" + 0.007*\"case\"\n",
      "2018-12-03 22:17:00,040 : INFO : topic diff=0.069410, rho=0.173710\n",
      "2018-12-03 22:17:00,055 : INFO : PROGRESS: pass 3, at document #1800/2914\n",
      "2018-12-03 22:17:00,101 : INFO : merging changes from 100 documents into a model of 2914 documents\n",
      "2018-12-03 22:17:00,116 : INFO : topic #6 (0.100): 0.012*\"need\" + 0.010*\"people\" + 0.009*\"work\" + 0.009*\"plan\" + 0.008*\"cost\" + 0.007*\"area\" + 0.007*\"tax\" + 0.006*\"job\" + 0.006*\"water\" + 0.006*\"child\"\n",
      "2018-12-03 22:17:00,117 : INFO : topic #1 (0.100): 0.012*\"market\" + 0.009*\"energy\" + 0.008*\"country\" + 0.008*\"high\" + 0.008*\"low\" + 0.008*\"growth\" + 0.007*\"rate\" + 0.007*\"economic\" + 0.007*\"report\" + 0.006*\"bank\"\n",
      "2018-12-03 22:17:00,117 : INFO : topic #4 (0.100): 0.019*\"company\" + 0.014*\"business\" + 0.009*\"time\" + 0.008*\"market\" + 0.007*\"share\" + 0.007*\"technology\" + 0.007*\"car\" + 0.006*\"sales\" + 0.006*\"service\" + 0.005*\"customer\"\n",
      "2018-12-03 22:17:00,118 : INFO : topic #0 (0.100): 0.011*\"world\" + 0.010*\"people\" + 0.007*\"book\" + 0.007*\"change\" + 0.006*\"find\" + 0.006*\"write\" + 0.006*\"study\" + 0.006*\"woman\" + 0.006*\"life\" + 0.005*\"use\"\n",
      "2018-12-03 22:17:00,120 : INFO : topic #5 (0.100): 0.016*\"city\" + 0.012*\"school\" + 0.009*\"student\" + 0.008*\"people\" + 0.008*\"day\" + 0.007*\"open\" + 0.006*\"place\" + 0.006*\"community\" + 0.005*\"street\" + 0.005*\"work\"\n",
      "2018-12-03 22:17:00,121 : INFO : topic diff=0.075243, rho=0.173710\n",
      "2018-12-03 22:17:00,139 : INFO : PROGRESS: pass 3, at document #1900/2914\n",
      "2018-12-03 22:17:00,180 : INFO : merging changes from 100 documents into a model of 2914 documents\n",
      "2018-12-03 22:17:00,194 : INFO : topic #1 (0.100): 0.011*\"market\" + 0.009*\"high\" + 0.008*\"country\" + 0.008*\"energy\" + 0.008*\"rate\" + 0.008*\"low\" + 0.008*\"growth\" + 0.006*\"report\" + 0.006*\"economic\" + 0.006*\"price\"\n",
      "2018-12-03 22:17:00,194 : INFO : topic #7 (0.100): 0.014*\"*\" + 0.014*\"use\" + 0.010*\"food\" + 0.009*\"website\" + 0.009*\"facebook\" + 0.008*\"site\" + 0.008*\"e-mail\" + 0.007*\"online\" + 0.007*\"user\" + 0.006*\"editor\"\n",
      "2018-12-03 22:17:00,195 : INFO : topic #9 (0.100): 0.012*\"time\" + 0.011*\"game\" + 0.011*\"team\" + 0.010*\"play\" + 0.009*\"win\" + 0.008*\"take\" + 0.008*\"look\" + 0.007*\"show\" + 0.007*\"film\" + 0.006*\"big\"\n",
      "2018-12-03 22:17:00,196 : INFO : topic #6 (0.100): 0.012*\"need\" + 0.011*\"people\" + 0.010*\"work\" + 0.008*\"plan\" + 0.008*\"water\" + 0.007*\"area\" + 0.007*\"cost\" + 0.007*\"job\" + 0.007*\"tax\" + 0.006*\"number\"\n",
      "2018-12-03 22:17:00,197 : INFO : topic #5 (0.100): 0.017*\"city\" + 0.013*\"school\" + 0.009*\"student\" + 0.009*\"people\" + 0.008*\"day\" + 0.006*\"open\" + 0.006*\"street\" + 0.006*\"work\" + 0.006*\"place\" + 0.005*\"community\"\n",
      "2018-12-03 22:17:00,197 : INFO : topic diff=0.076654, rho=0.173710\n",
      "2018-12-03 22:17:00,314 : INFO : -8.278 per-word bound, 310.3 perplexity estimate based on a held-out corpus of 100 documents with 19093 words\n",
      "2018-12-03 22:17:00,315 : INFO : PROGRESS: pass 3, at document #2000/2914\n",
      "2018-12-03 22:17:00,358 : INFO : merging changes from 100 documents into a model of 2914 documents\n",
      "2018-12-03 22:17:00,370 : INFO : topic #7 (0.100): 0.015*\"use\" + 0.013*\"*\" + 0.011*\"website\" + 0.009*\"site\" + 0.009*\"food\" + 0.008*\"facebook\" + 0.007*\"online\" + 0.007*\"e-mail\" + 0.007*\"user\" + 0.006*\"local\"\n",
      "2018-12-03 22:17:00,372 : INFO : topic #6 (0.100): 0.012*\"need\" + 0.010*\"people\" + 0.009*\"water\" + 0.009*\"work\" + 0.008*\"plan\" + 0.007*\"area\" + 0.007*\"cost\" + 0.006*\"job\" + 0.006*\"tax\" + 0.006*\"number\"\n",
      "2018-12-03 22:17:00,373 : INFO : topic #3 (0.100): 0.009*\"state\" + 0.008*\"country\" + 0.007*\"war\" + 0.007*\"president\" + 0.006*\"people\" + 0.006*\"take\" + 0.006*\"pakistan\" + 0.005*\"attack\" + 0.005*\"force\" + 0.005*\"group\"\n",
      "2018-12-03 22:17:00,375 : INFO : topic #8 (0.100): 0.014*\"comment\" + 0.010*\"government\" + 0.009*\"member\" + 0.008*\"party\" + 0.008*\"minister\" + 0.007*\"state\" + 0.006*\"committee\" + 0.006*\"public\" + 0.006*\"right\" + 0.006*\"board\"\n",
      "2018-12-03 22:17:00,376 : INFO : topic #4 (0.100): 0.025*\"company\" + 0.014*\"business\" + 0.013*\"share\" + 0.007*\"market\" + 0.007*\"time\" + 0.007*\"price\" + 0.006*\"buy\" + 0.006*\"service\" + 0.006*\"car\" + 0.006*\"technology\"\n",
      "2018-12-03 22:17:00,378 : INFO : topic diff=0.075179, rho=0.173710\n",
      "2018-12-03 22:17:00,395 : INFO : PROGRESS: pass 3, at document #2100/2914\n",
      "2018-12-03 22:17:00,440 : INFO : merging changes from 100 documents into a model of 2914 documents\n",
      "2018-12-03 22:17:00,453 : INFO : topic #0 (0.100): 0.010*\"world\" + 0.009*\"people\" + 0.008*\"book\" + 0.007*\"write\" + 0.006*\"change\" + 0.006*\"university\" + 0.006*\"life\" + 0.006*\"find\" + 0.005*\"use\" + 0.005*\"study\"\n",
      "2018-12-03 22:17:00,454 : INFO : topic #8 (0.100): 0.013*\"comment\" + 0.010*\"government\" + 0.009*\"party\" + 0.008*\"member\" + 0.007*\"minister\" + 0.007*\"issue\" + 0.007*\"state\" + 0.007*\"committee\" + 0.006*\"court\" + 0.006*\"public\"\n",
      "2018-12-03 22:17:00,455 : INFO : topic #9 (0.100): 0.014*\"game\" + 0.012*\"play\" + 0.011*\"time\" + 0.011*\"team\" + 0.010*\"win\" + 0.008*\"take\" + 0.008*\"look\" + 0.007*\"show\" + 0.006*\"player\" + 0.006*\"want\"\n",
      "2018-12-03 22:17:00,457 : INFO : topic #6 (0.100): 0.011*\"need\" + 0.010*\"work\" + 0.009*\"people\" + 0.008*\"plan\" + 0.008*\"water\" + 0.007*\"area\" + 0.007*\"tax\" + 0.007*\"cost\" + 0.006*\"job\" + 0.005*\"worker\"\n",
      "2018-12-03 22:17:00,458 : INFO : topic #2 (0.100): 0.016*\"police\" + 0.011*\"family\" + 0.010*\"child\" + 0.008*\"woman\" + 0.008*\"life\" + 0.008*\"take\" + 0.007*\"find\" + 0.007*\"death\" + 0.007*\"health\" + 0.006*\"people\"\n",
      "2018-12-03 22:17:00,459 : INFO : topic diff=0.077898, rho=0.173710\n",
      "2018-12-03 22:17:00,473 : INFO : PROGRESS: pass 3, at document #2200/2914\n",
      "2018-12-03 22:17:00,523 : INFO : merging changes from 100 documents into a model of 2914 documents\n",
      "2018-12-03 22:17:00,536 : INFO : topic #4 (0.100): 0.024*\"company\" + 0.016*\"business\" + 0.014*\"share\" + 0.008*\"price\" + 0.008*\"service\" + 0.008*\"market\" + 0.007*\"time\" + 0.006*\"technology\" + 0.006*\"car\" + 0.005*\"customer\"\n",
      "2018-12-03 22:17:00,536 : INFO : topic #6 (0.100): 0.011*\"need\" + 0.010*\"work\" + 0.010*\"tax\" + 0.009*\"people\" + 0.008*\"plan\" + 0.008*\"water\" + 0.007*\"area\" + 0.007*\"job\" + 0.006*\"cost\" + 0.006*\"worker\"\n",
      "2018-12-03 22:17:00,537 : INFO : topic #5 (0.100): 0.020*\"school\" + 0.017*\"city\" + 0.010*\"student\" + 0.008*\"people\" + 0.008*\"day\" + 0.006*\"open\" + 0.006*\"work\" + 0.006*\"community\" + 0.005*\"street\" + 0.005*\"place\"\n",
      "2018-12-03 22:17:00,539 : INFO : topic #7 (0.100): 0.018*\"use\" + 0.013*\"*\" + 0.012*\"website\" + 0.010*\"food\" + 0.010*\"site\" + 0.008*\"online\" + 0.008*\"cookie\" + 0.007*\"e-mail\" + 0.006*\"store\" + 0.006*\"user\"\n",
      "2018-12-03 22:17:00,540 : INFO : topic #2 (0.100): 0.015*\"police\" + 0.012*\"family\" + 0.011*\"child\" + 0.009*\"woman\" + 0.008*\"take\" + 0.008*\"life\" + 0.007*\"health\" + 0.007*\"find\" + 0.006*\"use\" + 0.006*\"time\"\n",
      "2018-12-03 22:17:00,541 : INFO : topic diff=0.070849, rho=0.173710\n",
      "2018-12-03 22:17:00,556 : INFO : PROGRESS: pass 3, at document #2300/2914\n",
      "2018-12-03 22:17:00,600 : INFO : merging changes from 100 documents into a model of 2914 documents\n",
      "2018-12-03 22:17:00,616 : INFO : topic #4 (0.100): 0.028*\"company\" + 0.015*\"business\" + 0.013*\"share\" + 0.008*\"service\" + 0.008*\"price\" + 0.007*\"value\" + 0.007*\"market\" + 0.007*\"time\" + 0.006*\"stock\" + 0.006*\"technology\"\n",
      "2018-12-03 22:17:00,617 : INFO : topic #2 (0.100): 0.015*\"police\" + 0.011*\"family\" + 0.010*\"child\" + 0.009*\"woman\" + 0.008*\"take\" + 0.008*\"life\" + 0.007*\"find\" + 0.006*\"health\" + 0.006*\"case\" + 0.006*\"time\"\n",
      "2018-12-03 22:17:00,618 : INFO : topic #9 (0.100): 0.014*\"game\" + 0.012*\"team\" + 0.012*\"time\" + 0.012*\"play\" + 0.010*\"win\" + 0.008*\"take\" + 0.007*\"look\" + 0.006*\"want\" + 0.006*\"show\" + 0.006*\"big\"\n",
      "2018-12-03 22:17:00,619 : INFO : topic #8 (0.100): 0.012*\"comment\" + 0.011*\"government\" + 0.010*\"party\" + 0.008*\"member\" + 0.007*\"minister\" + 0.007*\"state\" + 0.007*\"issue\" + 0.006*\"public\" + 0.006*\"court\" + 0.006*\"committee\"\n",
      "2018-12-03 22:17:00,619 : INFO : topic #3 (0.100): 0.010*\"state\" + 0.009*\"country\" + 0.008*\"president\" + 0.007*\"people\" + 0.006*\"attack\" + 0.006*\"take\" + 0.006*\"pakistan\" + 0.005*\"war\" + 0.005*\"indian\" + 0.005*\"leader\"\n"
     ]
    },
    {
     "name": "stderr",
     "output_type": "stream",
     "text": [
      "2018-12-03 22:17:00,620 : INFO : topic diff=0.070345, rho=0.173710\n",
      "2018-12-03 22:17:00,634 : INFO : PROGRESS: pass 3, at document #2400/2914\n",
      "2018-12-03 22:17:00,683 : INFO : merging changes from 100 documents into a model of 2914 documents\n",
      "2018-12-03 22:17:00,698 : INFO : topic #2 (0.100): 0.015*\"police\" + 0.012*\"child\" + 0.011*\"family\" + 0.009*\"woman\" + 0.008*\"take\" + 0.008*\"life\" + 0.007*\"court\" + 0.007*\"health\" + 0.006*\"find\" + 0.006*\"use\"\n",
      "2018-12-03 22:17:00,700 : INFO : topic #8 (0.100): 0.012*\"government\" + 0.012*\"comment\" + 0.011*\"party\" + 0.008*\"state\" + 0.008*\"court\" + 0.007*\"issue\" + 0.007*\"minister\" + 0.007*\"member\" + 0.006*\"public\" + 0.006*\"election\"\n",
      "2018-12-03 22:17:00,700 : INFO : topic #3 (0.100): 0.012*\"state\" + 0.009*\"country\" + 0.008*\"president\" + 0.007*\"people\" + 0.006*\"attack\" + 0.005*\"leader\" + 0.005*\"take\" + 0.005*\"pakistan\" + 0.005*\"indian\" + 0.005*\"group\"\n",
      "2018-12-03 22:17:00,701 : INFO : topic #0 (0.100): 0.010*\"world\" + 0.009*\"people\" + 0.007*\"book\" + 0.007*\"change\" + 0.006*\"life\" + 0.006*\"university\" + 0.006*\"write\" + 0.006*\"use\" + 0.005*\"find\" + 0.005*\"trump\"\n",
      "2018-12-03 22:17:00,702 : INFO : topic #1 (0.100): 0.011*\"market\" + 0.010*\"high\" + 0.009*\"growth\" + 0.008*\"country\" + 0.008*\"project\" + 0.008*\"low\" + 0.008*\"economic\" + 0.008*\"gas\" + 0.008*\"bank\" + 0.007*\"rate\"\n",
      "2018-12-03 22:17:00,704 : INFO : topic diff=0.074407, rho=0.173710\n",
      "2018-12-03 22:17:00,718 : INFO : PROGRESS: pass 3, at document #2500/2914\n",
      "2018-12-03 22:17:00,767 : INFO : merging changes from 100 documents into a model of 2914 documents\n",
      "2018-12-03 22:17:00,780 : INFO : topic #1 (0.100): 0.011*\"market\" + 0.010*\"high\" + 0.009*\"country\" + 0.009*\"growth\" + 0.008*\"project\" + 0.008*\"economic\" + 0.008*\"low\" + 0.007*\"bank\" + 0.007*\"gas\" + 0.007*\"rate\"\n",
      "2018-12-03 22:17:00,781 : INFO : topic #7 (0.100): 0.018*\"use\" + 0.015*\"*\" + 0.014*\"website\" + 0.012*\"site\" + 0.009*\"cookie\" + 0.008*\"online\" + 0.008*\"food\" + 0.007*\"local\" + 0.007*\"user\" + 0.007*\"editor\"\n",
      "2018-12-03 22:17:00,781 : INFO : topic #0 (0.100): 0.010*\"world\" + 0.010*\"people\" + 0.008*\"book\" + 0.007*\"change\" + 0.006*\"life\" + 0.006*\"university\" + 0.005*\"write\" + 0.005*\"time\" + 0.005*\"trump\" + 0.005*\"find\"\n",
      "2018-12-03 22:17:00,782 : INFO : topic #6 (0.100): 0.014*\"need\" + 0.011*\"work\" + 0.009*\"people\" + 0.009*\"tax\" + 0.008*\"job\" + 0.008*\"plan\" + 0.008*\"area\" + 0.007*\"water\" + 0.007*\"government\" + 0.006*\"problem\"\n",
      "2018-12-03 22:17:00,784 : INFO : topic #8 (0.100): 0.012*\"government\" + 0.012*\"comment\" + 0.011*\"party\" + 0.008*\"minister\" + 0.008*\"state\" + 0.007*\"court\" + 0.007*\"issue\" + 0.007*\"member\" + 0.006*\"public\" + 0.006*\"election\"\n",
      "2018-12-03 22:17:00,784 : INFO : topic diff=0.071685, rho=0.173710\n",
      "2018-12-03 22:17:00,799 : INFO : PROGRESS: pass 3, at document #2600/2914\n",
      "2018-12-03 22:17:00,847 : INFO : merging changes from 100 documents into a model of 2914 documents\n",
      "2018-12-03 22:17:00,863 : INFO : topic #1 (0.100): 0.010*\"market\" + 0.009*\"high\" + 0.009*\"growth\" + 0.009*\"project\" + 0.009*\"country\" + 0.008*\"economic\" + 0.008*\"energy\" + 0.007*\"low\" + 0.007*\"gas\" + 0.007*\"bank\"\n",
      "2018-12-03 22:17:00,864 : INFO : topic #7 (0.100): 0.019*\"use\" + 0.013*\"website\" + 0.013*\"*\" + 0.012*\"site\" + 0.009*\"cookie\" + 0.008*\"food\" + 0.008*\"online\" + 0.008*\"user\" + 0.008*\"feature\" + 0.008*\"contact\"\n",
      "2018-12-03 22:17:00,864 : INFO : topic #8 (0.100): 0.013*\"comment\" + 0.013*\"government\" + 0.010*\"party\" + 0.009*\"state\" + 0.008*\"member\" + 0.007*\"public\" + 0.007*\"minister\" + 0.007*\"issue\" + 0.007*\"court\" + 0.006*\"council\"\n",
      "2018-12-03 22:17:00,865 : INFO : topic #4 (0.100): 0.026*\"company\" + 0.015*\"business\" + 0.012*\"share\" + 0.010*\"service\" + 0.007*\"time\" + 0.007*\"price\" + 0.006*\"value\" + 0.006*\"market\" + 0.006*\"technology\" + 0.005*\"customer\"\n",
      "2018-12-03 22:17:00,866 : INFO : topic #6 (0.100): 0.013*\"need\" + 0.011*\"tax\" + 0.011*\"work\" + 0.009*\"people\" + 0.008*\"area\" + 0.008*\"plan\" + 0.007*\"job\" + 0.007*\"water\" + 0.007*\"government\" + 0.006*\"budget\"\n",
      "2018-12-03 22:17:00,867 : INFO : topic diff=0.071129, rho=0.173710\n",
      "2018-12-03 22:17:00,890 : INFO : PROGRESS: pass 3, at document #2700/2914\n",
      "2018-12-03 22:17:00,937 : INFO : merging changes from 100 documents into a model of 2914 documents\n",
      "2018-12-03 22:17:00,950 : INFO : topic #8 (0.100): 0.012*\"comment\" + 0.012*\"government\" + 0.009*\"party\" + 0.009*\"state\" + 0.008*\"member\" + 0.007*\"public\" + 0.007*\"minister\" + 0.007*\"issue\" + 0.007*\"court\" + 0.006*\"right\"\n",
      "2018-12-03 22:17:00,951 : INFO : topic #7 (0.100): 0.019*\"use\" + 0.014*\"website\" + 0.011*\"site\" + 0.011*\"*\" + 0.009*\"cookie\" + 0.009*\"food\" + 0.008*\"contact\" + 0.008*\"editor\" + 0.008*\"user\" + 0.008*\"online\"\n",
      "2018-12-03 22:17:00,952 : INFO : topic #3 (0.100): 0.013*\"state\" + 0.010*\"country\" + 0.010*\"president\" + 0.007*\"group\" + 0.007*\"people\" + 0.006*\"nigeria\" + 0.006*\"attack\" + 0.006*\"take\" + 0.006*\"force\" + 0.005*\"government\"\n",
      "2018-12-03 22:17:00,953 : INFO : topic #4 (0.100): 0.027*\"company\" + 0.015*\"business\" + 0.013*\"share\" + 0.009*\"price\" + 0.009*\"service\" + 0.007*\"time\" + 0.007*\"stock\" + 0.007*\"market\" + 0.007*\"value\" + 0.006*\"technology\"\n",
      "2018-12-03 22:17:00,953 : INFO : topic #6 (0.100): 0.013*\"need\" + 0.011*\"work\" + 0.011*\"tax\" + 0.009*\"people\" + 0.008*\"water\" + 0.008*\"plan\" + 0.007*\"area\" + 0.007*\"government\" + 0.007*\"project\" + 0.007*\"job\"\n",
      "2018-12-03 22:17:00,954 : INFO : topic diff=0.063428, rho=0.173710\n",
      "2018-12-03 22:17:00,970 : INFO : PROGRESS: pass 3, at document #2800/2914\n",
      "2018-12-03 22:17:01,018 : INFO : merging changes from 100 documents into a model of 2914 documents\n",
      "2018-12-03 22:17:01,034 : INFO : topic #2 (0.100): 0.017*\"police\" + 0.014*\"child\" + 0.011*\"family\" + 0.010*\"woman\" + 0.009*\"girl\" + 0.009*\"case\" + 0.009*\"drug\" + 0.009*\"health\" + 0.007*\"medical\" + 0.007*\"life\"\n",
      "2018-12-03 22:17:01,035 : INFO : topic #9 (0.100): 0.012*\"play\" + 0.011*\"game\" + 0.011*\"team\" + 0.011*\"time\" + 0.010*\"win\" + 0.008*\"take\" + 0.008*\"look\" + 0.006*\"show\" + 0.006*\"player\" + 0.006*\"big\"\n",
      "2018-12-03 22:17:01,037 : INFO : topic #3 (0.100): 0.012*\"state\" + 0.011*\"country\" + 0.011*\"president\" + 0.007*\"pakistan\" + 0.007*\"group\" + 0.007*\"nigeria\" + 0.006*\"attack\" + 0.006*\"people\" + 0.006*\"indian\" + 0.006*\"government\"\n",
      "2018-12-03 22:17:01,038 : INFO : topic #8 (0.100): 0.014*\"comment\" + 0.013*\"government\" + 0.010*\"party\" + 0.008*\"state\" + 0.008*\"court\" + 0.008*\"member\" + 0.008*\"public\" + 0.007*\"minister\" + 0.007*\"issue\" + 0.007*\"right\"\n",
      "2018-12-03 22:17:01,039 : INFO : topic #6 (0.100): 0.014*\"water\" + 0.013*\"need\" + 0.011*\"tax\" + 0.010*\"work\" + 0.008*\"people\" + 0.007*\"plan\" + 0.007*\"government\" + 0.007*\"area\" + 0.007*\"health\" + 0.006*\"project\"\n",
      "2018-12-03 22:17:01,041 : INFO : topic diff=0.082574, rho=0.173710\n",
      "2018-12-03 22:17:01,057 : INFO : PROGRESS: pass 3, at document #2900/2914\n",
      "2018-12-03 22:17:01,110 : INFO : merging changes from 100 documents into a model of 2914 documents\n",
      "2018-12-03 22:17:01,126 : INFO : topic #4 (0.100): 0.023*\"company\" + 0.017*\"business\" + 0.011*\"share\" + 0.009*\"price\" + 0.008*\"service\" + 0.008*\"time\" + 0.007*\"market\" + 0.007*\"technology\" + 0.006*\"value\" + 0.006*\"app\"\n",
      "2018-12-03 22:17:01,127 : INFO : topic #7 (0.100): 0.020*\"use\" + 0.013*\"website\" + 0.013*\"site\" + 0.011*\"user\" + 0.011*\"kashmir\" + 0.010*\"cookie\" + 0.010*\"*\" + 0.009*\"click\" + 0.009*\"food\" + 0.008*\"facebook\"\n",
      "2018-12-03 22:17:01,128 : INFO : topic #3 (0.100): 0.013*\"president\" + 0.011*\"state\" + 0.011*\"country\" + 0.008*\"pakistan\" + 0.006*\"group\" + 0.006*\"attack\" + 0.006*\"people\" + 0.006*\"force\" + 0.006*\"government\" + 0.006*\"indian\"\n",
      "2018-12-03 22:17:01,129 : INFO : topic #1 (0.100): 0.012*\"market\" + 0.009*\"high\" + 0.009*\"country\" + 0.009*\"economic\" + 0.008*\"project\" + 0.008*\"growth\" + 0.008*\"price\" + 0.008*\"energy\" + 0.007*\"power\" + 0.007*\"billion\"\n",
      "2018-12-03 22:17:01,130 : INFO : topic #0 (0.100): 0.010*\"world\" + 0.009*\"people\" + 0.008*\"book\" + 0.007*\"change\" + 0.006*\"life\" + 0.006*\"trump\" + 0.006*\"write\" + 0.005*\"use\" + 0.005*\"time\" + 0.005*\"university\"\n",
      "2018-12-03 22:17:01,130 : INFO : topic diff=0.064286, rho=0.173710\n",
      "2018-12-03 22:17:01,170 : INFO : -8.079 per-word bound, 270.5 perplexity estimate based on a held-out corpus of 14 documents with 2867 words\n",
      "2018-12-03 22:17:01,171 : INFO : PROGRESS: pass 3, at document #2914/2914\n",
      "2018-12-03 22:17:01,179 : INFO : merging changes from 14 documents into a model of 2914 documents\n"
     ]
    },
    {
     "name": "stderr",
     "output_type": "stream",
     "text": [
      "2018-12-03 22:17:01,194 : INFO : topic #2 (0.100): 0.019*\"police\" + 0.014*\"medical\" + 0.013*\"family\" + 0.012*\"child\" + 0.011*\"woman\" + 0.009*\"drug\" + 0.009*\"mother\" + 0.008*\"health\" + 0.008*\"case\" + 0.007*\"girl\"\n",
      "2018-12-03 22:17:01,195 : INFO : topic #3 (0.100): 0.012*\"state\" + 0.012*\"president\" + 0.011*\"country\" + 0.007*\"pakistan\" + 0.007*\"government\" + 0.007*\"attack\" + 0.006*\"force\" + 0.006*\"people\" + 0.006*\"modi\" + 0.006*\"group\"\n",
      "2018-12-03 22:17:01,196 : INFO : topic #6 (0.100): 0.018*\"need\" + 0.012*\"funding\" + 0.011*\"water\" + 0.010*\"tax\" + 0.009*\"work\" + 0.009*\"project\" + 0.008*\"people\" + 0.008*\"job\" + 0.007*\"development\" + 0.007*\"budget\"\n",
      "2018-12-03 22:17:01,197 : INFO : topic #7 (0.100): 0.039*\"beer\" + 0.017*\"use\" + 0.012*\"website\" + 0.010*\"site\" + 0.010*\"kashmir\" + 0.010*\"newspaper\" + 0.009*\"visit\" + 0.009*\"click\" + 0.009*\"contact\" + 0.008*\"user\"\n",
      "2018-12-03 22:17:01,198 : INFO : topic #5 (0.100): 0.018*\"city\" + 0.013*\"school\" + 0.010*\"community\" + 0.009*\"student\" + 0.008*\"space\" + 0.008*\"day\" + 0.007*\"people\" + 0.006*\"open\" + 0.006*\"parking\" + 0.006*\"park\"\n",
      "2018-12-03 22:17:01,199 : INFO : topic diff=0.120127, rho=0.173710\n",
      "2018-12-03 22:17:03,126 : INFO : PROGRESS: pass 4, at document #100/2914\n",
      "2018-12-03 22:17:03,173 : INFO : merging changes from 100 documents into a model of 2914 documents\n",
      "2018-12-03 22:17:03,187 : INFO : topic #8 (0.100): 0.017*\"comment\" + 0.012*\"government\" + 0.009*\"state\" + 0.009*\"minister\" + 0.008*\"party\" + 0.008*\"public\" + 0.008*\"court\" + 0.007*\"member\" + 0.006*\"post\" + 0.006*\"right\"\n",
      "2018-12-03 22:17:03,188 : INFO : topic #0 (0.100): 0.010*\"people\" + 0.009*\"world\" + 0.008*\"book\" + 0.006*\"change\" + 0.006*\"life\" + 0.006*\"supplement\" + 0.006*\"use\" + 0.006*\"write\" + 0.005*\"find\" + 0.005*\"human\"\n",
      "2018-12-03 22:17:03,190 : INFO : topic #7 (0.100): 0.030*\"beer\" + 0.018*\"use\" + 0.014*\"website\" + 0.014*\"site\" + 0.010*\"user\" + 0.009*\"newspaper\" + 0.009*\"visit\" + 0.009*\"facebook\" + 0.009*\"contact\" + 0.009*\"click\"\n",
      "2018-12-03 22:17:03,191 : INFO : topic #2 (0.100): 0.017*\"police\" + 0.013*\"family\" + 0.011*\"woman\" + 0.011*\"medical\" + 0.010*\"drug\" + 0.010*\"child\" + 0.008*\"case\" + 0.008*\"life\" + 0.008*\"mother\" + 0.007*\"girl\"\n",
      "2018-12-03 22:17:03,191 : INFO : topic #5 (0.100): 0.016*\"city\" + 0.015*\"school\" + 0.009*\"student\" + 0.009*\"community\" + 0.008*\"day\" + 0.007*\"people\" + 0.007*\"space\" + 0.006*\"open\" + 0.005*\"local\" + 0.005*\"work\"\n",
      "2018-12-03 22:17:03,192 : INFO : topic diff=0.111702, rho=0.171147\n",
      "2018-12-03 22:17:03,209 : INFO : PROGRESS: pass 4, at document #200/2914\n",
      "2018-12-03 22:17:03,255 : INFO : merging changes from 100 documents into a model of 2914 documents\n",
      "2018-12-03 22:17:03,267 : INFO : topic #6 (0.100): 0.015*\"need\" + 0.011*\"work\" + 0.010*\"water\" + 0.009*\"tax\" + 0.009*\"project\" + 0.009*\"funding\" + 0.008*\"plan\" + 0.008*\"people\" + 0.007*\"job\" + 0.007*\"cost\"\n",
      "2018-12-03 22:17:03,268 : INFO : topic #2 (0.100): 0.015*\"police\" + 0.011*\"family\" + 0.011*\"medical\" + 0.010*\"woman\" + 0.010*\"drug\" + 0.009*\"child\" + 0.008*\"case\" + 0.007*\"life\" + 0.007*\"court\" + 0.007*\"hospital\"\n",
      "2018-12-03 22:17:03,269 : INFO : topic #4 (0.100): 0.025*\"company\" + 0.013*\"business\" + 0.012*\"share\" + 0.010*\"market\" + 0.010*\"price\" + 0.009*\"service\" + 0.008*\"time\" + 0.008*\"technology\" + 0.006*\"industry\" + 0.006*\"sales\"\n",
      "2018-12-03 22:17:03,269 : INFO : topic #5 (0.100): 0.017*\"city\" + 0.016*\"school\" + 0.012*\"student\" + 0.008*\"community\" + 0.008*\"day\" + 0.007*\"people\" + 0.007*\"space\" + 0.006*\"open\" + 0.005*\"park\" + 0.005*\"work\"\n",
      "2018-12-03 22:17:03,271 : INFO : topic #8 (0.100): 0.017*\"comment\" + 0.012*\"government\" + 0.009*\"state\" + 0.008*\"public\" + 0.008*\"court\" + 0.008*\"minister\" + 0.008*\"party\" + 0.006*\"right\" + 0.006*\"member\" + 0.006*\"post\"\n",
      "2018-12-03 22:17:03,271 : INFO : topic diff=0.089916, rho=0.171147\n",
      "2018-12-03 22:17:03,288 : INFO : PROGRESS: pass 4, at document #300/2914\n",
      "2018-12-03 22:17:03,334 : INFO : merging changes from 100 documents into a model of 2914 documents\n",
      "2018-12-03 22:17:03,347 : INFO : topic #8 (0.100): 0.017*\"comment\" + 0.012*\"government\" + 0.009*\"state\" + 0.008*\"court\" + 0.008*\"public\" + 0.008*\"minister\" + 0.007*\"party\" + 0.007*\"right\" + 0.006*\"issue\" + 0.006*\"post\"\n",
      "2018-12-03 22:17:03,348 : INFO : topic #3 (0.100): 0.010*\"state\" + 0.009*\"president\" + 0.009*\"country\" + 0.008*\"force\" + 0.007*\"government\" + 0.006*\"take\" + 0.006*\"attack\" + 0.005*\"people\" + 0.005*\"security\" + 0.005*\"group\"\n",
      "2018-12-03 22:17:03,349 : INFO : topic #7 (0.100): 0.021*\"beer\" + 0.017*\"use\" + 0.012*\"website\" + 0.011*\"site\" + 0.010*\"user\" + 0.009*\"*\" + 0.009*\"facebook\" + 0.009*\"brand\" + 0.008*\"food\" + 0.008*\"click\"\n",
      "2018-12-03 22:17:03,349 : INFO : topic #0 (0.100): 0.010*\"world\" + 0.009*\"people\" + 0.009*\"book\" + 0.007*\"change\" + 0.006*\"life\" + 0.006*\"university\" + 0.006*\"use\" + 0.006*\"find\" + 0.006*\"human\" + 0.005*\"write\"\n",
      "2018-12-03 22:17:03,350 : INFO : topic #4 (0.100): 0.026*\"company\" + 0.013*\"business\" + 0.011*\"share\" + 0.010*\"market\" + 0.010*\"service\" + 0.009*\"price\" + 0.008*\"time\" + 0.008*\"technology\" + 0.006*\"customer\" + 0.006*\"sales\"\n",
      "2018-12-03 22:17:03,351 : INFO : topic diff=0.096169, rho=0.171147\n",
      "2018-12-03 22:17:03,369 : INFO : PROGRESS: pass 4, at document #400/2914\n",
      "2018-12-03 22:17:03,422 : INFO : merging changes from 100 documents into a model of 2914 documents\n",
      "2018-12-03 22:17:03,436 : INFO : topic #0 (0.100): 0.010*\"people\" + 0.010*\"world\" + 0.008*\"book\" + 0.007*\"change\" + 0.006*\"life\" + 0.006*\"use\" + 0.006*\"university\" + 0.006*\"find\" + 0.006*\"write\" + 0.005*\"human\"\n",
      "2018-12-03 22:17:03,437 : INFO : topic #5 (0.100): 0.019*\"school\" + 0.015*\"city\" + 0.012*\"student\" + 0.009*\"people\" + 0.007*\"community\" + 0.007*\"day\" + 0.006*\"canada\" + 0.006*\"space\" + 0.006*\"work\" + 0.005*\"park\"\n",
      "2018-12-03 22:17:03,438 : INFO : topic #4 (0.100): 0.026*\"company\" + 0.013*\"business\" + 0.011*\"share\" + 0.010*\"service\" + 0.009*\"market\" + 0.008*\"time\" + 0.008*\"price\" + 0.007*\"technology\" + 0.006*\"customer\" + 0.005*\"investment\"\n",
      "2018-12-03 22:17:03,438 : INFO : topic #3 (0.100): 0.010*\"state\" + 0.009*\"country\" + 0.009*\"president\" + 0.007*\"force\" + 0.007*\"government\" + 0.006*\"take\" + 0.005*\"attack\" + 0.005*\"people\" + 0.005*\"military\" + 0.005*\"security\"\n",
      "2018-12-03 22:17:03,439 : INFO : topic #6 (0.100): 0.015*\"need\" + 0.011*\"work\" + 0.010*\"water\" + 0.008*\"people\" + 0.008*\"project\" + 0.008*\"tax\" + 0.007*\"job\" + 0.007*\"cost\" + 0.007*\"plan\" + 0.007*\"funding\"\n",
      "2018-12-03 22:17:03,441 : INFO : topic diff=0.093860, rho=0.171147\n",
      "2018-12-03 22:17:03,458 : INFO : PROGRESS: pass 4, at document #500/2914\n",
      "2018-12-03 22:17:03,508 : INFO : merging changes from 100 documents into a model of 2914 documents\n",
      "2018-12-03 22:17:03,521 : INFO : topic #2 (0.100): 0.016*\"police\" + 0.014*\"child\" + 0.011*\"family\" + 0.009*\"life\" + 0.008*\"woman\" + 0.008*\"case\" + 0.007*\"hospital\" + 0.007*\"drug\" + 0.007*\"find\" + 0.007*\"medical\"\n",
      "2018-12-03 22:17:03,522 : INFO : topic #4 (0.100): 0.025*\"company\" + 0.013*\"business\" + 0.010*\"share\" + 0.009*\"service\" + 0.009*\"market\" + 0.008*\"time\" + 0.007*\"price\" + 0.006*\"technology\" + 0.005*\"customer\" + 0.005*\"sales\"\n",
      "2018-12-03 22:17:03,522 : INFO : topic #9 (0.100): 0.011*\"play\" + 0.010*\"game\" + 0.010*\"time\" + 0.009*\"take\" + 0.009*\"look\" + 0.009*\"team\" + 0.007*\"film\" + 0.007*\"win\" + 0.007*\"want\" + 0.007*\"big\"\n",
      "2018-12-03 22:17:03,523 : INFO : topic #8 (0.100): 0.015*\"comment\" + 0.012*\"government\" + 0.009*\"public\" + 0.008*\"state\" + 0.008*\"court\" + 0.008*\"minister\" + 0.007*\"party\" + 0.006*\"member\" + 0.006*\"right\" + 0.006*\"issue\"\n",
      "2018-12-03 22:17:03,524 : INFO : topic #6 (0.100): 0.016*\"need\" + 0.011*\"work\" + 0.009*\"people\" + 0.009*\"water\" + 0.008*\"job\" + 0.008*\"project\" + 0.008*\"tax\" + 0.007*\"plan\" + 0.007*\"cost\" + 0.006*\"area\"\n",
      "2018-12-03 22:17:03,524 : INFO : topic diff=0.072711, rho=0.171147\n",
      "2018-12-03 22:17:03,544 : INFO : PROGRESS: pass 4, at document #600/2914\n",
      "2018-12-03 22:17:03,598 : INFO : merging changes from 100 documents into a model of 2914 documents\n",
      "2018-12-03 22:17:03,614 : INFO : topic #7 (0.100): 0.017*\"use\" + 0.013*\"site\" + 0.012*\"website\" + 0.012*\"beer\" + 0.010*\"user\" + 0.009*\"brand\" + 0.008*\"food\" + 0.008*\"online\" + 0.008*\"facebook\" + 0.007*\"click\"\n",
      "2018-12-03 22:17:03,615 : INFO : topic #8 (0.100): 0.014*\"comment\" + 0.012*\"government\" + 0.010*\"state\" + 0.009*\"public\" + 0.008*\"court\" + 0.008*\"party\" + 0.008*\"minister\" + 0.007*\"right\" + 0.006*\"issue\" + 0.006*\"pay\"\n"
     ]
    },
    {
     "name": "stderr",
     "output_type": "stream",
     "text": [
      "2018-12-03 22:17:03,616 : INFO : topic #5 (0.100): 0.016*\"school\" + 0.015*\"city\" + 0.014*\"student\" + 0.009*\"people\" + 0.008*\"day\" + 0.006*\"community\" + 0.006*\"work\" + 0.006*\"park\" + 0.005*\"canada\" + 0.005*\"street\"\n",
      "2018-12-03 22:17:03,617 : INFO : topic #3 (0.100): 0.013*\"state\" + 0.009*\"country\" + 0.008*\"president\" + 0.006*\"government\" + 0.006*\"force\" + 0.006*\"take\" + 0.005*\"attack\" + 0.005*\"people\" + 0.005*\"group\" + 0.005*\"security\"\n",
      "2018-12-03 22:17:03,618 : INFO : topic #2 (0.100): 0.016*\"police\" + 0.015*\"child\" + 0.010*\"family\" + 0.009*\"drug\" + 0.009*\"life\" + 0.008*\"death\" + 0.008*\"case\" + 0.007*\"woman\" + 0.007*\"medical\" + 0.007*\"hospital\"\n",
      "2018-12-03 22:17:03,620 : INFO : topic diff=0.088460, rho=0.171147\n",
      "2018-12-03 22:17:03,640 : INFO : PROGRESS: pass 4, at document #700/2914\n",
      "2018-12-03 22:17:03,692 : INFO : merging changes from 100 documents into a model of 2914 documents\n",
      "2018-12-03 22:17:03,709 : INFO : topic #8 (0.100): 0.015*\"comment\" + 0.012*\"government\" + 0.011*\"state\" + 0.009*\"public\" + 0.008*\"minister\" + 0.007*\"party\" + 0.007*\"court\" + 0.006*\"member\" + 0.006*\"right\" + 0.006*\"service\"\n",
      "2018-12-03 22:17:03,710 : INFO : topic #3 (0.100): 0.014*\"state\" + 0.010*\"country\" + 0.008*\"president\" + 0.006*\"government\" + 0.006*\"nigeria\" + 0.006*\"take\" + 0.006*\"force\" + 0.005*\"people\" + 0.005*\"security\" + 0.005*\"national\"\n",
      "2018-12-03 22:17:03,710 : INFO : topic #5 (0.100): 0.017*\"school\" + 0.015*\"city\" + 0.013*\"student\" + 0.009*\"people\" + 0.008*\"day\" + 0.006*\"community\" + 0.006*\"work\" + 0.005*\"university\" + 0.005*\"park\" + 0.005*\"open\"\n",
      "2018-12-03 22:17:03,712 : INFO : topic #2 (0.100): 0.016*\"police\" + 0.013*\"child\" + 0.011*\"family\" + 0.009*\"life\" + 0.008*\"death\" + 0.008*\"drug\" + 0.007*\"case\" + 0.007*\"medical\" + 0.007*\"woman\" + 0.007*\"hospital\"\n",
      "2018-12-03 22:17:03,712 : INFO : topic #7 (0.100): 0.016*\"use\" + 0.013*\"site\" + 0.012*\"website\" + 0.011*\"beer\" + 0.009*\"user\" + 0.009*\"brand\" + 0.008*\"online\" + 0.008*\"food\" + 0.007*\"facebook\" + 0.007*\"click\"\n",
      "2018-12-03 22:17:03,713 : INFO : topic diff=0.076875, rho=0.171147\n",
      "2018-12-03 22:17:03,730 : INFO : PROGRESS: pass 4, at document #800/2914\n",
      "2018-12-03 22:17:03,781 : INFO : merging changes from 100 documents into a model of 2914 documents\n",
      "2018-12-03 22:17:03,795 : INFO : topic #2 (0.100): 0.017*\"police\" + 0.013*\"child\" + 0.013*\"family\" + 0.009*\"life\" + 0.009*\"death\" + 0.008*\"case\" + 0.007*\"drug\" + 0.007*\"health\" + 0.007*\"medical\" + 0.007*\"hospital\"\n",
      "2018-12-03 22:17:03,796 : INFO : topic #3 (0.100): 0.014*\"state\" + 0.009*\"country\" + 0.008*\"president\" + 0.006*\"government\" + 0.006*\"take\" + 0.006*\"indian\" + 0.006*\"force\" + 0.005*\"people\" + 0.005*\"nigeria\" + 0.005*\"national\"\n",
      "2018-12-03 22:17:03,797 : INFO : topic #0 (0.100): 0.011*\"people\" + 0.010*\"world\" + 0.008*\"book\" + 0.007*\"university\" + 0.007*\"life\" + 0.006*\"dr\" + 0.006*\"professor\" + 0.006*\"write\" + 0.006*\"use\" + 0.006*\"change\"\n",
      "2018-12-03 22:17:03,797 : INFO : topic #5 (0.100): 0.018*\"school\" + 0.016*\"city\" + 0.012*\"student\" + 0.009*\"people\" + 0.008*\"day\" + 0.006*\"community\" + 0.006*\"work\" + 0.005*\"open\" + 0.005*\"place\" + 0.005*\"park\"\n",
      "2018-12-03 22:17:03,798 : INFO : topic #9 (0.100): 0.010*\"time\" + 0.009*\"play\" + 0.009*\"take\" + 0.008*\"team\" + 0.008*\"game\" + 0.008*\"look\" + 0.008*\"win\" + 0.007*\"film\" + 0.007*\"want\" + 0.007*\"big\"\n",
      "2018-12-03 22:17:03,799 : INFO : topic diff=0.061288, rho=0.171147\n",
      "2018-12-03 22:17:03,816 : INFO : PROGRESS: pass 4, at document #900/2914\n",
      "2018-12-03 22:17:03,858 : INFO : merging changes from 100 documents into a model of 2914 documents\n",
      "2018-12-03 22:17:03,871 : INFO : topic #0 (0.100): 0.011*\"people\" + 0.010*\"world\" + 0.008*\"book\" + 0.007*\"change\" + 0.007*\"university\" + 0.006*\"life\" + 0.006*\"write\" + 0.006*\"use\" + 0.005*\"dr\" + 0.005*\"work\"\n",
      "2018-12-03 22:17:03,871 : INFO : topic #6 (0.100): 0.014*\"need\" + 0.011*\"work\" + 0.010*\"plan\" + 0.010*\"people\" + 0.007*\"job\" + 0.007*\"project\" + 0.007*\"area\" + 0.006*\"water\" + 0.006*\"income\" + 0.006*\"development\"\n",
      "2018-12-03 22:17:03,872 : INFO : topic #7 (0.100): 0.016*\"use\" + 0.011*\"site\" + 0.011*\"website\" + 0.010*\"facebook\" + 0.009*\"online\" + 0.008*\"user\" + 0.008*\"food\" + 0.007*\"beer\" + 0.007*\"*\" + 0.007*\"brand\"\n",
      "2018-12-03 22:17:03,873 : INFO : topic #2 (0.100): 0.017*\"police\" + 0.014*\"child\" + 0.014*\"family\" + 0.009*\"life\" + 0.008*\"death\" + 0.007*\"health\" + 0.007*\"woman\" + 0.007*\"case\" + 0.007*\"medical\" + 0.007*\"people\"\n",
      "2018-12-03 22:17:03,873 : INFO : topic #5 (0.100): 0.017*\"school\" + 0.016*\"city\" + 0.011*\"student\" + 0.010*\"people\" + 0.008*\"day\" + 0.007*\"community\" + 0.006*\"work\" + 0.006*\"street\" + 0.005*\"place\" + 0.005*\"open\"\n",
      "2018-12-03 22:17:03,874 : INFO : topic diff=0.067099, rho=0.171147\n",
      "2018-12-03 22:17:04,014 : INFO : -8.293 per-word bound, 313.6 perplexity estimate based on a held-out corpus of 100 documents with 22700 words\n",
      "2018-12-03 22:17:04,015 : INFO : PROGRESS: pass 4, at document #1000/2914\n",
      "2018-12-03 22:17:04,067 : INFO : merging changes from 100 documents into a model of 2914 documents\n",
      "2018-12-03 22:17:04,088 : INFO : topic #5 (0.100): 0.018*\"school\" + 0.014*\"city\" + 0.011*\"student\" + 0.010*\"people\" + 0.008*\"day\" + 0.007*\"community\" + 0.006*\"work\" + 0.005*\"place\" + 0.005*\"local\" + 0.005*\"street\"\n",
      "2018-12-03 22:17:04,089 : INFO : topic #9 (0.100): 0.010*\"time\" + 0.010*\"play\" + 0.010*\"game\" + 0.009*\"take\" + 0.009*\"look\" + 0.008*\"win\" + 0.008*\"team\" + 0.007*\"want\" + 0.007*\"show\" + 0.007*\"big\"\n",
      "2018-12-03 22:17:04,090 : INFO : topic #3 (0.100): 0.012*\"state\" + 0.009*\"country\" + 0.007*\"president\" + 0.007*\"force\" + 0.006*\"take\" + 0.006*\"war\" + 0.005*\"government\" + 0.005*\"attack\" + 0.005*\"people\" + 0.005*\"muslim\"\n",
      "2018-12-03 22:17:04,090 : INFO : topic #4 (0.100): 0.023*\"company\" + 0.019*\"business\" + 0.011*\"share\" + 0.008*\"time\" + 0.008*\"market\" + 0.007*\"service\" + 0.006*\"technology\" + 0.006*\"price\" + 0.005*\"buy\" + 0.005*\"industry\"\n",
      "2018-12-03 22:17:04,092 : INFO : topic #2 (0.100): 0.016*\"police\" + 0.015*\"child\" + 0.014*\"family\" + 0.009*\"life\" + 0.008*\"woman\" + 0.008*\"death\" + 0.007*\"medical\" + 0.007*\"people\" + 0.007*\"case\" + 0.007*\"health\"\n",
      "2018-12-03 22:17:04,093 : INFO : topic diff=0.061790, rho=0.171147\n",
      "2018-12-03 22:17:04,110 : INFO : PROGRESS: pass 4, at document #1100/2914\n",
      "2018-12-03 22:17:04,159 : INFO : merging changes from 100 documents into a model of 2914 documents\n",
      "2018-12-03 22:17:04,171 : INFO : topic #4 (0.100): 0.022*\"company\" + 0.017*\"business\" + 0.010*\"share\" + 0.008*\"time\" + 0.007*\"market\" + 0.007*\"technology\" + 0.007*\"service\" + 0.006*\"price\" + 0.005*\"buy\" + 0.005*\"industry\"\n",
      "2018-12-03 22:17:04,172 : INFO : topic #3 (0.100): 0.012*\"state\" + 0.009*\"country\" + 0.007*\"president\" + 0.006*\"force\" + 0.006*\"take\" + 0.006*\"war\" + 0.005*\"people\" + 0.005*\"government\" + 0.005*\"attack\" + 0.005*\"leader\"\n",
      "2018-12-03 22:17:04,173 : INFO : topic #0 (0.100): 0.011*\"people\" + 0.010*\"world\" + 0.009*\"book\" + 0.007*\"change\" + 0.007*\"university\" + 0.007*\"write\" + 0.006*\"life\" + 0.006*\"use\" + 0.006*\"work\" + 0.005*\"find\"\n",
      "2018-12-03 22:17:04,174 : INFO : topic #6 (0.100): 0.015*\"need\" + 0.011*\"work\" + 0.010*\"plan\" + 0.009*\"people\" + 0.008*\"cost\" + 0.007*\"project\" + 0.006*\"tax\" + 0.006*\"area\" + 0.006*\"job\" + 0.006*\"water\"\n",
      "2018-12-03 22:17:04,174 : INFO : topic #5 (0.100): 0.016*\"school\" + 0.014*\"city\" + 0.010*\"student\" + 0.010*\"people\" + 0.008*\"day\" + 0.007*\"community\" + 0.006*\"work\" + 0.005*\"place\" + 0.005*\"open\" + 0.005*\"local\"\n",
      "2018-12-03 22:17:04,175 : INFO : topic diff=0.060113, rho=0.171147\n",
      "2018-12-03 22:17:04,192 : INFO : PROGRESS: pass 4, at document #1200/2914\n",
      "2018-12-03 22:17:04,238 : INFO : merging changes from 100 documents into a model of 2914 documents\n",
      "2018-12-03 22:17:04,251 : INFO : topic #2 (0.100): 0.017*\"police\" + 0.013*\"family\" + 0.013*\"child\" + 0.009*\"life\" + 0.008*\"woman\" + 0.007*\"death\" + 0.006*\"health\" + 0.006*\"take\" + 0.006*\"time\" + 0.006*\"people\"\n",
      "2018-12-03 22:17:04,252 : INFO : topic #4 (0.100): 0.022*\"company\" + 0.018*\"business\" + 0.010*\"share\" + 0.008*\"time\" + 0.007*\"market\" + 0.006*\"technology\" + 0.006*\"service\" + 0.006*\"price\" + 0.006*\"investor\" + 0.005*\"buy\"\n",
      "2018-12-03 22:17:04,252 : INFO : topic #3 (0.100): 0.011*\"state\" + 0.009*\"country\" + 0.007*\"president\" + 0.006*\"force\" + 0.006*\"take\" + 0.006*\"war\" + 0.005*\"people\" + 0.005*\"attack\" + 0.005*\"government\" + 0.005*\"group\"\n"
     ]
    },
    {
     "name": "stderr",
     "output_type": "stream",
     "text": [
      "2018-12-03 22:17:04,253 : INFO : topic #5 (0.100): 0.015*\"city\" + 0.015*\"school\" + 0.010*\"people\" + 0.009*\"student\" + 0.008*\"day\" + 0.007*\"community\" + 0.006*\"work\" + 0.006*\"street\" + 0.006*\"local\" + 0.005*\"place\"\n",
      "2018-12-03 22:17:04,254 : INFO : topic #7 (0.100): 0.015*\"use\" + 0.013*\"*\" + 0.011*\"food\" + 0.010*\"website\" + 0.010*\"facebook\" + 0.009*\"site\" + 0.008*\"user\" + 0.008*\"e-mail\" + 0.007*\"online\" + 0.007*\"click\"\n",
      "2018-12-03 22:17:04,255 : INFO : topic diff=0.067556, rho=0.171147\n",
      "2018-12-03 22:17:04,273 : INFO : PROGRESS: pass 4, at document #1300/2914\n",
      "2018-12-03 22:17:04,326 : INFO : merging changes from 100 documents into a model of 2914 documents\n",
      "2018-12-03 22:17:04,339 : INFO : topic #8 (0.100): 0.016*\"comment\" + 0.011*\"government\" + 0.009*\"public\" + 0.008*\"state\" + 0.007*\"right\" + 0.007*\"member\" + 0.007*\"party\" + 0.007*\"minister\" + 0.006*\"service\" + 0.006*\"court\"\n",
      "2018-12-03 22:17:04,340 : INFO : topic #5 (0.100): 0.014*\"city\" + 0.012*\"school\" + 0.009*\"day\" + 0.009*\"people\" + 0.008*\"student\" + 0.008*\"open\" + 0.007*\"vegas\" + 0.006*\"community\" + 0.006*\"road\" + 0.006*\"place\"\n",
      "2018-12-03 22:17:04,341 : INFO : topic #9 (0.100): 0.012*\"game\" + 0.011*\"time\" + 0.010*\"team\" + 0.010*\"play\" + 0.009*\"take\" + 0.008*\"look\" + 0.008*\"win\" + 0.007*\"show\" + 0.007*\"want\" + 0.006*\"big\"\n",
      "2018-12-03 22:17:04,343 : INFO : topic #6 (0.100): 0.014*\"need\" + 0.010*\"work\" + 0.010*\"plan\" + 0.009*\"people\" + 0.008*\"cost\" + 0.007*\"area\" + 0.006*\"tax\" + 0.006*\"project\" + 0.006*\"system\" + 0.006*\"water\"\n",
      "2018-12-03 22:17:04,344 : INFO : topic #7 (0.100): 0.018*\"*\" + 0.016*\"use\" + 0.011*\"food\" + 0.009*\"website\" + 0.009*\"site\" + 0.009*\"facebook\" + 0.008*\"online\" + 0.008*\"user\" + 0.007*\"e-mail\" + 0.006*\"comment\"\n",
      "2018-12-03 22:17:04,345 : INFO : topic diff=0.082952, rho=0.171147\n",
      "2018-12-03 22:17:04,364 : INFO : PROGRESS: pass 4, at document #1400/2914\n",
      "2018-12-03 22:17:04,409 : INFO : merging changes from 100 documents into a model of 2914 documents\n",
      "2018-12-03 22:17:04,422 : INFO : topic #2 (0.100): 0.014*\"police\" + 0.013*\"child\" + 0.013*\"family\" + 0.010*\"woman\" + 0.009*\"life\" + 0.008*\"drug\" + 0.008*\"health\" + 0.007*\"case\" + 0.007*\"death\" + 0.007*\"time\"\n",
      "2018-12-03 22:17:04,422 : INFO : topic #7 (0.100): 0.017*\"use\" + 0.016*\"*\" + 0.011*\"food\" + 0.010*\"site\" + 0.010*\"website\" + 0.008*\"facebook\" + 0.008*\"online\" + 0.007*\"user\" + 0.007*\"e-mail\" + 0.006*\"comment\"\n",
      "2018-12-03 22:17:04,423 : INFO : topic #5 (0.100): 0.017*\"city\" + 0.012*\"school\" + 0.009*\"student\" + 0.008*\"day\" + 0.008*\"people\" + 0.007*\"open\" + 0.006*\"community\" + 0.006*\"vegas\" + 0.006*\"place\" + 0.005*\"street\"\n",
      "2018-12-03 22:17:04,424 : INFO : topic #3 (0.100): 0.010*\"state\" + 0.008*\"country\" + 0.007*\"president\" + 0.006*\"force\" + 0.006*\"take\" + 0.006*\"attack\" + 0.006*\"war\" + 0.005*\"people\" + 0.005*\"leader\" + 0.005*\"group\"\n",
      "2018-12-03 22:17:04,425 : INFO : topic #8 (0.100): 0.014*\"comment\" + 0.011*\"government\" + 0.008*\"public\" + 0.007*\"party\" + 0.007*\"state\" + 0.007*\"right\" + 0.007*\"member\" + 0.007*\"minister\" + 0.006*\"court\" + 0.006*\"council\"\n",
      "2018-12-03 22:17:04,425 : INFO : topic diff=0.066401, rho=0.171147\n",
      "2018-12-03 22:17:04,448 : INFO : PROGRESS: pass 4, at document #1500/2914\n",
      "2018-12-03 22:17:04,494 : INFO : merging changes from 100 documents into a model of 2914 documents\n",
      "2018-12-03 22:17:04,509 : INFO : topic #0 (0.100): 0.011*\"people\" + 0.010*\"world\" + 0.009*\"book\" + 0.007*\"change\" + 0.006*\"find\" + 0.006*\"time\" + 0.006*\"write\" + 0.006*\"use\" + 0.006*\"study\" + 0.005*\"university\"\n",
      "2018-12-03 22:17:04,510 : INFO : topic #2 (0.100): 0.015*\"police\" + 0.013*\"child\" + 0.013*\"family\" + 0.009*\"woman\" + 0.008*\"life\" + 0.008*\"drug\" + 0.007*\"death\" + 0.007*\"time\" + 0.007*\"take\" + 0.007*\"find\"\n",
      "2018-12-03 22:17:04,510 : INFO : topic #6 (0.100): 0.013*\"need\" + 0.010*\"work\" + 0.009*\"people\" + 0.009*\"plan\" + 0.008*\"cost\" + 0.007*\"system\" + 0.007*\"area\" + 0.006*\"project\" + 0.006*\"child\" + 0.006*\"tax\"\n",
      "2018-12-03 22:17:04,511 : INFO : topic #9 (0.100): 0.013*\"game\" + 0.012*\"time\" + 0.011*\"team\" + 0.009*\"play\" + 0.008*\"take\" + 0.008*\"look\" + 0.008*\"show\" + 0.008*\"win\" + 0.007*\"film\" + 0.007*\"want\"\n",
      "2018-12-03 22:17:04,512 : INFO : topic #4 (0.100): 0.019*\"company\" + 0.015*\"business\" + 0.010*\"time\" + 0.007*\"technology\" + 0.007*\"share\" + 0.007*\"market\" + 0.006*\"sales\" + 0.006*\"service\" + 0.005*\"customer\" + 0.005*\"buy\"\n",
      "2018-12-03 22:17:04,513 : INFO : topic diff=0.089445, rho=0.171147\n",
      "2018-12-03 22:17:04,530 : INFO : PROGRESS: pass 4, at document #1600/2914\n",
      "2018-12-03 22:17:04,573 : INFO : merging changes from 100 documents into a model of 2914 documents\n",
      "2018-12-03 22:17:04,585 : INFO : topic #6 (0.100): 0.013*\"need\" + 0.010*\"work\" + 0.009*\"people\" + 0.009*\"plan\" + 0.008*\"tax\" + 0.007*\"cost\" + 0.007*\"area\" + 0.006*\"system\" + 0.006*\"project\" + 0.006*\"problem\"\n",
      "2018-12-03 22:17:04,586 : INFO : topic #3 (0.100): 0.009*\"state\" + 0.009*\"country\" + 0.008*\"pakistan\" + 0.007*\"president\" + 0.006*\"force\" + 0.006*\"take\" + 0.006*\"oct\" + 0.006*\"people\" + 0.005*\"muslim\" + 0.005*\"attack\"\n",
      "2018-12-03 22:17:04,587 : INFO : topic #8 (0.100): 0.016*\"comment\" + 0.010*\"government\" + 0.008*\"right\" + 0.008*\"public\" + 0.007*\"court\" + 0.007*\"party\" + 0.007*\"minister\" + 0.007*\"member\" + 0.006*\"state\" + 0.006*\"issue\"\n",
      "2018-12-03 22:17:04,587 : INFO : topic #0 (0.100): 0.011*\"world\" + 0.011*\"people\" + 0.008*\"book\" + 0.007*\"change\" + 0.006*\"find\" + 0.006*\"write\" + 0.006*\"time\" + 0.006*\"use\" + 0.005*\"life\" + 0.005*\"study\"\n",
      "2018-12-03 22:17:04,588 : INFO : topic #7 (0.100): 0.016*\"use\" + 0.016*\"*\" + 0.010*\"food\" + 0.010*\"website\" + 0.009*\"site\" + 0.009*\"facebook\" + 0.008*\"e-mail\" + 0.008*\"online\" + 0.006*\"dog\" + 0.006*\"comment\"\n",
      "2018-12-03 22:17:04,589 : INFO : topic diff=0.074654, rho=0.171147\n",
      "2018-12-03 22:17:04,604 : INFO : PROGRESS: pass 4, at document #1700/2914\n",
      "2018-12-03 22:17:04,643 : INFO : merging changes from 100 documents into a model of 2914 documents\n",
      "2018-12-03 22:17:04,659 : INFO : topic #8 (0.100): 0.016*\"comment\" + 0.011*\"government\" + 0.008*\"public\" + 0.008*\"right\" + 0.008*\"party\" + 0.007*\"minister\" + 0.007*\"court\" + 0.007*\"member\" + 0.006*\"state\" + 0.006*\"post\"\n",
      "2018-12-03 22:17:04,659 : INFO : topic #9 (0.100): 0.012*\"time\" + 0.012*\"game\" + 0.010*\"team\" + 0.009*\"play\" + 0.008*\"take\" + 0.008*\"look\" + 0.008*\"win\" + 0.007*\"film\" + 0.007*\"show\" + 0.007*\"big\"\n",
      "2018-12-03 22:17:04,660 : INFO : topic #6 (0.100): 0.013*\"need\" + 0.011*\"people\" + 0.010*\"work\" + 0.009*\"plan\" + 0.007*\"area\" + 0.007*\"cost\" + 0.007*\"tax\" + 0.006*\"job\" + 0.006*\"child\" + 0.006*\"water\"\n",
      "2018-12-03 22:17:04,661 : INFO : topic #4 (0.100): 0.018*\"company\" + 0.014*\"business\" + 0.009*\"time\" + 0.008*\"market\" + 0.007*\"share\" + 0.007*\"technology\" + 0.007*\"sales\" + 0.006*\"car\" + 0.006*\"customer\" + 0.006*\"service\"\n",
      "2018-12-03 22:17:04,662 : INFO : topic #5 (0.100): 0.017*\"city\" + 0.012*\"school\" + 0.009*\"day\" + 0.008*\"student\" + 0.008*\"people\" + 0.007*\"open\" + 0.006*\"place\" + 0.005*\"work\" + 0.005*\"community\" + 0.005*\"street\"\n",
      "2018-12-03 22:17:04,663 : INFO : topic diff=0.063753, rho=0.171147\n",
      "2018-12-03 22:17:04,678 : INFO : PROGRESS: pass 4, at document #1800/2914\n",
      "2018-12-03 22:17:04,728 : INFO : merging changes from 100 documents into a model of 2914 documents\n",
      "2018-12-03 22:17:04,742 : INFO : topic #5 (0.100): 0.017*\"city\" + 0.012*\"school\" + 0.009*\"student\" + 0.008*\"day\" + 0.008*\"people\" + 0.007*\"open\" + 0.006*\"place\" + 0.006*\"street\" + 0.005*\"community\" + 0.005*\"work\"\n",
      "2018-12-03 22:17:04,744 : INFO : topic #4 (0.100): 0.019*\"company\" + 0.015*\"business\" + 0.009*\"time\" + 0.008*\"market\" + 0.007*\"share\" + 0.007*\"car\" + 0.007*\"technology\" + 0.006*\"sales\" + 0.006*\"service\" + 0.005*\"customer\"\n",
      "2018-12-03 22:17:04,744 : INFO : topic #8 (0.100): 0.017*\"comment\" + 0.012*\"government\" + 0.008*\"minister\" + 0.008*\"party\" + 0.008*\"public\" + 0.007*\"state\" + 0.007*\"right\" + 0.007*\"member\" + 0.006*\"court\" + 0.006*\"post\"\n",
      "2018-12-03 22:17:04,746 : INFO : topic #6 (0.100): 0.013*\"need\" + 0.011*\"people\" + 0.010*\"work\" + 0.009*\"plan\" + 0.008*\"cost\" + 0.007*\"area\" + 0.007*\"tax\" + 0.007*\"job\" + 0.006*\"water\" + 0.006*\"child\"\n",
      "2018-12-03 22:17:04,747 : INFO : topic #2 (0.100): 0.017*\"police\" + 0.012*\"child\" + 0.012*\"family\" + 0.010*\"woman\" + 0.008*\"life\" + 0.007*\"death\" + 0.007*\"take\" + 0.007*\"health\" + 0.007*\"find\" + 0.007*\"case\"\n"
     ]
    },
    {
     "name": "stderr",
     "output_type": "stream",
     "text": [
      "2018-12-03 22:17:04,748 : INFO : topic diff=0.069917, rho=0.171147\n",
      "2018-12-03 22:17:04,765 : INFO : PROGRESS: pass 4, at document #1900/2914\n",
      "2018-12-03 22:17:04,805 : INFO : merging changes from 100 documents into a model of 2914 documents\n",
      "2018-12-03 22:17:04,818 : INFO : topic #4 (0.100): 0.021*\"company\" + 0.014*\"business\" + 0.011*\"share\" + 0.008*\"time\" + 0.007*\"market\" + 0.007*\"car\" + 0.006*\"price\" + 0.006*\"technology\" + 0.006*\"service\" + 0.006*\"sales\"\n",
      "2018-12-03 22:17:04,819 : INFO : topic #3 (0.100): 0.009*\"state\" + 0.008*\"country\" + 0.007*\"war\" + 0.006*\"president\" + 0.006*\"pakistan\" + 0.006*\"people\" + 0.006*\"take\" + 0.006*\"attack\" + 0.006*\"force\" + 0.005*\"group\"\n",
      "2018-12-03 22:17:04,819 : INFO : topic #1 (0.100): 0.012*\"market\" + 0.009*\"high\" + 0.008*\"country\" + 0.008*\"energy\" + 0.008*\"rate\" + 0.008*\"low\" + 0.008*\"growth\" + 0.007*\"report\" + 0.006*\"price\" + 0.006*\"economic\"\n",
      "2018-12-03 22:17:04,820 : INFO : topic #2 (0.100): 0.017*\"police\" + 0.012*\"child\" + 0.012*\"family\" + 0.009*\"woman\" + 0.008*\"life\" + 0.007*\"find\" + 0.007*\"take\" + 0.007*\"death\" + 0.007*\"health\" + 0.006*\"people\"\n",
      "2018-12-03 22:17:04,821 : INFO : topic #0 (0.100): 0.012*\"people\" + 0.010*\"world\" + 0.007*\"change\" + 0.007*\"book\" + 0.007*\"find\" + 0.006*\"write\" + 0.006*\"life\" + 0.006*\"time\" + 0.005*\"use\" + 0.005*\"study\"\n",
      "2018-12-03 22:17:04,821 : INFO : topic diff=0.071031, rho=0.171147\n",
      "2018-12-03 22:17:04,933 : INFO : -8.270 per-word bound, 308.6 perplexity estimate based on a held-out corpus of 100 documents with 19093 words\n",
      "2018-12-03 22:17:04,934 : INFO : PROGRESS: pass 4, at document #2000/2914\n",
      "2018-12-03 22:17:04,979 : INFO : merging changes from 100 documents into a model of 2914 documents\n",
      "2018-12-03 22:17:04,993 : INFO : topic #5 (0.100): 0.018*\"city\" + 0.014*\"school\" + 0.010*\"student\" + 0.008*\"day\" + 0.008*\"people\" + 0.007*\"street\" + 0.006*\"open\" + 0.006*\"community\" + 0.005*\"place\" + 0.005*\"work\"\n",
      "2018-12-03 22:17:04,994 : INFO : topic #0 (0.100): 0.011*\"people\" + 0.010*\"world\" + 0.007*\"book\" + 0.007*\"change\" + 0.007*\"write\" + 0.006*\"university\" + 0.006*\"life\" + 0.006*\"find\" + 0.005*\"time\" + 0.005*\"use\"\n",
      "2018-12-03 22:17:04,994 : INFO : topic #2 (0.100): 0.017*\"police\" + 0.011*\"family\" + 0.011*\"child\" + 0.009*\"woman\" + 0.008*\"life\" + 0.007*\"take\" + 0.007*\"find\" + 0.007*\"death\" + 0.006*\"health\" + 0.006*\"case\"\n",
      "2018-12-03 22:17:04,995 : INFO : topic #9 (0.100): 0.011*\"time\" + 0.011*\"game\" + 0.011*\"play\" + 0.010*\"team\" + 0.009*\"win\" + 0.008*\"take\" + 0.007*\"look\" + 0.007*\"show\" + 0.006*\"film\" + 0.006*\"big\"\n",
      "2018-12-03 22:17:04,996 : INFO : topic #1 (0.100): 0.011*\"market\" + 0.009*\"rate\" + 0.009*\"high\" + 0.008*\"country\" + 0.008*\"energy\" + 0.008*\"growth\" + 0.008*\"low\" + 0.007*\"report\" + 0.007*\"project\" + 0.007*\"price\"\n",
      "2018-12-03 22:17:04,997 : INFO : topic diff=0.070506, rho=0.171147\n",
      "2018-12-03 22:17:05,015 : INFO : PROGRESS: pass 4, at document #2100/2914\n",
      "2018-12-03 22:17:05,059 : INFO : merging changes from 100 documents into a model of 2914 documents\n",
      "2018-12-03 22:17:05,072 : INFO : topic #1 (0.100): 0.011*\"market\" + 0.009*\"rate\" + 0.008*\"gas\" + 0.008*\"high\" + 0.008*\"bank\" + 0.008*\"country\" + 0.008*\"growth\" + 0.008*\"energy\" + 0.008*\"project\" + 0.007*\"report\"\n",
      "2018-12-03 22:17:05,073 : INFO : topic #9 (0.100): 0.014*\"game\" + 0.012*\"play\" + 0.011*\"time\" + 0.011*\"team\" + 0.010*\"win\" + 0.008*\"take\" + 0.008*\"look\" + 0.007*\"show\" + 0.006*\"player\" + 0.006*\"want\"\n",
      "2018-12-03 22:17:05,074 : INFO : topic #8 (0.100): 0.014*\"comment\" + 0.010*\"government\" + 0.009*\"party\" + 0.008*\"member\" + 0.007*\"minister\" + 0.007*\"issue\" + 0.007*\"committee\" + 0.007*\"state\" + 0.006*\"public\" + 0.006*\"court\"\n",
      "2018-12-03 22:17:05,074 : INFO : topic #7 (0.100): 0.016*\"use\" + 0.013*\"*\" + 0.011*\"website\" + 0.010*\"site\" + 0.009*\"food\" + 0.008*\"facebook\" + 0.007*\"online\" + 0.007*\"e-mail\" + 0.007*\"user\" + 0.006*\"content\"\n",
      "2018-12-03 22:17:05,075 : INFO : topic #3 (0.100): 0.009*\"state\" + 0.009*\"country\" + 0.007*\"president\" + 0.007*\"war\" + 0.006*\"pakistan\" + 0.006*\"people\" + 0.006*\"take\" + 0.005*\"attack\" + 0.005*\"indian\" + 0.005*\"force\"\n",
      "2018-12-03 22:17:05,076 : INFO : topic diff=0.072527, rho=0.171147\n",
      "2018-12-03 22:17:05,090 : INFO : PROGRESS: pass 4, at document #2200/2914\n",
      "2018-12-03 22:17:05,139 : INFO : merging changes from 100 documents into a model of 2914 documents\n",
      "2018-12-03 22:17:05,153 : INFO : topic #4 (0.100): 0.024*\"company\" + 0.016*\"business\" + 0.014*\"share\" + 0.008*\"service\" + 0.008*\"price\" + 0.007*\"market\" + 0.007*\"time\" + 0.006*\"technology\" + 0.006*\"car\" + 0.005*\"customer\"\n",
      "2018-12-03 22:17:05,154 : INFO : topic #1 (0.100): 0.010*\"market\" + 0.009*\"high\" + 0.009*\"rate\" + 0.009*\"gas\" + 0.008*\"country\" + 0.008*\"growth\" + 0.008*\"low\" + 0.008*\"project\" + 0.007*\"energy\" + 0.007*\"bank\"\n",
      "2018-12-03 22:17:05,155 : INFO : topic #2 (0.100): 0.016*\"police\" + 0.012*\"family\" + 0.011*\"child\" + 0.009*\"woman\" + 0.008*\"take\" + 0.008*\"life\" + 0.007*\"find\" + 0.007*\"health\" + 0.006*\"death\" + 0.006*\"case\"\n",
      "2018-12-03 22:17:05,156 : INFO : topic #3 (0.100): 0.010*\"state\" + 0.009*\"country\" + 0.008*\"president\" + 0.006*\"attack\" + 0.006*\"people\" + 0.006*\"pakistan\" + 0.006*\"war\" + 0.006*\"take\" + 0.005*\"leader\" + 0.005*\"group\"\n",
      "2018-12-03 22:17:05,157 : INFO : topic #6 (0.100): 0.012*\"need\" + 0.010*\"work\" + 0.010*\"tax\" + 0.009*\"people\" + 0.009*\"plan\" + 0.008*\"water\" + 0.008*\"area\" + 0.007*\"job\" + 0.006*\"cost\" + 0.006*\"worker\"\n",
      "2018-12-03 22:17:05,157 : INFO : topic diff=0.065478, rho=0.171147\n",
      "2018-12-03 22:17:05,171 : INFO : PROGRESS: pass 4, at document #2300/2914\n",
      "2018-12-03 22:17:05,213 : INFO : merging changes from 100 documents into a model of 2914 documents\n",
      "2018-12-03 22:17:05,226 : INFO : topic #5 (0.100): 0.018*\"school\" + 0.016*\"city\" + 0.011*\"student\" + 0.008*\"day\" + 0.008*\"people\" + 0.006*\"open\" + 0.005*\"work\" + 0.005*\"street\" + 0.005*\"community\" + 0.005*\"park\"\n",
      "2018-12-03 22:17:05,227 : INFO : topic #0 (0.100): 0.011*\"people\" + 0.009*\"world\" + 0.007*\"life\" + 0.007*\"change\" + 0.007*\"write\" + 0.007*\"book\" + 0.006*\"find\" + 0.006*\"use\" + 0.006*\"time\" + 0.006*\"university\"\n",
      "2018-12-03 22:17:05,227 : INFO : topic #1 (0.100): 0.010*\"growth\" + 0.010*\"market\" + 0.009*\"high\" + 0.008*\"country\" + 0.008*\"rate\" + 0.008*\"economic\" + 0.008*\"gas\" + 0.008*\"low\" + 0.007*\"project\" + 0.007*\"energy\"\n",
      "2018-12-03 22:17:05,228 : INFO : topic #8 (0.100): 0.013*\"comment\" + 0.011*\"government\" + 0.010*\"party\" + 0.008*\"member\" + 0.007*\"minister\" + 0.007*\"issue\" + 0.007*\"state\" + 0.007*\"public\" + 0.006*\"court\" + 0.006*\"committee\"\n",
      "2018-12-03 22:17:05,229 : INFO : topic #3 (0.100): 0.010*\"state\" + 0.009*\"country\" + 0.008*\"president\" + 0.007*\"people\" + 0.006*\"attack\" + 0.006*\"take\" + 0.006*\"pakistan\" + 0.005*\"indian\" + 0.005*\"war\" + 0.005*\"leader\"\n",
      "2018-12-03 22:17:05,230 : INFO : topic diff=0.065219, rho=0.171147\n",
      "2018-12-03 22:17:05,244 : INFO : PROGRESS: pass 4, at document #2400/2914\n",
      "2018-12-03 22:17:05,286 : INFO : merging changes from 100 documents into a model of 2914 documents\n",
      "2018-12-03 22:17:05,299 : INFO : topic #7 (0.100): 0.021*\"use\" + 0.015*\"*\" + 0.015*\"website\" + 0.012*\"site\" + 0.010*\"cookie\" + 0.009*\"food\" + 0.009*\"user\" + 0.008*\"online\" + 0.008*\"facebook\" + 0.007*\"feature\"\n",
      "2018-12-03 22:17:05,300 : INFO : topic #9 (0.100): 0.014*\"game\" + 0.012*\"team\" + 0.012*\"play\" + 0.011*\"time\" + 0.011*\"win\" + 0.008*\"take\" + 0.007*\"look\" + 0.006*\"big\" + 0.006*\"show\" + 0.006*\"want\"\n",
      "2018-12-03 22:17:05,300 : INFO : topic #1 (0.100): 0.012*\"market\" + 0.010*\"high\" + 0.010*\"growth\" + 0.008*\"country\" + 0.008*\"low\" + 0.008*\"rate\" + 0.008*\"economic\" + 0.008*\"gas\" + 0.008*\"project\" + 0.008*\"bank\"\n",
      "2018-12-03 22:17:05,301 : INFO : topic #2 (0.100): 0.016*\"police\" + 0.012*\"child\" + 0.011*\"family\" + 0.009*\"woman\" + 0.008*\"take\" + 0.008*\"life\" + 0.007*\"court\" + 0.007*\"health\" + 0.006*\"find\" + 0.006*\"use\"\n",
      "2018-12-03 22:17:05,302 : INFO : topic #6 (0.100): 0.014*\"need\" + 0.012*\"work\" + 0.011*\"tax\" + 0.009*\"people\" + 0.009*\"plan\" + 0.008*\"area\" + 0.007*\"water\" + 0.007*\"government\" + 0.007*\"project\" + 0.006*\"job\"\n",
      "2018-12-03 22:17:05,302 : INFO : topic diff=0.070301, rho=0.171147\n",
      "2018-12-03 22:17:05,317 : INFO : PROGRESS: pass 4, at document #2500/2914\n",
      "2018-12-03 22:17:05,363 : INFO : merging changes from 100 documents into a model of 2914 documents\n",
      "2018-12-03 22:17:05,375 : INFO : topic #3 (0.100): 0.012*\"state\" + 0.010*\"country\" + 0.009*\"president\" + 0.007*\"people\" + 0.006*\"attack\" + 0.006*\"group\" + 0.005*\"nigeria\" + 0.005*\"nation\" + 0.005*\"take\" + 0.005*\"leader\"\n"
     ]
    },
    {
     "name": "stderr",
     "output_type": "stream",
     "text": [
      "2018-12-03 22:17:05,376 : INFO : topic #0 (0.100): 0.011*\"people\" + 0.010*\"world\" + 0.008*\"book\" + 0.007*\"change\" + 0.007*\"life\" + 0.006*\"university\" + 0.006*\"time\" + 0.005*\"write\" + 0.005*\"find\" + 0.005*\"use\"\n",
      "2018-12-03 22:17:05,377 : INFO : topic #1 (0.100): 0.011*\"market\" + 0.010*\"high\" + 0.009*\"growth\" + 0.009*\"country\" + 0.008*\"economic\" + 0.008*\"low\" + 0.008*\"project\" + 0.007*\"bank\" + 0.007*\"rate\" + 0.007*\"gas\"\n",
      "2018-12-03 22:17:05,377 : INFO : topic #8 (0.100): 0.012*\"comment\" + 0.012*\"government\" + 0.011*\"party\" + 0.008*\"minister\" + 0.008*\"state\" + 0.007*\"court\" + 0.007*\"issue\" + 0.007*\"member\" + 0.006*\"public\" + 0.006*\"election\"\n",
      "2018-12-03 22:17:05,378 : INFO : topic #7 (0.100): 0.019*\"use\" + 0.015*\"*\" + 0.014*\"website\" + 0.012*\"site\" + 0.009*\"cookie\" + 0.009*\"online\" + 0.008*\"user\" + 0.008*\"food\" + 0.008*\"facebook\" + 0.007*\"editor\"\n",
      "2018-12-03 22:17:05,379 : INFO : topic diff=0.067578, rho=0.171147\n",
      "2018-12-03 22:17:05,393 : INFO : PROGRESS: pass 4, at document #2600/2914\n",
      "2018-12-03 22:17:05,453 : INFO : merging changes from 100 documents into a model of 2914 documents\n",
      "2018-12-03 22:17:05,467 : INFO : topic #4 (0.100): 0.027*\"company\" + 0.015*\"business\" + 0.012*\"share\" + 0.010*\"service\" + 0.008*\"time\" + 0.007*\"price\" + 0.007*\"value\" + 0.006*\"market\" + 0.006*\"technology\" + 0.005*\"customer\"\n",
      "2018-12-03 22:17:05,467 : INFO : topic #2 (0.100): 0.020*\"police\" + 0.013*\"family\" + 0.012*\"child\" + 0.010*\"woman\" + 0.009*\"medical\" + 0.008*\"take\" + 0.007*\"find\" + 0.007*\"life\" + 0.007*\"arrest\" + 0.007*\"mother\"\n",
      "2018-12-03 22:17:05,468 : INFO : topic #1 (0.100): 0.011*\"market\" + 0.010*\"high\" + 0.009*\"growth\" + 0.008*\"country\" + 0.008*\"project\" + 0.008*\"energy\" + 0.008*\"economic\" + 0.008*\"low\" + 0.007*\"gas\" + 0.007*\"bank\"\n",
      "2018-12-03 22:17:05,469 : INFO : topic #0 (0.100): 0.011*\"people\" + 0.010*\"world\" + 0.008*\"book\" + 0.007*\"change\" + 0.007*\"life\" + 0.006*\"time\" + 0.006*\"university\" + 0.006*\"find\" + 0.005*\"write\" + 0.005*\"use\"\n",
      "2018-12-03 22:17:05,470 : INFO : topic #5 (0.100): 0.016*\"city\" + 0.016*\"school\" + 0.009*\"student\" + 0.008*\"day\" + 0.008*\"people\" + 0.007*\"community\" + 0.006*\"open\" + 0.006*\"local\" + 0.005*\"park\" + 0.005*\"building\"\n",
      "2018-12-03 22:17:05,471 : INFO : topic diff=0.066272, rho=0.171147\n",
      "2018-12-03 22:17:05,487 : INFO : PROGRESS: pass 4, at document #2700/2914\n",
      "2018-12-03 22:17:05,529 : INFO : merging changes from 100 documents into a model of 2914 documents\n",
      "2018-12-03 22:17:05,542 : INFO : topic #0 (0.100): 0.011*\"people\" + 0.010*\"world\" + 0.007*\"book\" + 0.007*\"change\" + 0.007*\"life\" + 0.006*\"university\" + 0.006*\"time\" + 0.006*\"find\" + 0.006*\"use\" + 0.005*\"write\"\n",
      "2018-12-03 22:17:05,543 : INFO : topic #1 (0.100): 0.011*\"market\" + 0.009*\"high\" + 0.009*\"energy\" + 0.008*\"price\" + 0.008*\"growth\" + 0.008*\"country\" + 0.007*\"economic\" + 0.007*\"gas\" + 0.007*\"project\" + 0.007*\"low\"\n",
      "2018-12-03 22:17:05,543 : INFO : topic #3 (0.100): 0.014*\"state\" + 0.010*\"country\" + 0.010*\"president\" + 0.007*\"group\" + 0.006*\"people\" + 0.006*\"nigeria\" + 0.006*\"attack\" + 0.006*\"force\" + 0.006*\"take\" + 0.005*\"national\"\n",
      "2018-12-03 22:17:05,544 : INFO : topic #8 (0.100): 0.013*\"comment\" + 0.012*\"government\" + 0.010*\"party\" + 0.008*\"state\" + 0.008*\"member\" + 0.007*\"public\" + 0.007*\"minister\" + 0.007*\"issue\" + 0.007*\"court\" + 0.006*\"right\"\n",
      "2018-12-03 22:17:05,545 : INFO : topic #6 (0.100): 0.013*\"need\" + 0.012*\"work\" + 0.011*\"tax\" + 0.009*\"people\" + 0.008*\"plan\" + 0.008*\"government\" + 0.008*\"project\" + 0.008*\"water\" + 0.008*\"area\" + 0.007*\"job\"\n",
      "2018-12-03 22:17:05,546 : INFO : topic diff=0.058842, rho=0.171147\n",
      "2018-12-03 22:17:05,562 : INFO : PROGRESS: pass 4, at document #2800/2914\n",
      "2018-12-03 22:17:05,604 : INFO : merging changes from 100 documents into a model of 2914 documents\n",
      "2018-12-03 22:17:05,617 : INFO : topic #9 (0.100): 0.012*\"play\" + 0.011*\"game\" + 0.011*\"team\" + 0.011*\"time\" + 0.010*\"win\" + 0.008*\"take\" + 0.008*\"look\" + 0.006*\"player\" + 0.006*\"show\" + 0.006*\"big\"\n",
      "2018-12-03 22:17:05,618 : INFO : topic #1 (0.100): 0.012*\"market\" + 0.010*\"high\" + 0.009*\"growth\" + 0.009*\"price\" + 0.009*\"economic\" + 0.008*\"country\" + 0.008*\"energy\" + 0.007*\"low\" + 0.007*\"project\" + 0.007*\"billion\"\n",
      "2018-12-03 22:17:05,619 : INFO : topic #6 (0.100): 0.014*\"need\" + 0.013*\"water\" + 0.011*\"tax\" + 0.011*\"work\" + 0.009*\"people\" + 0.008*\"government\" + 0.008*\"plan\" + 0.008*\"health\" + 0.007*\"project\" + 0.007*\"area\"\n",
      "2018-12-03 22:17:05,620 : INFO : topic #5 (0.100): 0.016*\"school\" + 0.014*\"city\" + 0.010*\"student\" + 0.008*\"day\" + 0.008*\"people\" + 0.007*\"community\" + 0.006*\"open\" + 0.006*\"local\" + 0.005*\"park\" + 0.005*\"work\"\n",
      "2018-12-03 22:17:05,620 : INFO : topic #0 (0.100): 0.011*\"people\" + 0.010*\"world\" + 0.007*\"change\" + 0.007*\"life\" + 0.007*\"book\" + 0.007*\"trump\" + 0.006*\"time\" + 0.006*\"use\" + 0.006*\"find\" + 0.005*\"university\"\n",
      "2018-12-03 22:17:05,621 : INFO : topic diff=0.076946, rho=0.171147\n",
      "2018-12-03 22:17:05,637 : INFO : PROGRESS: pass 4, at document #2900/2914\n",
      "2018-12-03 22:17:05,676 : INFO : merging changes from 100 documents into a model of 2914 documents\n",
      "2018-12-03 22:17:05,692 : INFO : topic #8 (0.100): 0.015*\"comment\" + 0.012*\"government\" + 0.010*\"party\" + 0.008*\"state\" + 0.008*\"court\" + 0.008*\"member\" + 0.008*\"minister\" + 0.007*\"public\" + 0.007*\"issue\" + 0.006*\"post\"\n",
      "2018-12-03 22:17:05,693 : INFO : topic #0 (0.100): 0.010*\"people\" + 0.010*\"world\" + 0.007*\"book\" + 0.007*\"change\" + 0.007*\"life\" + 0.006*\"time\" + 0.006*\"trump\" + 0.006*\"use\" + 0.006*\"write\" + 0.005*\"find\"\n",
      "2018-12-03 22:17:05,694 : INFO : topic #9 (0.100): 0.012*\"game\" + 0.012*\"play\" + 0.011*\"team\" + 0.011*\"time\" + 0.010*\"win\" + 0.008*\"take\" + 0.008*\"look\" + 0.006*\"player\" + 0.006*\"show\" + 0.006*\"big\"\n",
      "2018-12-03 22:17:05,694 : INFO : topic #4 (0.100): 0.023*\"company\" + 0.017*\"business\" + 0.012*\"share\" + 0.009*\"price\" + 0.008*\"time\" + 0.008*\"service\" + 0.007*\"market\" + 0.007*\"technology\" + 0.006*\"value\" + 0.006*\"app\"\n",
      "2018-12-03 22:17:05,695 : INFO : topic #2 (0.100): 0.018*\"police\" + 0.014*\"family\" + 0.013*\"child\" + 0.012*\"woman\" + 0.009*\"drug\" + 0.008*\"case\" + 0.008*\"girl\" + 0.007*\"life\" + 0.007*\"court\" + 0.007*\"arrest\"\n",
      "2018-12-03 22:17:05,698 : INFO : topic diff=0.059594, rho=0.171147\n",
      "2018-12-03 22:17:05,743 : INFO : -8.063 per-word bound, 267.4 perplexity estimate based on a held-out corpus of 14 documents with 2867 words\n",
      "2018-12-03 22:17:05,743 : INFO : PROGRESS: pass 4, at document #2914/2914\n",
      "2018-12-03 22:17:05,754 : INFO : merging changes from 14 documents into a model of 2914 documents\n",
      "2018-12-03 22:17:05,770 : INFO : topic #8 (0.100): 0.019*\"comment\" + 0.012*\"government\" + 0.010*\"state\" + 0.010*\"minister\" + 0.009*\"party\" + 0.008*\"member\" + 0.008*\"public\" + 0.007*\"court\" + 0.007*\"council\" + 0.007*\"issue\"\n",
      "2018-12-03 22:17:05,771 : INFO : topic #5 (0.100): 0.019*\"city\" + 0.013*\"school\" + 0.009*\"community\" + 0.009*\"student\" + 0.008*\"space\" + 0.008*\"day\" + 0.007*\"people\" + 0.006*\"open\" + 0.006*\"parking\" + 0.006*\"park\"\n",
      "2018-12-03 22:17:05,772 : INFO : topic #7 (0.100): 0.038*\"beer\" + 0.017*\"use\" + 0.012*\"website\" + 0.011*\"site\" + 0.010*\"kashmir\" + 0.010*\"newspaper\" + 0.009*\"click\" + 0.009*\"visit\" + 0.009*\"contact\" + 0.009*\"user\"\n",
      "2018-12-03 22:17:05,773 : INFO : topic #1 (0.100): 0.029*\"market\" + 0.017*\"report\" + 0.012*\"energy\" + 0.012*\"region\" + 0.010*\"country\" + 0.010*\"project\" + 0.009*\"gas\" + 0.009*\"growth\" + 0.008*\"economic\" + 0.007*\"rise\"\n",
      "2018-12-03 22:17:05,775 : INFO : topic #2 (0.100): 0.020*\"police\" + 0.014*\"family\" + 0.013*\"medical\" + 0.012*\"child\" + 0.011*\"woman\" + 0.009*\"drug\" + 0.009*\"mother\" + 0.008*\"health\" + 0.008*\"case\" + 0.008*\"girl\"\n",
      "2018-12-03 22:17:05,776 : INFO : topic diff=0.116004, rho=0.171147\n"
     ]
    }
   ],
   "source": [
    "corpus = MyCorpus()\n",
    "ldag = LdaModel(corpus=corpus, id2word=dictionary, num_topics=10, update_every=1, chunksize=100, passes=5)"
   ]
  },
  {
   "cell_type": "code",
   "execution_count": 22,
   "metadata": {},
   "outputs": [
    {
     "name": "stderr",
     "output_type": "stream",
     "text": [
      "2018-12-03 22:17:05,780 : INFO : topic #0 (0.100): 0.010*\"people\" + 0.009*\"world\" + 0.008*\"supplement\" + 0.007*\"change\" + 0.006*\"book\" + 0.006*\"life\" + 0.006*\"time\" + 0.006*\"use\" + 0.005*\"human\" + 0.005*\"find\"\n",
      "2018-12-03 22:17:05,781 : INFO : topic #1 (0.100): 0.029*\"market\" + 0.017*\"report\" + 0.012*\"energy\" + 0.012*\"region\" + 0.010*\"country\" + 0.010*\"project\" + 0.009*\"gas\" + 0.009*\"growth\" + 0.008*\"economic\" + 0.007*\"rise\"\n",
      "2018-12-03 22:17:05,782 : INFO : topic #2 (0.100): 0.020*\"police\" + 0.014*\"family\" + 0.013*\"medical\" + 0.012*\"child\" + 0.011*\"woman\" + 0.009*\"drug\" + 0.009*\"mother\" + 0.008*\"health\" + 0.008*\"case\" + 0.008*\"girl\"\n",
      "2018-12-03 22:17:05,783 : INFO : topic #3 (0.100): 0.012*\"state\" + 0.012*\"country\" + 0.012*\"president\" + 0.007*\"government\" + 0.007*\"pakistan\" + 0.007*\"attack\" + 0.006*\"force\" + 0.006*\"people\" + 0.006*\"modi\" + 0.006*\"group\"\n",
      "2018-12-03 22:17:05,784 : INFO : topic #4 (0.100): 0.024*\"company\" + 0.015*\"business\" + 0.012*\"share\" + 0.012*\"market\" + 0.011*\"service\" + 0.009*\"price\" + 0.008*\"singapore\" + 0.008*\"sales\" + 0.008*\"technology\" + 0.008*\"time\"\n",
      "2018-12-03 22:17:05,785 : INFO : topic #5 (0.100): 0.019*\"city\" + 0.013*\"school\" + 0.009*\"community\" + 0.009*\"student\" + 0.008*\"space\" + 0.008*\"day\" + 0.007*\"people\" + 0.006*\"open\" + 0.006*\"parking\" + 0.006*\"park\"\n",
      "2018-12-03 22:17:05,786 : INFO : topic #6 (0.100): 0.019*\"need\" + 0.012*\"funding\" + 0.011*\"water\" + 0.010*\"project\" + 0.010*\"work\" + 0.009*\"tax\" + 0.009*\"development\" + 0.008*\"people\" + 0.008*\"job\" + 0.007*\"government\"\n",
      "2018-12-03 22:17:05,787 : INFO : topic #7 (0.100): 0.038*\"beer\" + 0.017*\"use\" + 0.012*\"website\" + 0.011*\"site\" + 0.010*\"kashmir\" + 0.010*\"newspaper\" + 0.009*\"click\" + 0.009*\"visit\" + 0.009*\"contact\" + 0.009*\"user\"\n",
      "2018-12-03 22:17:05,788 : INFO : topic #8 (0.100): 0.019*\"comment\" + 0.012*\"government\" + 0.010*\"state\" + 0.010*\"minister\" + 0.009*\"party\" + 0.008*\"member\" + 0.008*\"public\" + 0.007*\"court\" + 0.007*\"council\" + 0.007*\"issue\"\n",
      "2018-12-03 22:17:05,788 : INFO : topic #9 (0.100): 0.014*\"game\" + 0.013*\"play\" + 0.012*\"win\" + 0.011*\"team\" + 0.011*\"time\" + 0.008*\"take\" + 0.007*\"look\" + 0.007*\"goal\" + 0.007*\"big\" + 0.007*\"score\"\n"
     ]
    },
    {
     "data": {
      "text/plain": [
       "[(0,\n",
       "  '0.010*\"people\" + 0.009*\"world\" + 0.008*\"supplement\" + 0.007*\"change\" + 0.006*\"book\" + 0.006*\"life\" + 0.006*\"time\" + 0.006*\"use\" + 0.005*\"human\" + 0.005*\"find\"'),\n",
       " (1,\n",
       "  '0.029*\"market\" + 0.017*\"report\" + 0.012*\"energy\" + 0.012*\"region\" + 0.010*\"country\" + 0.010*\"project\" + 0.009*\"gas\" + 0.009*\"growth\" + 0.008*\"economic\" + 0.007*\"rise\"'),\n",
       " (2,\n",
       "  '0.020*\"police\" + 0.014*\"family\" + 0.013*\"medical\" + 0.012*\"child\" + 0.011*\"woman\" + 0.009*\"drug\" + 0.009*\"mother\" + 0.008*\"health\" + 0.008*\"case\" + 0.008*\"girl\"'),\n",
       " (3,\n",
       "  '0.012*\"state\" + 0.012*\"country\" + 0.012*\"president\" + 0.007*\"government\" + 0.007*\"pakistan\" + 0.007*\"attack\" + 0.006*\"force\" + 0.006*\"people\" + 0.006*\"modi\" + 0.006*\"group\"'),\n",
       " (4,\n",
       "  '0.024*\"company\" + 0.015*\"business\" + 0.012*\"share\" + 0.012*\"market\" + 0.011*\"service\" + 0.009*\"price\" + 0.008*\"singapore\" + 0.008*\"sales\" + 0.008*\"technology\" + 0.008*\"time\"'),\n",
       " (5,\n",
       "  '0.019*\"city\" + 0.013*\"school\" + 0.009*\"community\" + 0.009*\"student\" + 0.008*\"space\" + 0.008*\"day\" + 0.007*\"people\" + 0.006*\"open\" + 0.006*\"parking\" + 0.006*\"park\"'),\n",
       " (6,\n",
       "  '0.019*\"need\" + 0.012*\"funding\" + 0.011*\"water\" + 0.010*\"project\" + 0.010*\"work\" + 0.009*\"tax\" + 0.009*\"development\" + 0.008*\"people\" + 0.008*\"job\" + 0.007*\"government\"'),\n",
       " (7,\n",
       "  '0.038*\"beer\" + 0.017*\"use\" + 0.012*\"website\" + 0.011*\"site\" + 0.010*\"kashmir\" + 0.010*\"newspaper\" + 0.009*\"click\" + 0.009*\"visit\" + 0.009*\"contact\" + 0.009*\"user\"'),\n",
       " (8,\n",
       "  '0.019*\"comment\" + 0.012*\"government\" + 0.010*\"state\" + 0.010*\"minister\" + 0.009*\"party\" + 0.008*\"member\" + 0.008*\"public\" + 0.007*\"court\" + 0.007*\"council\" + 0.007*\"issue\"'),\n",
       " (9,\n",
       "  '0.014*\"game\" + 0.013*\"play\" + 0.012*\"win\" + 0.011*\"team\" + 0.011*\"time\" + 0.008*\"take\" + 0.007*\"look\" + 0.007*\"goal\" + 0.007*\"big\" + 0.007*\"score\"')]"
      ]
     },
     "execution_count": 22,
     "metadata": {},
     "output_type": "execute_result"
    }
   ],
   "source": [
    "ldag.print_topics()"
   ]
  },
  {
   "cell_type": "code",
   "execution_count": null,
   "metadata": {},
   "outputs": [],
   "source": []
  }
 ],
 "metadata": {
  "kernelspec": {
   "display_name": "Python 3",
   "language": "python",
   "name": "python3"
  },
  "language_info": {
   "codemirror_mode": {
    "name": "ipython",
    "version": 3
   },
   "file_extension": ".py",
   "mimetype": "text/x-python",
   "name": "python",
   "nbconvert_exporter": "python",
   "pygments_lexer": "ipython3",
   "version": "3.6.6"
  }
 },
 "nbformat": 4,
 "nbformat_minor": 2
}
