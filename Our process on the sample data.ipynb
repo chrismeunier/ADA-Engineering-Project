{
 "cells": [
  {
   "cell_type": "markdown",
   "metadata": {},
   "source": [
    "# Our process on the sample data\n",
    "In this notebook, we introduce LDA and what we need for our model. We then proceed to load and clean a sample of the NOW corpus to fulfill our needs."
   ]
  },
  {
   "cell_type": "markdown",
   "metadata": {},
   "source": [
    "## What is LDA\n",
    "[Latent Dirichlet Allocation](https://en.wikipedia.org/wiki/Latent_Dirichlet_allocation) is a statistical model which we will use for topic modelling/discovery. LDA will, given a list of words belonging to a text, output the topics present and their probability. In here, a topic is represented as a probability distribution of words. Thus each text/document will be a distribution over the topics. In short, texts have an associated topic distribution and topics have a word distribution. \n",
    "\n",
    "The image below is the plate notation for LDA, where:\n",
    "* θ<sub>m</sub> is the topic distribution for document m,\n",
    "* φ<sub>k</sub> is the word distribution for topic k,\n",
    "* z<sub>mn</sub> is the topic for the n-th word in document m, and\n",
    "* w<sub>mn</sub> is the specific word.\n",
    "* α is the parameter of the Dirichlet prior on the per-document topic distributions,\n",
    "* β is the parameter of the Dirichlet prior on the per-topic word distribution,\n",
    "\n",
    "![](LDA.png)\n",
    "\n",
    "α and β are the parameters for the model. A big α means that documents are likely to be represented by a high number of topics and vice versa. Same goes for β, a high value meaning that topics are represented by a high number of words. The number of topics that LDA outputs is dependent on our input and works a bit like clustering. If we allow too many topics we might end up splitting topics uselessly and a too few will make us group them unnecessarily. "
   ]
  },
  {
   "cell_type": "markdown",
   "metadata": {},
   "source": [
    "## The NOW corpus\n",
    "This notebook shows the cleaning process that will be used for the ADA project. Here, only a sample of the data is used (from [here](https://www.corpusdata.org/now_corpus.asp)), but the methods should be the same once scaled to the full database available on the cluster.\n",
    "\n",
    "The NOW database is composed of billions of words from online newspapers and magazines from 20 different countries. The data we downloaded comes in different files which can be used together or independently. These files are:\n",
    "\n",
    "1. **now-samples-lexicon.txt**: this is the full dictionnary of the english language, a lexicon. It contains four clolumns, `wID` which is the word id, `word` the actual word, `lemma` which is family of the word (ie: if word is \"walked\", lemma is \"walk\") and `PoS` which is the part of speech.\n",
    "2. **now-samples_sources.txt**: this is the source of every text, in order it contains the text id, the number of words, the date, the country, the website, the url and title of the article.\n",
    "3. **text.txt**: this file has the complete texts of the articles, the first column is the `textID` in the format @@textID, the second column is the full text, complete with html paragraphs and headers. It is important to note that to prevent plagiarism, every 200 words, 10 words are replaced by the string \"@ @ @ @ @ @ @ @ @ @\". Combined words are also split, example \"can't\" is written as \"ca n't\" and punctuation is surrounded by spaces.\n",
    "4. **wordLemPoS.txt**: finally, this file contains the `word`, `lemma` and `PoS` for each word in the texts, one by one, so one could read the texts by reading down the columns. Along with that is the `textID` from where the word is and an `ID (seq)` which is a unique indetifier for each word in the database. Each time a word is added this number is incremented."
   ]
  },
  {
   "cell_type": "markdown",
   "metadata": {},
   "source": [
    "## What we need from the NOW corpus for LDA\n",
    "The model will take two inputs, a matrix with all the important words for each text, and a list of all the important words. By important, it is meant the words which will give us good topic modelling. For example, names, locations, simple words like \"but, \"I\" or \"and\" will not give meaningfull results and are quite common in english (so-called stopwords). Other common words present in our database should be removed too. We also should use lemmas instead of words.\n",
    "\n",
    "Therefore, the file `wordLemPoS.txt` (hence referred as wlp) is the most important here as it lists all the lemmas with their `textID` associated. Which means that with it we can lsit all the lemmas, remove those we do not want to make our word list, but also group them by texts to create our text-word matrix.\n",
    "\n",
    "We will also need `now-sample_sources.txt` (hence referred as sources) to link the texts with the information we will deem useful. For example country, date or website.\n",
    "\n",
    "These are thus the two file we will import and process here with the sample data but also those we will use with the data on the cluster."
   ]
  },
  {
   "cell_type": "markdown",
   "metadata": {},
   "source": [
    "## Cleaning"
   ]
  },
  {
   "cell_type": "code",
   "execution_count": 1,
   "metadata": {},
   "outputs": [],
   "source": [
    "import numpy as np\n",
    "import pandas as pd\n",
    "import matplotlib.pyplot as plt\n",
    "\n",
    "import findspark\n",
    "findspark.init()\n",
    "\n",
    "import re\n",
    "from pyspark.sql import *\n",
    "from pyspark.sql.functions import *\n",
    "from pyspark.sql.types import DateType\n",
    "\n",
    "spark = SparkSession.builder.getOrCreate()\n",
    "sc = spark.sparkContext"
   ]
  },
  {
   "cell_type": "markdown",
   "metadata": {},
   "source": [
    "## Wlp processing\n"
   ]
  },
  {
   "cell_type": "markdown",
   "metadata": {},
   "source": [
    "The goal of this part is to extract the useful data from wlp text files. Since they contain all the words of all the articles and the lemmas to replace them with."
   ]
  },
  {
   "cell_type": "code",
   "execution_count": 2,
   "metadata": {},
   "outputs": [],
   "source": [
    "#read the text file and remove the first three rows (zip trick)\n",
    "wlp_rdd = sc.textFile('data/wordLem_poS.txt').zipWithIndex().filter(lambda r: r[1] > 2).keys()"
   ]
  },
  {
   "cell_type": "code",
   "execution_count": 3,
   "metadata": {},
   "outputs": [
    {
     "name": "stdout",
     "output_type": "stream",
     "text": [
      "+----------+------+----+------+-------+\n",
      "|     idseq| lemma| pos|textID|   word|\n",
      "+----------+------+----+------+-------+\n",
      "|1095362496|      |  fo| 11241|@@11241|\n",
      "|1095362497|      |null| 11241|    <p>|\n",
      "|1095362498|   sol| np1| 11241|    Sol|\n",
      "|1095362499|yurick| np1| 11241| Yurick|\n",
      "|1095362500|      |   ,| 11241|      ,|\n",
      "+----------+------+----+------+-------+\n",
      "only showing top 5 rows\n",
      "\n"
     ]
    }
   ],
   "source": [
    "#we split the elements separated by tabs\n",
    "lines = wlp_rdd.map(lambda r: r.split('\\t'))\n",
    "\n",
    "#identify the columns\n",
    "wlp_schema = lines.map(lambda r: Row(textID=int(r[0]),idseq=int(r[1]),word=r[2],lemma=r[3],pos=r[4]))\n",
    "wlp = spark.createDataFrame(wlp_schema)\n",
    "wlp.show(5)"
   ]
  },
  {
   "cell_type": "markdown",
   "metadata": {},
   "source": [
    "### Word selection\n",
    "It is very important to select the right words and the right number. The ocncept of \"garbage in garbage out\" has never been more true than with LDA. When we analyse a text we focus on certain words to extract it's meaning and topic. The same is true here since words like if, for, numbers, common names are not that useful.\n",
    "\n",
    "Here, we provide and example of the process we will go through. However this is not really a data cleaning step as it will directly influence our model. It is more of a model preprocessing step. We will surely go through many iterations of this next part for our model to give the best results. "
   ]
  },
  {
   "cell_type": "markdown",
   "metadata": {},
   "source": [
    "First of all, we can remove all the words which have a PoS which do not interest us. For example number (`mc`,`mc1`,`m#`) or punctuation (`.`,`'`), etc...\n",
    "\n",
    "Details:\n",
    "1. `.`,`,`,`'`, `\"` are punctuations\n",
    "2. `null` are html tags from the websites\n",
    "3. `mc`,`mc1`, `m#` are various numbers and ; thus we remove all PoS starting with m\n",
    "4. `fo`, `fu`, `fw` are random non sensical words, foreign words; thus we remove all PoS starting with f\n",
    "5. `np` are proper nouns so we again remove all those that start with np"
   ]
  },
  {
   "cell_type": "code",
   "execution_count": 4,
   "metadata": {},
   "outputs": [],
   "source": [
    "pos_remove = ['.',',',\"\\'\",'\\\"','null']\n",
    "wlp_nopos = wlp.filter(~wlp['pos'].isin(pos_remove)).filter(~wlp['pos'].startswith('m'))\\\n",
    "                        .filter(~wlp['pos'].startswith('f'))\\\n",
    "                        .filter(~wlp['pos'].startswith('np'))\\\n",
    "                        .drop('idseq','pos','word')"
   ]
  },
  {
   "cell_type": "markdown",
   "metadata": {},
   "source": [
    "Now, we load our list of stopwords, the words that we are not going to use in LDA as they are too common or are proper nouns. We can also remove the rows with no lemmas or those with lemmas that don't make sense or are not common enough."
   ]
  },
  {
   "cell_type": "code",
   "execution_count": 5,
   "metadata": {},
   "outputs": [
    {
     "name": "stdout",
     "output_type": "stream",
     "text": [
      "Number of stopwords:  5639\n"
     ]
    }
   ],
   "source": [
    "stopwords = sc.textFile('data/our_stopwords.txt').collect()\n",
    "print('Number of stopwords: ', len(stopwords))"
   ]
  },
  {
   "cell_type": "code",
   "execution_count": 6,
   "metadata": {
    "scrolled": false
   },
   "outputs": [
    {
     "name": "stdout",
     "output_type": "stream",
     "text": [
      "+----------+-----+\n",
      "|     lemma|count|\n",
      "+----------+-----+\n",
      "|      year| 4272|\n",
      "|      time| 3169|\n",
      "|    people| 2912|\n",
      "|      take| 2667|\n",
      "|       use| 2244|\n",
      "|      work| 2137|\n",
      "|       day| 1750|\n",
      "|   company| 1698|\n",
      "|   comment| 1667|\n",
      "|      need| 1654|\n",
      "|      want| 1579|\n",
      "|      look| 1564|\n",
      "|government| 1551|\n",
      "|     world| 1550|\n",
      "|      give| 1480|\n",
      "|      show| 1478|\n",
      "|     state| 1475|\n",
      "|   country| 1464|\n",
      "|      find| 1464|\n",
      "|     right| 1408|\n",
      "+----------+-----+\n",
      "only showing top 20 rows\n",
      "\n"
     ]
    }
   ],
   "source": [
    "#filter out stopwords and looking at the frequency of words without them\n",
    "wlp_nostop = wlp_nopos.filter(~wlp['lemma'].isin(stopwords))\n",
    "lemma_freq = wlp_nostop.groupBy('lemma').count().sort('count', ascending=False)\n",
    "lemma_freq.show()"
   ]
  },
  {
   "cell_type": "markdown",
   "metadata": {},
   "source": [
    "We will also remove the most common and least common lemmas. These will be useless since they won't provide enough information for our LDA analysis. Here, we filter out the top 1% and bottom 80% of all lemmas."
   ]
  },
  {
   "cell_type": "code",
   "execution_count": 7,
   "metadata": {},
   "outputs": [
    {
     "name": "stdout",
     "output_type": "stream",
     "text": [
      "Number of lemmas left: 5430\n",
      "Percentage of lemmas left: 18.82\n"
     ]
    }
   ],
   "source": [
    "#calculate percentiles and filtering out the lemmas above and below them\n",
    "[bottom,top] = lemma_freq.approxQuantile('count', [0.8,0.99], 0.01)\n",
    "lemma_tokeep = lemma_freq.filter(lemma_freq['count']>bottom).filter(lemma_freq['count']<top)\n",
    "c = lemma_tokeep.count()\n",
    "print('Number of lemmas left: %d'%c)\n",
    "print('Percentage of lemmas left: %.2f'%(c/lemma_freq.count()*100))"
   ]
  },
  {
   "cell_type": "markdown",
   "metadata": {},
   "source": [
    "Making a inner join, we keep only the words which are in both lists! In the end, we can group the lemmas in their texts to create our text-word matrix. Here we use sql as it is faster than using spark's .join()"
   ]
  },
  {
   "cell_type": "code",
   "execution_count": 8,
   "metadata": {
    "scrolled": false
   },
   "outputs": [
    {
     "name": "stdout",
     "output_type": "stream",
     "text": [
      "+------+--------------------+\n",
      "|textID|          lemma_list|\n",
      "+------+--------------------+\n",
      "| 11241|[film, film, film...|\n",
      "| 11242|[online, happen, ...|\n",
      "| 11243|[slow, thick, day...|\n",
      "| 11244|[trail, launch, o...|\n",
      "| 21242|[online, launch, ...|\n",
      "| 21243|[recognize, indic...|\n",
      "| 31240|[recognize, inten...|\n",
      "| 31241|[online, online, ...|\n",
      "| 31242|[settlement, sett...|\n",
      "| 41240|[explain, prevent...|\n",
      "| 41241|[scale, lack, pre...|\n",
      "| 41244|[everyday, trail,...|\n",
      "| 51243|[plane, film, pre...|\n",
      "| 61240|[frustrate, inten...|\n",
      "| 61242|[editor-in-chief,...|\n",
      "| 71240|[indicator, requi...|\n",
      "| 71241|[likelihood, requ...|\n",
      "| 71242|[film, film, char...|\n",
      "| 71243|[online, staff, s...|\n",
      "| 71244|[bone, skull, sku...|\n",
      "+------+--------------------+\n",
      "only showing top 20 rows\n",
      "\n"
     ]
    }
   ],
   "source": [
    "#perform sql query and inner join\n",
    "wlp_nostop.registerTempTable('wlp_nostop')\n",
    "lemma_tokeep.registerTempTable('lemma_tokeep')\n",
    "\n",
    "query = \"\"\"\n",
    "SELECT wlp_nostop.lemma, wlp_nostop.textID\n",
    "FROM wlp_nostop\n",
    "INNER JOIN lemma_tokeep ON wlp_nostop.lemma = lemma_tokeep.lemma\n",
    "\"\"\"\n",
    "\n",
    "wlp_kept = spark.sql(query)\n",
    "wlp_bytext = wlp_kept.groupBy('textID').agg(collect_list('lemma'))\\\n",
    "                    .sort('textID')\\\n",
    "                    .withColumnRenamed('collect_list(lemma)','lemma_list')\n",
    "wlp_bytext.show()"
   ]
  },
  {
   "cell_type": "markdown",
   "metadata": {},
   "source": [
    "## Sources\n",
    "Contains all the additional informations about each text, such as the country, the date, the title, etc..."
   ]
  },
  {
   "cell_type": "code",
   "execution_count": 9,
   "metadata": {},
   "outputs": [],
   "source": [
    "sources_rdd = sc.textFile('data/now-samples-sources.txt')\\\n",
    "                .map(lambda r: r.split('\\t'))\n",
    "\n",
    "header = sources_rdd.take(3)\n",
    "sources_rdd = sources_rdd.filter(lambda l: l != header[0])\\\n",
    "                .filter(lambda l: l != header[1])\\\n",
    "                .filter(lambda l: l != header[2])"
   ]
  },
  {
   "cell_type": "code",
   "execution_count": 10,
   "metadata": {},
   "outputs": [],
   "source": [
    "#create schema and change data type for date\n",
    "sources_schema = sources_rdd.map(lambda r: Row(textID=int(r[0]),nwords=int(r[1]),date=r[2],country=r[3],website=r[4],url=r[5],title=r[6],)) \n",
    "sources = spark.createDataFrame(sources_schema)\n",
    "sources = sources.withColumn('date',to_date(sources.date, 'yy-MM-dd'))"
   ]
  },
  {
   "cell_type": "code",
   "execution_count": 11,
   "metadata": {},
   "outputs": [
    {
     "name": "stdout",
     "output_type": "stream",
     "text": [
      "root\n",
      " |-- country: string (nullable = true)\n",
      " |-- date: date (nullable = true)\n",
      " |-- nwords: long (nullable = true)\n",
      " |-- textID: long (nullable = true)\n",
      " |-- title: string (nullable = true)\n",
      " |-- url: string (nullable = true)\n",
      " |-- website: string (nullable = true)\n",
      "\n"
     ]
    }
   ],
   "source": [
    "sources.printSchema()"
   ]
  },
  {
   "cell_type": "code",
   "execution_count": 12,
   "metadata": {
    "scrolled": false
   },
   "outputs": [
    {
     "name": "stdout",
     "output_type": "stream",
     "text": [
      "+-------+----------+------+------+--------------------+--------------------+-------------------+\n",
      "|country|      date|nwords|textID|               title|                 url|            website|\n",
      "+-------+----------+------+------+--------------------+--------------------+-------------------+\n",
      "|     US|2013-01-06|   397| 11241|Author of The War...|http://kotaku.com...|             Kotaku|\n",
      "|     US|2013-01-06|   757| 11242|That's What They ...|http://michiganra...|     Michigan Radio|\n",
      "|     US|2013-01-06|   755| 11243|Best of New York:...|http://www.nydail...|New York Daily News|\n",
      "|     US|2013-01-06|  1677| 11244|Reflecting on a q...|http://www.oregon...|     OregonLive.com|\n",
      "|     US|2013-01-11|   794| 21242|Ask Ars: Does Fac...|http://arstechnic...|       Ars Technica|\n",
      "+-------+----------+------+------+--------------------+--------------------+-------------------+\n",
      "only showing top 5 rows\n",
      "\n"
     ]
    }
   ],
   "source": [
    "sources.show(5)"
   ]
  },
  {
   "cell_type": "markdown",
   "metadata": {},
   "source": [
    "# Transformations, LDA and Cross-Validation\n",
    "Here, we apply the tfidf normalised transformation to transform our list of words into a bag of words type representation. On the full data, we also set minDF=200 which will select only the words which appear in more than 200 documents. Here it is not needed since we already have few lemmas. \n",
    "\n",
    "IMPORTANT: here since the number of documents (2914) is smaller than the number of lemmas (5430), the model will tend to overfit. This is not a problem on the full data since we have 5.3 million documents and 50000 lemmas."
   ]
  },
  {
   "cell_type": "code",
   "execution_count": 13,
   "metadata": {},
   "outputs": [],
   "source": [
    "from pyspark.ml.feature import CountVectorizer , IDF, Normalizer\n",
    "from pyspark.ml.clustering import LDA, LDAModel"
   ]
  },
  {
   "cell_type": "code",
   "execution_count": 14,
   "metadata": {},
   "outputs": [],
   "source": [
    "cvmodel = CountVectorizer(inputCol=\"lemma_list\", outputCol=\"raw_features\").fit(wlp_bytext)\n",
    "result_cv = cvmodel.transform(wlp_bytext).drop('lemma_list')"
   ]
  },
  {
   "cell_type": "code",
   "execution_count": 15,
   "metadata": {},
   "outputs": [],
   "source": [
    "idfModel = IDF(inputCol=\"raw_features\", outputCol=\"non_norm_features\").fit(result_cv)\n",
    "result_tfidf = idfModel.transform(result_cv).drop('lemma_list','raw_features')"
   ]
  },
  {
   "cell_type": "code",
   "execution_count": 16,
   "metadata": {},
   "outputs": [],
   "source": [
    "norm = Normalizer(inputCol=\"non_norm_features\", outputCol=\"features\")\n",
    "tfidf_norm = norm.transform(result_tfidf).drop('non_norm_features')"
   ]
  },
  {
   "cell_type": "markdown",
   "metadata": {},
   "source": [
    "## Hyperparameter tunning\n",
    "There are 3 hyperparameters which we can tune. The number of topics (k), the prior over documents (α or docConcentration for spark) and the prior over topics (β, topicConcentration).\n",
    "\n",
    "Topic models have metrics that can be used to give them a score and chose the hyperparameters (via crossvalidation for example). The most common are based on log-likelihood like perplexity for LDA. A higher perplexity will mean that the model is better as documents are more closely related to topics. However, perplexity will always decrease with a higher number of topics, as the model becomes better and better at approximating texts (much like k in matrix factorisation). This means that we cannot simply minimise perplexity to choose k, we have to explore many of them and select an inflexion point or a threshold where the increase in perplexity becomes minimal. \n",
    "\n",
    "Furthermore, perplexity has been [shown](http://users.umiacs.umd.edu/~jbg/docs/nips2009-rtl.pdf) to not be correlated with human judgment on the topics described by the model. In fact, they might even be anti correlated. This is why we have decided not to use perplexity as a measure but our own judgment on the topics to chose the best hyperparameters.\n",
    "\n",
    "### What to chose ?\n",
    "As a starting place, we believe that the news concentrates on very few topics, for example only 10 such as politics, economy, cooking, sports, etc... This is why we are going to stay with a number of topics in the range of 5-20. This should also prevent excessively fine topics such as \"Brexit\", \"Trump\" or \"Football\" which will be very localised.\n",
    "\n",
    "Therefore, we will also want the prior over documents to be small so as to not incorporate too many topics in each documents. Similarly, the prior over topics should be large so that each topics contain a wider range of words at its disposal. [Griffiths et al.](http://psiexp.ss.uci.edu/research/papers/sciencetopics.pdf) suggest a value of 50/k for α and 0.1 for β. Thus we will look at ranges from [10-30]/k and [0.1-0.4] respectively. Furthermore, [Wallach et al.](http://dirichlet.net/pdf/wallach09rethinking.pdf) suggest to use an asymmetric prior over documents and a symmetric one over topics, we will thus use an α of [10-30]/(k*topicId).\n",
    "\n",
    "After testing, we have found that 10 topics, α=1/topicId and β=0.1 were the best. "
   ]
  },
  {
   "cell_type": "code",
   "execution_count": 17,
   "metadata": {},
   "outputs": [],
   "source": [
    "ntopics = 10\n",
    "asymmetric_alpha = [1/(i+1) for i in range(ntopics)]\n",
    "\n",
    "#train the LDA model using spark\n",
    "lda_model = LDA(k=ntopics, docConcentration=asymmetric_alpha, topicConcentration=0.1,\n",
    "                maxIter=100, optimizeDocConcentration=True).fit(tfidf_norm)"
   ]
  },
  {
   "cell_type": "markdown",
   "metadata": {},
   "source": [
    "# Postprocessing\n",
    "Now that we have trained our model, we can use the vocabulary from CountVectorizer and print the list of topics as well as their top 10 most descriptive words and their weights. We save that into a txt file for convenience."
   ]
  },
  {
   "cell_type": "code",
   "execution_count": 18,
   "metadata": {},
   "outputs": [],
   "source": [
    "#get the topics from the model\n",
    "topics = lda_model.describeTopics()\n",
    "words_topics = topics.rdd.map(lambda r: r[1]).collect()\n",
    "weight_topics = topics.rdd.map(lambda r: r[2]).collect()\n",
    "voc = cvmodel.vocabulary"
   ]
  },
  {
   "cell_type": "code",
   "execution_count": 19,
   "metadata": {
    "scrolled": false
   },
   "outputs": [
    {
     "name": "stdout",
     "output_type": "stream",
     "text": [
      "Topic 0:\n",
      "\n",
      "0.0019*comment + 0.0017*game + 0.0017*police + 0.0016*people + 0.0015*team + 0.0015*company + 0.0014*city + 0.0014*woman + 0.0014*government + 0.0014*win\n",
      "\n",
      "Topic 1:\n",
      "\n",
      "0.0002*sorghum + 0.0002*quilt + 0.0002*civet + 0.0002*diatom + 0.0002*timeshare + 0.0002*end-of-arm + 0.0002*effector + 0.0002*asc + 0.0002*parlor + 0.0002*lizard\n",
      "\n",
      "Topic 2:\n",
      "\n",
      "0.0002*sorghum + 0.0002*civet + 0.0002*quilt + 0.0002*powerplay + 0.0002*timeshare + 0.0002*gmat + 0.0002*child + 0.0002*end-of-arm + 0.0002*asc + 0.0002*logic\n",
      "\n",
      "Topic 3:\n",
      "\n",
      "0.0002*sorghum + 0.0002*retain + 0.0002*dare + 0.0002*maoist + 0.0002*symptom + 0.0002*barely + 0.0002*cellar + 0.0002*housewife + 0.0002*quilt + 0.0002*qualification\n",
      "\n",
      "Topic 4:\n",
      "\n",
      "0.0002*profitable + 0.0002*numerous + 0.0002*participate + 0.0002*secretariat + 0.0002*military + 0.0002*amendment + 0.0002*negative + 0.0002*competent + 0.0002*yell + 0.0002*crush\n",
      "\n",
      "Topic 5:\n",
      "\n",
      "0.0002*magnitude + 0.0002*envoy + 0.0002*falcon + 0.0002*topic + 0.0002*official + 0.0002*expected + 0.0002*largely + 0.0002*rely + 0.0002*surviving + 0.0002*certified\n",
      "\n",
      "Topic 6:\n",
      "\n",
      "0.0002*conspiracy + 0.0002*blank + 0.0002*senate + 0.0002*flood + 0.0002*numerous + 0.0002*pit + 0.0002*input + 0.0002*racing + 0.0002*daughter + 0.0002*proceedings\n",
      "\n",
      "Topic 7:\n",
      "\n",
      "0.0002*cooperative + 0.0002*fare + 0.0002*responsibility + 0.0002*laptop + 0.0002*prone + 0.0002*sprint + 0.0002*hatred + 0.0002*ion + 0.0002*boutique + 0.0002*disease\n",
      "\n",
      "Topic 8:\n",
      "\n",
      "0.0002*filing + 0.0002*sustain + 0.0002*honourable + 0.0002*consent + 0.0002*house + 0.0002*excellent + 0.0002*perfect + 0.0002*dairy + 0.0002*die + 0.0002*dad\n",
      "\n",
      "Topic 9:\n",
      "\n",
      "0.0002*ballet + 0.0002*emerge + 0.0002*primary + 0.0002*camping + 0.0002*court + 0.0002*ally + 0.0002*advise + 0.0002*defense + 0.0002*future + 0.0002*ultimate\n",
      "\n"
     ]
    }
   ],
   "source": [
    "#write in txt file the topics\n",
    "with open('topics.txt','w') as txt:\n",
    "    for t in range(len(words_topics)):\n",
    "        txt.write('Topic {}:\\n'.format(t))\n",
    "        w_list = [voc[idx] for idx in words_topics[t]]\n",
    "        for i, w in enumerate(w_list):\n",
    "            line = '%.4f*%s + '%(weight_topics[t][i],w)\n",
    "            if w==w_list[-1]: line = '%.4f*%s'%(weight_topics[t][i],w)\n",
    "            txt.write(line)\n",
    "        txt.write('\\n')\n",
    "\n",
    "#read txt file to pring topics and weihgts\n",
    "with open('topics.txt','r') as txt:\n",
    "    for line in txt:\n",
    "        print(line)"
   ]
  },
  {
   "cell_type": "markdown",
   "metadata": {},
   "source": [
    "We can also join our two dataframes to get more information such as countries, date, etc..."
   ]
  },
  {
   "cell_type": "code",
   "execution_count": 20,
   "metadata": {
    "scrolled": false
   },
   "outputs": [
    {
     "name": "stdout",
     "output_type": "stream",
     "text": [
      "+------+-------+----------+------+--------------------+--------------------+\n",
      "|textID|country|      date|nwords|               title|   topicDistribution|\n",
      "+------+-------+----------+------+--------------------+--------------------+\n",
      "| 11241|     US|2013-01-06|   397|Author of The War...|[0.98340507877312...|\n",
      "| 11242|     US|2013-01-06|   757|That's What They ...|[0.98337495391067...|\n",
      "| 11243|     US|2013-01-06|   755|Best of New York:...|[0.98262941868338...|\n",
      "| 11244|     US|2013-01-06|  1677|Reflecting on a q...|[0.98452854685775...|\n",
      "| 21242|     US|2013-01-11|   794|Ask Ars: Does Fac...|[0.98311454183284...|\n",
      "| 21243|     US|2013-01-11|   690|Accused associate...|[0.98389901895562...|\n",
      "| 31240|     IE|2013-01-16|   701|Olympic star Conl...|[0.98390362629569...|\n",
      "| 31241|     IE|2013-01-16|   336|Shakira launches ...|[0.98310884990082...|\n",
      "| 31242|     IE|2013-01-16|   262|Declan Ganley for...|[0.98331438011046...|\n",
      "| 41240|     US|2013-01-22|   764|Rape A 'Significa...|[0.98350402840052...|\n",
      "| 41241|     US|2013-01-22|   278|How loneliness ca...|[0.98341685234456...|\n",
      "| 41244|     US|2013-01-22|   827|The Making Of. Th...|[0.98359765082885...|\n",
      "| 51243|     AU|2013-01-26|   736|MPAA Lobbies For ...|[0.98371056511411...|\n",
      "| 61240|     GB|2013-01-31|   367|Mum's fight over ...|[0.98335506602411...|\n",
      "| 61242|     GB|2013-01-31|   683|IPPC to investiga...|[0.98360829997031...|\n",
      "| 71240|     CA|2013-02-06|   898|Farm Credit: A Cr...|[0.98392505605446...|\n",
      "| 71241|     CA|2013-02-06|   856|Up in the air, No...|[0.98400306165356...|\n",
      "| 71242|     CA|2013-02-06|  1005|From Richard III ...|[0.98436199191487...|\n",
      "| 71243|     CA|2013-02-06|   784|'Incompatible wit...|[0.98363077814780...|\n",
      "| 71244|     CA|2013-02-06|   392|Mary Leakey, the ...|[0.98344781989672...|\n",
      "+------+-------+----------+------+--------------------+--------------------+\n",
      "only showing top 20 rows\n",
      "\n"
     ]
    }
   ],
   "source": [
    "result_lda = lda_model.transform(tfidf_norm).drop('features')\n",
    "\n",
    "topic_source_bytext = sources.join(result_lda,'textID','inner').drop('url','web','website').sort('textID')\n",
    "topic_source_bytext.show()"
   ]
  },
  {
   "cell_type": "markdown",
   "metadata": {},
   "source": [
    "## Visualisation on data from the cluster\n",
    "Here we show the process that we went through to analyse and visualise the data we extracted from the dataset on the cluster. The interpretation is to be found in the report, the following cells show only the process.\n",
    "\n",
    "The data that we use here (`avg_countryTopics.parquet` and `avg_dateTopics.parquet`) have been imported from the analysis and selection done on the cluster. The scripts used can be found in scripts."
   ]
  },
  {
   "cell_type": "code",
   "execution_count": 21,
   "metadata": {},
   "outputs": [],
   "source": [
    "from sklearn.cluster import KMeans\n",
    "from sklearn.decomposition import PCA\n",
    "from datetime import datetime"
   ]
  },
  {
   "cell_type": "markdown",
   "metadata": {},
   "source": [
    "### Topics by countries\n",
    "First we load `avg_countryTopics.parquet` which contains the mean for each topic by country. The columns are already normalised (since they come from a probability distribution) so this is a step not needed. The resulting dataframe thus contains a topic distribution fore each countries."
   ]
  },
  {
   "cell_type": "code",
   "execution_count": 22,
   "metadata": {},
   "outputs": [
    {
     "data": {
      "text/html": [
       "<div>\n",
       "<style scoped>\n",
       "    .dataframe tbody tr th:only-of-type {\n",
       "        vertical-align: middle;\n",
       "    }\n",
       "\n",
       "    .dataframe tbody tr th {\n",
       "        vertical-align: top;\n",
       "    }\n",
       "\n",
       "    .dataframe thead th {\n",
       "        text-align: right;\n",
       "    }\n",
       "</style>\n",
       "<table border=\"1\" class=\"dataframe\">\n",
       "  <thead>\n",
       "    <tr style=\"text-align: right;\">\n",
       "      <th></th>\n",
       "      <th>law</th>\n",
       "      <th>transport</th>\n",
       "      <th>food</th>\n",
       "      <th>economics</th>\n",
       "      <th>sport</th>\n",
       "      <th>technology</th>\n",
       "      <th>health</th>\n",
       "      <th>nature</th>\n",
       "      <th>politics</th>\n",
       "      <th>entertainment</th>\n",
       "    </tr>\n",
       "    <tr>\n",
       "      <th>country</th>\n",
       "      <th></th>\n",
       "      <th></th>\n",
       "      <th></th>\n",
       "      <th></th>\n",
       "      <th></th>\n",
       "      <th></th>\n",
       "      <th></th>\n",
       "      <th></th>\n",
       "      <th></th>\n",
       "      <th></th>\n",
       "    </tr>\n",
       "  </thead>\n",
       "  <tbody>\n",
       "    <tr>\n",
       "      <th>AU</th>\n",
       "      <td>0.091497</td>\n",
       "      <td>0.099690</td>\n",
       "      <td>0.033518</td>\n",
       "      <td>0.116979</td>\n",
       "      <td>0.128482</td>\n",
       "      <td>0.123456</td>\n",
       "      <td>0.052469</td>\n",
       "      <td>0.058897</td>\n",
       "      <td>0.109813</td>\n",
       "      <td>0.185199</td>\n",
       "    </tr>\n",
       "    <tr>\n",
       "      <th>BD</th>\n",
       "      <td>0.217069</td>\n",
       "      <td>0.086068</td>\n",
       "      <td>0.033162</td>\n",
       "      <td>0.129342</td>\n",
       "      <td>0.077546</td>\n",
       "      <td>0.033702</td>\n",
       "      <td>0.032931</td>\n",
       "      <td>0.042719</td>\n",
       "      <td>0.260088</td>\n",
       "      <td>0.087373</td>\n",
       "    </tr>\n",
       "    <tr>\n",
       "      <th>CA</th>\n",
       "      <td>0.111579</td>\n",
       "      <td>0.142724</td>\n",
       "      <td>0.041140</td>\n",
       "      <td>0.111449</td>\n",
       "      <td>0.109683</td>\n",
       "      <td>0.074777</td>\n",
       "      <td>0.063380</td>\n",
       "      <td>0.047377</td>\n",
       "      <td>0.122571</td>\n",
       "      <td>0.175321</td>\n",
       "    </tr>\n",
       "    <tr>\n",
       "      <th>GB</th>\n",
       "      <td>0.130282</td>\n",
       "      <td>0.083946</td>\n",
       "      <td>0.031722</td>\n",
       "      <td>0.078566</td>\n",
       "      <td>0.119837</td>\n",
       "      <td>0.082121</td>\n",
       "      <td>0.067345</td>\n",
       "      <td>0.044789</td>\n",
       "      <td>0.098546</td>\n",
       "      <td>0.262847</td>\n",
       "    </tr>\n",
       "    <tr>\n",
       "      <th>GH</th>\n",
       "      <td>0.097554</td>\n",
       "      <td>0.032976</td>\n",
       "      <td>0.017492</td>\n",
       "      <td>0.101024</td>\n",
       "      <td>0.168728</td>\n",
       "      <td>0.044519</td>\n",
       "      <td>0.038253</td>\n",
       "      <td>0.015770</td>\n",
       "      <td>0.368247</td>\n",
       "      <td>0.115437</td>\n",
       "    </tr>\n",
       "  </tbody>\n",
       "</table>\n",
       "</div>"
      ],
      "text/plain": [
       "              law  transport      food  economics     sport  technology  \\\n",
       "country                                                                   \n",
       "AU       0.091497   0.099690  0.033518   0.116979  0.128482    0.123456   \n",
       "BD       0.217069   0.086068  0.033162   0.129342  0.077546    0.033702   \n",
       "CA       0.111579   0.142724  0.041140   0.111449  0.109683    0.074777   \n",
       "GB       0.130282   0.083946  0.031722   0.078566  0.119837    0.082121   \n",
       "GH       0.097554   0.032976  0.017492   0.101024  0.168728    0.044519   \n",
       "\n",
       "           health    nature  politics  entertainment  \n",
       "country                                               \n",
       "AU       0.052469  0.058897  0.109813       0.185199  \n",
       "BD       0.032931  0.042719  0.260088       0.087373  \n",
       "CA       0.063380  0.047377  0.122571       0.175321  \n",
       "GB       0.067345  0.044789  0.098546       0.262847  \n",
       "GH       0.038253  0.015770  0.368247       0.115437  "
      ]
     },
     "execution_count": 22,
     "metadata": {},
     "output_type": "execute_result"
    }
   ],
   "source": [
    "avg_countryTopics = spark.read.parquet('data/avg_countryTopics.parquet')\n",
    "pd_avg_countryTopics = avg_countryTopics.sort('country').toPandas().set_index('country')\n",
    "\n",
    "#rename the columns according to the topic name\n",
    "topic_names = ['law','transport','food','economics','sport','technology','health','nature','politics','entertainment']\n",
    "pd_avg_countryTopics.columns = topic_names\n",
    "pd_avg_countryTopics.head()"
   ]
  },
  {
   "cell_type": "markdown",
   "metadata": {},
   "source": [
    "We can then plot to see which country has more of a specific topic. A high number means that this country's media talks **relatively** more about that topic than an other."
   ]
  },
  {
   "cell_type": "code",
   "execution_count": 23,
   "metadata": {},
   "outputs": [
    {
     "data": {
      "text/plain": [
       "<matplotlib.axes._subplots.AxesSubplot at 0x7f563d1b5cc0>"
      ]
     },
     "execution_count": 23,
     "metadata": {},
     "output_type": "execute_result"
    },
    {
     "data": {
      "image/png": "[encoded data removed]",
      "text/plain": [
       "<Figure size 432x288 with 1 Axes>"
      ]
     },
     "metadata": {
      "needs_background": "light"
     },
     "output_type": "display_data"
    }
   ],
   "source": [
    "pd_avg_countryTopics['law'].plot.bar(color='#e95b4f')"
   ]
  },
  {
   "cell_type": "markdown",
   "metadata": {},
   "source": [
    "Subsequently, we are interested in clustering our countries into groups. For that we use the KMeans function from scikit. We then perform PCA to be able to visualise our clusters with a lower dimension."
   ]
  },
  {
   "cell_type": "code",
   "execution_count": 24,
   "metadata": {},
   "outputs": [],
   "source": [
    "#define kmeans model and imediately fit it to our data\n",
    "kmeans = KMeans(n_clusters=5, random_state=0).fit(pd_avg_countryTopics)\n",
    "\n",
    "#define pca model and imediately fit it to our data\n",
    "principalComponents = PCA(n_components=2).fit_transform(pd_avg_countryTopics)"
   ]
  },
  {
   "cell_type": "code",
   "execution_count": 26,
   "metadata": {},
   "outputs": [
    {
     "data": {
      "image/png": "[encoded data removed]",
      "text/plain": [
       "<Figure size 432x432 with 1 Axes>"
      ]
     },
     "metadata": {
      "needs_background": "light"
     },
     "output_type": "display_data"
    }
   ],
   "source": [
    "fig = plt.figure(figsize = (6,6))\n",
    "ax = fig.add_subplot(1,1,1) \n",
    "ax.set_xlabel('Principal Component 1', fontsize = 15)\n",
    "ax.set_ylabel('Principal Component 2', fontsize = 15)\n",
    "ax.set_title('2 component PCA', fontsize = 20)\n",
    "\n",
    "colors=['#e95b4f','#001871','#43bcff','#ffb743','#138d90','lightseagreen']\n",
    "country_names = pd_avg_countryTopics.index.values\n",
    "\n",
    "for i,name in enumerate(country_names):\n",
    "    x = principalComponents[i][0]\n",
    "    y = principalComponents[i][1]\n",
    "    plt.scatter(x, y, marker=\"s\", color=colors[kmeans.labels_[i]])\n",
    "    plt.text(x, y-0.02, name, fontsize=11)"
   ]
  },
  {
   "cell_type": "markdown",
   "metadata": {},
   "source": [
    "### Topics by date\n",
    "We are now interested in knowing the history of these topics and their evolutions through the years."
   ]
  },
  {
   "cell_type": "code",
   "execution_count": 27,
   "metadata": {},
   "outputs": [],
   "source": [
    "avg_dateTopics = spark.read.parquet('data/avg_dateTopics.parquet')\n",
    "pd_avg_dateTopics = avg_dateTopics.orderBy('year','month').toPandas()"
   ]
  },
  {
   "cell_type": "code",
   "execution_count": 28,
   "metadata": {},
   "outputs": [],
   "source": [
    "#changing the year nad month column from spark to datetime\n",
    "pd_avg_dateTopics['date'] = pd_avg_dateTopics.apply(lambda row: datetime(\n",
    "                              int(row['year']), int(row['month']), 1), axis=1)\n",
    "\n",
    "#setting date as index\n",
    "pd_avg_dateTopics = pd_avg_dateTopics.drop(columns=['year','month']).set_index('date')\n",
    "pd_avg_dateTopics.columns = topic_names"
   ]
  },
  {
   "cell_type": "markdown",
   "metadata": {},
   "source": [
    "To smooth out the curves, we perform a moving average and append that to our dataframe."
   ]
  },
  {
   "cell_type": "code",
   "execution_count": 29,
   "metadata": {},
   "outputs": [],
   "source": [
    "ntopics = 10\n",
    "moving_avg_months = 3 #number of months to do the moving average on\n",
    "\n",
    "for topic in topic_names:\n",
    "    pd_avg_dateTopics['movAVG_'+topic] = pd_avg_dateTopics[topic].rolling(window=moving_avg_months).mean()"
   ]
  },
  {
   "cell_type": "code",
   "execution_count": 30,
   "metadata": {},
   "outputs": [
    {
     "data": {
      "image/png": "[encoded data removed]",
      "text/plain": [
       "<Figure size 1152x576 with 1 Axes>"
      ]
     },
     "metadata": {
      "needs_background": "light"
     },
     "output_type": "display_data"
    }
   ],
   "source": [
    "fig = plt.figure(figsize = (16,8))\n",
    "ax = fig.add_subplot(1,1,1) \n",
    "ax.set_xlabel('Date', fontsize = 15)\n",
    "ax.set_ylabel('Topic value', fontsize = 15)\n",
    "ax.set_title('Evolution of topics through time', fontsize = 20)\n",
    "\n",
    "topics_to_plot = ['sport','law','politics']\n",
    "\n",
    "for topic in topics_to_plot:\n",
    "    plt.plot(pd_avg_dateTopics.index,pd_avg_dateTopics['movAVG_'+topic], label=topic)\n",
    "    \n",
    "ax.legend()\n",
    "plt.show()"
   ]
  },
  {
   "cell_type": "code",
   "execution_count": null,
   "metadata": {},
   "outputs": [],
   "source": []
  }
 ],
 "metadata": {
  "kernelspec": {
   "display_name": "ada",
   "language": "python",
   "name": "ada"
  },
  "language_info": {
   "codemirror_mode": {
    "name": "ipython",
    "version": 3
   },
   "file_extension": ".py",
   "mimetype": "text/x-python",
   "name": "python",
   "nbconvert_exporter": "python",
   "pygments_lexer": "ipython3",
   "version": "3.6.7"
  }
 },
 "nbformat": 4,
 "nbformat_minor": 2
}
