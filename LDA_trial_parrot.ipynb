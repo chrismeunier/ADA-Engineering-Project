{
 "cells": [
  {
   "cell_type": "markdown",
   "metadata": {},
   "source": [
    "# Introduction to LDA and data cleaning\n",
    "In this notebook, we introduce LDA and what we need for our model. We then proceed to load and clean a sample of the NOW corpus to fulfill our needs."
   ]
  },
  {
   "cell_type": "markdown",
   "metadata": {},
   "source": [
    "## What is LDA\n",
    "[Latent Dirichlet Allocation](https://en.wikipedia.org/wiki/Latent_Dirichlet_allocation) is a statistical model which we will use for topic modelling/discovery. LDA will, given a list of words belonging to a text, output the topics present and their probability. In here, a topic is represented as a probability distribution of words. Thus each text/document will be a distribution over the topics. In short, texts have an associated topic distribution and topics have a word distribution. \n",
    "\n",
    "The image below is the plate notation for LDA, where:\n",
    "* θ<sub>m</sub> is the topic distribution for document m,\n",
    "* φ<sub>k</sub> is the word distribution for topic k,\n",
    "* z<sub>mn</sub> is the topic for the n-th word in document m, and\n",
    "* w<sub>mn</sub> is the specific word.\n",
    "* α is the parameter of the Dirichlet prior on the per-document topic distributions,\n",
    "* β is the parameter of the Dirichlet prior on the per-topic word distribution,\n",
    "\n",
    "![](LDA.png)\n",
    "\n",
    "α and β are the parameters for the model. A big α means that documents are likely to be represented by a high number of topics and vice versa. Same goes for β, a high value meaning that topics are represented by a hign number of words. The number of topics that LDA outputs is dependent on our input and works a bit like clustering. If we allow too many topics we might end up splitting topics uselessly and a too few will make us group them unnecessarily. "
   ]
  },
  {
   "cell_type": "markdown",
   "metadata": {},
   "source": [
    "## The NOW corpus\n",
    "This notebook shows the cleaning process that will be used for the ADA project. Here, only a sample of the data is used (from [here](https://www.corpusdata.org/now_corpus.asp)), but the methods should be the same once scaled to the full database available on the cluster.\n",
    "\n",
    "The NOW database is composed of billions of words from online newspapers and magazines from 20 different countries. The data we downloaded comes in different files which can be used together or independently. These files are:\n",
    "\n",
    "1. **now-samples-lexicon.txt**: this is the full dictionnary of the english language, a lexicon. It contains four clolumns, `wID` which is the word id, `word` the actual word, `lemma` which is family of the word (ie: if word is \"walked\", lemma is \"walk\") and `PoS` which is the part of speech.\n",
    "2. **now-samples_sources.txt**: this is the source of every text, in order it contains the text id, the number of words, the date, the country, the website, the url and title of the article.\n",
    "3. **text.txt**: this file has the complete texts of the articles, the first column is the `textID` in the format @@textID, the second column is the full text, complete with html paragraphs and headers. It is important to note that to prevent plagiarism, every 200 words, 10 words are replaced by the string \"@ @ @ @ @ @ @ @ @ @\". Combined words are also split, example \"can't\" is written as \"ca n't\" and punctuation is surrounded by spaces.\n",
    "4. **wordLemPoS.txt**: finally, this file contains the `word`, `lemma` and `PoS` for each word in the texts, one by one, so one could read the texts by reading down the columns. Along with that is the `textID` from where the word is and an `ID (seq)` which is a unique indetifier for each word in the database. Each time a word is added this number is incremented."
   ]
  },
  {
   "cell_type": "markdown",
   "metadata": {},
   "source": [
    "## What we need from the NOW corpus for LDA\n",
    "The model will take two inputs, a matrix with all the important words for each text, and a list of all the important words. By important, it is meant the words which will give us good topic modelling. For example, names, locations, simple words like \"but, \"I\" or \"and\" will not give meaningfull results and are quite common in english (so-called stopwords). Other common words present in our database should be removed too. We also should use lemmas instead of words.\n",
    "\n",
    "Therefore, the file `wordLemPoS.txt` (hence referred as wlp) is the most important here as it lists all the lemmas with their `textID` associated. Which means that with it we can lsit all the lemmas, remove those we do not want to make our word list, but also group them by texts to create our text-word matrix.\n",
    "\n",
    "We will also need `now-sample_sources.txt` (hence referred as sources) to link the texts with the information we will deem useful. For example country, date or website.\n",
    "\n",
    "These are thus the two file we will import and process here with the sample data but also those we will use with the data on the cluster."
   ]
  },
  {
   "cell_type": "markdown",
   "metadata": {},
   "source": [
    "## Cleaning"
   ]
  },
  {
   "cell_type": "code",
   "execution_count": 1,
   "metadata": {},
   "outputs": [],
   "source": [
    "import numpy as np\n",
    "import pandas as pd\n",
    "import matplotlib.pyplot as plt\n",
    "import findspark\n",
    "findspark.init()\n",
    "\n",
    "import re\n",
    "from pyspark.sql import *\n",
    "from pyspark.sql.functions import *\n",
    "from pyspark.sql.types import DateType\n",
    "\n",
    "from scipy.sparse import csr_matrix\n",
    "from pyspark.ml.feature import *\n",
    "\n",
    "from pyspark.sql.types import *\n",
    "\n",
    "#from pyspark.mllib.clustering import LDA, LDAModel\n",
    "#from pyspark.mllib.linalg import Vector, Vectors\n",
    "from pyspark.ml.linalg import Vectors, VectorUDT\n",
    "\n",
    "from pyspark.ml.clustering import LDA\n",
    "\n",
    "from pyspark.sql.functions import monotonically_increasing_id\n",
    "\n",
    "import re as re\n",
    "from pyspark.ml.feature import CountVectorizer , IDF\n",
    "\n",
    "spark = SparkSession.builder.getOrCreate()\n",
    "sc = spark.sparkContext"
   ]
  },
  {
   "cell_type": "markdown",
   "metadata": {},
   "source": [
    "## Wlp processing\n"
   ]
  },
  {
   "cell_type": "markdown",
   "metadata": {},
   "source": [
    "The goal of this part is to extract the useful data from wlp text files. Since they contain all the words of all the articles and the lemmas to replace them with."
   ]
  },
  {
   "cell_type": "code",
   "execution_count": 6,
   "metadata": {},
   "outputs": [],
   "source": [
    "#first read the text file\n",
    "wlp_rdd = sc.textFile('sample_data/wordLem_poS.txt')"
   ]
  },
  {
   "cell_type": "code",
   "execution_count": 7,
   "metadata": {},
   "outputs": [],
   "source": [
    "#the first 3 lines are useless headlines\n",
    "header = wlp_rdd.take(3)\n",
    "\n",
    "#so let's remove those headlines\n",
    "noheaders = wlp_rdd.filter(lambda r: r != header[0])\\\n",
    "            .filter(lambda r: r != header[1])\\\n",
    "            .filter(lambda r: r != header[2])"
   ]
  },
  {
   "cell_type": "code",
   "execution_count": 8,
   "metadata": {},
   "outputs": [
    {
     "name": "stdout",
     "output_type": "stream",
     "text": [
      "+----------+------+----+------+-------+\n",
      "|     idseq| lemma| pos|textID|   word|\n",
      "+----------+------+----+------+-------+\n",
      "|1095362496|      |  fo| 11241|@@11241|\n",
      "|1095362497|      |null| 11241|    <p>|\n",
      "|1095362498|   sol| np1| 11241|    Sol|\n",
      "|1095362499|yurick| np1| 11241| Yurick|\n",
      "|1095362500|      |   ,| 11241|      ,|\n",
      "+----------+------+----+------+-------+\n",
      "only showing top 5 rows\n",
      "\n"
     ]
    }
   ],
   "source": [
    "#we split the elements separated by tabs\n",
    "lines = noheaders.map(lambda r: r.split('\\t'))\n",
    "\n",
    "#identify the columns\n",
    "wlp_schema = lines.map(lambda r: Row(textID=int(r[0]),idseq=int(r[1]),word=r[2],lemma=r[3],pos=r[4]))\n",
    "wlp = spark.createDataFrame(wlp_schema)\n",
    "wlp.show(5)"
   ]
  },
  {
   "cell_type": "markdown",
   "metadata": {},
   "source": [
    "### Word selection\n",
    "It is very important to select the right words and the right number. The ocncept of \"garbage in garbage out\" has never been more true than with LDA. When we analyse a text we focus on certain words to extract it's meaning and topic. The same is true here since words like if, for, numbers, common names are not that useful.\n",
    "\n",
    "Here, we provide and example of the process we will go through. However this is not really a data cleaning step as it will directly influence our model. It is more of a model preprocessing step. We will surely go through many iterations of this next part for our model to give the best results. "
   ]
  },
  {
   "cell_type": "markdown",
   "metadata": {},
   "source": [
    "First of all, we can remove all the words which have a PoS which do not interest us. For example number (`mc`,`mc1`) or punctuation (`.`,`'`), etc..."
   ]
  },
  {
   "cell_type": "code",
   "execution_count": 9,
   "metadata": {},
   "outputs": [],
   "source": [
    "pos_remove = ['.',',',\"\\'\",'\\\"','null','mc','mc1','m#','fo']\n",
    "wlp_nopos = wlp.filter(~wlp['pos'].isin(pos_remove)).drop('idseq','pos','word')"
   ]
  },
  {
   "cell_type": "markdown",
   "metadata": {},
   "source": [
    "Now, we load our list of stopwords, the words that we are not going to use in LDA as they are too common or are common names. We can also remove the rows with no lemmas or those with lemmas that don't make sense or are not common enough."
   ]
  },
  {
   "cell_type": "code",
   "execution_count": 10,
   "metadata": {},
   "outputs": [
    {
     "name": "stdout",
     "output_type": "stream",
     "text": [
      "Number of stopwords:  5639\n"
     ]
    }
   ],
   "source": [
    "#np.save('our_stopwords',stopwords)\n",
    "stopwords = np.load('our_stopwords.npy').tolist()\n",
    "print('Number of stopwords: ', len(stopwords))"
   ]
  },
  {
   "cell_type": "code",
   "execution_count": 11,
   "metadata": {
    "scrolled": false
   },
   "outputs": [
    {
     "name": "stdout",
     "output_type": "stream",
     "text": [
      "+----------+-----+\n",
      "|     lemma|count|\n",
      "+----------+-----+\n",
      "|      year| 4272|\n",
      "|      time| 3169|\n",
      "|    people| 2913|\n",
      "|      take| 2667|\n",
      "|       use| 2244|\n",
      "|      work| 2137|\n",
      "|       day| 1819|\n",
      "|     state| 1713|\n",
      "|   company| 1698|\n",
      "|   comment| 1667|\n",
      "|      need| 1654|\n",
      "|      want| 1579|\n",
      "|      look| 1564|\n",
      "|     world| 1553|\n",
      "|government| 1551|\n",
      "|      give| 1480|\n",
      "|      show| 1480|\n",
      "|   country| 1465|\n",
      "|      find| 1464|\n",
      "|     right| 1408|\n",
      "+----------+-----+\n",
      "only showing top 20 rows\n",
      "\n"
     ]
    }
   ],
   "source": [
    "#filter out stopwords and looking at the frequency of words without them\n",
    "wlp_nostop = wlp_nopos.filter(~wlp['lemma'].isin(stopwords))\n",
    "lemma_freq = wlp_nostop.groupBy('lemma').count().sort('count', ascending=False)\n",
    "lemma_freq.show()"
   ]
  },
  {
   "cell_type": "markdown",
   "metadata": {},
   "source": [
    "In the end, we can group the lemmas in their texts to create our text-word matrix."
   ]
  },
  {
   "cell_type": "code",
   "execution_count": 12,
   "metadata": {
    "scrolled": true
   },
   "outputs": [],
   "source": [
    "#grouping the selected words by text\n",
    "wlp_bytext = wlp_nostop.groupBy('textID').agg(collect_list('lemma'))\\\n",
    "                .sort('textID')\\\n",
    "                .withColumnRenamed('collect_list(lemma)','lemma')\n"
   ]
  },
  {
   "cell_type": "code",
   "execution_count": 13,
   "metadata": {},
   "outputs": [
    {
     "name": "stdout",
     "output_type": "stream",
     "text": [
      "+------+--------------------+\n",
      "|textID|               lemma|\n",
      "+------+--------------------+\n",
      "| 11241|[yurick, writer, ...|\n",
      "| 11242|[dialect, society...|\n",
      "| 11243|[sublime, croissa...|\n",
      "| 11244|[reflect, quarter...|\n",
      "| 21242|[ars, facebook, c...|\n",
      "+------+--------------------+\n",
      "only showing top 5 rows\n",
      "\n"
     ]
    }
   ],
   "source": [
    "wlp_bytext.show(5)"
   ]
  },
  {
   "cell_type": "markdown",
   "metadata": {},
   "source": [
    "We will also remove the most common and least common lemmas. These will be useless since they won't provide enough information for our LDA analysis. This can be done in sql for example."
   ]
  },
  {
   "cell_type": "code",
   "execution_count": 14,
   "metadata": {},
   "outputs": [
    {
     "name": "stdout",
     "output_type": "stream",
     "text": [
      "+-------+\n",
      "|  lemma|\n",
      "+-------+\n",
      "| yurick|\n",
      "| writer|\n",
      "|  novel|\n",
      "|warrior|\n",
      "|  adapt|\n",
      "+-------+\n",
      "only showing top 5 rows\n",
      "\n"
     ]
    }
   ],
   "source": [
    "all_lemmas = wlp_nostop.drop('textID')\n",
    "all_lemmas.show(5)"
   ]
  },
  {
   "cell_type": "code",
   "execution_count": 15,
   "metadata": {},
   "outputs": [],
   "source": [
    "#we calculate the frequencies and filter out the top\n",
    "lemmas_freq = all_lemmas.groupby('lemma').count().sort('count', ascending=False)\n",
    "lemmas_tokeep = lemmas_freq.where('count<7000')"
   ]
  },
  {
   "cell_type": "markdown",
   "metadata": {},
   "source": [
    "Making a inner join, we keep only the words which are in both lists!"
   ]
  },
  {
   "cell_type": "code",
   "execution_count": 16,
   "metadata": {
    "scrolled": false
   },
   "outputs": [
    {
     "name": "stdout",
     "output_type": "stream",
     "text": [
      "+------+--------------------+\n",
      "|textID|               lemma|\n",
      "+------+--------------------+\n",
      "| 11241|[1970s, decay, fi...|\n",
      "| 11242|[online, happen, ...|\n",
      "| 11243|[airiest, crust, ...|\n",
      "| 11244|[trail, launch, o...|\n",
      "| 21242|[online, launch, ...|\n",
      "+------+--------------------+\n",
      "only showing top 5 rows\n",
      "\n"
     ]
    }
   ],
   "source": [
    "#perform sql query and inner join\n",
    "wlp_nostop.registerTempTable('wlp_nostop')\n",
    "lemmas_tokeep.registerTempTable('lemma_tokeep')\n",
    "\n",
    "query = \"\"\"\n",
    "SELECT wlp_nostop.lemma, wlp_nostop.textID\n",
    "FROM wlp_nostop\n",
    "INNER JOIN lemma_tokeep ON wlp_nostop.lemma = lemma_tokeep.lemma\n",
    "order by textID\n",
    "\"\"\"\n",
    "\n",
    "wlp_kept = spark.sql(query)\n",
    "wlp_kept_bytext = wlp_kept.groupBy('textID').agg(collect_list('lemma'))\\\n",
    "                    .sort('textID')\\\n",
    "                    .withColumnRenamed('collect_list(lemma)','lemma')\n",
    "wlp_kept_bytext.show(5)"
   ]
  },
  {
   "cell_type": "markdown",
   "metadata": {},
   "source": [
    "## Sources\n",
    "Contains all the additional informations about each text."
   ]
  },
  {
   "cell_type": "code",
   "execution_count": 17,
   "metadata": {},
   "outputs": [],
   "source": [
    "sources_rdd = sc.textFile('sample_data/now-samples-sources.txt')\\\n",
    "                .map(lambda r: r.split('\\t'))\n",
    "\n",
    "header = sources_rdd.take(3)\n",
    "sources_rdd = sources_rdd.filter(lambda l: l != header[0])\\\n",
    "                .filter(lambda l: l != header[1])\\\n",
    "                .filter(lambda l: l != header[2])"
   ]
  },
  {
   "cell_type": "code",
   "execution_count": 18,
   "metadata": {},
   "outputs": [],
   "source": [
    "#create schema and change data type for date\n",
    "sources_schema = sources_rdd.map(lambda r: Row(textID=int(r[0]),nwords=int(r[1]),date=r[2],country=r[3],website=r[4],url=r[5],title=r[6],)) \n",
    "sources = spark.createDataFrame(sources_schema)\n",
    "sources = sources.withColumn('date',to_date(sources.date, 'yy-MM-dd'))"
   ]
  },
  {
   "cell_type": "code",
   "execution_count": 19,
   "metadata": {},
   "outputs": [
    {
     "name": "stdout",
     "output_type": "stream",
     "text": [
      "root\n",
      " |-- country: string (nullable = true)\n",
      " |-- date: date (nullable = true)\n",
      " |-- nwords: long (nullable = true)\n",
      " |-- textID: long (nullable = true)\n",
      " |-- title: string (nullable = true)\n",
      " |-- url: string (nullable = true)\n",
      " |-- website: string (nullable = true)\n",
      "\n"
     ]
    }
   ],
   "source": [
    "sources.printSchema()"
   ]
  },
  {
   "cell_type": "code",
   "execution_count": 20,
   "metadata": {
    "scrolled": true
   },
   "outputs": [
    {
     "name": "stdout",
     "output_type": "stream",
     "text": [
      "+-------+----------+------+------+--------------------+--------------------+-------------------+\n",
      "|country|      date|nwords|textID|               title|                 url|            website|\n",
      "+-------+----------+------+------+--------------------+--------------------+-------------------+\n",
      "|     US|2013-01-06|   397| 11241|Author of The War...|http://kotaku.com...|             Kotaku|\n",
      "|     US|2013-01-06|   757| 11242|That's What They ...|http://michiganra...|     Michigan Radio|\n",
      "|     US|2013-01-06|   755| 11243|Best of New York:...|http://www.nydail...|New York Daily News|\n",
      "|     US|2013-01-06|  1677| 11244|Reflecting on a q...|http://www.oregon...|     OregonLive.com|\n",
      "|     US|2013-01-11|   794| 21242|Ask Ars: Does Fac...|http://arstechnic...|       Ars Technica|\n",
      "+-------+----------+------+------+--------------------+--------------------+-------------------+\n",
      "only showing top 5 rows\n",
      "\n"
     ]
    }
   ],
   "source": [
    "sources.show(5)"
   ]
  },
  {
   "cell_type": "markdown",
   "metadata": {},
   "source": [
    "## LDA"
   ]
  },
  {
   "cell_type": "code",
   "execution_count": 17,
   "metadata": {},
   "outputs": [],
   "source": [
    "cv = CountVectorizer(inputCol=\"lemma\", outputCol=\"raw_features\", vocabSize=5000, minDF=10.0)\n",
    "cvmodel = cv.fit(wlp_bytext)\n",
    "result_cv = cvmodel.transform(wlp_bytext)"
   ]
  },
  {
   "cell_type": "code",
   "execution_count": 18,
   "metadata": {},
   "outputs": [
    {
     "name": "stdout",
     "output_type": "stream",
     "text": [
      "+------+--------------------+--------------------+\n",
      "|textID|               lemma|        raw_features|\n",
      "+------+--------------------+--------------------+\n",
      "| 11241|[yurick, writer, ...|(5000,[0,5,15,16,...|\n",
      "| 11242|[dialect, society...|(5000,[0,1,2,12,1...|\n",
      "| 11243|[sublime, croissa...|(5000,[0,1,3,4,5,...|\n",
      "| 11244|[reflect, quarter...|(5000,[0,1,3,5,6,...|\n",
      "| 21242|[ars, facebook, c...|(5000,[0,1,2,3,4,...|\n",
      "| 21243|[york, associate,...|(5000,[0,4,5,6,7,...|\n",
      "| 31240|[ireland, olympic...|(5000,[0,1,6,11,1...|\n",
      "| 31241|[launch, online, ...|(5000,[0,3,10,13,...|\n",
      "| 31242|[entrepreneur, po...|(5000,[7,9,37,51,...|\n",
      "| 41240|[syrian, woman, o...|(5000,[1,2,3,5,6,...|\n",
      "| 41241|[published, medic...|(5000,[2,4,5,12,1...|\n",
      "| 41244|[bay, bridge, jar...|(5000,[0,1,2,4,5,...|\n",
      "| 51243|[mpaa, lobby, arm...|(5000,[1,2,4,5,6,...|\n",
      "| 61240|[mum, fight, dog,...|(5000,[0,2,11,26,...|\n",
      "| 61242|[investigate, cas...|(5000,[0,1,2,3,8,...|\n",
      "| 71240|[north, populatio...|(5000,[0,10,14,15...|\n",
      "| 71241|[fergusson, air, ...|(5000,[0,4,10,12,...|\n",
      "| 71242|[rotten, changing...|(5000,[0,1,3,4,8,...|\n",
      "| 71243|[incompatible, li...|(5000,[1,2,3,10,1...|\n",
      "| 71244|[leakey, grande, ...|(5000,[0,1,2,5,11...|\n",
      "+------+--------------------+--------------------+\n",
      "only showing top 20 rows\n",
      "\n"
     ]
    }
   ],
   "source": [
    "result_cv.show()"
   ]
  },
  {
   "cell_type": "code",
   "execution_count": 19,
   "metadata": {},
   "outputs": [],
   "source": [
    "idf = IDF(inputCol=\"raw_features\", outputCol=\"features\")\n",
    "idfModel = idf.fit(result_cv)\n",
    "result_tfidf = idfModel.transform(result_cv) "
   ]
  },
  {
   "cell_type": "code",
   "execution_count": 20,
   "metadata": {
    "scrolled": true
   },
   "outputs": [
    {
     "name": "stdout",
     "output_type": "stream",
     "text": [
      "+------+--------------------+--------------------+--------------------+\n",
      "|textID|               lemma|        raw_features|            features|\n",
      "+------+--------------------+--------------------+--------------------+\n",
      "| 11241|[yurick, writer, ...|(5000,[0,5,15,16,...|(5000,[0,5,15,16,...|\n",
      "| 11242|[dialect, society...|(5000,[0,1,2,12,1...|(5000,[0,1,2,12,1...|\n",
      "| 11243|[sublime, croissa...|(5000,[0,1,3,4,5,...|(5000,[0,1,3,4,5,...|\n",
      "| 11244|[reflect, quarter...|(5000,[0,1,3,5,6,...|(5000,[0,1,3,5,6,...|\n",
      "| 21242|[ars, facebook, c...|(5000,[0,1,2,3,4,...|(5000,[0,1,2,3,4,...|\n",
      "| 21243|[york, associate,...|(5000,[0,4,5,6,7,...|(5000,[0,4,5,6,7,...|\n",
      "| 31240|[ireland, olympic...|(5000,[0,1,6,11,1...|(5000,[0,1,6,11,1...|\n",
      "| 31241|[launch, online, ...|(5000,[0,3,10,13,...|(5000,[0,3,10,13,...|\n",
      "| 31242|[entrepreneur, po...|(5000,[7,9,37,51,...|(5000,[7,9,37,51,...|\n",
      "| 41240|[syrian, woman, o...|(5000,[1,2,3,5,6,...|(5000,[1,2,3,5,6,...|\n",
      "| 41241|[published, medic...|(5000,[2,4,5,12,1...|(5000,[2,4,5,12,1...|\n",
      "| 41244|[bay, bridge, jar...|(5000,[0,1,2,4,5,...|(5000,[0,1,2,4,5,...|\n",
      "| 51243|[mpaa, lobby, arm...|(5000,[1,2,4,5,6,...|(5000,[1,2,4,5,6,...|\n",
      "| 61240|[mum, fight, dog,...|(5000,[0,2,11,26,...|(5000,[0,2,11,26,...|\n",
      "| 61242|[investigate, cas...|(5000,[0,1,2,3,8,...|(5000,[0,1,2,3,8,...|\n",
      "| 71240|[north, populatio...|(5000,[0,10,14,15...|(5000,[0,10,14,15...|\n",
      "| 71241|[fergusson, air, ...|(5000,[0,4,10,12,...|(5000,[0,4,10,12,...|\n",
      "| 71242|[rotten, changing...|(5000,[0,1,3,4,8,...|(5000,[0,1,3,4,8,...|\n",
      "| 71243|[incompatible, li...|(5000,[1,2,3,10,1...|(5000,[1,2,3,10,1...|\n",
      "| 71244|[leakey, grande, ...|(5000,[0,1,2,5,11...|(5000,[0,1,2,5,11...|\n",
      "+------+--------------------+--------------------+--------------------+\n",
      "only showing top 20 rows\n",
      "\n"
     ]
    }
   ],
   "source": [
    "result_tfidf.show()"
   ]
  },
  {
   "cell_type": "code",
   "execution_count": 21,
   "metadata": {},
   "outputs": [
    {
     "name": "stdout",
     "output_type": "stream",
     "text": [
      "CPU times: user 184 ms, sys: 62.4 ms, total: 247 ms\n",
      "Wall time: 30.2 s\n"
     ]
    }
   ],
   "source": [
    "%%time\n",
    "lda_model=LDA(k=10, maxIter=10).fit(result_tfidf)"
   ]
  },
  {
   "cell_type": "code",
   "execution_count": 22,
   "metadata": {},
   "outputs": [
    {
     "name": "stdout",
     "output_type": "stream",
     "text": [
      "The topics described by their top-weighted terms:\n",
      "+-----+---------------------------------------------------------+----------------------------------------------------------------------------------------------------------------------------------------------------------------------------------------------------------------------------------+\n",
      "|topic|termIndices                                              |termWeights                                                                                                                                                                                                                       |\n",
      "+-----+---------------------------------------------------------+----------------------------------------------------------------------------------------------------------------------------------------------------------------------------------------------------------------------------------+\n",
      "|0    |[110, 913, 483, 1061, 1057, 448, 1853, 543, 659, 1715]   |[0.006055256276751885, 0.0027063364336817907, 0.0025074688482424152, 0.002414950338594778, 0.002386842133934864, 0.0023240311680055095, 0.002277337559882287, 0.0021334352844535063, 0.0020744547453022963, 0.0020623647519738106]|\n",
      "|1    |[750, 2123, 502, 24, 474, 110, 1091, 994, 448, 3183]     |[0.006385081683401317, 0.004303837330695801, 0.00360817688863767, 0.003481290928166055, 0.003379635058863509, 0.0032444624261395434, 0.0032344520188695583, 0.003201805252643133, 0.0031265012110582033, 0.0030143617072223815]   |\n",
      "|2    |[279, 21, 335, 81, 708, 24, 950, 366, 1935, 2170]        |[0.008394920259968724, 0.006840091365976226, 0.0060865740768247184, 0.005398073001442441, 0.004292439076851805, 0.0039777243647156485, 0.0038485317973004376, 0.003835129220865009, 0.0036421073897647096, 0.0034107560671189094] |\n",
      "|3    |[30, 33, 34, 14, 59, 61, 55, 38, 74, 57]                 |[0.005320529506393287, 0.004827031772380556, 0.004725688989651022, 0.003633552250171872, 0.003208937929157541, 0.0029383738370957427, 0.0026883382426678183, 0.002602428895804324, 0.00256978607325764, 0.002534740543577252]     |\n",
      "|4    |[9, 136, 317, 425, 116, 107, 4, 2, 18, 181]              |[0.004932606194788508, 0.0031542143862650857, 0.0027606857892044745, 0.0025715872231703006, 0.002549421528306724, 0.0024894183986800184, 0.00246786022062191, 0.00244584126115613, 0.002397291951964791, 0.0023923800064050674]   |\n",
      "|5    |[24, 49, 380, 809, 27, 21, 260, 129, 1279, 247]          |[0.0062760349765231885, 0.005184355914911983, 0.0045687810999595485, 0.0039052387871686004, 0.003891027529884991, 0.003747307993994997, 0.0032436437948631, 0.003125453541182867, 0.0029576291947755505, 0.002957023233177018]    |\n",
      "|6    |[248, 20, 1216, 1774, 526, 295, 123, 64, 240, 71]        |[0.008058331019988157, 0.004747665646783925, 0.0037410691637162216, 0.003184856347571943, 0.0029858893294202704, 0.0028570922740848584, 0.0028211806473470505, 0.00281277564140084, 0.0027159633314853483, 0.0026708875199180676] |\n",
      "|7    |[8, 285, 645, 247, 161, 1279, 460, 241, 44, 378]         |[0.005345252165258251, 0.0051936268231721735, 0.004532889244124029, 0.0038548540289905352, 0.0038534364775672614, 0.0035207398577403507, 0.00350835013789752, 0.0033937089406524713, 0.00331154239710379, 0.0032840452569110677]  |\n",
      "|8    |[363, 1863, 1006, 162, 1992, 2254, 2953, 123, 2306, 2717]|[0.009692460777666506, 0.006301005213712653, 0.00617629185565573, 0.005936164459207038, 0.005882307630966158, 0.005146191200935721, 0.004829929618554129, 0.004672133705498749, 0.0046492271700783565, 0.003953723346155244]      |\n",
      "|9    |[218, 86, 8, 192, 169, 834, 137, 40, 347, 26]            |[0.005801441567123335, 0.005544664873188423, 0.00521842464509374, 0.004209423027596518, 0.004023298318239593, 0.0038002255848376522, 0.003629571059376416, 0.0034746540675095715, 0.003369090315496111, 0.003199520265942882]     |\n",
      "+-----+---------------------------------------------------------+----------------------------------------------------------------------------------------------------------------------------------------------------------------------------------------------------------------------------------+\n",
      "\n"
     ]
    }
   ],
   "source": [
    "# Describe topics.\n",
    "topics = lda_model.describeTopics(10)\n",
    "print(\"The topics described by their top-weighted terms:\")\n",
    "topics.show(truncate=False)"
   ]
  },
  {
   "cell_type": "code",
   "execution_count": 23,
   "metadata": {},
   "outputs": [
    {
     "name": "stdout",
     "output_type": "stream",
     "text": [
      "+------+--------------------+--------------------+--------------------+--------------------+\n",
      "|textID|               lemma|        raw_features|            features|   topicDistribution|\n",
      "+------+--------------------+--------------------+--------------------+--------------------+\n",
      "| 11241|[yurick, writer, ...|(5000,[0,5,15,16,...|(5000,[0,5,15,16,...|[0.36669765694631...|\n",
      "| 11242|[dialect, society...|(5000,[0,1,2,12,1...|(5000,[0,1,2,12,1...|[1.81340711516068...|\n",
      "| 11243|[sublime, croissa...|(5000,[0,1,3,4,5,...|(5000,[0,1,3,4,5,...|[1.67807502700188...|\n",
      "| 11244|[reflect, quarter...|(5000,[0,1,3,5,6,...|(5000,[0,1,3,5,6,...|[6.12487659612063...|\n",
      "| 21242|[ars, facebook, c...|(5000,[0,1,2,3,4,...|(5000,[0,1,2,3,4,...|[1.56052608316236...|\n",
      "| 21243|[york, associate,...|(5000,[0,4,5,6,7,...|(5000,[0,4,5,6,7,...|[0.48722329554018...|\n",
      "| 31240|[ireland, olympic...|(5000,[0,1,6,11,1...|(5000,[0,1,6,11,1...|[0.44649036609491...|\n",
      "| 31241|[launch, online, ...|(5000,[0,3,10,13,...|(5000,[0,3,10,13,...|[0.10770380001415...|\n",
      "| 31242|[entrepreneur, po...|(5000,[7,9,37,51,...|(5000,[7,9,37,51,...|[0.19714183055062...|\n",
      "| 41240|[syrian, woman, o...|(5000,[1,2,3,5,6,...|(5000,[1,2,3,5,6,...|[0.51609226937667...|\n",
      "| 41241|[published, medic...|(5000,[2,4,5,12,1...|(5000,[2,4,5,12,1...|[2.53841601053445...|\n",
      "| 41244|[bay, bridge, jar...|(5000,[0,1,2,4,5,...|(5000,[0,1,2,4,5,...|[0.53163864711005...|\n",
      "| 51243|[mpaa, lobby, arm...|(5000,[1,2,4,5,6,...|(5000,[1,2,4,5,6,...|[0.40406320960885...|\n",
      "| 61240|[mum, fight, dog,...|(5000,[0,2,11,26,...|(5000,[0,2,11,26,...|[0.09359331379630...|\n",
      "| 61242|[investigate, cas...|(5000,[0,1,2,3,8,...|(5000,[0,1,2,3,8,...|[0.21565241359700...|\n",
      "| 71240|[north, populatio...|(5000,[0,10,14,15...|(5000,[0,10,14,15...|[8.07501622721354...|\n",
      "| 71241|[fergusson, air, ...|(5000,[0,4,10,12,...|(5000,[0,4,10,12,...|[0.39630976294475...|\n",
      "| 71242|[rotten, changing...|(5000,[0,1,3,4,8,...|(5000,[0,1,3,4,8,...|[0.77013178963305...|\n",
      "| 71243|[incompatible, li...|(5000,[1,2,3,10,1...|(5000,[1,2,3,10,1...|[0.13705729354138...|\n",
      "| 71244|[leakey, grande, ...|(5000,[0,1,2,5,11...|(5000,[0,1,2,5,11...|[0.52085101605247...|\n",
      "+------+--------------------+--------------------+--------------------+--------------------+\n",
      "only showing top 20 rows\n",
      "\n"
     ]
    }
   ],
   "source": [
    "transformed = lda_model.transform(result_tfidf)\n",
    "transformed.show()"
   ]
  },
  {
   "cell_type": "code",
   "execution_count": null,
   "metadata": {},
   "outputs": [],
   "source": []
  }
 ],
 "metadata": {
  "kernelspec": {
   "display_name": "ada",
   "language": "python",
   "name": "ada"
  },
  "language_info": {
   "codemirror_mode": {
    "name": "ipython",
    "version": 3
   },
   "file_extension": ".py",
   "mimetype": "text/x-python",
   "name": "python",
   "nbconvert_exporter": "python",
   "pygments_lexer": "ipython3",
   "version": "3.6.6"
  }
 },
 "nbformat": 4,
 "nbformat_minor": 2
}
