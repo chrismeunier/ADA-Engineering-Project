{
 "cells": [
  {
   "cell_type": "markdown",
   "metadata": {},
   "source": [
    "# Introduction to LDA and data cleaning\n",
    "In this notebook, we introduce LDA and what we need for our model. We then proceed to load and clean a sample of the NOW corpus to fulfill our needs."
   ]
  },
  {
   "cell_type": "markdown",
   "metadata": {},
   "source": [
    "## What is LDA\n",
    "[Latent Dirichlet Allocation](https://en.wikipedia.org/wiki/Latent_Dirichlet_allocation) is a statistical model which we will use for topic modelling/discovery. LDA will, given a list of words belonging to a text, output the topics present and their probability. In here, a topic is represented as a probability distribution of words. Thus each text/document will be a distribution over the topics. In short, texts have an associated topic distribution and topics have a word distribution. \n",
    "\n",
    "The image below is the plate notation for LDA, where:\n",
    "* θ<sub>m</sub> is the topic distribution for document m,\n",
    "* φ<sub>k</sub> is the word distribution for topic k,\n",
    "* z<sub>mn</sub> is the topic for the n-th word in document m, and\n",
    "* w<sub>mn</sub> is the specific word.\n",
    "* α is the parameter of the Dirichlet prior on the per-document topic distributions,\n",
    "* β is the parameter of the Dirichlet prior on the per-topic word distribution,\n",
    "\n",
    "![](LDA.png)\n",
    "\n",
    "α and β are the parameters for the model. A big α means that documents are likely to be represented by a high number of topics and vice versa. Same goes for β, a high value meaning that topics are represented by a hign number of words. The number of topics that LDA outputs is dependent on our input and works a bit like clustering. If we allow too many topics we might end up splitting topics uselessly and a too few will make us group them unnecessarily. "
   ]
  },
  {
   "cell_type": "markdown",
   "metadata": {},
   "source": [
    "## The NOW corpus\n",
    "This notebook shows the cleaning process that will be used for the ADA project. Here, only a sample of the data is used (from [here](https://www.corpusdata.org/now_corpus.asp)), but the methods should be the same once scaled to the full database available on the cluster.\n",
    "\n",
    "The NOW database is composed of billions of words from online newspapers and magazines from 20 different countries. The data we downloaded comes in different files which can be used together or independently. These files are:\n",
    "\n",
    "1. **now-samples-lexicon.txt**: this is the full dictionnary of the english language, a lexicon. It contains four clolumns, `wID` which is the word id, `word` the actual word, `lemma` which is family of the word (ie: if word is \"walked\", lemma is \"walk\") and `PoS` which is the part of speech.\n",
    "2. **now-samples_sources.txt**: this is the source of every text, in order it contains the text id, the number of words, the date, the country, the website, the url and title of the article.\n",
    "3. **text.txt**: this file has the complete texts of the articles, the first column is the `textID` in the format @@textID, the second column is the full text, complete with html paragraphs and headers. It is important to note that to prevent plagiarism, every 200 words, 10 words are replaced by the string \"@ @ @ @ @ @ @ @ @ @\". Combined words are also split, example \"can't\" is written as \"ca n't\" and punctuation is surrounded by spaces.\n",
    "4. **wordLemPoS.txt**: finally, this file contains the `word`, `lemma` and `PoS` for each word in the texts, one by one, so one could read the texts by reading down the columns. Along with that is the `textID` from where the word is and an `ID (seq)` which is a unique indetifier for each word in the database. Each time a word is added this number is incremented."
   ]
  },
  {
   "cell_type": "markdown",
   "metadata": {},
   "source": [
    "## What we need from the NOW corpus for LDA\n",
    "The model will take two inputs, a matrix with all the important words for each text, and a list of all the important words. By important, it is meant the words which will give us good topic modelling. For example, names, locations, simple words like \"but, \"I\" or \"and\" will not give meaningfull results and are quite common in english (so-called stopwords). Other common words present in our database should be removed too. We also should use lemmas instead of words.\n",
    "\n",
    "Therefore, the file `wordLemPoS.txt` (hence referred as wlp) is the most important here as it lists all the lemmas with their `textID` associated. Which means that with it we can lsit all the lemmas, remove those we do not want to make our word list, but also group them by texts to create our text-word matrix.\n",
    "\n",
    "We will also need `now-sample_sources.txt` (hence referred as sources) to link the texts with the information we will deem useful. For example country, date or website.\n",
    "\n",
    "These are thus the two file we will import and process here with the sample data but also those we will use with the data on the cluster."
   ]
  },
  {
   "cell_type": "markdown",
   "metadata": {},
   "source": [
    "## Cleaning"
   ]
  },
  {
   "cell_type": "code",
   "execution_count": 1,
   "metadata": {},
   "outputs": [],
   "source": [
    "import numpy as np\n",
    "import pandas as pd\n",
    "import matplotlib.pyplot as plt\n",
    "\n",
    "import findspark\n",
    "findspark.init()\n",
    "\n",
    "import re\n",
    "from pyspark.sql import *\n",
    "from pyspark.sql.functions import *\n",
    "from pyspark.sql.types import DateType\n",
    "\n",
    "from pyspark.mllib.clustering import LDA, LDAModel\n",
    "\n",
    "spark = SparkSession.builder.getOrCreate()\n",
    "sc = spark.sparkContext"
   ]
  },
  {
   "cell_type": "markdown",
   "metadata": {},
   "source": [
    "## Wlp processing\n"
   ]
  },
  {
   "cell_type": "markdown",
   "metadata": {},
   "source": [
    "The goal of this part is to extract the useful data from wlp text files. Since they contain all the words of all the articles and the lemmas to replace them with."
   ]
  },
  {
   "cell_type": "code",
   "execution_count": 15,
   "metadata": {},
   "outputs": [],
   "source": [
    "#read the text file and remove the first three rows (zip trick)\n",
    "wlp_rdd = sc.textFile('sample_data/wordLem_poS.txt').zipWithIndex().filter(lambda r: r[1] > 2).keys()"
   ]
  },
  {
   "cell_type": "code",
   "execution_count": 28,
   "metadata": {},
   "outputs": [
    {
     "name": "stdout",
     "output_type": "stream",
     "text": [
      "+----------+------+----+------+-------+\n",
      "|     idseq| lemma| pos|textID|   word|\n",
      "+----------+------+----+------+-------+\n",
      "|1095362496|      |  fo| 11241|@@11241|\n",
      "|1095362497|      |null| 11241|    <p>|\n",
      "|1095362498|   sol| np1| 11241|    Sol|\n",
      "|1095362499|yurick| np1| 11241| Yurick|\n",
      "|1095362500|      |   ,| 11241|      ,|\n",
      "+----------+------+----+------+-------+\n",
      "only showing top 5 rows\n",
      "\n"
     ]
    }
   ],
   "source": [
    "#we split the elements separated by tabs\n",
    "lines = wlp_rdd.map(lambda r: r.split('\\t'))\n",
    "\n",
    "#identify the columns\n",
    "wlp_schema = lines.map(lambda r: Row(textID=int(r[0]),idseq=int(r[1]),word=r[2],lemma=r[3],pos=r[4]))\n",
    "wlp = spark.createDataFrame(wlp_schema)\n",
    "wlp.show(5)"
   ]
  },
  {
   "cell_type": "markdown",
   "metadata": {},
   "source": [
    "### Word selection\n",
    "It is very important to select the right words and the right number. The ocncept of \"garbage in garbage out\" has never been more true than with LDA. When we analyse a text we focus on certain words to extract it's meaning and topic. The same is true here since words like if, for, numbers, common names are not that useful.\n",
    "\n",
    "Here, we provide and example of the process we will go through. However this is not really a data cleaning step as it will directly influence our model. It is more of a model preprocessing step. We will surely go through many iterations of this next part for our model to give the best results. "
   ]
  },
  {
   "cell_type": "markdown",
   "metadata": {},
   "source": [
    "First of all, we can remove all the words which have a PoS which do not interest us. For example number (`mc`,`mc1`,`m#`) or punctuation (`.`,`'`), etc...\n",
    "\n",
    "Details:\n",
    "1. `.`,`,`,`'`, `\"` are punctuations\n",
    "2. `null` are html tags from the websites\n",
    "3. `mc`,`mc1`, `m#` are various numbers and ; thus we remove all PoS starting with m\n",
    "3. `fo`, `fu`, `fw` are random non sensical words, foreign words; thus we remove all PoS starting with f"
   ]
  },
  {
   "cell_type": "code",
   "execution_count": 18,
   "metadata": {},
   "outputs": [],
   "source": [
    "pos_remove = ['.',',',\"\\'\",'\\\"','null']\n",
    "wlp_nopos = wlp.filter(~wlp['pos'].isin(pos_remove)).filter(~wlp['pos'].startswith('m')).filter(~wlp['pos'].startswith('f')).drop('idseq','pos','word')"
   ]
  },
  {
   "cell_type": "markdown",
   "metadata": {},
   "source": [
    "Now, we load our list of stopwords, the words that we are not going to use in LDA as they are too common or are proper nouns. We can also remove the rows with no lemmas or those with lemmas that don't make sense or are not common enough."
   ]
  },
  {
   "cell_type": "code",
   "execution_count": 20,
   "metadata": {},
   "outputs": [
    {
     "name": "stdout",
     "output_type": "stream",
     "text": [
      "Number of stopwords:  5639\n"
     ]
    }
   ],
   "source": [
    "#np.save('our_stopwords',stopwords)\n",
    "stopwords = sc.textFile('our_stopwords.txt').collect()\n",
    "print('Number of stopwords: ', len(stopwords))"
   ]
  },
  {
   "cell_type": "code",
   "execution_count": 21,
   "metadata": {
    "scrolled": false
   },
   "outputs": [
    {
     "name": "stdout",
     "output_type": "stream",
     "text": [
      "+----------+-----+\n",
      "|     lemma|count|\n",
      "+----------+-----+\n",
      "|      year| 4272|\n",
      "|      time| 3169|\n",
      "|    people| 2913|\n",
      "|      take| 2667|\n",
      "|       use| 2244|\n",
      "|      work| 2137|\n",
      "|       day| 1819|\n",
      "|     state| 1713|\n",
      "|   company| 1698|\n",
      "|   comment| 1667|\n",
      "|      need| 1654|\n",
      "|      want| 1579|\n",
      "|      look| 1564|\n",
      "|     world| 1553|\n",
      "|government| 1551|\n",
      "|      show| 1480|\n",
      "|      give| 1480|\n",
      "|   country| 1465|\n",
      "|      find| 1464|\n",
      "|     right| 1408|\n",
      "+----------+-----+\n",
      "only showing top 20 rows\n",
      "\n"
     ]
    }
   ],
   "source": [
    "#filter out stopwords and looking at the frequency of words without them\n",
    "wlp_nostop = wlp_nopos.filter(~wlp['lemma'].isin(stopwords))\n",
    "lemma_freq = wlp_nostop.groupBy('lemma').count().sort('count', ascending=False)\n",
    "lemma_freq.show()"
   ]
  },
  {
   "cell_type": "markdown",
   "metadata": {},
   "source": [
    "We will also remove the most common and least common lemmas. These will be useless since they won't provide enough information for our LDA analysis. Here, we filter out the top 1% and bottom 80% of all lemmas."
   ]
  },
  {
   "cell_type": "markdown",
   "metadata": {},
   "source": [
    "<div class=\"alert alert-success\">\n",
    "Maybe should change from percentile to number for bottom filtering, depending on which one is the harshest (in here it is number)\n",
    "</div>"
   ]
  },
  {
   "cell_type": "code",
   "execution_count": 23,
   "metadata": {},
   "outputs": [
    {
     "name": "stdout",
     "output_type": "stream",
     "text": [
      "Number of lemmas left: 7336\n",
      "Percentage of lemmas left: 18.86\n"
     ]
    }
   ],
   "source": [
    "#calculate percentiles and filtering out the lemmas above and below them\n",
    "[bottom,top] = lemma_freq.approxQuantile('count', [0.8,0.99], 0.01)\n",
    "lemma_tokeep = lemma_freq.filter(lemma_freq['count']>bottom).filter(lemma_freq['count']<top)\n",
    "c = lemma_tokeep.count()\n",
    "print('Number of lemmas left: %d'%c)\n",
    "print('Percentage of lemmas left: %.2f'%(c/lemma_freq.count()*100))"
   ]
  },
  {
   "cell_type": "markdown",
   "metadata": {},
   "source": [
    "Making a inner join, we keep only the words which are in both lists! In the end, we can group the lemmas in their texts to create our text-word matrix."
   ]
  },
  {
   "cell_type": "code",
   "execution_count": 39,
   "metadata": {
    "scrolled": false
   },
   "outputs": [
    {
     "name": "stdout",
     "output_type": "stream",
     "text": [
      "+------+--------------------+\n",
      "|textID|          lemma_list|\n",
      "+------+--------------------+\n",
      "| 11241|[film, film, film...|\n",
      "| 11242|[online, happen, ...|\n",
      "| 11243|[dough, dough, do...|\n",
      "| 11244|[trail, launch, o...|\n",
      "| 21242|[online, launch, ...|\n",
      "| 21243|[recognize, indic...|\n",
      "| 31240|[recognize, inten...|\n",
      "| 31241|[online, online, ...|\n",
      "| 31242|[settlement, sett...|\n",
      "| 41240|[explain, hometow...|\n",
      "| 41241|[scale, lack, pre...|\n",
      "| 41244|[everyday, trail,...|\n",
      "| 51243|[australia, austr...|\n",
      "| 61240|[frustrate, inten...|\n",
      "| 61242|[editor-in-chief,...|\n",
      "| 71240|[indicator, requi...|\n",
      "| 71241|[likelihood, requ...|\n",
      "| 71242|[film, film, char...|\n",
      "| 71243|[online, staff, s...|\n",
      "| 71244|[bone, leakey, le...|\n",
      "+------+--------------------+\n",
      "only showing top 20 rows\n",
      "\n"
     ]
    }
   ],
   "source": [
    "#perform sql query and inner join\n",
    "wlp_nostop.registerTempTable('wlp_nostop')\n",
    "lemma_tokeep.registerTempTable('lemma_tokeep')\n",
    "\n",
    "query = \"\"\"\n",
    "SELECT wlp_nostop.lemma, wlp_nostop.textID\n",
    "FROM wlp_nostop\n",
    "INNER JOIN lemma_tokeep ON wlp_nostop.lemma = lemma_tokeep.lemma\n",
    "\"\"\"\n",
    "\n",
    "wlp_kept = spark.sql(query)\n",
    "wlp_bytext = wlp_kept.groupBy('textID').agg(collect_list('lemma'))\\\n",
    "                    .sort('textID')\\\n",
    "                    .withColumnRenamed('collect_list(lemma)','lemma_list')\n",
    "wlp_bytext.show()"
   ]
  },
  {
   "cell_type": "code",
   "execution_count": 38,
   "metadata": {},
   "outputs": [
    {
     "name": "stdout",
     "output_type": "stream",
     "text": [
      "+------+--------------------+\n",
      "|textID|          lemma_list|\n",
      "+------+--------------------+\n",
      "| 11241|[film, film, film...|\n",
      "| 11242|[online, happen, ...|\n",
      "| 11243|[dough, dough, do...|\n",
      "| 11244|[trail, launch, o...|\n",
      "| 21242|[online, launch, ...|\n",
      "| 21243|[recognize, indic...|\n",
      "| 31240|[recognize, inten...|\n",
      "| 31241|[online, online, ...|\n",
      "| 31242|[settlement, sett...|\n",
      "| 41240|[explain, hometow...|\n",
      "| 41241|[scale, lack, pre...|\n",
      "| 41244|[everyday, trail,...|\n",
      "| 51243|[australia, austr...|\n",
      "| 61240|[frustrate, inten...|\n",
      "| 61242|[editor-in-chief,...|\n",
      "| 71240|[indicator, requi...|\n",
      "| 71241|[likelihood, requ...|\n",
      "| 71242|[film, film, char...|\n",
      "| 71243|[online, staff, s...|\n",
      "| 71244|[bone, leakey, le...|\n",
      "+------+--------------------+\n",
      "only showing top 20 rows\n",
      "\n"
     ]
    }
   ],
   "source": [
    "wlp_kept = wlp_nostop.join(lemma_tokeep,'lemma','inner')\n",
    "wlp_bytext = wlp_kept.groupBy('textID').agg(collect_list('lemma'))\\\n",
    "                    .sort('textID')\\\n",
    "                    .withColumnRenamed('collect_list(lemma)','lemma_list')\n",
    "wlp_bytext.show()"
   ]
  },
  {
   "cell_type": "code",
   "execution_count": 31,
   "metadata": {},
   "outputs": [
    {
     "data": {
      "text/plain": [
       "2914"
      ]
     },
     "execution_count": 31,
     "metadata": {},
     "output_type": "execute_result"
    }
   ],
   "source": [
    "wlp_bytext.count()"
   ]
  },
  {
   "cell_type": "markdown",
   "metadata": {},
   "source": [
    "## Sources\n",
    "Contains all the additional informations about each text."
   ]
  },
  {
   "cell_type": "code",
   "execution_count": 13,
   "metadata": {},
   "outputs": [],
   "source": [
    "sources_rdd = sc.textFile('sample_data/now-samples-sources.txt')\\\n",
    "                .map(lambda r: r.split('\\t'))\n",
    "\n",
    "header = sources_rdd.take(3)\n",
    "sources_rdd = sources_rdd.filter(lambda l: l != header[0])\\\n",
    "                .filter(lambda l: l != header[1])\\\n",
    "                .filter(lambda l: l != header[2])"
   ]
  },
  {
   "cell_type": "code",
   "execution_count": 14,
   "metadata": {},
   "outputs": [],
   "source": [
    "#create schema and change data type for date\n",
    "sources_schema = sources_rdd.map(lambda r: Row(textID=int(r[0]),nwords=int(r[1]),date=r[2],country=r[3],website=r[4],url=r[5],title=r[6],)) \n",
    "sources = spark.createDataFrame(sources_schema)\n",
    "sources = sources.withColumn('date',to_date(sources.date, 'yy-MM-dd'))"
   ]
  },
  {
   "cell_type": "code",
   "execution_count": 15,
   "metadata": {},
   "outputs": [
    {
     "name": "stdout",
     "output_type": "stream",
     "text": [
      "root\n",
      " |-- country: string (nullable = true)\n",
      " |-- date: date (nullable = true)\n",
      " |-- nwords: long (nullable = true)\n",
      " |-- textID: long (nullable = true)\n",
      " |-- title: string (nullable = true)\n",
      " |-- url: string (nullable = true)\n",
      " |-- website: string (nullable = true)\n",
      "\n"
     ]
    }
   ],
   "source": [
    "sources.printSchema()"
   ]
  },
  {
   "cell_type": "code",
   "execution_count": 16,
   "metadata": {
    "scrolled": false
   },
   "outputs": [
    {
     "name": "stdout",
     "output_type": "stream",
     "text": [
      "+-------+----------+------+------+--------------------+--------------------+-------------------+\n",
      "|country|      date|nwords|textID|               title|                 url|            website|\n",
      "+-------+----------+------+------+--------------------+--------------------+-------------------+\n",
      "|     US|2013-01-06|   397| 11241|Author of The War...|http://kotaku.com...|             Kotaku|\n",
      "|     US|2013-01-06|   757| 11242|That's What They ...|http://michiganra...|     Michigan Radio|\n",
      "|     US|2013-01-06|   755| 11243|Best of New York:...|http://www.nydail...|New York Daily News|\n",
      "|     US|2013-01-06|  1677| 11244|Reflecting on a q...|http://www.oregon...|     OregonLive.com|\n",
      "|     US|2013-01-11|   794| 21242|Ask Ars: Does Fac...|http://arstechnic...|       Ars Technica|\n",
      "+-------+----------+------+------+--------------------+--------------------+-------------------+\n",
      "only showing top 5 rows\n",
      "\n"
     ]
    }
   ],
   "source": [
    "sources.show(5)"
   ]
  },
  {
   "cell_type": "code",
   "execution_count": 29,
   "metadata": {},
   "outputs": [],
   "source": [
    "countries = sources.toPandas().country.value_counts()"
   ]
  },
  {
   "cell_type": "markdown",
   "metadata": {},
   "source": [
    "## LDA\n",
    "This is an expanded version on parrot's LDA using spark only."
   ]
  },
  {
   "cell_type": "code",
   "execution_count": 42,
   "metadata": {},
   "outputs": [],
   "source": [
    "from pyspark.ml.feature import CountVectorizer , IDF\n",
    "from pyspark.ml.clustering import LDA, LDAModel\n",
    "from pyspark.ml.feature import Normalizer\n",
    "#from pyspark.mllib.linalg import Vectors"
   ]
  },
  {
   "cell_type": "markdown",
   "metadata": {},
   "source": [
    "Can set certain filtering with CountVectorizer, not sure if that's useful since we already do that before hand."
   ]
  },
  {
   "cell_type": "code",
   "execution_count": 43,
   "metadata": {},
   "outputs": [
    {
     "data": {
      "text/plain": [
       "8"
      ]
     },
     "execution_count": 43,
     "metadata": {},
     "output_type": "execute_result"
    }
   ],
   "source": [
    "NPARTITION"
   ]
  },
  {
   "cell_type": "code",
   "execution_count": 44,
   "metadata": {},
   "outputs": [],
   "source": [
    "cvmodel = CountVectorizer(inputCol=\"lemma_list\", outputCol=\"raw_features\").fit(wlp_bytext)\n",
    "result_cv = cvmodel.transform(wlp_bytext).drop('lemma_list').repartition(NPARTITION,'textID').persist()\n",
    "result_cv.show()"
   ]
  },
  {
   "cell_type": "code",
   "execution_count": 47,
   "metadata": {},
   "outputs": [],
   "source": [
    "idfModel = IDF(inputCol=\"raw_features\", outputCol=\"non_norm_features\").fit(result_cv)\n",
    "result_tfidf = idfModel.transform(result_cv).drop('lemma_list','raw_features')\n",
    "result_tfidf.show()"
   ]
  },
  {
   "cell_type": "code",
   "execution_count": 50,
   "metadata": {},
   "outputs": [],
   "source": [
    "norm = Normalizer(inputCol=\"non_norm_features\", outputCol=\"features\")\n",
    "tfidf_norm = norm.transform(result_tfidf).drop('non_norm_features')"
   ]
  },
  {
   "cell_type": "code",
   "execution_count": 32,
   "metadata": {},
   "outputs": [],
   "source": [
    "#spliting the test and training set \n",
    "split = result_tfidf.randomSplit([0.8,0.2])\n",
    "train = split[0]\n",
    "test = split[1]"
   ]
  },
  {
   "cell_type": "code",
   "execution_count": 45,
   "metadata": {},
   "outputs": [
    {
     "data": {
      "text/plain": [
       "8.802845980353812"
      ]
     },
     "execution_count": 45,
     "metadata": {},
     "output_type": "execute_result"
    }
   ],
   "source": [
    "%%time\n",
    "lda_model = LDA(k=20, maxIter=100).fit(train) #uses col features by default but just to be sure and explain better\n",
    "lda_model.logPerplexity(test)"
   ]
  },
  {
   "cell_type": "code",
   "execution_count": 56,
   "metadata": {},
   "outputs": [],
   "source": [
    "# Describe topics\n",
    "result_lda = lda_model.transform(result_tfidf)\n",
    "topics = lda_model.describeTopics()\n",
    "words_topics = topics.toPandas().termIndices\n",
    "weight_topics = topics.toPandas().termWeights\n",
    "voc = cvmodel.vocabulary"
   ]
  },
  {
   "cell_type": "markdown",
   "metadata": {},
   "source": [
    "## Postprocessing"
   ]
  },
  {
   "cell_type": "code",
   "execution_count": 41,
   "metadata": {
    "scrolled": false
   },
   "outputs": [
    {
     "name": "stdout",
     "output_type": "stream",
     "text": [
      "Topic 0:\n",
      "\n",
      "0.0152*farm + 0.0122*farmer + 0.0096*dairy + 0.0091*park + 0.0087*tree + 0.0080*building + 0.0079*burger + 0.0078*lobster + 0.0071*council + 0.0070*christmas\n",
      "\n",
      "Topic 1:\n",
      "\n",
      "0.0059*canada + 0.0052*site + 0.0051*technology + 0.0051*customer + 0.0047*user + 0.0046*product + 0.0045*service + 0.0045*online + 0.0044*school + 0.0042*network\n",
      "\n",
      "Topic 2:\n",
      "\n",
      "0.0193*marino + 0.0151*colombia + 0.0114*indian + 0.0105*recommend + 0.0105*web + 0.0098*delhi + 0.0087*comment + 0.0077*city + 0.0075*rape + 0.0073*tiger\n",
      "\n",
      "Topic 3:\n",
      "\n",
      "0.0157*gripper + 0.0117*solar + 0.0083*uninsured + 0.0081*magnetic + 0.0080*garbage + 0.0080*electric + 0.0077*chem + 0.0075*dress + 0.0075*fiat + 0.0073*pielke\n",
      "\n",
      "Topic 4:\n",
      "\n",
      "0.0166*microsoft + 0.0096*lg + 0.0084*samsung + 0.0081*device + 0.0079*hariri + 0.0072*sparta + 0.0072*app + 0.0071*rating + 0.0070*lake + 0.0066*version\n",
      "\n",
      "Topic 5:\n",
      "\n",
      "0.0112*club + 0.0093*sentence + 0.0088*league + 0.0088*football + 0.0083*court + 0.0076*guilty + 0.0076*player + 0.0063*prison + 0.0060*manchester + 0.0057*liverpool\n",
      "\n",
      "Topic 6:\n",
      "\n",
      "0.0180*student + 0.0161*award + 0.0155*ontario + 0.0126*ore + 0.0124*youngstown + 0.0116*iron + 0.0113*tata + 0.0095*steel + 0.0073*university + 0.0072*college\n",
      "\n",
      "Topic 7:\n",
      "\n",
      "0.0239*album + 0.0201*apple + 0.0174*music + 0.0104*band + 0.0090*iphone + 0.0089*governor + 0.0086*ipad + 0.0085*civet + 0.0085*obi + 0.0076*caste\n",
      "\n",
      "Topic 8:\n",
      "\n",
      "0.0072*fire + 0.0061*water + 0.0048*cancer + 0.0046*river + 0.0039*percent + 0.0038*food + 0.0038*animal + 0.0037*firefighter + 0.0037*village + 0.0037*eat\n",
      "\n",
      "Topic 9:\n",
      "\n",
      "0.0081*court + 0.0079*party + 0.0066*property + 0.0060*election + 0.0050*stock + 0.0047*lawyer + 0.0043*justice + 0.0043*price + 0.0042*company + 0.0042*case\n",
      "\n",
      "Topic 10:\n",
      "\n",
      "0.0048*government + 0.0040*country + 0.0036*project + 0.0035*market + 0.0034*power + 0.0033*state + 0.0031*minister + 0.0030*malaria + 0.0029*billion + 0.0027*economic\n",
      "\n",
      "Topic 11:\n",
      "\n",
      "0.0131*school + 0.0098*stevens + 0.0094*ipswich + 0.0092*sales + 0.0085*hockey + 0.0069*singapore + 0.0065*beer + 0.0062*malhotra + 0.0055*accenture + 0.0049*affiliate\n",
      "\n",
      "Topic 12:\n",
      "\n",
      "0.0134*health + 0.0123*medical + 0.0090*hospital + 0.0087*patient + 0.0081*disease + 0.0070*car + 0.0067*doctor + 0.0067*care + 0.0056*dr + 0.0052*child\n",
      "\n",
      "Topic 13:\n",
      "\n",
      "0.0086*flight + 0.0086*air + 0.0083*california + 0.0074*visa + 0.0073*airline + 0.0071*robot + 0.0070*aircraft + 0.0050*ghana + 0.0048*travel + 0.0047*military\n",
      "\n",
      "Topic 14:\n",
      "\n",
      "0.0220*fish + 0.0172*food + 0.0151*pizza + 0.0149*gannon + 0.0127*island + 0.0117*fishing + 0.0107*restaurant + 0.0105*plate + 0.0101*seafood + 0.0079*chef\n",
      "\n",
      "Topic 15:\n",
      "\n",
      "0.0051*sport + 0.0051*team + 0.0049*race + 0.0049*win + 0.0040*film + 0.0038*world + 0.0038*zealand + 0.0036*london + 0.0035*game + 0.0033*rugby\n",
      "\n",
      "Topic 16:\n",
      "\n",
      "0.0127*police + 0.0066*comment + 0.0061*arrest + 0.0051*cookie + 0.0038*trump + 0.0036*car + 0.0034*press + 0.0032*content + 0.0032*vehicle + 0.0032*post\n",
      "\n",
      "Topic 17:\n",
      "\n",
      "0.0048*book + 0.0035*woman + 0.0035*life + 0.0033*people + 0.0033*family + 0.0033*child + 0.0027*film + 0.0027*movie + 0.0026*feel + 0.0026*girl\n",
      "\n",
      "Topic 18:\n",
      "\n",
      "0.0201*game + 0.0110*ball + 0.0108*score + 0.0105*goal + 0.0086*play + 0.0078*coach + 0.0075*player + 0.0072*win + 0.0061*team + 0.0060*minute\n",
      "\n",
      "Topic 19:\n",
      "\n",
      "0.0121*tax + 0.0083*bank + 0.0077*currency + 0.0075*marijuana + 0.0071*share + 0.0071*sri + 0.0068*growth + 0.0064*lanka + 0.0062*company + 0.0061*corporation\n",
      "\n"
     ]
    }
   ],
   "source": [
    "with open('topics.txt','w') as txt:\n",
    "    for t in range(len(words_topics)):\n",
    "        txt.write('Topic {}:\\n'.format(t))\n",
    "        for w in range(len(voc[words_topics[t]])):\n",
    "            line = '%.4f*%s + '%(weight_topics[t][w],voc[words_topics[t][w]])\n",
    "            if words_topics[t][-1]==words_topics[t][w]: line = '%.4f*%s'%(weight_topics[t][w],voc[words_topics[t][w]])\n",
    "            txt.write(line)\n",
    "        txt.write('\\n')\n",
    "\n",
    "with open('topics.txt','r') as txt:\n",
    "    for line in txt:\n",
    "        print(line)"
   ]
  },
  {
   "cell_type": "code",
   "execution_count": 223,
   "metadata": {
    "scrolled": false
   },
   "outputs": [
    {
     "name": "stdout",
     "output_type": "stream",
     "text": [
      "+------+-------+----------+------+--------------------+--------------------+\n",
      "|textID|country|      date|nwords|               title|   topicDistribution|\n",
      "+------+-------+----------+------+--------------------+--------------------+\n",
      "| 11241|     US|2013-01-06|   397|Author of The War...|[1.28422505531488...|\n",
      "| 11242|     US|2013-01-06|   757|That's What They ...|[1.08891097726467...|\n",
      "| 11243|     US|2013-01-06|   755|Best of New York:...|[7.68289358331195...|\n",
      "| 11244|     US|2013-01-06|  1677|Reflecting on a q...|[3.60786135300145...|\n",
      "| 21242|     US|2013-01-11|   794|Ask Ars: Does Fac...|[9.69791932332789...|\n",
      "| 21243|     US|2013-01-11|   690|Accused associate...|[6.87751441501654...|\n",
      "| 31240|     IE|2013-01-16|   701|Olympic star Conl...|[9.69006522196058...|\n",
      "| 31241|     IE|2013-01-16|   336|Shakira launches ...|[1.83307816215161...|\n",
      "| 31242|     IE|2013-01-16|   262|Declan Ganley for...|[2.00487900777354...|\n",
      "| 41240|     US|2013-01-22|   764|Rape A 'Significa...|[7.82305362400763...|\n",
      "| 41241|     US|2013-01-22|   278|How loneliness ca...|[0.99831965168723...|\n",
      "| 41244|     US|2013-01-22|   827|The Making Of. Th...|[6.43850213002666...|\n",
      "| 51243|     AU|2013-01-26|   736|MPAA Lobbies For ...|[0.15344661312867...|\n",
      "| 61240|     GB|2013-01-31|   367|Mum's fight over ...|[1.59822799291006...|\n",
      "| 61242|     GB|2013-01-31|   683|IPPC to investiga...|[8.51523882646402...|\n",
      "| 71240|     CA|2013-02-06|   898|Farm Credit: A Cr...|[4.50556477504393...|\n",
      "| 71241|     CA|2013-02-06|   856|Up in the air, No...|[0.05079984432584...|\n",
      "| 71242|     CA|2013-02-06|  1005|From Richard III ...|[6.25818271095575...|\n",
      "| 71243|     CA|2013-02-06|   784|'Incompatible wit...|[0.10438218343602...|\n",
      "| 71244|     CA|2013-02-06|   392|Mary Leakey, the ...|[1.56117758635844...|\n",
      "+------+-------+----------+------+--------------------+--------------------+\n",
      "only showing top 20 rows\n",
      "\n"
     ]
    }
   ],
   "source": [
    "topic_source_bytext = sources.join(result_lda,'textID','inner').drop('url','web','website','lemma_list','raw_features','features').sort('textID')\n",
    "topic_source_bytext.show()"
   ]
  },
  {
   "cell_type": "markdown",
   "metadata": {},
   "source": [
    "## Some fun"
   ]
  },
  {
   "cell_type": "code",
   "execution_count": 31,
   "metadata": {},
   "outputs": [],
   "source": [
    "plt.rcParams['figure.figsize'] = 12, 8"
   ]
  },
  {
   "cell_type": "code",
   "execution_count": 224,
   "metadata": {},
   "outputs": [
    {
     "data": {
      "text/html": [
       "<div>\n",
       "<style scoped>\n",
       "    .dataframe tbody tr th:only-of-type {\n",
       "        vertical-align: middle;\n",
       "    }\n",
       "\n",
       "    .dataframe tbody tr th {\n",
       "        vertical-align: top;\n",
       "    }\n",
       "\n",
       "    .dataframe thead th {\n",
       "        text-align: right;\n",
       "    }\n",
       "</style>\n",
       "<table border=\"1\" class=\"dataframe\">\n",
       "  <thead>\n",
       "    <tr style=\"text-align: right;\">\n",
       "      <th></th>\n",
       "      <th>country</th>\n",
       "      <th>date</th>\n",
       "      <th>nwords</th>\n",
       "      <th>title</th>\n",
       "      <th>topicDistribution</th>\n",
       "    </tr>\n",
       "    <tr>\n",
       "      <th>textID</th>\n",
       "      <th></th>\n",
       "      <th></th>\n",
       "      <th></th>\n",
       "      <th></th>\n",
       "      <th></th>\n",
       "    </tr>\n",
       "  </thead>\n",
       "  <tbody>\n",
       "    <tr>\n",
       "      <th>11241</th>\n",
       "      <td>US</td>\n",
       "      <td>2013-01-06</td>\n",
       "      <td>397</td>\n",
       "      <td>Author of The Warriors, Cult Film Adapted to H...</td>\n",
       "      <td>[0.00012842250553178413, 0.40537235071153876, ...</td>\n",
       "    </tr>\n",
       "    <tr>\n",
       "      <th>11242</th>\n",
       "      <td>US</td>\n",
       "      <td>2013-01-06</td>\n",
       "      <td>757</td>\n",
       "      <td>That's What They Say: Dialect Society chooses ...</td>\n",
       "      <td>[0.00010889109772676762, 0.11799241690229713, ...</td>\n",
       "    </tr>\n",
       "    <tr>\n",
       "      <th>11243</th>\n",
       "      <td>US</td>\n",
       "      <td>2013-01-06</td>\n",
       "      <td>755</td>\n",
       "      <td>Best of New York: Croissant</td>\n",
       "      <td>[7.682893583281508e-05, 0.33209947166024273, 0...</td>\n",
       "    </tr>\n",
       "    <tr>\n",
       "      <th>11244</th>\n",
       "      <td>US</td>\n",
       "      <td>2013-01-06</td>\n",
       "      <td>1677</td>\n",
       "      <td>Reflecting on a quarter-century of growth in P...</td>\n",
       "      <td>[3.607861353013238e-05, 0.9181909885086931, 0....</td>\n",
       "    </tr>\n",
       "    <tr>\n",
       "      <th>21242</th>\n",
       "      <td>US</td>\n",
       "      <td>2013-01-11</td>\n",
       "      <td>794</td>\n",
       "      <td>Ask Ars: Does Facebook auto-delete content aft...</td>\n",
       "      <td>[9.697919323339782e-05, 0.1895968293727808, 0....</td>\n",
       "    </tr>\n",
       "  </tbody>\n",
       "</table>\n",
       "</div>"
      ],
      "text/plain": [
       "       country        date  nwords  \\\n",
       "textID                               \n",
       "11241       US  2013-01-06     397   \n",
       "11242       US  2013-01-06     757   \n",
       "11243       US  2013-01-06     755   \n",
       "11244       US  2013-01-06    1677   \n",
       "21242       US  2013-01-11     794   \n",
       "\n",
       "                                                    title  \\\n",
       "textID                                                      \n",
       "11241   Author of The Warriors, Cult Film Adapted to H...   \n",
       "11242   That's What They Say: Dialect Society chooses ...   \n",
       "11243                         Best of New York: Croissant   \n",
       "11244   Reflecting on a quarter-century of growth in P...   \n",
       "21242   Ask Ars: Does Facebook auto-delete content aft...   \n",
       "\n",
       "                                        topicDistribution  \n",
       "textID                                                     \n",
       "11241   [0.00012842250553178413, 0.40537235071153876, ...  \n",
       "11242   [0.00010889109772676762, 0.11799241690229713, ...  \n",
       "11243   [7.682893583281508e-05, 0.33209947166024273, 0...  \n",
       "11244   [3.607861353013238e-05, 0.9181909885086931, 0....  \n",
       "21242   [9.697919323339782e-05, 0.1895968293727808, 0....  "
      ]
     },
     "execution_count": 224,
     "metadata": {},
     "output_type": "execute_result"
    }
   ],
   "source": [
    "tst_pd = topic_source_bytext.toPandas().set_index('textID')\n",
    "tst_pd.head()"
   ]
  },
  {
   "cell_type": "code",
   "execution_count": 225,
   "metadata": {},
   "outputs": [
    {
     "data": {
      "text/plain": [
       "<matplotlib.axes._subplots.AxesSubplot at 0x7f627566a3c8>"
      ]
     },
     "execution_count": 225,
     "metadata": {},
     "output_type": "execute_result"
    },
    {
     "data": {
      "image/png": "[encoded data removed]",
      "text/plain": [
       "<Figure size 864x576 with 1 Axes>"
      ]
     },
     "metadata": {
      "needs_background": "light"
     },
     "output_type": "display_data"
    }
   ],
   "source": [
    "tst_pd.apply(lambda r: np.std(r.topicDistribution),axis=1).plot.hist(bins=50)"
   ]
  },
  {
   "cell_type": "markdown",
   "metadata": {},
   "source": [
    "We will need to find a way of selecting the topic. The trivial way is to take the one with the maximum weight but this would be disregarding the other topics and their weights. So we can chose only those above a certain threshold, or choose the max only if the std is high enough."
   ]
  },
  {
   "cell_type": "code",
   "execution_count": 226,
   "metadata": {},
   "outputs": [],
   "source": [
    "def selectTopic(distr,threshold):\n",
    "    #suitable max-threshold are from 0 to 1\n",
    "    #suitable std-threshold are from 0 to 0.3 (maybe a problem)\n",
    "    if np.std(distr)>=threshold:\n",
    "        return np.argmax(distr)\n",
    "    return -999"
   ]
  },
  {
   "cell_type": "code",
   "execution_count": 227,
   "metadata": {},
   "outputs": [],
   "source": [
    "list_thres = np.linspace(0,0.3,50)\n",
    "count = []\n",
    "for t in list_thres:\n",
    "    count.append(np.count_nonzero(tst_pd.apply(lambda r: selectTopic(r.topicDistribution,t),axis=1)==-999))"
   ]
  },
  {
   "cell_type": "code",
   "execution_count": 228,
   "metadata": {},
   "outputs": [
    {
     "data": {
      "text/plain": [
       "[<matplotlib.lines.Line2D at 0x7f6277f2da58>]"
      ]
     },
     "execution_count": 228,
     "metadata": {},
     "output_type": "execute_result"
    },
    {
     "data": {
      "image/png": "[encoded data removed]",
      "text/plain": [
       "<Figure size 864x576 with 1 Axes>"
      ]
     },
     "metadata": {
      "needs_background": "light"
     },
     "output_type": "display_data"
    }
   ],
   "source": [
    "plt.plot(list_thres,count)"
   ]
  },
  {
   "cell_type": "code",
   "execution_count": null,
   "metadata": {},
   "outputs": [],
   "source": []
  }
 ],
 "metadata": {
  "kernelspec": {
   "display_name": "ada",
   "language": "python",
   "name": "ada"
  },
  "language_info": {
   "codemirror_mode": {
    "name": "ipython",
    "version": 3
   },
   "file_extension": ".py",
   "mimetype": "text/x-python",
   "name": "python",
   "nbconvert_exporter": "python",
   "pygments_lexer": "ipython3",
   "version": "3.6.6"
  }
 },
 "nbformat": 4,
 "nbformat_minor": 2
}
